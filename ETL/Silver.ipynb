{
 "cells": [
  {
   "cell_type": "markdown",
   "metadata": {
    "application/vnd.databricks.v1+cell": {
     "cellMetadata": {
      "byteLimit": 2048000,
      "rowLimit": 10000
     },
     "inputWidgets": {},
     "nuid": "11267a86-6526-4ab0-b8e5-434fda738796",
     "showTitle": false,
     "title": ""
    }
   },
   "source": [
    "# Di chuyển dữ liệu tư bronze qua silver\n"
   ]
  },
  {
   "cell_type": "markdown",
   "metadata": {
    "application/vnd.databricks.v1+cell": {
     "cellMetadata": {
      "byteLimit": 2048000,
      "rowLimit": 10000
     },
     "inputWidgets": {},
     "nuid": "304367b2-becc-45ba-959e-d1b9fb20934e",
     "showTitle": false,
     "title": ""
    }
   },
   "source": [
    "## 1. Kiểm tra dữ liệu"
   ]
  },
  {
   "cell_type": "code",
   "execution_count": 0,
   "metadata": {
    "application/vnd.databricks.v1+cell": {
     "cellMetadata": {
      "byteLimit": 2048000,
      "rowLimit": 10000
     },
     "inputWidgets": {},
     "nuid": "778f4288-83e9-470c-97c5-6e8eacfbead8",
     "showTitle": false,
     "title": ""
    }
   },
   "outputs": [],
   "source": [
    "#dbutils.fs.rm(\"dbfs:/user/hive/warehouse/lakehouse.db/silver\",recurse=True)"
   ]
  },
  {
   "cell_type": "code",
   "execution_count": 0,
   "metadata": {
    "application/vnd.databricks.v1+cell": {
     "cellMetadata": {
      "byteLimit": 2048000,
      "implicitDf": true,
      "rowLimit": 10000
     },
     "inputWidgets": {},
     "nuid": "147bc290-bf03-4ef6-8523-ffce233e2052",
     "showTitle": false,
     "title": ""
    }
   },
   "outputs": [],
   "source": [
    "# %sql\n",
    "# select * from bronze where id = 115408968"
   ]
  },
  {
   "cell_type": "code",
   "execution_count": 0,
   "metadata": {
    "application/vnd.databricks.v1+cell": {
     "cellMetadata": {
      "byteLimit": 2048000,
      "implicitDf": true,
      "rowLimit": 10000
     },
     "inputWidgets": {},
     "nuid": "6ccdb5d1-520d-4e27-8ab9-0a245272cd0c",
     "showTitle": false,
     "title": ""
    }
   },
   "outputs": [
    {
     "output_type": "display_data",
     "data": {
      "text/html": [
       "<style scoped>\n",
       "  .table-result-container {\n",
       "    max-height: 300px;\n",
       "    overflow: auto;\n",
       "  }\n",
       "  table, th, td {\n",
       "    border: 1px solid black;\n",
       "    border-collapse: collapse;\n",
       "  }\n",
       "  th, td {\n",
       "    padding: 5px;\n",
       "  }\n",
       "  th {\n",
       "    text-align: left;\n",
       "  }\n",
       "</style><div class='table-result-container'><table class='table-result'><thead style='background-color: white'><tr></tr></thead><tbody></tbody></table></div>"
      ]
     },
     "metadata": {
      "application/vnd.databricks.v1+output": {
       "addedWidgets": {},
       "aggData": [],
       "aggError": "",
       "aggOverflow": false,
       "aggSchema": [],
       "aggSeriesLimitReached": false,
       "aggType": "",
       "arguments": {},
       "columnCustomDisplayInfos": {},
       "data": [],
       "datasetInfos": [],
       "dbfsResultPath": null,
       "isJsonSchema": true,
       "metadata": {
        "dataframeName": null
       },
       "overflow": false,
       "plotOptions": {
        "customPlotOptions": {},
        "displayType": "table",
        "pivotAggregation": null,
        "pivotColumns": null,
        "xColumns": null,
        "yColumns": null
       },
       "removedWidgets": [],
       "schema": [],
       "type": "table"
      }
     },
     "output_type": "display_data"
    }
   ],
   "source": [
    "%sql\n",
    "use lakehouse;\n",
    "\n",
    "-- select legal_status from bronze\n",
    "-- group by legal_status"
   ]
  },
  {
   "cell_type": "code",
   "execution_count": 0,
   "metadata": {
    "application/vnd.databricks.v1+cell": {
     "cellMetadata": {
      "byteLimit": 2048000,
      "implicitDf": true,
      "rowLimit": 10000
     },
     "inputWidgets": {},
     "nuid": "b6f0c4b9-a80d-4c3a-8317-85fb1e6401b5",
     "showTitle": false,
     "title": ""
    }
   },
   "outputs": [],
   "source": [
    "%sql\n",
    "-- select house_type from bronze\n",
    "-- group by house_type"
   ]
  },
  {
   "cell_type": "code",
   "execution_count": 0,
   "metadata": {
    "application/vnd.databricks.v1+cell": {
     "cellMetadata": {
      "byteLimit": 2048000,
      "implicitDf": true,
      "rowLimit": 10000
     },
     "inputWidgets": {},
     "nuid": "38ffd923-7f5c-4946-bea2-48bf963fea72",
     "showTitle": false,
     "title": ""
    }
   },
   "outputs": [],
   "source": [
    "%sql\n",
    "-- select priority_characteristics from bronze\n",
    "-- group by priority_characteristics"
   ]
  },
  {
   "cell_type": "code",
   "execution_count": 0,
   "metadata": {
    "application/vnd.databricks.v1+cell": {
     "cellMetadata": {
      "byteLimit": 2048000,
      "implicitDf": true,
      "rowLimit": 10000
     },
     "inputWidgets": {},
     "nuid": "01c92126-daab-4975-b718-79a4bf5268ff",
     "showTitle": false,
     "title": ""
    }
   },
   "outputs": [],
   "source": [
    "%sql\n",
    "-- select apartment_type from bronze\n",
    "-- group by apartment_type"
   ]
  },
  {
   "cell_type": "markdown",
   "metadata": {
    "application/vnd.databricks.v1+cell": {
     "cellMetadata": {
      "byteLimit": 2048000,
      "rowLimit": 10000
     },
     "inputWidgets": {},
     "nuid": "c01684a2-2d02-4166-b3d9-3dfe7e456dad",
     "showTitle": false,
     "title": ""
    }
   },
   "source": [
    "## 2. Extract, Transform and Load"
   ]
  },
  {
   "cell_type": "code",
   "execution_count": 0,
   "metadata": {
    "application/vnd.databricks.v1+cell": {
     "cellMetadata": {
      "byteLimit": 2048000,
      "rowLimit": 10000
     },
     "inputWidgets": {},
     "nuid": "41ece24f-a703-4d7a-a52a-5a4098539c6a",
     "showTitle": false,
     "title": ""
    }
   },
   "outputs": [],
   "source": [
    "from pyspark.sql.types import *\n",
    "import re "
   ]
  },
  {
   "cell_type": "markdown",
   "metadata": {
    "application/vnd.databricks.v1+cell": {
     "cellMetadata": {
      "byteLimit": 2048000,
      "rowLimit": 10000
     },
     "inputWidgets": {},
     "nuid": "eff345a4-cad3-4fe9-ab4b-376edaaf479b",
     "showTitle": false,
     "title": ""
    }
   },
   "source": [
    "### 2.1 Đọc dữ liệu"
   ]
  },
  {
   "cell_type": "code",
   "execution_count": 0,
   "metadata": {
    "application/vnd.databricks.v1+cell": {
     "cellMetadata": {
      "byteLimit": 2048000,
      "rowLimit": 10000
     },
     "inputWidgets": {},
     "nuid": "2ca099c7-e00e-418d-9336-d6356c66f196",
     "showTitle": false,
     "title": ""
    }
   },
   "outputs": [],
   "source": [
    "# Đọc và bỏ giá trị trùng\n",
    "df = spark.read.format(\"delta\").table(\"bronze\")\n",
    "#df = df.dropDuplicates([\"id\"])"
   ]
  },
  {
   "cell_type": "markdown",
   "metadata": {
    "application/vnd.databricks.v1+cell": {
     "cellMetadata": {
      "byteLimit": 2048000,
      "rowLimit": 10000
     },
     "inputWidgets": {},
     "nuid": "5299c6ee-648b-4f09-8a36-63c568659d3c",
     "showTitle": false,
     "title": ""
    }
   },
   "source": [
    "### 2.2 Sử lý các giá trị của các cột"
   ]
  },
  {
   "cell_type": "code",
   "execution_count": 0,
   "metadata": {
    "application/vnd.databricks.v1+cell": {
     "cellMetadata": {
      "byteLimit": 2048000,
      "implicitDf": true,
      "rowLimit": 10000
     },
     "inputWidgets": {},
     "nuid": "a74289c3-861e-4612-960b-2050b154476a",
     "showTitle": false,
     "title": ""
    }
   },
   "outputs": [],
   "source": [
    "# Sử lý cột giá và giá trên m2\n",
    "\n",
    "# def parse_value(value):\n",
    "#     if \".\" in value:\n",
    "#         value = value.replace('.', '')\n",
    "#     if \",\" in value:\n",
    "#         value = value.replace(',', '.')  # Chuyển dấu phẩy thành dấu chấm\n",
    "#     if \"triệu\" in value:\n",
    "#         match = re.search(r'(\\d+(\\.\\d+)?)\\s*triệu', value)\n",
    "#         if match:\n",
    "#             numeric_value = float(match.group(1)) * 1000000\n",
    "#             return float(numeric_value)\n",
    "#     elif \"tỷ\" in value:\n",
    "#         match = re.search(r'(\\d+(\\.\\d+)?)\\s*tỷ', value)\n",
    "#         if match:\n",
    "#             numeric_value = float(match.group(1)) * 1000000000\n",
    "#             return float(numeric_value)\n",
    "#     else:\n",
    "#         #value = value.split()[0]\n",
    "#         return value\n",
    "\n",
    "# parse_value_udf = udf(parse_value,FloatType())\n",
    "def parse_value(value):\n",
    "\n",
    "  # Only remove periods if they are followed by a non-digit:\n",
    "  if \".\" in value and not re.search(r'\\d\\.', value):\n",
    "    value = value.replace('.', '')\n",
    "\n",
    "  if \",\" in value:\n",
    "    value = value.replace(',', '.')  # Convert comma to period (assuming decimal)\n",
    "\n",
    "  if \"triệu\" in value:\n",
    "    match = re.search(r'(\\d+(\\.\\d+)?) triệu', value)\n",
    "    if match:\n",
    "      return float(match.group(1)) * 1000000\n",
    "\n",
    "  elif \"tỷ\" in value:\n",
    "    match = re.search(r'(\\d+(\\.\\d+)?) tỷ', value)\n",
    "    if match:\n",
    "      return float(match.group(1)) * 1000000000\n",
    "\n",
    "  else:\n",
    "    # Try parsing the entire value as a number (assuming no units):\n",
    "    try:\n",
    "      return float(value)\n",
    "    except ValueError:\n",
    "      pass  # Return original value if parsing fails\n",
    "\n",
    "  return value  # Return original value if no parsing is done or parsing fails\n",
    "\n",
    "parse_value_udf = udf(parse_value, FloatType())\n",
    "# Áp dụng UDF vào cột \"value\" và tạo một cột mới \"parsed_value\"\n",
    "df = df.withColumn(\"price\", parse_value_udf(\"price\"))\n",
    "#df = df.withColumn(\"price_per_square\", parse_value_udf(\"price_per_square\"))\n",
    "\n",
    "# Hiển thị kết quả"
   ]
  },
  {
   "cell_type": "code",
   "execution_count": 0,
   "metadata": {
    "application/vnd.databricks.v1+cell": {
     "cellMetadata": {
      "byteLimit": 2048000,
      "rowLimit": 10000
     },
     "inputWidgets": {},
     "nuid": "90e1f2d9-aff2-46fc-a5fb-fca5938e076c",
     "showTitle": false,
     "title": ""
    }
   },
   "outputs": [],
   "source": [
    "df = df.filter(df.price >= 150000000)"
   ]
  },
  {
   "cell_type": "code",
   "execution_count": 0,
   "metadata": {
    "application/vnd.databricks.v1+cell": {
     "cellMetadata": {
      "byteLimit": 2048000,
      "rowLimit": 10000
     },
     "inputWidgets": {},
     "nuid": "8c5220af-b0cd-4075-9fe4-d8e2af4f63cf",
     "showTitle": false,
     "title": ""
    }
   },
   "outputs": [],
   "source": [
    "# def parse_value(value):\n",
    "#     if \"m2\" in value:\n",
    "#         value = value.replace('m2','m²')\n",
    "#   # Only remove periods if they are followed by a non-digit:\n",
    "#     if \".\" in value and not re.search(r'\\d\\.', value):\n",
    "#         value = value.replace('.', '')\n",
    "\n",
    "#     if \",\" in value:\n",
    "#         value = value.replace(',', '.')  # Convert comma to period (assuming decimal)\n",
    "#     if \"triệu/m²\" in value:\n",
    "#         match = re.search(r'(\\d+(\\.\\d+)?) triệu', value)\n",
    "#     if match:\n",
    "#         return float(match.group(1)) * 1000000\n",
    "\n",
    "#     elif \"đ/m²\" in value:\n",
    "#         match = re.search(r'(\\d+(\\.\\d+)?) tỷ', value)\n",
    "#     if match:\n",
    "#         return float(match.group(1)) \n",
    "#     else:\n",
    "#     # Try parsing the entire value as a number (assuming no units):\n",
    "#         try:\n",
    "#             return float(value)\n",
    "#         except ValueError:\n",
    "#             pass  # Return original value if parsing fails\n",
    "\n",
    "#     return value  # Return original value if no parsing is done or parsing fails\n",
    "\n",
    "# parse_value_udf = udf(parse_value, FloatType())\n",
    "# # Áp dụng UDF vào cột \"value\" và tạo một cột mới \"parsed_value\"\n",
    "# df = df.withColumn(\"price_per_square\", parse_value_udf(\"price_per_square\"))"
   ]
  },
  {
   "cell_type": "code",
   "execution_count": 0,
   "metadata": {
    "application/vnd.databricks.v1+cell": {
     "cellMetadata": {
      "byteLimit": 2048000,
      "rowLimit": 10000
     },
     "inputWidgets": {},
     "nuid": "dcab6fd2-a260-43fc-bd3c-417aa4cdc59a",
     "showTitle": false,
     "title": ""
    }
   },
   "outputs": [],
   "source": [
    "# xử lý cho cột địa chỉ\n",
    "def xuly_diachi(value):\n",
    "    if \"Xem bản đồ\" in value:\n",
    "        value = value.replace('Xem bản đồ', '')\n",
    "\n",
    "    value = \",\".join(value.split(\",\")[-3:])\n",
    "    return value\n",
    "\n",
    "parse_value_udf = udf(xuly_diachi,StringType())\n",
    "df = df.withColumn(\"address\", parse_value_udf(\"address\"))"
   ]
  },
  {
   "cell_type": "code",
   "execution_count": 0,
   "metadata": {
    "application/vnd.databricks.v1+cell": {
     "cellMetadata": {
      "byteLimit": 2048000,
      "rowLimit": 10000
     },
     "inputWidgets": {},
     "nuid": "9f6d3a74-3efe-43b8-aac9-e4dce8ea3fe8",
     "showTitle": false,
     "title": ""
    }
   },
   "outputs": [],
   "source": [
    "# Sử lý cột area, length, width \n",
    "\n",
    "def xuly_donvi(value):\n",
    "    if value is not None:\n",
    "        value = value.split()[0]\n",
    "        return float(value) \n",
    "    return None\n",
    "parse_value_udf = udf(xuly_donvi,FloatType())\n",
    "df = df.withColumn(\"area\", parse_value_udf(\"area\"))\n",
    "df = df.withColumn(\"length\", parse_value_udf(\"length\"))\n",
    "df = df.withColumn(\"width\", parse_value_udf(\"width\"))\n",
    "df = df.withColumn(\"living_size\", parse_value_udf(\"living_size\"))\n",
    "\n"
   ]
  },
  {
   "cell_type": "code",
   "execution_count": 0,
   "metadata": {
    "application/vnd.databricks.v1+cell": {
     "cellMetadata": {
      "byteLimit": 2048000,
      "rowLimit": 10000
     },
     "inputWidgets": {},
     "nuid": "1fbf252b-fa01-40fc-9671-c2e8a52eb14c",
     "showTitle": false,
     "title": ""
    }
   },
   "outputs": [],
   "source": [
    "#df = df.select(\"price\",\"area\")\n",
    "\n",
    "def re_calculate(price, area):\n",
    "    value = price / area\n",
    "    return round(value, 2)\n",
    "\n",
    "parse_value_udf = udf(re_calculate,FloatType())\n",
    "df = df.withColumn(\"price_per_square\", parse_value_udf(\"price\",\"area\"))"
   ]
  },
  {
   "cell_type": "code",
   "execution_count": 0,
   "metadata": {
    "application/vnd.databricks.v1+cell": {
     "cellMetadata": {
      "byteLimit": 2048000,
      "rowLimit": 10000
     },
     "inputWidgets": {},
     "nuid": "b6ae77e7-4a5a-4bb4-aa15-d9151dc514fb",
     "showTitle": false,
     "title": ""
    }
   },
   "outputs": [],
   "source": [
    "# Sử lý cột toilet, bedroom\n",
    "\n",
    "def xuly_phong(value):\n",
    "    if value is not None:\n",
    "        match = re.search(r'\\d+', value)\n",
    "        numbers = int(match.group())\n",
    "        if \"nhiều\" in value or \"Nhiều\" in value:\n",
    "            return numbers + 1\n",
    "        else:\n",
    "            return numbers \n",
    "    return 0\n",
    "parse_value_udf = udf(xuly_phong,IntegerType())\n",
    "df = df.withColumn(\"toilet\", parse_value_udf(\"toilet\"))\n",
    "df = df.withColumn(\"bedroom\", parse_value_udf(\"bedroom\"))\n"
   ]
  },
  {
   "cell_type": "code",
   "execution_count": 0,
   "metadata": {
    "application/vnd.databricks.v1+cell": {
     "cellMetadata": {
      "byteLimit": 2048000,
      "implicitDf": true,
      "rowLimit": 10000
     },
     "inputWidgets": {},
     "nuid": "504fb045-678b-43e7-8f13-76a6d1ccc7f0",
     "showTitle": false,
     "title": ""
    }
   },
   "outputs": [],
   "source": [
    "%sql\n",
    "-- select distinct priority_characteristics from bronze"
   ]
  },
  {
   "cell_type": "code",
   "execution_count": 0,
   "metadata": {
    "application/vnd.databricks.v1+cell": {
     "cellMetadata": {
      "byteLimit": 2048000,
      "rowLimit": 10000
     },
     "inputWidgets": {},
     "nuid": "265b0d76-a969-4afd-9527-7d4622ed2951",
     "showTitle": false,
     "title": ""
    }
   },
   "outputs": [],
   "source": [
    "# Thêm cột mới type\n",
    "def bds_type(house_type,land_type,apartment_type):\n",
    "    if house_type is not None:\n",
    "        return \"House\"\n",
    "    elif land_type is not None:\n",
    "        return \"Land\"\n",
    "    elif apartment_type is not None:\n",
    "        return \"Apartment\"\n",
    "    else:\n",
    "        return \"Else\"\n",
    "    \n",
    "parse_value_udf = udf(bds_type, StringType())\n",
    "df = df.withColumn(\"type\", parse_value_udf(df[\"house_type\"],df[\"land_type\"],df[\"apartment_type\"]))\n"
   ]
  },
  {
   "cell_type": "code",
   "execution_count": 0,
   "metadata": {
    "application/vnd.databricks.v1+cell": {
     "cellMetadata": {
      "byteLimit": 2048000,
      "rowLimit": 10000
     },
     "inputWidgets": {},
     "nuid": "19d9f599-409c-4cf2-b241-39c4dfa3154c",
     "showTitle": false,
     "title": ""
    }
   },
   "outputs": [],
   "source": [
    "# Chỉnh sửa cột floor\n",
    "\n",
    "def bds_floor(type,floor):\n",
    "    if floor is not None:\n",
    "        return int(floor)\n",
    "    elif \"house\" in type:\n",
    "        return 0\n",
    "    else:\n",
    "        return 0\n",
    "    \n",
    "parse_value_udf = udf(bds_floor, IntegerType())\n",
    "df = df.withColumn(\"floor\", parse_value_udf(df[\"type\"],df[\"floor\"]))\n",
    "\n",
    "\n"
   ]
  },
  {
   "cell_type": "code",
   "execution_count": 0,
   "metadata": {
    "application/vnd.databricks.v1+cell": {
     "cellMetadata": {
      "byteLimit": 2048000,
      "rowLimit": 10000
     },
     "inputWidgets": {},
     "nuid": "e971e172-b591-46ae-bfaf-9778cbca3136",
     "showTitle": false,
     "title": ""
    }
   },
   "outputs": [],
   "source": [
    "# Thêm cột mặt tiền\n",
    "def land_frontage(house_type, priority_characteristics):\n",
    "    if house_type is not None and \"mặt tiền\" in house_type:\n",
    "        return 1\n",
    "    if priority_characteristics is not None and \"Mặt tiền\" in priority_characteristics:\n",
    "        return 1\n",
    "    else: \n",
    "        return 0 \n",
    "parse_value_udf = udf(land_frontage, IntegerType())\n",
    "df = df.withColumn(\"land_frontage\", parse_value_udf(df[\"house_type\"],df[\"priority_characteristics\"]))\n",
    "\n",
    "# nở hậu\n",
    "def spacious_backyard(priority_characteristics):\n",
    "    if priority_characteristics is not None and \"nở hậu\" in priority_characteristics:\n",
    "        return 1\n",
    "    else: \n",
    "        return 0 \n",
    "parse_value_udf = udf(spacious_backyard, IntegerType())\n",
    "df = df.withColumn(\"spacious_backyard\", parse_value_udf(df[\"priority_characteristics\"]))\n",
    "\n",
    "#hem o to\n",
    "def drive_way(priority_characteristics):\n",
    "    if priority_characteristics is not None and \"Hẻm xe hơi\" in priority_characteristics:\n",
    "        return 1\n",
    "    else: \n",
    "        return 0 \n",
    "parse_value_udf = udf(drive_way, IntegerType())\n",
    "df = df.withColumn(\"drive_way\", parse_value_udf(df[\"priority_characteristics\"]))\n"
   ]
  },
  {
   "cell_type": "code",
   "execution_count": 0,
   "metadata": {
    "application/vnd.databricks.v1+cell": {
     "cellMetadata": {
      "byteLimit": 2048000,
      "rowLimit": 10000
     },
     "inputWidgets": {},
     "nuid": "dfbe4ae5-8aa3-48a5-9e1f-217c01235e7a",
     "showTitle": false,
     "title": ""
    }
   },
   "outputs": [],
   "source": [
    "# thêm cột person/agent\n",
    "def per_or_agent(time_info):\n",
    "    if \"cá nhân\" in time_info:\n",
    "        return \"Personal\"\n",
    "    if \"môi giới\" in time_info:\n",
    "        return \"Agent\"\n",
    "    else: \n",
    "        return \"Else\"\n",
    "    \n",
    "parse_value_udf = udf(per_or_agent, StringType())\n",
    "df = df.withColumn(\"person/agent\", parse_value_udf(df[\"time_info\"]))\n"
   ]
  },
  {
   "cell_type": "code",
   "execution_count": 0,
   "metadata": {
    "application/vnd.databricks.v1+cell": {
     "cellMetadata": {
      "byteLimit": 2048000,
      "rowLimit": 10000
     },
     "inputWidgets": {},
     "nuid": "067f3953-5d2f-4604-a50d-e988dc3488fa",
     "showTitle": false,
     "title": ""
    }
   },
   "outputs": [],
   "source": [
    "# sử lý cột giay to phap ly\n",
    "def legal_status(value):\n",
    "    if value is not None:\n",
    "        if \"1\" in value:\n",
    "            return \"Đã có sổ\"\n",
    "        if \"2\" in value:\n",
    "            return \"Đang chờ sổ sổ\"\n",
    "        if \"3\" in value:\n",
    "            return \"Không có sổ\"\n",
    "        else: \n",
    "            return value\n",
    "    else:\n",
    "        return \"Không có sổ\"\n",
    "parse_value_udf = udf(legal_status, StringType())\n",
    "df = df.withColumn(\"legal_status\", parse_value_udf(df[\"legal_status\"]))\n",
    "\n"
   ]
  },
  {
   "cell_type": "code",
   "execution_count": 0,
   "metadata": {
    "application/vnd.databricks.v1+cell": {
     "cellMetadata": {
      "byteLimit": 2048000,
      "rowLimit": 10000
     },
     "inputWidgets": {},
     "nuid": "a26e49b3-1402-4a12-9c89-ccc7f233d65b",
     "showTitle": false,
     "title": ""
    }
   },
   "outputs": [],
   "source": [
    "# sử lý ngày\n",
    "from pyspark.sql.functions import to_date\n",
    "spark.conf.set(\"spark.sql.legacy.timeParserPolicy\",\"LEGACY\")\n",
    "#df = df.withColumn(\"date_column\", to_date(df[\"crawl_time\"]))\n",
    "#df = df.withColumn(\"date_only\", to_date(df[\"crawl_time\"].split(\" \")[0]))\n",
    "df = df.withColumn(\"time_crawled\", to_date(df[\"crawl_time\"], \"MM/dd/yyyy HH:mm\"))"
   ]
  },
  {
   "cell_type": "code",
   "execution_count": 0,
   "metadata": {
    "application/vnd.databricks.v1+cell": {
     "cellMetadata": {
      "byteLimit": 2048000,
      "rowLimit": 10000
     },
     "inputWidgets": {},
     "nuid": "71a36bed-7200-4918-97bc-65b2e7bd8417",
     "showTitle": false,
     "title": ""
    }
   },
   "outputs": [],
   "source": [
    "# Ngay đăng bài\n",
    "from pyspark.sql.functions import expr\n",
    "from datetime import datetime, timedelta\n",
    "\n",
    "def date_listed(time_info, time_crawled):\n",
    "    if \"giờ\" in time_info:\n",
    "        return time_crawled\n",
    "    if \"hôm qua\" in time_info:\n",
    "        return time_crawled - timedelta(days=1)\n",
    "    if \"ngày\" in time_info:\n",
    "        match = re.search(r'\\d+', time_info)\n",
    "        if match: \n",
    "            days_ago = int(match.group())\n",
    "            return time_crawled - timedelta(days= days_ago)    \n",
    "    if \"tuần\" in time_info:\n",
    "        return time_crawled - timedelta(days= 8) \n",
    "    else: \n",
    "        return time_crawled\n",
    "    \n",
    "parse_value_udf = udf(date_listed, DateType())\n",
    "df = df.withColumn(\"date_listed\", parse_value_udf(df[\"time_info\"],df[\"time_crawled\"]))\n",
    "\n"
   ]
  },
  {
   "cell_type": "code",
   "execution_count": 0,
   "metadata": {
    "application/vnd.databricks.v1+cell": {
     "cellMetadata": {
      "byteLimit": 2048000,
      "rowLimit": 10000
     },
     "inputWidgets": {},
     "nuid": "563e2e74-eec1-490a-902b-e2b4cc2b90c5",
     "showTitle": false,
     "title": ""
    }
   },
   "outputs": [],
   "source": [
    "# Sử lý nội thất nếu null thì là không có\n",
    "def add_moreinfo(value):\n",
    "    if value is None:\n",
    "        return \"Không có nội thất\"\n",
    "    else:\n",
    "         return value\n",
    "parse_value_udf = udf(add_moreinfo, StringType())\n",
    "df = df.withColumn(\"furnishing_status\", parse_value_udf(df[\"furnishing_status\"]))\n",
    "\n"
   ]
  },
  {
   "cell_type": "code",
   "execution_count": 0,
   "metadata": {
    "application/vnd.databricks.v1+cell": {
     "cellMetadata": {
      "byteLimit": 2048000,
      "rowLimit": 10000
     },
     "inputWidgets": {},
     "nuid": "5bcb6122-b84d-4ed7-8a79-eb407d96a487",
     "showTitle": false,
     "title": ""
    }
   },
   "outputs": [],
   "source": [
    "# Sử lý cột land_type\n",
    "def processland_type(value):\n",
    "    if value is not None:\n",
    "        if value == \"Đất thổ cư\" or value == \"Đất nông nghiệp\" or value == \"Đất nền dự án\" or value == \"Đất công nghiệp\":\n",
    "            return value\n",
    "        else: return \"Không phải đất\"\n",
    "    else: \n",
    "        return \"Không phải đất\"\n",
    "\n",
    "parse_value_udf = udf(processland_type, StringType())\n",
    "df = df.withColumn(\"land_type\", parse_value_udf(df[\"land_type\"]))"
   ]
  },
  {
   "cell_type": "code",
   "execution_count": 0,
   "metadata": {
    "application/vnd.databricks.v1+cell": {
     "cellMetadata": {
      "byteLimit": 2048000,
      "rowLimit": 10000
     },
     "inputWidgets": {},
     "nuid": "15009995-c408-4bf0-bc16-c085917a7615",
     "showTitle": false,
     "title": ""
    }
   },
   "outputs": [],
   "source": [
    "def processApartment_status(value):\n",
    "    if value is not None:\n",
    "        if \"Đã bàn giao\" in value or \"Chưa bàn giao\" in value :\n",
    "            return value\n",
    "        else: return \"Không phải chung cư\"\n",
    "    else: \n",
    "        return \"Không phải chung cư\"\n",
    "\n",
    "parse_value_udf = udf(processApartment_status, StringType())\n",
    "df = df.withColumn(\"property_status\", parse_value_udf(df[\"property_status\"]))"
   ]
  },
  {
   "cell_type": "code",
   "execution_count": 0,
   "metadata": {
    "application/vnd.databricks.v1+cell": {
     "cellMetadata": {
      "byteLimit": 2048000,
      "rowLimit": 10000
     },
     "inputWidgets": {},
     "nuid": "088307eb-e89b-47f8-a813-006b9300dac6",
     "showTitle": false,
     "title": ""
    }
   },
   "outputs": [],
   "source": [
    "def processApartment_type(value):\n",
    "    if value is not None:\n",
    "        if value == \"Chung cư\" or value == \"Duplex\" or value == \"Penthouse\" or value == \"Officetel\" or value == \"Tập thể, cư xá\" or value == \"Căn hộ dịch vụ, mini\":\n",
    "            return value\n",
    "        else: return \"Không phải chung cư\"\n",
    "    else: \n",
    "        return \"Không phải chung cư\"\n",
    "\n",
    "parse_value_udf = udf(processApartment_type, StringType())\n",
    "df = df.withColumn(\"apartment_type\", parse_value_udf(df[\"apartment_type\"]))"
   ]
  },
  {
   "cell_type": "markdown",
   "metadata": {
    "application/vnd.databricks.v1+cell": {
     "cellMetadata": {
      "byteLimit": 2048000,
      "rowLimit": 10000
     },
     "inputWidgets": {},
     "nuid": "a8fd93d7-521a-4fcf-86ba-fdcbf6f7a54b",
     "showTitle": false,
     "title": ""
    }
   },
   "source": [
    "### 2.3 Xóa cột dư thừa"
   ]
  },
  {
   "cell_type": "code",
   "execution_count": 0,
   "metadata": {
    "application/vnd.databricks.v1+cell": {
     "cellMetadata": {
      "byteLimit": 2048000,
      "rowLimit": 10000
     },
     "inputWidgets": {},
     "nuid": "b950fa09-c689-45fd-9581-fd888334dd7c",
     "showTitle": false,
     "title": ""
    }
   },
   "outputs": [],
   "source": [
    "columns_to_drop = [\"time_info\", \"crawl_time\"]\n",
    "df = df.drop(*columns_to_drop)"
   ]
  },
  {
   "cell_type": "markdown",
   "metadata": {
    "application/vnd.databricks.v1+cell": {
     "cellMetadata": {
      "byteLimit": 2048000,
      "rowLimit": 10000
     },
     "inputWidgets": {},
     "nuid": "7bced2ab-ccfe-43d1-8c72-813f59c6dd81",
     "showTitle": false,
     "title": ""
    }
   },
   "source": [
    "### 2.4 Đổi tên cột"
   ]
  },
  {
   "cell_type": "code",
   "execution_count": 0,
   "metadata": {
    "application/vnd.databricks.v1+cell": {
     "cellMetadata": {
      "byteLimit": 2048000,
      "rowLimit": 10000
     },
     "inputWidgets": {},
     "nuid": "81cc3067-f063-46f0-bc9f-831df4b73b9e",
     "showTitle": false,
     "title": ""
    }
   },
   "outputs": [],
   "source": [
    "df = df.withColumnRenamed(\"house_name\", \"information\")\n",
    "df = df.withColumnRenamed(\"price\", \"price_vnd\")\n",
    "df = df.withColumnRenamed(\"area\", \"area_m2\")\n",
    "df = df.withColumnRenamed(\"length\", \"length_m\")\n",
    "df = df.withColumnRenamed(\"width\", \"width_m\")\n",
    "df = df.withColumnRenamed(\"property_status\", \"apartment_status\")"
   ]
  },
  {
   "cell_type": "code",
   "execution_count": 0,
   "metadata": {
    "application/vnd.databricks.v1+cell": {
     "cellMetadata": {
      "byteLimit": 2048000,
      "rowLimit": 10000
     },
     "inputWidgets": {},
     "nuid": "696ba399-51bc-469d-a042-689dff32fa3d",
     "showTitle": false,
     "title": ""
    }
   },
   "outputs": [],
   "source": [
    "#display(df)"
   ]
  },
  {
   "cell_type": "markdown",
   "metadata": {
    "application/vnd.databricks.v1+cell": {
     "cellMetadata": {
      "byteLimit": 2048000,
      "rowLimit": 10000
     },
     "inputWidgets": {},
     "nuid": "fadf1b2f-644d-4d1f-b162-e1bfe555f0df",
     "showTitle": false,
     "title": ""
    }
   },
   "source": [
    "## 3. Đổ dữ liệu vào lớp silver và kiểm tra"
   ]
  },
  {
   "cell_type": "code",
   "execution_count": 0,
   "metadata": {
    "application/vnd.databricks.v1+cell": {
     "cellMetadata": {
      "byteLimit": 2048000,
      "implicitDf": true,
      "rowLimit": 10000
     },
     "inputWidgets": {},
     "nuid": "70be1bb2-ccae-4e88-b356-98fbcbab75e0",
     "showTitle": false,
     "title": ""
    }
   },
   "outputs": [],
   "source": [
    "df.write.format(\"delta\").mode(\"overwrite\").saveAsTable(\"Silver\")"
   ]
  }
 ],
 "metadata": {
  "application/vnd.databricks.v1+notebook": {
   "dashboards": [],
   "environmentMetadata": null,
   "language": "python",
   "notebookMetadata": {
    "mostRecentlyExecutedCommandWithImplicitDF": {
     "commandId": 2313437578738292,
     "dataframes": [
      "_sqldf"
     ]
    },
    "pythonIndentUnit": 4
   },
   "notebookName": "Silver",
   "widgets": {}
  }
 },
 "nbformat": 4,
 "nbformat_minor": 0
}
