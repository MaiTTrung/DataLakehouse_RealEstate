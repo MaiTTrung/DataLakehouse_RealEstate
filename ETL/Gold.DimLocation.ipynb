{
 "cells": [
  {
   "cell_type": "code",
   "execution_count": 0,
   "metadata": {
    "application/vnd.databricks.v1+cell": {
     "cellMetadata": {
      "byteLimit": 2048000,
      "rowLimit": 10000
     },
     "inputWidgets": {},
     "nuid": "e7987785-c25b-4ebc-af2d-3b18d96567dc",
     "showTitle": false,
     "title": ""
    }
   },
   "outputs": [],
   "source": [
    "from pyspark.sql.types import StringType"
   ]
  },
  {
   "cell_type": "code",
   "execution_count": 0,
   "metadata": {
    "application/vnd.databricks.v1+cell": {
     "cellMetadata": {
      "byteLimit": 2048000,
      "implicitDf": true,
      "rowLimit": 10000
     },
     "inputWidgets": {},
     "nuid": "041478a3-7f17-41c5-b551-03a2b554efa7",
     "showTitle": false,
     "title": ""
    }
   },
   "outputs": [
    {
     "output_type": "display_data",
     "data": {
      "text/html": [
       "<style scoped>\n",
       "  .table-result-container {\n",
       "    max-height: 300px;\n",
       "    overflow: auto;\n",
       "  }\n",
       "  table, th, td {\n",
       "    border: 1px solid black;\n",
       "    border-collapse: collapse;\n",
       "  }\n",
       "  th, td {\n",
       "    padding: 5px;\n",
       "  }\n",
       "  th {\n",
       "    text-align: left;\n",
       "  }\n",
       "</style><div class='table-result-container'><table class='table-result'><thead style='background-color: white'><tr></tr></thead><tbody></tbody></table></div>"
      ]
     },
     "metadata": {
      "application/vnd.databricks.v1+output": {
       "addedWidgets": {},
       "aggData": [],
       "aggError": "",
       "aggOverflow": false,
       "aggSchema": [],
       "aggSeriesLimitReached": false,
       "aggType": "",
       "arguments": {},
       "columnCustomDisplayInfos": {},
       "data": [],
       "datasetInfos": [],
       "dbfsResultPath": null,
       "isJsonSchema": true,
       "metadata": {
        "dataframeName": null
       },
       "overflow": false,
       "plotOptions": {
        "customPlotOptions": {},
        "displayType": "table",
        "pivotAggregation": null,
        "pivotColumns": null,
        "xColumns": null,
        "yColumns": null
       },
       "removedWidgets": [],
       "schema": [],
       "type": "table"
      }
     },
     "output_type": "display_data"
    }
   ],
   "source": [
    "%sql\n",
    "use lakehouse"
   ]
  },
  {
   "cell_type": "code",
   "execution_count": 0,
   "metadata": {
    "application/vnd.databricks.v1+cell": {
     "cellMetadata": {
      "byteLimit": 2048000,
      "rowLimit": 10000
     },
     "inputWidgets": {},
     "nuid": "8eb1e8f9-09bc-4b1c-9a97-51aca9e7ca51",
     "showTitle": false,
     "title": ""
    }
   },
   "outputs": [],
   "source": [
    "df = spark.read.format(\"delta\").table(\"Silver\").select(\"address\")"
   ]
  },
  {
   "cell_type": "code",
   "execution_count": 0,
   "metadata": {
    "application/vnd.databricks.v1+cell": {
     "cellMetadata": {
      "byteLimit": 2048000,
      "rowLimit": 10000
     },
     "inputWidgets": {},
     "nuid": "1e377f5e-a6db-4af5-b0ca-e37d981d2c72",
     "showTitle": false,
     "title": ""
    }
   },
   "outputs": [],
   "source": [
    "#df.show(5, truncate=False)"
   ]
  },
  {
   "cell_type": "code",
   "execution_count": 0,
   "metadata": {
    "application/vnd.databricks.v1+cell": {
     "cellMetadata": {
      "byteLimit": 2048000,
      "rowLimit": 10000
     },
     "inputWidgets": {},
     "nuid": "aba7f101-a95d-410c-8843-d5ef4f3e9bf0",
     "showTitle": false,
     "title": ""
    }
   },
   "outputs": [],
   "source": [
    "from pyspark.sql.functions import split, size\n",
    "\n",
    "split_col = split(df['address'], ', ')\n",
    "reversed_col = split_col[size(split_col) - 1].alias('province'), \\\n",
    "               split_col[size(split_col) - 2].alias('district'), \\\n",
    "               split_col[size(split_col) - 3].alias('commune'), \\\n",
    "               \n",
    "df = df.select('*', *reversed_col)"
   ]
  },
  {
   "cell_type": "code",
   "execution_count": 0,
   "metadata": {
    "application/vnd.databricks.v1+cell": {
     "cellMetadata": {
      "byteLimit": 2048000,
      "rowLimit": 10000
     },
     "inputWidgets": {},
     "nuid": "00384ab1-0f5c-4df4-bf46-33bd112b5741",
     "showTitle": false,
     "title": ""
    }
   },
   "outputs": [],
   "source": [
    "#display(df)"
   ]
  },
  {
   "cell_type": "code",
   "execution_count": 0,
   "metadata": {
    "application/vnd.databricks.v1+cell": {
     "cellMetadata": {
      "byteLimit": 2048000,
      "rowLimit": 10000
     },
     "inputWidgets": {},
     "nuid": "b88148d9-7c4c-4cd1-aa8d-c34ec93050a9",
     "showTitle": false,
     "title": ""
    }
   },
   "outputs": [],
   "source": [
    "df = df.select(\"commune\",\"district\",\"province\",\"address\")"
   ]
  },
  {
   "cell_type": "code",
   "execution_count": 0,
   "metadata": {
    "application/vnd.databricks.v1+cell": {
     "cellMetadata": {
      "byteLimit": 2048000,
      "rowLimit": 10000
     },
     "inputWidgets": {},
     "nuid": "f0fb1c36-34b1-4a0e-9654-f566a81dc0b5",
     "showTitle": false,
     "title": ""
    }
   },
   "outputs": [],
   "source": [
    "df = df.dropDuplicates([\"commune\",\"district\",\"province\"])"
   ]
  },
  {
   "cell_type": "code",
   "execution_count": 0,
   "metadata": {
    "application/vnd.databricks.v1+cell": {
     "cellMetadata": {
      "byteLimit": 2048000,
      "rowLimit": 10000
     },
     "inputWidgets": {},
     "nuid": "946be2c4-3b5e-421a-b945-063ba12dd1ca",
     "showTitle": false,
     "title": ""
    }
   },
   "outputs": [],
   "source": [
    "df = df.dropna(subset=[\"commune\",\"district\",\"province\"])"
   ]
  },
  {
   "cell_type": "code",
   "execution_count": 0,
   "metadata": {
    "application/vnd.databricks.v1+cell": {
     "cellMetadata": {
      "byteLimit": 2048000,
      "rowLimit": 10000
     },
     "inputWidgets": {},
     "nuid": "018b7e00-5e91-4f16-9b7c-206fd3269029",
     "showTitle": false,
     "title": ""
    }
   },
   "outputs": [],
   "source": [
    "from pyspark.sql.functions import col\n",
    "df = df.orderBy(col(\"province\"), col(\"district\"), col(\"commune\"))"
   ]
  },
  {
   "cell_type": "code",
   "execution_count": 0,
   "metadata": {
    "application/vnd.databricks.v1+cell": {
     "cellMetadata": {
      "byteLimit": 2048000,
      "rowLimit": 10000
     },
     "inputWidgets": {},
     "nuid": "1766023e-8f8a-40ed-9eb0-c0627aa89c4f",
     "showTitle": false,
     "title": ""
    }
   },
   "outputs": [],
   "source": [
    "from pyspark.sql.functions import monotonically_increasing_id\n",
    "\n",
    "# Thêm cột ID tăng dần cho DataFrame\n",
    "df = df.withColumn(\"id\", monotonically_increasing_id())"
   ]
  },
  {
   "cell_type": "code",
   "execution_count": 0,
   "metadata": {
    "application/vnd.databricks.v1+cell": {
     "cellMetadata": {
      "byteLimit": 2048000,
      "rowLimit": 10000
     },
     "inputWidgets": {},
     "nuid": "1e0fd7b9-9282-41e1-9ae8-d27825398f6f",
     "showTitle": false,
     "title": ""
    }
   },
   "outputs": [],
   "source": [
    "from pyspark.sql.functions import monotonically_increasing_id\n",
    "\n",
    "df = df.select(\"id\",\"commune\",\"district\",\"province\",\"address\")\n",
    "\n",
    "df = df.withColumnRenamed(\"id\", \"id_location\")"
   ]
  },
  {
   "cell_type": "code",
   "execution_count": 0,
   "metadata": {
    "application/vnd.databricks.v1+cell": {
     "cellMetadata": {
      "byteLimit": 2048000,
      "rowLimit": 10000
     },
     "inputWidgets": {},
     "nuid": "846ece19-c748-421a-98b4-4db2d49929b6",
     "showTitle": false,
     "title": ""
    }
   },
   "outputs": [
    {
     "output_type": "display_data",
     "data": {
      "text/html": [
       "<style scoped>\n",
       "  .table-result-container {\n",
       "    max-height: 300px;\n",
       "    overflow: auto;\n",
       "  }\n",
       "  table, th, td {\n",
       "    border: 1px solid black;\n",
       "    border-collapse: collapse;\n",
       "  }\n",
       "  th, td {\n",
       "    padding: 5px;\n",
       "  }\n",
       "  th {\n",
       "    text-align: left;\n",
       "  }\n",
       "</style><div class='table-result-container'><table class='table-result'><thead style='background-color: white'><tr><th>id_location</th><th>commune</th><th>district</th><th>province</th><th>address</th></tr></thead><tbody><tr><td>0</td><td> Phường Châu Phú A</td><td>Thành phố Châu Đốc</td><td>An Giang</td><td> Phường Châu Phú A, Thành phố Châu Đốc, An Giang</td></tr><tr><td>1</td><td> Phường Vĩnh Mỹ</td><td>Thành phố Châu Đốc</td><td>An Giang</td><td> Phường Vĩnh Mỹ, Thành phố Châu Đốc, An Giang</td></tr><tr><td>2</td><td> Phường Mỹ Bình</td><td>Thành phố Long Xuyên</td><td>An Giang</td><td> Phường Mỹ Bình, Thành phố Long Xuyên, An Giang</td></tr><tr><td>3</td><td> Phường Mỹ Hòa</td><td>Thành phố Long Xuyên</td><td>An Giang</td><td> Phường Mỹ Hòa, Thành phố Long Xuyên, An Giang</td></tr><tr><td>4</td><td> Phường Mỹ Quý</td><td>Thành phố Long Xuyên</td><td>An Giang</td><td> Phường Mỹ Quý, Thành phố Long Xuyên, An Giang</td></tr><tr><td>5</td><td> Phường Mỹ Xuyên</td><td>Thành phố Long Xuyên</td><td>An Giang</td><td> Phường Mỹ Xuyên, Thành phố Long Xuyên, An Giang</td></tr><tr><td>6</td><td> Thị trấn Ngãi Giao</td><td>Huyện Châu Đức</td><td>Bà Rịa - Vũng Tàu</td><td> Thị trấn Ngãi Giao, Huyện Châu Đức, Bà Rịa - Vũng Tàu</td></tr><tr><td>7</td><td> Xã Bàu Chinh</td><td>Huyện Châu Đức</td><td>Bà Rịa - Vũng Tàu</td><td> Xã Bàu Chinh, Huyện Châu Đức, Bà Rịa - Vũng Tàu</td></tr><tr><td>8</td><td> Xã Bình Giã</td><td>Huyện Châu Đức</td><td>Bà Rịa - Vũng Tàu</td><td> Xã Bình Giã, Huyện Châu Đức, Bà Rịa - Vũng Tàu</td></tr><tr><td>9</td><td> Xã Nghĩa Thành</td><td>Huyện Châu Đức</td><td>Bà Rịa - Vũng Tàu</td><td> Xã Nghĩa Thành, Huyện Châu Đức, Bà Rịa - Vũng Tàu</td></tr><tr><td>10</td><td> Xã Xà Bang</td><td>Huyện Châu Đức</td><td>Bà Rịa - Vũng Tàu</td><td> Xã Xà Bang, Huyện Châu Đức, Bà Rịa - Vũng Tàu</td></tr><tr><td>11</td><td> Xã Đá Bạc</td><td>Huyện Châu Đức</td><td>Bà Rịa - Vũng Tàu</td><td> Xã Đá Bạc, Huyện Châu Đức, Bà Rịa - Vũng Tàu</td></tr><tr><td>12</td><td> Xã Phước Hưng</td><td>Huyện Long Điền</td><td>Bà Rịa - Vũng Tàu</td><td> Xã Phước Hưng, Huyện Long Điền, Bà Rịa - Vũng Tàu</td></tr><tr><td>13</td><td> Xã Tam Phước</td><td>Huyện Long Điền</td><td>Bà Rịa - Vũng Tàu</td><td> Xã Tam Phước, Huyện Long Điền, Bà Rịa - Vũng Tàu</td></tr><tr><td>14</td><td> Thị trấn Phước Bửu</td><td>Huyện Xuyên Mộc</td><td>Bà Rịa - Vũng Tàu</td><td> Thị trấn Phước Bửu, Huyện Xuyên Mộc, Bà Rịa - Vũng Tàu</td></tr><tr><td>15</td><td> Xã Bình Châu</td><td>Huyện Xuyên Mộc</td><td>Bà Rịa - Vũng Tàu</td><td> Xã Bình Châu, Huyện Xuyên Mộc, Bà Rịa - Vũng Tàu</td></tr><tr><td>16</td><td> Xã Bông Trang</td><td>Huyện Xuyên Mộc</td><td>Bà Rịa - Vũng Tàu</td><td> Xã Bông Trang, Huyện Xuyên Mộc, Bà Rịa - Vũng Tàu</td></tr><tr><td>17</td><td> Xã Xuyên Mộc</td><td>Huyện Xuyên Mộc</td><td>Bà Rịa - Vũng Tàu</td><td> Xã Xuyên Mộc, Huyện Xuyên Mộc, Bà Rịa - Vũng Tàu</td></tr><tr><td>18</td><td>undefined</td><td>Huyện Xuyên Mộc</td><td>Bà Rịa - Vũng Tàu</td><td>undefined, Huyện Xuyên Mộc, Bà Rịa - Vũng Tàu</td></tr><tr><td>19</td><td> Thị trấn Phước Hải</td><td>Huyện Đất Đỏ</td><td>Bà Rịa - Vũng Tàu</td><td> Thị trấn Phước Hải, Huyện Đất Đỏ, Bà Rịa - Vũng Tàu</td></tr><tr><td>20</td><td> Thị trấn Đất Đỏ</td><td>Huyện Đất Đỏ</td><td>Bà Rịa - Vũng Tàu</td><td> Thị trấn Đất Đỏ, Huyện Đất Đỏ, Bà Rịa - Vũng Tàu</td></tr><tr><td>21</td><td> Xã Long Mỹ</td><td>Huyện Đất Đỏ</td><td>Bà Rịa - Vũng Tàu</td><td> Xã Long Mỹ, Huyện Đất Đỏ, Bà Rịa - Vũng Tàu</td></tr><tr><td>22</td><td> Xã Long Tân</td><td>Huyện Đất Đỏ</td><td>Bà Rịa - Vũng Tàu</td><td> Xã Long Tân, Huyện Đất Đỏ, Bà Rịa - Vũng Tàu</td></tr><tr><td>23</td><td> Xã Láng Dài</td><td>Huyện Đất Đỏ</td><td>Bà Rịa - Vũng Tàu</td><td> Xã Láng Dài, Huyện Đất Đỏ, Bà Rịa - Vũng Tàu</td></tr><tr><td>24</td><td> Xã Lộc An</td><td>Huyện Đất Đỏ</td><td>Bà Rịa - Vũng Tàu</td><td> Xã Lộc An, Huyện Đất Đỏ, Bà Rịa - Vũng Tàu</td></tr><tr><td>25</td><td> Xã Phước Hội</td><td>Huyện Đất Đỏ</td><td>Bà Rịa - Vũng Tàu</td><td> Xã Phước Hội, Huyện Đất Đỏ, Bà Rịa - Vũng Tàu</td></tr><tr><td>26</td><td> Xã Phước Long Thọ</td><td>Huyện Đất Đỏ</td><td>Bà Rịa - Vũng Tàu</td><td> Xã Phước Long Thọ, Huyện Đất Đỏ, Bà Rịa - Vũng Tàu</td></tr><tr><td>27</td><td> Phường Long Toàn</td><td>Thành phố Bà Rịa</td><td>Bà Rịa - Vũng Tàu</td><td> Phường Long Toàn, Thành phố Bà Rịa, Bà Rịa - Vũng Tàu</td></tr><tr><td>28</td><td> Phường Long Tâm</td><td>Thành phố Bà Rịa</td><td>Bà Rịa - Vũng Tàu</td><td> Phường Long Tâm, Thành phố Bà Rịa, Bà Rịa - Vũng Tàu</td></tr><tr><td>29</td><td> Xã Hoà Long</td><td>Thành phố Bà Rịa</td><td>Bà Rịa - Vũng Tàu</td><td> Xã Hoà Long, Thành phố Bà Rịa, Bà Rịa - Vũng Tàu</td></tr><tr><td>30</td><td> Xã Long Phước</td><td>Thành phố Bà Rịa</td><td>Bà Rịa - Vũng Tàu</td><td> Xã Long Phước, Thành phố Bà Rịa, Bà Rịa - Vũng Tàu</td></tr><tr><td>31</td><td> Phường 1</td><td>Thành phố Vũng Tàu</td><td>Bà Rịa - Vũng Tàu</td><td> Phường 1, Thành phố Vũng Tàu, Bà Rịa - Vũng Tàu</td></tr><tr><td>32</td><td> Phường 10</td><td>Thành phố Vũng Tàu</td><td>Bà Rịa - Vũng Tàu</td><td> Phường 10, Thành phố Vũng Tàu, Bà Rịa - Vũng Tàu</td></tr><tr><td>33</td><td> Phường 11</td><td>Thành phố Vũng Tàu</td><td>Bà Rịa - Vũng Tàu</td><td> Phường 11, Thành phố Vũng Tàu, Bà Rịa - Vũng Tàu</td></tr><tr><td>34</td><td> Phường 12</td><td>Thành phố Vũng Tàu</td><td>Bà Rịa - Vũng Tàu</td><td> Phường 12, Thành phố Vũng Tàu, Bà Rịa - Vũng Tàu</td></tr><tr><td>35</td><td> Phường 4</td><td>Thành phố Vũng Tàu</td><td>Bà Rịa - Vũng Tàu</td><td> Phường 4, Thành phố Vũng Tàu, Bà Rịa - Vũng Tàu</td></tr><tr><td>36</td><td> Phường 5</td><td>Thành phố Vũng Tàu</td><td>Bà Rịa - Vũng Tàu</td><td> Phường 5, Thành phố Vũng Tàu, Bà Rịa - Vũng Tàu</td></tr><tr><td>37</td><td> Phường 8</td><td>Thành phố Vũng Tàu</td><td>Bà Rịa - Vũng Tàu</td><td> Phường 8, Thành phố Vũng Tàu, Bà Rịa - Vũng Tàu</td></tr><tr><td>38</td><td> Phường 9</td><td>Thành phố Vũng Tàu</td><td>Bà Rịa - Vũng Tàu</td><td> Phường 9, Thành phố Vũng Tàu, Bà Rịa - Vũng Tàu</td></tr><tr><td>39</td><td> Phường Nguyễn An Ninh</td><td>Thành phố Vũng Tàu</td><td>Bà Rịa - Vũng Tàu</td><td> Phường Nguyễn An Ninh, Thành phố Vũng Tàu, Bà Rịa - Vũng Tàu</td></tr><tr><td>40</td><td> Phường Thắng Tam</td><td>Thành phố Vũng Tàu</td><td>Bà Rịa - Vũng Tàu</td><td> Phường Thắng Tam, Thành phố Vũng Tàu, Bà Rịa - Vũng Tàu</td></tr><tr><td>41</td><td> Phường Hắc Dịch</td><td>Thị xã Phú Mỹ</td><td>Bà Rịa - Vũng Tàu</td><td> Phường Hắc Dịch, Thị xã Phú Mỹ, Bà Rịa - Vũng Tàu</td></tr><tr><td>42</td><td> Phường Mỹ Xuân</td><td>Thị xã Phú Mỹ</td><td>Bà Rịa - Vũng Tàu</td><td> Phường Mỹ Xuân, Thị xã Phú Mỹ, Bà Rịa - Vũng Tàu</td></tr><tr><td>43</td><td> Phường Phú Mỹ</td><td>Thị xã Phú Mỹ</td><td>Bà Rịa - Vũng Tàu</td><td> Phường Phú Mỹ, Thị xã Phú Mỹ, Bà Rịa - Vũng Tàu</td></tr><tr><td>44</td><td> Xã Sông Xoài</td><td>Thị xã Phú Mỹ</td><td>Bà Rịa - Vũng Tàu</td><td> Xã Sông Xoài, Thị xã Phú Mỹ, Bà Rịa - Vũng Tàu</td></tr><tr><td>45</td><td> Xã Tóc Tiên</td><td>Thị xã Phú Mỹ</td><td>Bà Rịa - Vũng Tàu</td><td> Xã Tóc Tiên, Thị xã Phú Mỹ, Bà Rịa - Vũng Tàu</td></tr><tr><td>46</td><td> Thị trấn Lai Uyên</td><td>Huyện Bàu Bàng</td><td>Bình Dương</td><td> Thị trấn Lai Uyên, Huyện Bàu Bàng, Bình Dương</td></tr><tr><td>47</td><td> Xã Hưng Hòa</td><td>Huyện Bàu Bàng</td><td>Bình Dương</td><td> Xã Hưng Hòa, Huyện Bàu Bàng, Bình Dương</td></tr><tr><td>48</td><td> Xã Lai Hưng</td><td>Huyện Bàu Bàng</td><td>Bình Dương</td><td> Xã Lai Hưng, Huyện Bàu Bàng, Bình Dương</td></tr><tr><td>49</td><td> Xã Long Nguyên</td><td>Huyện Bàu Bàng</td><td>Bình Dương</td><td> Xã Long Nguyên, Huyện Bàu Bàng, Bình Dương</td></tr><tr><td>50</td><td> Xã Trừ Văn Thố</td><td>Huyện Bàu Bàng</td><td>Bình Dương</td><td> Xã Trừ Văn Thố, Huyện Bàu Bàng, Bình Dương</td></tr><tr><td>51</td><td> Xã Tân Bình</td><td>Huyện Bắc Tân Uyên</td><td>Bình Dương</td><td> Xã Tân Bình, Huyện Bắc Tân Uyên, Bình Dương</td></tr><tr><td>52</td><td> Xã Tân Lập</td><td>Huyện Bắc Tân Uyên</td><td>Bình Dương</td><td> Xã Tân Lập, Huyện Bắc Tân Uyên, Bình Dương</td></tr><tr><td>53</td><td> Xã Tân Định</td><td>Huyện Bắc Tân Uyên</td><td>Bình Dương</td><td> Xã Tân Định, Huyện Bắc Tân Uyên, Bình Dương</td></tr><tr><td>54</td><td> Xã Đất Cuốc</td><td>Huyện Bắc Tân Uyên</td><td>Bình Dương</td><td> Xã Đất Cuốc, Huyện Bắc Tân Uyên, Bình Dương</td></tr><tr><td>55</td><td> Xã An Lập</td><td>Huyện Dầu Tiếng</td><td>Bình Dương</td><td> Xã An Lập, Huyện Dầu Tiếng, Bình Dương</td></tr><tr><td>56</td><td> Xã Thanh Tuyền</td><td>Huyện Dầu Tiếng</td><td>Bình Dương</td><td> Xã Thanh Tuyền, Huyện Dầu Tiếng, Bình Dương</td></tr><tr><td>57</td><td> Xã An Bình</td><td>Huyện Phú Giáo</td><td>Bình Dương</td><td> Xã An Bình, Huyện Phú Giáo, Bình Dương</td></tr><tr><td>58</td><td> Xã Phước Hoà</td><td>Huyện Phú Giáo</td><td>Bình Dương</td><td> Xã Phước Hoà, Huyện Phú Giáo, Bình Dương</td></tr><tr><td>59</td><td> Xã Tam Lập</td><td>Huyện Phú Giáo</td><td>Bình Dương</td><td> Xã Tam Lập, Huyện Phú Giáo, Bình Dương</td></tr><tr><td>60</td><td> Phường An Bình</td><td>Thành phố Dĩ An</td><td>Bình Dương</td><td> Phường An Bình, Thành phố Dĩ An, Bình Dương</td></tr><tr><td>61</td><td> Phường Bình An</td><td>Thành phố Dĩ An</td><td>Bình Dương</td><td> Phường Bình An, Thành phố Dĩ An, Bình Dương</td></tr><tr><td>62</td><td> Phường Bình Thắng</td><td>Thành phố Dĩ An</td><td>Bình Dương</td><td> Phường Bình Thắng, Thành phố Dĩ An, Bình Dương</td></tr><tr><td>63</td><td> Phường Dĩ An</td><td>Thành phố Dĩ An</td><td>Bình Dương</td><td> Phường Dĩ An, Thành phố Dĩ An, Bình Dương</td></tr><tr><td>64</td><td> Phường Tân Bình</td><td>Thành phố Dĩ An</td><td>Bình Dương</td><td> Phường Tân Bình, Thành phố Dĩ An, Bình Dương</td></tr><tr><td>65</td><td> Phường Tân Đông Hiệp</td><td>Thành phố Dĩ An</td><td>Bình Dương</td><td> Phường Tân Đông Hiệp, Thành phố Dĩ An, Bình Dương</td></tr><tr><td>66</td><td> Phường Đông Hòa</td><td>Thành phố Dĩ An</td><td>Bình Dương</td><td> Phường Đông Hòa, Thành phố Dĩ An, Bình Dương</td></tr><tr><td>67</td><td> Phường An Phú</td><td>Thành phố Thuận An</td><td>Bình Dương</td><td> Phường An Phú, Thành phố Thuận An, Bình Dương</td></tr><tr><td>68</td><td> Phường An Thạnh</td><td>Thành phố Thuận An</td><td>Bình Dương</td><td> Phường An Thạnh, Thành phố Thuận An, Bình Dương</td></tr><tr><td>69</td><td> Phường Bình Chuẩn</td><td>Thành phố Thuận An</td><td>Bình Dương</td><td> Phường Bình Chuẩn, Thành phố Thuận An, Bình Dương</td></tr><tr><td>70</td><td> Phường Bình Hòa</td><td>Thành phố Thuận An</td><td>Bình Dương</td><td> Phường Bình Hòa, Thành phố Thuận An, Bình Dương</td></tr><tr><td>71</td><td> Phường Bình Nhâm</td><td>Thành phố Thuận An</td><td>Bình Dương</td><td> Phường Bình Nhâm, Thành phố Thuận An, Bình Dương</td></tr><tr><td>72</td><td> Phường Hưng Định</td><td>Thành phố Thuận An</td><td>Bình Dương</td><td> Phường Hưng Định, Thành phố Thuận An, Bình Dương</td></tr><tr><td>73</td><td> Phường Lái Thiêu</td><td>Thành phố Thuận An</td><td>Bình Dương</td><td> Phường Lái Thiêu, Thành phố Thuận An, Bình Dương</td></tr><tr><td>74</td><td> Phường Thuận Giao</td><td>Thành phố Thuận An</td><td>Bình Dương</td><td> Phường Thuận Giao, Thành phố Thuận An, Bình Dương</td></tr><tr><td>75</td><td> Phường Vĩnh Phú</td><td>Thành phố Thuận An</td><td>Bình Dương</td><td> Phường Vĩnh Phú, Thành phố Thuận An, Bình Dương</td></tr><tr><td>76</td><td> Xã An Sơn</td><td>Thành phố Thuận An</td><td>Bình Dương</td><td> Xã An Sơn, Thành phố Thuận An, Bình Dương</td></tr><tr><td>77</td><td> Phường Chánh Mỹ</td><td>Thành phố Thủ Dầu Một</td><td>Bình Dương</td><td> Phường Chánh Mỹ, Thành phố Thủ Dầu Một, Bình Dương</td></tr><tr><td>78</td><td> Phường Chánh Nghĩa</td><td>Thành phố Thủ Dầu Một</td><td>Bình Dương</td><td> Phường Chánh Nghĩa, Thành phố Thủ Dầu Một, Bình Dương</td></tr><tr><td>79</td><td> Phường Hiệp An</td><td>Thành phố Thủ Dầu Một</td><td>Bình Dương</td><td> Phường Hiệp An, Thành phố Thủ Dầu Một, Bình Dương</td></tr><tr><td>80</td><td> Phường Hiệp Thành</td><td>Thành phố Thủ Dầu Một</td><td>Bình Dương</td><td> Phường Hiệp Thành, Thành phố Thủ Dầu Một, Bình Dương</td></tr><tr><td>81</td><td> Phường Hoà Phú</td><td>Thành phố Thủ Dầu Một</td><td>Bình Dương</td><td> Phường Hoà Phú, Thành phố Thủ Dầu Một, Bình Dương</td></tr><tr><td>82</td><td> Phường Phú Hòa</td><td>Thành phố Thủ Dầu Một</td><td>Bình Dương</td><td> Phường Phú Hòa, Thành phố Thủ Dầu Một, Bình Dương</td></tr><tr><td>83</td><td> Phường Phú Lợi</td><td>Thành phố Thủ Dầu Một</td><td>Bình Dương</td><td> Phường Phú Lợi, Thành phố Thủ Dầu Một, Bình Dương</td></tr><tr><td>84</td><td> Phường Phú Mỹ</td><td>Thành phố Thủ Dầu Một</td><td>Bình Dương</td><td> Phường Phú Mỹ, Thành phố Thủ Dầu Một, Bình Dương</td></tr><tr><td>85</td><td> Phường Phú Thọ</td><td>Thành phố Thủ Dầu Một</td><td>Bình Dương</td><td> Phường Phú Thọ, Thành phố Thủ Dầu Một, Bình Dương</td></tr><tr><td>86</td><td> Phường Phú Tân</td><td>Thành phố Thủ Dầu Một</td><td>Bình Dương</td><td> Phường Phú Tân, Thành phố Thủ Dầu Một, Bình Dương</td></tr><tr><td>87</td><td> Phường Tân An</td><td>Thành phố Thủ Dầu Một</td><td>Bình Dương</td><td> Phường Tân An, Thành phố Thủ Dầu Một, Bình Dương</td></tr><tr><td>88</td><td> Phường Tương Bình Hiệp</td><td>Thành phố Thủ Dầu Một</td><td>Bình Dương</td><td> Phường Tương Bình Hiệp, Thành phố Thủ Dầu Một, Bình Dương</td></tr><tr><td>89</td><td> Phường Định Hoà</td><td>Thành phố Thủ Dầu Một</td><td>Bình Dương</td><td> Phường Định Hoà, Thành phố Thủ Dầu Một, Bình Dương</td></tr><tr><td>90</td><td> Phường Chánh Phú Hòa</td><td>Thị xã Bến Cát</td><td>Bình Dương</td><td> Phường Chánh Phú Hòa, Thị xã Bến Cát, Bình Dương</td></tr><tr><td>91</td><td> Phường Hòa Lợi</td><td>Thị xã Bến Cát</td><td>Bình Dương</td><td> Phường Hòa Lợi, Thị xã Bến Cát, Bình Dương</td></tr><tr><td>92</td><td> Phường Mỹ Phước</td><td>Thị xã Bến Cát</td><td>Bình Dương</td><td> Phường Mỹ Phước, Thị xã Bến Cát, Bình Dương</td></tr><tr><td>93</td><td> Phường Thới Hòa</td><td>Thị xã Bến Cát</td><td>Bình Dương</td><td> Phường Thới Hòa, Thị xã Bến Cát, Bình Dương</td></tr><tr><td>94</td><td> Phường Tân Định</td><td>Thị xã Bến Cát</td><td>Bình Dương</td><td> Phường Tân Định, Thị xã Bến Cát, Bình Dương</td></tr><tr><td>95</td><td> Xã An Điền</td><td>Thị xã Bến Cát</td><td>Bình Dương</td><td> Xã An Điền, Thị xã Bến Cát, Bình Dương</td></tr><tr><td>96</td><td> Xã Phú An</td><td>Thị xã Bến Cát</td><td>Bình Dương</td><td> Xã Phú An, Thị xã Bến Cát, Bình Dương</td></tr><tr><td>97</td><td> Phường Khánh Bình</td><td>Thị xã Tân Uyên</td><td>Bình Dương</td><td> Phường Khánh Bình, Thị xã Tân Uyên, Bình Dương</td></tr><tr><td>98</td><td> Phường Thái Hòa</td><td>Thị xã Tân Uyên</td><td>Bình Dương</td><td> Phường Thái Hòa, Thị xã Tân Uyên, Bình Dương</td></tr><tr><td>99</td><td> Phường Thạnh Phước</td><td>Thị xã Tân Uyên</td><td>Bình Dương</td><td> Phường Thạnh Phước, Thị xã Tân Uyên, Bình Dương</td></tr><tr><td>100</td><td> Phường Tân Hiệp</td><td>Thị xã Tân Uyên</td><td>Bình Dương</td><td> Phường Tân Hiệp, Thị xã Tân Uyên, Bình Dương</td></tr><tr><td>101</td><td> Phường Tân Phước Khánh</td><td>Thị xã Tân Uyên</td><td>Bình Dương</td><td> Phường Tân Phước Khánh, Thị xã Tân Uyên, Bình Dương</td></tr><tr><td>102</td><td> Phường Uyên Hưng</td><td>Thị xã Tân Uyên</td><td>Bình Dương</td><td> Phường Uyên Hưng, Thị xã Tân Uyên, Bình Dương</td></tr><tr><td>103</td><td> Xã Bạch Đằng</td><td>Thị xã Tân Uyên</td><td>Bình Dương</td><td> Xã Bạch Đằng, Thị xã Tân Uyên, Bình Dương</td></tr><tr><td>104</td><td> Xã Hội Nghĩa</td><td>Thị xã Tân Uyên</td><td>Bình Dương</td><td> Xã Hội Nghĩa, Thị xã Tân Uyên, Bình Dương</td></tr><tr><td>105</td><td> Xã Phú Chánh</td><td>Thị xã Tân Uyên</td><td>Bình Dương</td><td> Xã Phú Chánh, Thị xã Tân Uyên, Bình Dương</td></tr><tr><td>106</td><td> Xã Tân Vĩnh Hiệp</td><td>Thị xã Tân Uyên</td><td>Bình Dương</td><td> Xã Tân Vĩnh Hiệp, Thị xã Tân Uyên, Bình Dương</td></tr><tr><td>107</td><td> Xã Vĩnh Tân</td><td>Thị xã Tân Uyên</td><td>Bình Dương</td><td> Xã Vĩnh Tân, Thị xã Tân Uyên, Bình Dương</td></tr><tr><td>108</td><td> Xã Nghĩa Trung</td><td>Huyện Bù Đăng</td><td>Bình Phước</td><td> Xã Nghĩa Trung, Huyện Bù Đăng, Bình Phước</td></tr><tr><td>109</td><td> Xã Phước Sơn</td><td>Huyện Bù Đăng</td><td>Bình Phước</td><td> Xã Phước Sơn, Huyện Bù Đăng, Bình Phước</td></tr><tr><td>110</td><td> Xã Thống Nhất</td><td>Huyện Bù Đăng</td><td>Bình Phước</td><td> Xã Thống Nhất, Huyện Bù Đăng, Bình Phước</td></tr><tr><td>111</td><td> Xã Đức Liễu</td><td>Huyện Bù Đăng</td><td>Bình Phước</td><td> Xã Đức Liễu, Huyện Bù Đăng, Bình Phước</td></tr><tr><td>112</td><td> Thị trấn Chơn Thành</td><td>Huyện Chơn Thành</td><td>Bình Phước</td><td> Thị trấn Chơn Thành, Huyện Chơn Thành, Bình Phước</td></tr><tr><td>113</td><td> Xã Minh Hưng</td><td>Huyện Chơn Thành</td><td>Bình Phước</td><td> Xã Minh Hưng, Huyện Chơn Thành, Bình Phước</td></tr><tr><td>114</td><td> Xã Minh Long</td><td>Huyện Chơn Thành</td><td>Bình Phước</td><td> Xã Minh Long, Huyện Chơn Thành, Bình Phước</td></tr><tr><td>115</td><td> Xã Minh Lập</td><td>Huyện Chơn Thành</td><td>Bình Phước</td><td> Xã Minh Lập, Huyện Chơn Thành, Bình Phước</td></tr><tr><td>116</td><td> Xã Minh Thành</td><td>Huyện Chơn Thành</td><td>Bình Phước</td><td> Xã Minh Thành, Huyện Chơn Thành, Bình Phước</td></tr><tr><td>117</td><td> Xã Minh Thắng</td><td>Huyện Chơn Thành</td><td>Bình Phước</td><td> Xã Minh Thắng, Huyện Chơn Thành, Bình Phước</td></tr><tr><td>118</td><td> Xã Nha Bích</td><td>Huyện Chơn Thành</td><td>Bình Phước</td><td> Xã Nha Bích, Huyện Chơn Thành, Bình Phước</td></tr><tr><td>119</td><td> Xã Thành Tâm</td><td>Huyện Chơn Thành</td><td>Bình Phước</td><td> Xã Thành Tâm, Huyện Chơn Thành, Bình Phước</td></tr><tr><td>120</td><td> Xã Thanh An</td><td>Huyện Hớn Quản</td><td>Bình Phước</td><td> Xã Thanh An, Huyện Hớn Quản, Bình Phước</td></tr><tr><td>121</td><td> Xã Lộc An</td><td>Huyện Lộc Ninh</td><td>Bình Phước</td><td> Xã Lộc An, Huyện Lộc Ninh, Bình Phước</td></tr><tr><td>122</td><td> Xã Lộc Phú</td><td>Huyện Lộc Ninh</td><td>Bình Phước</td><td> Xã Lộc Phú, Huyện Lộc Ninh, Bình Phước</td></tr><tr><td>123</td><td> Xã Lộc Thịnh</td><td>Huyện Lộc Ninh</td><td>Bình Phước</td><td> Xã Lộc Thịnh, Huyện Lộc Ninh, Bình Phước</td></tr><tr><td>124</td><td> Xã Bù Nho</td><td>Huyện Phú Riềng</td><td>Bình Phước</td><td> Xã Bù Nho, Huyện Phú Riềng, Bình Phước</td></tr><tr><td>125</td><td> Xã Long Bình</td><td>Huyện Phú Riềng</td><td>Bình Phước</td><td> Xã Long Bình, Huyện Phú Riềng, Bình Phước</td></tr><tr><td>126</td><td> Thị trấn Tân Phú</td><td>Huyện Đồng Phú</td><td>Bình Phước</td><td> Thị trấn Tân Phú, Huyện Đồng Phú, Bình Phước</td></tr><tr><td>127</td><td> Xã Thuận Lợi</td><td>Huyện Đồng Phú</td><td>Bình Phước</td><td> Xã Thuận Lợi, Huyện Đồng Phú, Bình Phước</td></tr><tr><td>128</td><td> Xã Tân Hòa</td><td>Huyện Đồng Phú</td><td>Bình Phước</td><td> Xã Tân Hòa, Huyện Đồng Phú, Bình Phước</td></tr><tr><td>129</td><td> Xã Tân Hưng</td><td>Huyện Đồng Phú</td><td>Bình Phước</td><td> Xã Tân Hưng, Huyện Đồng Phú, Bình Phước</td></tr><tr><td>130</td><td> Xã Tân Lợi</td><td>Huyện Đồng Phú</td><td>Bình Phước</td><td> Xã Tân Lợi, Huyện Đồng Phú, Bình Phước</td></tr><tr><td>131</td><td> Xã Đồng Tâm</td><td>Huyện Đồng Phú</td><td>Bình Phước</td><td> Xã Đồng Tâm, Huyện Đồng Phú, Bình Phước</td></tr><tr><td>132</td><td> Phường Tiến Thành</td><td>Thành phố Đồng Xoài</td><td>Bình Phước</td><td> Phường Tiến Thành, Thành phố Đồng Xoài, Bình Phước</td></tr><tr><td>133</td><td> Phường Tân Phú</td><td>Thành phố Đồng Xoài</td><td>Bình Phước</td><td> Phường Tân Phú, Thành phố Đồng Xoài, Bình Phước</td></tr><tr><td>134</td><td> Xã Tiến Hưng</td><td>Thành phố Đồng Xoài</td><td>Bình Phước</td><td> Xã Tiến Hưng, Thành phố Đồng Xoài, Bình Phước</td></tr><tr><td>135</td><td> Xã Tân Thành</td><td>Thành phố Đồng Xoài</td><td>Bình Phước</td><td> Xã Tân Thành, Thành phố Đồng Xoài, Bình Phước</td></tr><tr><td>136</td><td> Phường An Lộc</td><td>Thị xã Bình Long</td><td>Bình Phước</td><td> Phường An Lộc, Thị xã Bình Long, Bình Phước</td></tr><tr><td>137</td><td> Xã Thanh Lương</td><td>Thị xã Bình Long</td><td>Bình Phước</td><td> Xã Thanh Lương, Thị xã Bình Long, Bình Phước</td></tr><tr><td>138</td><td> Xã Thanh Phú</td><td>Thị xã Bình Long</td><td>Bình Phước</td><td> Xã Thanh Phú, Thị xã Bình Long, Bình Phước</td></tr><tr><td>139</td><td> Xã Hòa Thắng</td><td>Huyện Bắc Bình</td><td>Bình Thuận</td><td> Xã Hòa Thắng, Huyện Bắc Bình, Bình Thuận</td></tr><tr><td>140</td><td> Xã Hồng Thái</td><td>Huyện Bắc Bình</td><td>Bình Thuận</td><td> Xã Hồng Thái, Huyện Bắc Bình, Bình Thuận</td></tr><tr><td>141</td><td> Xã Phan Lâm</td><td>Huyện Bắc Bình</td><td>Bình Thuận</td><td> Xã Phan Lâm, Huyện Bắc Bình, Bình Thuận</td></tr><tr><td>142</td><td> Xã Sông Bình</td><td>Huyện Bắc Bình</td><td>Bình Thuận</td><td> Xã Sông Bình, Huyện Bắc Bình, Bình Thuận</td></tr><tr><td>143</td><td> Thị trấn Ma Lâm</td><td>Huyện Hàm Thuận Bắc</td><td>Bình Thuận</td><td> Thị trấn Ma Lâm, Huyện Hàm Thuận Bắc, Bình Thuận</td></tr><tr><td>144</td><td> Xã Hàm Phú</td><td>Huyện Hàm Thuận Bắc</td><td>Bình Thuận</td><td> Xã Hàm Phú, Huyện Hàm Thuận Bắc, Bình Thuận</td></tr><tr><td>145</td><td> Xã La Dạ</td><td>Huyện Hàm Thuận Bắc</td><td>Bình Thuận</td><td> Xã La Dạ, Huyện Hàm Thuận Bắc, Bình Thuận</td></tr><tr><td>146</td><td> Xã Hàm Cường</td><td>Huyện Hàm Thuận Nam</td><td>Bình Thuận</td><td> Xã Hàm Cường, Huyện Hàm Thuận Nam, Bình Thuận</td></tr><tr><td>147</td><td> Xã Hàm Kiệm</td><td>Huyện Hàm Thuận Nam</td><td>Bình Thuận</td><td> Xã Hàm Kiệm, Huyện Hàm Thuận Nam, Bình Thuận</td></tr><tr><td>148</td><td> Xã Tân Thành</td><td>Huyện Hàm Thuận Nam</td><td>Bình Thuận</td><td> Xã Tân Thành, Huyện Hàm Thuận Nam, Bình Thuận</td></tr><tr><td>149</td><td> Xã Sông Phan</td><td>Huyện Hàm Tân</td><td>Bình Thuận</td><td> Xã Sông Phan, Huyện Hàm Tân, Bình Thuận</td></tr><tr><td>150</td><td> Xã Tân Phúc</td><td>Huyện Hàm Tân</td><td>Bình Thuận</td><td> Xã Tân Phúc, Huyện Hàm Tân, Bình Thuận</td></tr><tr><td>151</td><td> Xã Tân Xuân</td><td>Huyện Hàm Tân</td><td>Bình Thuận</td><td> Xã Tân Xuân, Huyện Hàm Tân, Bình Thuận</td></tr><tr><td>152</td><td> Xã Tân Đức</td><td>Huyện Hàm Tân</td><td>Bình Thuận</td><td> Xã Tân Đức, Huyện Hàm Tân, Bình Thuận</td></tr><tr><td>153</td><td> Xã Long Hải</td><td>Huyện Phú Quí</td><td>Bình Thuận</td><td> Xã Long Hải, Huyện Phú Quí, Bình Thuận</td></tr><tr><td>154</td><td> Xã Ngũ Phụng</td><td>Huyện Phú Quí</td><td>Bình Thuận</td><td> Xã Ngũ Phụng, Huyện Phú Quí, Bình Thuận</td></tr><tr><td>155</td><td> Xã Mê Pu</td><td>Huyện Đức Linh</td><td>Bình Thuận</td><td> Xã Mê Pu, Huyện Đức Linh, Bình Thuận</td></tr><tr><td>156</td><td> Phường Mũi Né</td><td>Thành phố Phan Thiết</td><td>Bình Thuận</td><td> Phường Mũi Né, Thành phố Phan Thiết, Bình Thuận</td></tr><tr><td>157</td><td> Phường Phú Hài</td><td>Thành phố Phan Thiết</td><td>Bình Thuận</td><td> Phường Phú Hài, Thành phố Phan Thiết, Bình Thuận</td></tr><tr><td>158</td><td> Phường Phú Tài</td><td>Thành phố Phan Thiết</td><td>Bình Thuận</td><td> Phường Phú Tài, Thành phố Phan Thiết, Bình Thuận</td></tr><tr><td>159</td><td> Xã Tiến Thành</td><td>Thành phố Phan Thiết</td><td>Bình Thuận</td><td> Xã Tiến Thành, Thành phố Phan Thiết, Bình Thuận</td></tr><tr><td>160</td><td> Phường Tân Thiện</td><td>Thị xã La Gi</td><td>Bình Thuận</td><td> Phường Tân Thiện, Thị xã La Gi, Bình Thuận</td></tr><tr><td>161</td><td> Xã Tân Bình</td><td>Thị xã La Gi</td><td>Bình Thuận</td><td> Xã Tân Bình, Thị xã La Gi, Bình Thuận</td></tr><tr><td>162</td><td> Xã Tân Hải</td><td>Thị xã La Gi</td><td>Bình Thuận</td><td> Xã Tân Hải, Thị xã La Gi, Bình Thuận</td></tr><tr><td>163</td><td> Xã Tân Phước</td><td>Thị xã La Gi</td><td>Bình Thuận</td><td> Xã Tân Phước, Thị xã La Gi, Bình Thuận</td></tr><tr><td>164</td><td> Xã Tân Tiến</td><td>Thị xã La Gi</td><td>Bình Thuận</td><td> Xã Tân Tiến, Thị xã La Gi, Bình Thuận</td></tr><tr><td>165</td><td> Xã Cát Khánh</td><td>Huyện Phù Cát</td><td>Bình Định</td><td> Xã Cát Khánh, Huyện Phù Cát, Bình Định</td></tr><tr><td>166</td><td> Thị trấn Diêu Trì</td><td>Huyện Tuy Phước</td><td>Bình Định</td><td> Thị trấn Diêu Trì, Huyện Tuy Phước, Bình Định</td></tr><tr><td>167</td><td> Phường Ghềnh Ráng</td><td>Thành phố Qui Nhơn</td><td>Bình Định</td><td> Phường Ghềnh Ráng, Thành phố Qui Nhơn, Bình Định</td></tr><tr><td>168</td><td> Phường Hải Cảng</td><td>Thành phố Qui Nhơn</td><td>Bình Định</td><td> Phường Hải Cảng, Thành phố Qui Nhơn, Bình Định</td></tr><tr><td>169</td><td> Phường Lý Thường Kiệt</td><td>Thành phố Qui Nhơn</td><td>Bình Định</td><td> Phường Lý Thường Kiệt, Thành phố Qui Nhơn, Bình Định</td></tr><tr><td>170</td><td> Phường Quang Trung</td><td>Thành phố Qui Nhơn</td><td>Bình Định</td><td> Phường Quang Trung, Thành phố Qui Nhơn, Bình Định</td></tr><tr><td>171</td><td> Phường Trần Phú</td><td>Thành phố Qui Nhơn</td><td>Bình Định</td><td> Phường Trần Phú, Thành phố Qui Nhơn, Bình Định</td></tr><tr><td>172</td><td> Phường Trần Quang Diệu</td><td>Thành phố Qui Nhơn</td><td>Bình Định</td><td> Phường Trần Quang Diệu, Thành phố Qui Nhơn, Bình Định</td></tr><tr><td>173</td><td> Xã Nhơn Hội</td><td>Thành phố Qui Nhơn</td><td>Bình Định</td><td> Xã Nhơn Hội, Thành phố Qui Nhơn, Bình Định</td></tr><tr><td>174</td><td> Phường Tam Quan Bắc</td><td>Thị xã Hoài Nhơn</td><td>Bình Định</td><td> Phường Tam Quan Bắc, Thị xã Hoài Nhơn, Bình Định</td></tr><tr><td>175</td><td> Phường 1</td><td>Thành phố Bạc Liêu</td><td>Bạc Liêu</td><td> Phường 1, Thành phố Bạc Liêu, Bạc Liêu</td></tr><tr><td>176</td><td> Xã Vĩnh Trạch Đông</td><td>Thành phố Bạc Liêu</td><td>Bạc Liêu</td><td> Xã Vĩnh Trạch Đông, Thành phố Bạc Liêu, Bạc Liêu</td></tr><tr><td>177</td><td> Xã Lạc Vệ</td><td>Huyện Tiên Du</td><td>Bắc Ninh</td><td> Xã Lạc Vệ, Huyện Tiên Du, Bắc Ninh</td></tr><tr><td>178</td><td> Xã Đông Tiến</td><td>Huyện Yên Phong</td><td>Bắc Ninh</td><td> Xã Đông Tiến, Huyện Yên Phong, Bắc Ninh</td></tr><tr><td>179</td><td> Xã Định Trung</td><td>Huyện Bình Đại</td><td>Bến Tre</td><td> Xã Định Trung, Huyện Bình Đại, Bến Tre</td></tr><tr><td>180</td><td> Thị trấn Châu Thành</td><td>Huyện Châu Thành</td><td>Bến Tre</td><td> Thị trấn Châu Thành, Huyện Châu Thành, Bến Tre</td></tr><tr><td>181</td><td> Xã Phước Thạnh</td><td>Huyện Châu Thành</td><td>Bến Tre</td><td> Xã Phước Thạnh, Huyện Châu Thành, Bến Tre</td></tr><tr><td>182</td><td> Xã Qưới Sơn</td><td>Huyện Châu Thành</td><td>Bến Tre</td><td> Xã Qưới Sơn, Huyện Châu Thành, Bến Tre</td></tr><tr><td>183</td><td> Xã Tam Phước</td><td>Huyện Châu Thành</td><td>Bến Tre</td><td> Xã Tam Phước, Huyện Châu Thành, Bến Tre</td></tr><tr><td>184</td><td> Xã Thanh Tân</td><td>Huyện Mỏ Cày Bắc</td><td>Bến Tre</td><td> Xã Thanh Tân, Huyện Mỏ Cày Bắc, Bến Tre</td></tr><tr><td>185</td><td> Xã Tân Thành Bình</td><td>Huyện Mỏ Cày Bắc</td><td>Bến Tre</td><td> Xã Tân Thành Bình, Huyện Mỏ Cày Bắc, Bến Tre</td></tr><tr><td>186</td><td> Xã Hương Mỹ</td><td>Huyện Mỏ Cày Nam</td><td>Bến Tre</td><td> Xã Hương Mỹ, Huyện Mỏ Cày Nam, Bến Tre</td></tr><tr><td>187</td><td> Phường Phú Tân</td><td>Thành phố Bến Tre</td><td>Bến Tre</td><td> Phường Phú Tân, Thành phố Bến Tre, Bến Tre</td></tr><tr><td>188</td><td> Xã Bình Phú</td><td>Thành phố Bến Tre</td><td>Bến Tre</td><td> Xã Bình Phú, Thành phố Bến Tre, Bến Tre</td></tr><tr><td>189</td><td> Xã Nhơn Thạnh</td><td>Thành phố Bến Tre</td><td>Bến Tre</td><td> Xã Nhơn Thạnh, Thành phố Bến Tre, Bến Tre</td></tr><tr><td>190</td><td> Xã Phú Nhuận</td><td>Thành phố Bến Tre</td><td>Bến Tre</td><td> Xã Phú Nhuận, Thành phố Bến Tre, Bến Tre</td></tr><tr><td>191</td><td> Xã Phong Điền</td><td>Huyện Trần Văn Thời</td><td>Cà Mau</td><td> Xã Phong Điền, Huyện Trần Văn Thời, Cà Mau</td></tr><tr><td>192</td><td> Phường 1</td><td>Thành phố Cà Mau</td><td>Cà Mau</td><td> Phường 1, Thành phố Cà Mau, Cà Mau</td></tr><tr><td>193</td><td> Phường 8</td><td>Thành phố Cà Mau</td><td>Cà Mau</td><td> Phường 8, Thành phố Cà Mau, Cà Mau</td></tr><tr><td>194</td><td> Phường Tân Thành</td><td>Thành phố Cà Mau</td><td>Cà Mau</td><td> Phường Tân Thành, Thành phố Cà Mau, Cà Mau</td></tr><tr><td>195</td><td> Thị trấn Phong Điền</td><td>Huyện Phong Điền</td><td>Cần Thơ</td><td> Thị trấn Phong Điền, Huyện Phong Điền, Cần Thơ</td></tr><tr><td>196</td><td> Xã Mỹ Khánh</td><td>Huyện Phong Điền</td><td>Cần Thơ</td><td> Xã Mỹ Khánh, Huyện Phong Điền, Cần Thơ</td></tr><tr><td>197</td><td> Xã Nhơn Ái</td><td>Huyện Phong Điền</td><td>Cần Thơ</td><td> Xã Nhơn Ái, Huyện Phong Điền, Cần Thơ</td></tr><tr><td>198</td><td> Xã Tân Thới</td><td>Huyện Phong Điền</td><td>Cần Thơ</td><td> Xã Tân Thới, Huyện Phong Điền, Cần Thơ</td></tr><tr><td>199</td><td> Phường An Thới</td><td>Quận Bình Thuỷ</td><td>Cần Thơ</td><td> Phường An Thới, Quận Bình Thuỷ, Cần Thơ</td></tr><tr><td>200</td><td> Phường Bình Thủy</td><td>Quận Bình Thuỷ</td><td>Cần Thơ</td><td> Phường Bình Thủy, Quận Bình Thuỷ, Cần Thơ</td></tr><tr><td>201</td><td> Phường Long Hòa</td><td>Quận Bình Thuỷ</td><td>Cần Thơ</td><td> Phường Long Hòa, Quận Bình Thuỷ, Cần Thơ</td></tr><tr><td>202</td><td> Phường Long Tuyền</td><td>Quận Bình Thuỷ</td><td>Cần Thơ</td><td> Phường Long Tuyền, Quận Bình Thuỷ, Cần Thơ</td></tr><tr><td>203</td><td> Phường Trà An</td><td>Quận Bình Thuỷ</td><td>Cần Thơ</td><td> Phường Trà An, Quận Bình Thuỷ, Cần Thơ</td></tr><tr><td>204</td><td> Phường Trà Nóc</td><td>Quận Bình Thuỷ</td><td>Cần Thơ</td><td> Phường Trà Nóc, Quận Bình Thuỷ, Cần Thơ</td></tr><tr><td>205</td><td> Phường Ba Láng</td><td>Quận Cái Răng</td><td>Cần Thơ</td><td> Phường Ba Láng, Quận Cái Răng, Cần Thơ</td></tr><tr><td>206</td><td> Phường Hưng Phú</td><td>Quận Cái Răng</td><td>Cần Thơ</td><td> Phường Hưng Phú, Quận Cái Răng, Cần Thơ</td></tr><tr><td>207</td><td> Phường Hưng Thạnh</td><td>Quận Cái Răng</td><td>Cần Thơ</td><td> Phường Hưng Thạnh, Quận Cái Răng, Cần Thơ</td></tr><tr><td>208</td><td> Phường Lê Bình</td><td>Quận Cái Răng</td><td>Cần Thơ</td><td> Phường Lê Bình, Quận Cái Răng, Cần Thơ</td></tr><tr><td>209</td><td> Phường Phú Thứ</td><td>Quận Cái Răng</td><td>Cần Thơ</td><td> Phường Phú Thứ, Quận Cái Răng, Cần Thơ</td></tr><tr><td>210</td><td> Phường Thường Thạnh</td><td>Quận Cái Răng</td><td>Cần Thơ</td><td> Phường Thường Thạnh, Quận Cái Răng, Cần Thơ</td></tr><tr><td>211</td><td> Phường Tân Phú</td><td>Quận Cái Răng</td><td>Cần Thơ</td><td> Phường Tân Phú, Quận Cái Răng, Cần Thơ</td></tr><tr><td>212</td><td> Phường An Bình</td><td>Quận Ninh Kiều</td><td>Cần Thơ</td><td> Phường An Bình, Quận Ninh Kiều, Cần Thơ</td></tr><tr><td>213</td><td> Phường An Cư</td><td>Quận Ninh Kiều</td><td>Cần Thơ</td><td> Phường An Cư, Quận Ninh Kiều, Cần Thơ</td></tr><tr><td>214</td><td> Phường An Hòa</td><td>Quận Ninh Kiều</td><td>Cần Thơ</td><td> Phường An Hòa, Quận Ninh Kiều, Cần Thơ</td></tr><tr><td>215</td><td> Phường An Khánh</td><td>Quận Ninh Kiều</td><td>Cần Thơ</td><td> Phường An Khánh, Quận Ninh Kiều, Cần Thơ</td></tr><tr><td>216</td><td> Phường An Phú</td><td>Quận Ninh Kiều</td><td>Cần Thơ</td><td> Phường An Phú, Quận Ninh Kiều, Cần Thơ</td></tr><tr><td>217</td><td> Phường Cái Khế</td><td>Quận Ninh Kiều</td><td>Cần Thơ</td><td> Phường Cái Khế, Quận Ninh Kiều, Cần Thơ</td></tr><tr><td>218</td><td> Phường Hưng Lợi</td><td>Quận Ninh Kiều</td><td>Cần Thơ</td><td> Phường Hưng Lợi, Quận Ninh Kiều, Cần Thơ</td></tr><tr><td>219</td><td> Phường Thới Bình</td><td>Quận Ninh Kiều</td><td>Cần Thơ</td><td> Phường Thới Bình, Quận Ninh Kiều, Cần Thơ</td></tr><tr><td>220</td><td> Phường Tân An</td><td>Quận Ninh Kiều</td><td>Cần Thơ</td><td> Phường Tân An, Quận Ninh Kiều, Cần Thơ</td></tr><tr><td>221</td><td> Phường Xuân Khánh</td><td>Quận Ninh Kiều</td><td>Cần Thơ</td><td> Phường Xuân Khánh, Quận Ninh Kiều, Cần Thơ</td></tr><tr><td>222</td><td> Phường Châu Văn Liêm</td><td>Quận Ô Môn</td><td>Cần Thơ</td><td> Phường Châu Văn Liêm, Quận Ô Môn, Cần Thơ</td></tr><tr><td>223</td><td> Phường Trường Lạc</td><td>Quận Ô Môn</td><td>Cần Thơ</td><td> Phường Trường Lạc, Quận Ô Môn, Cần Thơ</td></tr><tr><td>224</td><td> Thị trấn Chư Sê</td><td>Huyện Chư Sê</td><td>Gia Lai</td><td> Thị trấn Chư Sê, Huyện Chư Sê, Gia Lai</td></tr><tr><td>225</td><td> Phường Hoa Lư</td><td>Thành phố Pleiku</td><td>Gia Lai</td><td> Phường Hoa Lư, Thành phố Pleiku, Gia Lai</td></tr><tr><td>226</td><td> Phường Hội Thương</td><td>Thành phố Pleiku</td><td>Gia Lai</td><td> Phường Hội Thương, Thành phố Pleiku, Gia Lai</td></tr><tr><td>227</td><td> Phường Đống Đa</td><td>Thành phố Pleiku</td><td>Gia Lai</td><td> Phường Đống Đa, Thành phố Pleiku, Gia Lai</td></tr><tr><td>228</td><td> Phường Hoàng Đông</td><td>Thị xã Duy Tiên</td><td>Hà Nam</td><td> Phường Hoàng Đông, Thị xã Duy Tiên, Hà Nam</td></tr><tr><td>229</td><td> Xã Cẩm Lĩnh</td><td>Huyện Ba Vì</td><td>Hà Nội</td><td> Xã Cẩm Lĩnh, Huyện Ba Vì, Hà Nội</td></tr><tr><td>230</td><td> Xã Phong Vân</td><td>Huyện Ba Vì</td><td>Hà Nội</td><td> Xã Phong Vân, Huyện Ba Vì, Hà Nội</td></tr><tr><td>231</td><td> Thị trấn Xuân Mai</td><td>Huyện Chương Mỹ</td><td>Hà Nội</td><td> Thị trấn Xuân Mai, Huyện Chương Mỹ, Hà Nội</td></tr><tr><td>232</td><td> Xã Ngọc Hòa</td><td>Huyện Chương Mỹ</td><td>Hà Nội</td><td> Xã Ngọc Hòa, Huyện Chương Mỹ, Hà Nội</td></tr><tr><td>233</td><td> Xã Đại Yên</td><td>Huyện Chương Mỹ</td><td>Hà Nội</td><td> Xã Đại Yên, Huyện Chương Mỹ, Hà Nội</td></tr><tr><td>234</td><td> Thị trấn Trâu Quỳ</td><td>Huyện Gia Lâm</td><td>Hà Nội</td><td> Thị trấn Trâu Quỳ, Huyện Gia Lâm, Hà Nội</td></tr><tr><td>235</td><td> Xã Kiêu Kỵ</td><td>Huyện Gia Lâm</td><td>Hà Nội</td><td> Xã Kiêu Kỵ, Huyện Gia Lâm, Hà Nội</td></tr><tr><td>236</td><td> Xã Lệ Chi</td><td>Huyện Gia Lâm</td><td>Hà Nội</td><td> Xã Lệ Chi, Huyện Gia Lâm, Hà Nội</td></tr><tr><td>237</td><td> Xã Đa Tốn</td><td>Huyện Gia Lâm</td><td>Hà Nội</td><td> Xã Đa Tốn, Huyện Gia Lâm, Hà Nội</td></tr><tr><td>238</td><td> Xã An Khánh</td><td>Huyện Hoài Đức</td><td>Hà Nội</td><td> Xã An Khánh, Huyện Hoài Đức, Hà Nội</td></tr><tr><td>239</td><td> Xã Di Trạch</td><td>Huyện Hoài Đức</td><td>Hà Nội</td><td> Xã Di Trạch, Huyện Hoài Đức, Hà Nội</td></tr><tr><td>240</td><td> Xã Kim Chung</td><td>Huyện Hoài Đức</td><td>Hà Nội</td><td> Xã Kim Chung, Huyện Hoài Đức, Hà Nội</td></tr><tr><td>241</td><td> Xã Vân Canh</td><td>Huyện Hoài Đức</td><td>Hà Nội</td><td> Xã Vân Canh, Huyện Hoài Đức, Hà Nội</td></tr><tr><td>242</td><td> Xã Vân Côn</td><td>Huyện Hoài Đức</td><td>Hà Nội</td><td> Xã Vân Côn, Huyện Hoài Đức, Hà Nội</td></tr><tr><td>243</td><td> Xã Đông La</td><td>Huyện Hoài Đức</td><td>Hà Nội</td><td> Xã Đông La, Huyện Hoài Đức, Hà Nội</td></tr><tr><td>244</td><td> Xã Tiền Phong</td><td>Huyện Mê Linh</td><td>Hà Nội</td><td> Xã Tiền Phong, Huyện Mê Linh, Hà Nội</td></tr><tr><td>245</td><td> Xã An Phú</td><td>Huyện Mỹ Đức</td><td>Hà Nội</td><td> Xã An Phú, Huyện Mỹ Đức, Hà Nội</td></tr><tr><td>246</td><td> Xã Hòa Thạch</td><td>Huyện Quốc Oai</td><td>Hà Nội</td><td> Xã Hòa Thạch, Huyện Quốc Oai, Hà Nội</td></tr><tr><td>247</td><td> Xã Phú Cát</td><td>Huyện Quốc Oai</td><td>Hà Nội</td><td> Xã Phú Cát, Huyện Quốc Oai, Hà Nội</td></tr><tr><td>248</td><td> Xã Phú Mãn</td><td>Huyện Quốc Oai</td><td>Hà Nội</td><td> Xã Phú Mãn, Huyện Quốc Oai, Hà Nội</td></tr><tr><td>249</td><td> Xã Đông Yên</td><td>Huyện Quốc Oai</td><td>Hà Nội</td><td> Xã Đông Yên, Huyện Quốc Oai, Hà Nội</td></tr><tr><td>250</td><td> Xã Đại Thành</td><td>Huyện Quốc Oai</td><td>Hà Nội</td><td> Xã Đại Thành, Huyện Quốc Oai, Hà Nội</td></tr><tr><td>251</td><td> Xã Quang Tiến</td><td>Huyện Sóc Sơn</td><td>Hà Nội</td><td> Xã Quang Tiến, Huyện Sóc Sơn, Hà Nội</td></tr><tr><td>252</td><td> Thị trấn Kim Bài</td><td>Huyện Thanh Oai</td><td>Hà Nội</td><td> Thị trấn Kim Bài, Huyện Thanh Oai, Hà Nội</td></tr><tr><td>253</td><td> Xã Bích Hòa</td><td>Huyện Thanh Oai</td><td>Hà Nội</td><td> Xã Bích Hòa, Huyện Thanh Oai, Hà Nội</td></tr><tr><td>254</td><td> Thị trấn Văn Điển</td><td>Huyện Thanh Trì</td><td>Hà Nội</td><td> Thị trấn Văn Điển, Huyện Thanh Trì, Hà Nội</td></tr><tr><td>255</td><td> Xã Liên Ninh</td><td>Huyện Thanh Trì</td><td>Hà Nội</td><td> Xã Liên Ninh, Huyện Thanh Trì, Hà Nội</td></tr><tr><td>256</td><td> Xã Ngũ Hiệp</td><td>Huyện Thanh Trì</td><td>Hà Nội</td><td> Xã Ngũ Hiệp, Huyện Thanh Trì, Hà Nội</td></tr><tr><td>257</td><td> Xã Ngọc Hồi</td><td>Huyện Thanh Trì</td><td>Hà Nội</td><td> Xã Ngọc Hồi, Huyện Thanh Trì, Hà Nội</td></tr><tr><td>258</td><td> Xã Tam Hiệp</td><td>Huyện Thanh Trì</td><td>Hà Nội</td><td> Xã Tam Hiệp, Huyện Thanh Trì, Hà Nội</td></tr><tr><td>259</td><td> Xã Thanh Liệt</td><td>Huyện Thanh Trì</td><td>Hà Nội</td><td> Xã Thanh Liệt, Huyện Thanh Trì, Hà Nội</td></tr><tr><td>260</td><td> Xã Tân Triều</td><td>Huyện Thanh Trì</td><td>Hà Nội</td><td> Xã Tân Triều, Huyện Thanh Trì, Hà Nội</td></tr><tr><td>261</td><td> Xã Tả Thanh Oai</td><td>Huyện Thanh Trì</td><td>Hà Nội</td><td> Xã Tả Thanh Oai, Huyện Thanh Trì, Hà Nội</td></tr><tr><td>262</td><td> Xã Tứ Hiệp</td><td>Huyện Thanh Trì</td><td>Hà Nội</td><td> Xã Tứ Hiệp, Huyện Thanh Trì, Hà Nội</td></tr><tr><td>263</td><td> Xã Vĩnh Quỳnh</td><td>Huyện Thanh Trì</td><td>Hà Nội</td><td> Xã Vĩnh Quỳnh, Huyện Thanh Trì, Hà Nội</td></tr><tr><td>264</td><td> Xã Vạn Phúc</td><td>Huyện Thanh Trì</td><td>Hà Nội</td><td> Xã Vạn Phúc, Huyện Thanh Trì, Hà Nội</td></tr><tr><td>265</td><td> Xã Chương Dương</td><td>Huyện Thường Tín</td><td>Hà Nội</td><td> Xã Chương Dương, Huyện Thường Tín, Hà Nội</td></tr><tr><td>266</td><td> Xã Khánh Hà</td><td>Huyện Thường Tín</td><td>Hà Nội</td><td> Xã Khánh Hà, Huyện Thường Tín, Hà Nội</td></tr><tr><td>267</td><td> Xã Ninh Sở</td><td>Huyện Thường Tín</td><td>Hà Nội</td><td> Xã Ninh Sở, Huyện Thường Tín, Hà Nội</td></tr><tr><td>268</td><td> Xã Văn Tự</td><td>Huyện Thường Tín</td><td>Hà Nội</td><td> Xã Văn Tự, Huyện Thường Tín, Hà Nội</td></tr><tr><td>269</td><td> Xã Bình Yên</td><td>Huyện Thạch Thất</td><td>Hà Nội</td><td> Xã Bình Yên, Huyện Thạch Thất, Hà Nội</td></tr><tr><td>270</td><td> Xã Tiến Xuân</td><td>Huyện Thạch Thất</td><td>Hà Nội</td><td> Xã Tiến Xuân, Huyện Thạch Thất, Hà Nội</td></tr><tr><td>271</td><td> Xã Tân Xã</td><td>Huyện Thạch Thất</td><td>Hà Nội</td><td> Xã Tân Xã, Huyện Thạch Thất, Hà Nội</td></tr><tr><td>272</td><td> Xã Yên Trung</td><td>Huyện Thạch Thất</td><td>Hà Nội</td><td> Xã Yên Trung, Huyện Thạch Thất, Hà Nội</td></tr><tr><td>273</td><td> Xã Đồng Trúc</td><td>Huyện Thạch Thất</td><td>Hà Nội</td><td> Xã Đồng Trúc, Huyện Thạch Thất, Hà Nội</td></tr><tr><td>274</td><td> Xã Hải Bối</td><td>Huyện Đông Anh</td><td>Hà Nội</td><td> Xã Hải Bối, Huyện Đông Anh, Hà Nội</td></tr><tr><td>275</td><td> Xã Nguyên Khê</td><td>Huyện Đông Anh</td><td>Hà Nội</td><td> Xã Nguyên Khê, Huyện Đông Anh, Hà Nội</td></tr><tr><td>276</td><td> Xã Tiên Dương</td><td>Huyện Đông Anh</td><td>Hà Nội</td><td> Xã Tiên Dương, Huyện Đông Anh, Hà Nội</td></tr><tr><td>277</td><td> Xã Uy Nỗ</td><td>Huyện Đông Anh</td><td>Hà Nội</td><td> Xã Uy Nỗ, Huyện Đông Anh, Hà Nội</td></tr><tr><td>278</td><td> Xã Vân Nội</td><td>Huyện Đông Anh</td><td>Hà Nội</td><td> Xã Vân Nội, Huyện Đông Anh, Hà Nội</td></tr><tr><td>279</td><td> Xã Trường Thịnh</td><td>Huyện Ứng Hòa</td><td>Hà Nội</td><td> Xã Trường Thịnh, Huyện Ứng Hòa, Hà Nội</td></tr><tr><td>280</td><td> Phường Cống Vị</td><td>Quận Ba Đình</td><td>Hà Nội</td><td> Phường Cống Vị, Quận Ba Đình, Hà Nội</td></tr><tr><td>281</td><td> Phường Giảng Võ</td><td>Quận Ba Đình</td><td>Hà Nội</td><td> Phường Giảng Võ, Quận Ba Đình, Hà Nội</td></tr><tr><td>282</td><td> Phường Kim Mã</td><td>Quận Ba Đình</td><td>Hà Nội</td><td> Phường Kim Mã, Quận Ba Đình, Hà Nội</td></tr><tr><td>283</td><td> Phường Liễu Giai</td><td>Quận Ba Đình</td><td>Hà Nội</td><td> Phường Liễu Giai, Quận Ba Đình, Hà Nội</td></tr><tr><td>284</td><td> Phường Ngọc Hà</td><td>Quận Ba Đình</td><td>Hà Nội</td><td> Phường Ngọc Hà, Quận Ba Đình, Hà Nội</td></tr><tr><td>285</td><td> Phường Ngọc Khánh</td><td>Quận Ba Đình</td><td>Hà Nội</td><td> Phường Ngọc Khánh, Quận Ba Đình, Hà Nội</td></tr><tr><td>286</td><td> Phường Phúc Xá</td><td>Quận Ba Đình</td><td>Hà Nội</td><td> Phường Phúc Xá, Quận Ba Đình, Hà Nội</td></tr><tr><td>287</td><td> Phường Thành Công</td><td>Quận Ba Đình</td><td>Hà Nội</td><td> Phường Thành Công, Quận Ba Đình, Hà Nội</td></tr><tr><td>288</td><td> Phường Trúc Bạch</td><td>Quận Ba Đình</td><td>Hà Nội</td><td> Phường Trúc Bạch, Quận Ba Đình, Hà Nội</td></tr><tr><td>289</td><td> Phường Vĩnh Phúc</td><td>Quận Ba Đình</td><td>Hà Nội</td><td> Phường Vĩnh Phúc, Quận Ba Đình, Hà Nội</td></tr><tr><td>290</td><td> Phường Điện Biên</td><td>Quận Ba Đình</td><td>Hà Nội</td><td> Phường Điện Biên, Quận Ba Đình, Hà Nội</td></tr><tr><td>291</td><td> Phường Đội Cấn</td><td>Quận Ba Đình</td><td>Hà Nội</td><td> Phường Đội Cấn, Quận Ba Đình, Hà Nội</td></tr><tr><td>292</td><td> Phường Cổ Nhuế 1</td><td>Quận Bắc Từ Liêm</td><td>Hà Nội</td><td> Phường Cổ Nhuế 1, Quận Bắc Từ Liêm, Hà Nội</td></tr><tr><td>293</td><td> Phường Cổ Nhuế 2</td><td>Quận Bắc Từ Liêm</td><td>Hà Nội</td><td> Phường Cổ Nhuế 2, Quận Bắc Từ Liêm, Hà Nội</td></tr><tr><td>294</td><td> Phường Liên Mạc</td><td>Quận Bắc Từ Liêm</td><td>Hà Nội</td><td> Phường Liên Mạc, Quận Bắc Từ Liêm, Hà Nội</td></tr><tr><td>295</td><td> Phường Minh Khai</td><td>Quận Bắc Từ Liêm</td><td>Hà Nội</td><td> Phường Minh Khai, Quận Bắc Từ Liêm, Hà Nội</td></tr><tr><td>296</td><td> Phường Phú Diễn</td><td>Quận Bắc Từ Liêm</td><td>Hà Nội</td><td> Phường Phú Diễn, Quận Bắc Từ Liêm, Hà Nội</td></tr><tr><td>297</td><td> Phường Tây Tựu</td><td>Quận Bắc Từ Liêm</td><td>Hà Nội</td><td> Phường Tây Tựu, Quận Bắc Từ Liêm, Hà Nội</td></tr><tr><td>298</td><td> Phường Xuân Tảo</td><td>Quận Bắc Từ Liêm</td><td>Hà Nội</td><td> Phường Xuân Tảo, Quận Bắc Từ Liêm, Hà Nội</td></tr><tr><td>299</td><td> Phường Xuân Đỉnh</td><td>Quận Bắc Từ Liêm</td><td>Hà Nội</td><td> Phường Xuân Đỉnh, Quận Bắc Từ Liêm, Hà Nội</td></tr><tr><td>300</td><td> Phường Dịch Vọng</td><td>Quận Cầu Giấy</td><td>Hà Nội</td><td> Phường Dịch Vọng, Quận Cầu Giấy, Hà Nội</td></tr><tr><td>301</td><td> Phường Dịch Vọng Hậu</td><td>Quận Cầu Giấy</td><td>Hà Nội</td><td> Phường Dịch Vọng Hậu, Quận Cầu Giấy, Hà Nội</td></tr><tr><td>302</td><td> Phường Mai Dịch</td><td>Quận Cầu Giấy</td><td>Hà Nội</td><td> Phường Mai Dịch, Quận Cầu Giấy, Hà Nội</td></tr><tr><td>303</td><td> Phường Nghĩa Tân</td><td>Quận Cầu Giấy</td><td>Hà Nội</td><td> Phường Nghĩa Tân, Quận Cầu Giấy, Hà Nội</td></tr><tr><td>304</td><td> Phường Quan Hoa</td><td>Quận Cầu Giấy</td><td>Hà Nội</td><td> Phường Quan Hoa, Quận Cầu Giấy, Hà Nội</td></tr><tr><td>305</td><td> Phường Trung Hoà</td><td>Quận Cầu Giấy</td><td>Hà Nội</td><td> Phường Trung Hoà, Quận Cầu Giấy, Hà Nội</td></tr><tr><td>306</td><td> Phường Yên Hoà</td><td>Quận Cầu Giấy</td><td>Hà Nội</td><td> Phường Yên Hoà, Quận Cầu Giấy, Hà Nội</td></tr><tr><td>307</td><td> Phường Bách Khoa</td><td>Quận Hai Bà Trưng</td><td>Hà Nội</td><td> Phường Bách Khoa, Quận Hai Bà Trưng, Hà Nội</td></tr><tr><td>308</td><td> Phường Bạch Mai</td><td>Quận Hai Bà Trưng</td><td>Hà Nội</td><td> Phường Bạch Mai, Quận Hai Bà Trưng, Hà Nội</td></tr><tr><td>309</td><td> Phường Cầu Dền</td><td>Quận Hai Bà Trưng</td><td>Hà Nội</td><td> Phường Cầu Dền, Quận Hai Bà Trưng, Hà Nội</td></tr><tr><td>310</td><td> Phường Minh Khai</td><td>Quận Hai Bà Trưng</td><td>Hà Nội</td><td> Phường Minh Khai, Quận Hai Bà Trưng, Hà Nội</td></tr><tr><td>311</td><td> Phường Nguyễn Du</td><td>Quận Hai Bà Trưng</td><td>Hà Nội</td><td> Phường Nguyễn Du, Quận Hai Bà Trưng, Hà Nội</td></tr><tr><td>312</td><td> Phường Phạm Đình Hổ</td><td>Quận Hai Bà Trưng</td><td>Hà Nội</td><td> Phường Phạm Đình Hổ, Quận Hai Bà Trưng, Hà Nội</td></tr><tr><td>313</td><td> Phường Phố Huế</td><td>Quận Hai Bà Trưng</td><td>Hà Nội</td><td> Phường Phố Huế, Quận Hai Bà Trưng, Hà Nội</td></tr><tr><td>314</td><td> Phường Quỳnh Lôi</td><td>Quận Hai Bà Trưng</td><td>Hà Nội</td><td> Phường Quỳnh Lôi, Quận Hai Bà Trưng, Hà Nội</td></tr><tr><td>315</td><td> Phường Quỳnh Mai</td><td>Quận Hai Bà Trưng</td><td>Hà Nội</td><td> Phường Quỳnh Mai, Quận Hai Bà Trưng, Hà Nội</td></tr><tr><td>316</td><td> Phường Thanh Lương</td><td>Quận Hai Bà Trưng</td><td>Hà Nội</td><td> Phường Thanh Lương, Quận Hai Bà Trưng, Hà Nội</td></tr><tr><td>317</td><td> Phường Thanh Nhàn</td><td>Quận Hai Bà Trưng</td><td>Hà Nội</td><td> Phường Thanh Nhàn, Quận Hai Bà Trưng, Hà Nội</td></tr><tr><td>318</td><td> Phường Trương Định</td><td>Quận Hai Bà Trưng</td><td>Hà Nội</td><td> Phường Trương Định, Quận Hai Bà Trưng, Hà Nội</td></tr><tr><td>319</td><td> Phường Vĩnh Tuy</td><td>Quận Hai Bà Trưng</td><td>Hà Nội</td><td> Phường Vĩnh Tuy, Quận Hai Bà Trưng, Hà Nội</td></tr><tr><td>320</td><td> Phường Đống Mác</td><td>Quận Hai Bà Trưng</td><td>Hà Nội</td><td> Phường Đống Mác, Quận Hai Bà Trưng, Hà Nội</td></tr><tr><td>321</td><td> Phường Đồng Tâm</td><td>Quận Hai Bà Trưng</td><td>Hà Nội</td><td> Phường Đồng Tâm, Quận Hai Bà Trưng, Hà Nội</td></tr><tr><td>322</td><td> Phường Chương Dương</td><td>Quận Hoàn Kiếm</td><td>Hà Nội</td><td> Phường Chương Dương, Quận Hoàn Kiếm, Hà Nội</td></tr><tr><td>323</td><td> Phường Phan Chu Trinh</td><td>Quận Hoàn Kiếm</td><td>Hà Nội</td><td> Phường Phan Chu Trinh, Quận Hoàn Kiếm, Hà Nội</td></tr><tr><td>324</td><td> Phường Trần Hưng Đạo</td><td>Quận Hoàn Kiếm</td><td>Hà Nội</td><td> Phường Trần Hưng Đạo, Quận Hoàn Kiếm, Hà Nội</td></tr><tr><td>325</td><td> Phường Giáp Bát</td><td>Quận Hoàng Mai</td><td>Hà Nội</td><td> Phường Giáp Bát, Quận Hoàng Mai, Hà Nội</td></tr><tr><td>326</td><td> Phường Hoàng Liệt</td><td>Quận Hoàng Mai</td><td>Hà Nội</td><td> Phường Hoàng Liệt, Quận Hoàng Mai, Hà Nội</td></tr><tr><td>327</td><td> Phường Hoàng Văn Thụ</td><td>Quận Hoàng Mai</td><td>Hà Nội</td><td> Phường Hoàng Văn Thụ, Quận Hoàng Mai, Hà Nội</td></tr><tr><td>328</td><td> Phường Lĩnh Nam</td><td>Quận Hoàng Mai</td><td>Hà Nội</td><td> Phường Lĩnh Nam, Quận Hoàng Mai, Hà Nội</td></tr><tr><td>329</td><td> Phường Mai Động</td><td>Quận Hoàng Mai</td><td>Hà Nội</td><td> Phường Mai Động, Quận Hoàng Mai, Hà Nội</td></tr><tr><td>330</td><td> Phường Thanh Trì</td><td>Quận Hoàng Mai</td><td>Hà Nội</td><td> Phường Thanh Trì, Quận Hoàng Mai, Hà Nội</td></tr><tr><td>331</td><td> Phường Thịnh Liệt</td><td>Quận Hoàng Mai</td><td>Hà Nội</td><td> Phường Thịnh Liệt, Quận Hoàng Mai, Hà Nội</td></tr><tr><td>332</td><td> Phường Tân Mai</td><td>Quận Hoàng Mai</td><td>Hà Nội</td><td> Phường Tân Mai, Quận Hoàng Mai, Hà Nội</td></tr><tr><td>333</td><td> Phường Tương Mai</td><td>Quận Hoàng Mai</td><td>Hà Nội</td><td> Phường Tương Mai, Quận Hoàng Mai, Hà Nội</td></tr><tr><td>334</td><td> Phường Vĩnh Hưng</td><td>Quận Hoàng Mai</td><td>Hà Nội</td><td> Phường Vĩnh Hưng, Quận Hoàng Mai, Hà Nội</td></tr><tr><td>335</td><td> Phường Yên Sở</td><td>Quận Hoàng Mai</td><td>Hà Nội</td><td> Phường Yên Sở, Quận Hoàng Mai, Hà Nội</td></tr><tr><td>336</td><td> Phường Đại Kim</td><td>Quận Hoàng Mai</td><td>Hà Nội</td><td> Phường Đại Kim, Quận Hoàng Mai, Hà Nội</td></tr><tr><td>337</td><td> Phường Định Công</td><td>Quận Hoàng Mai</td><td>Hà Nội</td><td> Phường Định Công, Quận Hoàng Mai, Hà Nội</td></tr><tr><td>338</td><td> Phường Biên Giang</td><td>Quận Hà Đông</td><td>Hà Nội</td><td> Phường Biên Giang, Quận Hà Đông, Hà Nội</td></tr><tr><td>339</td><td> Phường Dương Nội</td><td>Quận Hà Đông</td><td>Hà Nội</td><td> Phường Dương Nội, Quận Hà Đông, Hà Nội</td></tr><tr><td>340</td><td> Phường Hà Cầu</td><td>Quận Hà Đông</td><td>Hà Nội</td><td> Phường Hà Cầu, Quận Hà Đông, Hà Nội</td></tr><tr><td>341</td><td> Phường Kiến Hưng</td><td>Quận Hà Đông</td><td>Hà Nội</td><td> Phường Kiến Hưng, Quận Hà Đông, Hà Nội</td></tr><tr><td>342</td><td> Phường La Khê</td><td>Quận Hà Đông</td><td>Hà Nội</td><td> Phường La Khê, Quận Hà Đông, Hà Nội</td></tr><tr><td>343</td><td> Phường Mộ Lao</td><td>Quận Hà Đông</td><td>Hà Nội</td><td> Phường Mộ Lao, Quận Hà Đông, Hà Nội</td></tr><tr><td>344</td><td> Phường Nguyễn Trãi</td><td>Quận Hà Đông</td><td>Hà Nội</td><td> Phường Nguyễn Trãi, Quận Hà Đông, Hà Nội</td></tr><tr><td>345</td><td> Phường Phú La</td><td>Quận Hà Đông</td><td>Hà Nội</td><td> Phường Phú La, Quận Hà Đông, Hà Nội</td></tr><tr><td>346</td><td> Phường Phú Lãm</td><td>Quận Hà Đông</td><td>Hà Nội</td><td> Phường Phú Lãm, Quận Hà Đông, Hà Nội</td></tr><tr><td>347</td><td> Phường Phú Lương</td><td>Quận Hà Đông</td><td>Hà Nội</td><td> Phường Phú Lương, Quận Hà Đông, Hà Nội</td></tr><tr><td>348</td><td> Phường Phúc La</td><td>Quận Hà Đông</td><td>Hà Nội</td><td> Phường Phúc La, Quận Hà Đông, Hà Nội</td></tr><tr><td>349</td><td> Phường Quang Trung</td><td>Quận Hà Đông</td><td>Hà Nội</td><td> Phường Quang Trung, Quận Hà Đông, Hà Nội</td></tr><tr><td>350</td><td> Phường Văn Quán</td><td>Quận Hà Đông</td><td>Hà Nội</td><td> Phường Văn Quán, Quận Hà Đông, Hà Nội</td></tr><tr><td>351</td><td> Phường Vạn Phúc</td><td>Quận Hà Đông</td><td>Hà Nội</td><td> Phường Vạn Phúc, Quận Hà Đông, Hà Nội</td></tr><tr><td>352</td><td> Phường Yên Nghĩa</td><td>Quận Hà Đông</td><td>Hà Nội</td><td> Phường Yên Nghĩa, Quận Hà Đông, Hà Nội</td></tr><tr><td>353</td><td> Phường Đồng Mai</td><td>Quận Hà Đông</td><td>Hà Nội</td><td> Phường Đồng Mai, Quận Hà Đông, Hà Nội</td></tr><tr><td>354</td><td> Phường Bồ Đề</td><td>Quận Long Biên</td><td>Hà Nội</td><td> Phường Bồ Đề, Quận Long Biên, Hà Nội</td></tr><tr><td>355</td><td> Phường Cự Khối</td><td>Quận Long Biên</td><td>Hà Nội</td><td> Phường Cự Khối, Quận Long Biên, Hà Nội</td></tr><tr><td>356</td><td> Phường Gia Thụy</td><td>Quận Long Biên</td><td>Hà Nội</td><td> Phường Gia Thụy, Quận Long Biên, Hà Nội</td></tr><tr><td>357</td><td> Phường Giang Biên</td><td>Quận Long Biên</td><td>Hà Nội</td><td> Phường Giang Biên, Quận Long Biên, Hà Nội</td></tr><tr><td>358</td><td> Phường Long Biên</td><td>Quận Long Biên</td><td>Hà Nội</td><td> Phường Long Biên, Quận Long Biên, Hà Nội</td></tr><tr><td>359</td><td> Phường Ngọc Lâm</td><td>Quận Long Biên</td><td>Hà Nội</td><td> Phường Ngọc Lâm, Quận Long Biên, Hà Nội</td></tr><tr><td>360</td><td> Phường Ngọc Thụy</td><td>Quận Long Biên</td><td>Hà Nội</td><td> Phường Ngọc Thụy, Quận Long Biên, Hà Nội</td></tr><tr><td>361</td><td> Phường Phúc Lợi</td><td>Quận Long Biên</td><td>Hà Nội</td><td> Phường Phúc Lợi, Quận Long Biên, Hà Nội</td></tr><tr><td>362</td><td> Phường Sài Đồng</td><td>Quận Long Biên</td><td>Hà Nội</td><td> Phường Sài Đồng, Quận Long Biên, Hà Nội</td></tr><tr><td>363</td><td> Phường Thượng Thanh</td><td>Quận Long Biên</td><td>Hà Nội</td><td> Phường Thượng Thanh, Quận Long Biên, Hà Nội</td></tr><tr><td>364</td><td> Phường Thạch Bàn</td><td>Quận Long Biên</td><td>Hà Nội</td><td> Phường Thạch Bàn, Quận Long Biên, Hà Nội</td></tr><tr><td>365</td><td> Phường Việt Hưng</td><td>Quận Long Biên</td><td>Hà Nội</td><td> Phường Việt Hưng, Quận Long Biên, Hà Nội</td></tr><tr><td>366</td><td> Phường Đức Giang</td><td>Quận Long Biên</td><td>Hà Nội</td><td> Phường Đức Giang, Quận Long Biên, Hà Nội</td></tr><tr><td>367</td><td> Phường Cầu Diễn</td><td>Quận Nam Từ Liêm</td><td>Hà Nội</td><td> Phường Cầu Diễn, Quận Nam Từ Liêm, Hà Nội</td></tr><tr><td>368</td><td> Phường Mễ Trì</td><td>Quận Nam Từ Liêm</td><td>Hà Nội</td><td> Phường Mễ Trì, Quận Nam Từ Liêm, Hà Nội</td></tr><tr><td>369</td><td> Phường Mỹ Đình 1</td><td>Quận Nam Từ Liêm</td><td>Hà Nội</td><td> Phường Mỹ Đình 1, Quận Nam Từ Liêm, Hà Nội</td></tr><tr><td>370</td><td> Phường Mỹ Đình 2</td><td>Quận Nam Từ Liêm</td><td>Hà Nội</td><td> Phường Mỹ Đình 2, Quận Nam Từ Liêm, Hà Nội</td></tr><tr><td>371</td><td> Phường Phú Đô</td><td>Quận Nam Từ Liêm</td><td>Hà Nội</td><td> Phường Phú Đô, Quận Nam Từ Liêm, Hà Nội</td></tr><tr><td>372</td><td> Phường Phương Canh</td><td>Quận Nam Từ Liêm</td><td>Hà Nội</td><td> Phường Phương Canh, Quận Nam Từ Liêm, Hà Nội</td></tr><tr><td>373</td><td> Phường Trung Văn</td><td>Quận Nam Từ Liêm</td><td>Hà Nội</td><td> Phường Trung Văn, Quận Nam Từ Liêm, Hà Nội</td></tr><tr><td>374</td><td> Phường Tây Mỗ</td><td>Quận Nam Từ Liêm</td><td>Hà Nội</td><td> Phường Tây Mỗ, Quận Nam Từ Liêm, Hà Nội</td></tr><tr><td>375</td><td> Phường Xuân Phương</td><td>Quận Nam Từ Liêm</td><td>Hà Nội</td><td> Phường Xuân Phương, Quận Nam Từ Liêm, Hà Nội</td></tr><tr><td>376</td><td> Phường Đại Mỗ</td><td>Quận Nam Từ Liêm</td><td>Hà Nội</td><td> Phường Đại Mỗ, Quận Nam Từ Liêm, Hà Nội</td></tr><tr><td>377</td><td> Phường Hạ Đình</td><td>Quận Thanh Xuân</td><td>Hà Nội</td><td> Phường Hạ Đình, Quận Thanh Xuân, Hà Nội</td></tr><tr><td>378</td><td> Phường Khương Mai</td><td>Quận Thanh Xuân</td><td>Hà Nội</td><td> Phường Khương Mai, Quận Thanh Xuân, Hà Nội</td></tr><tr><td>379</td><td> Phường Khương Trung</td><td>Quận Thanh Xuân</td><td>Hà Nội</td><td> Phường Khương Trung, Quận Thanh Xuân, Hà Nội</td></tr><tr><td>380</td><td> Phường Khương Đình</td><td>Quận Thanh Xuân</td><td>Hà Nội</td><td> Phường Khương Đình, Quận Thanh Xuân, Hà Nội</td></tr><tr><td>381</td><td> Phường Nhân Chính</td><td>Quận Thanh Xuân</td><td>Hà Nội</td><td> Phường Nhân Chính, Quận Thanh Xuân, Hà Nội</td></tr><tr><td>382</td><td> Phường Phương Liệt</td><td>Quận Thanh Xuân</td><td>Hà Nội</td><td> Phường Phương Liệt, Quận Thanh Xuân, Hà Nội</td></tr><tr><td>383</td><td> Phường Thanh Xuân Bắc</td><td>Quận Thanh Xuân</td><td>Hà Nội</td><td> Phường Thanh Xuân Bắc, Quận Thanh Xuân, Hà Nội</td></tr><tr><td>384</td><td> Phường Thanh Xuân Trung</td><td>Quận Thanh Xuân</td><td>Hà Nội</td><td> Phường Thanh Xuân Trung, Quận Thanh Xuân, Hà Nội</td></tr><tr><td>385</td><td> Phường Thượng Đình</td><td>Quận Thanh Xuân</td><td>Hà Nội</td><td> Phường Thượng Đình, Quận Thanh Xuân, Hà Nội</td></tr><tr><td>386</td><td> Phường Bưởi</td><td>Quận Tây Hồ</td><td>Hà Nội</td><td> Phường Bưởi, Quận Tây Hồ, Hà Nội</td></tr><tr><td>387</td><td> Phường Nhật Tân</td><td>Quận Tây Hồ</td><td>Hà Nội</td><td> Phường Nhật Tân, Quận Tây Hồ, Hà Nội</td></tr><tr><td>388</td><td> Phường Phú Thượng</td><td>Quận Tây Hồ</td><td>Hà Nội</td><td> Phường Phú Thượng, Quận Tây Hồ, Hà Nội</td></tr><tr><td>389</td><td> Phường Quảng An</td><td>Quận Tây Hồ</td><td>Hà Nội</td><td> Phường Quảng An, Quận Tây Hồ, Hà Nội</td></tr><tr><td>390</td><td> Phường Thụy Khuê</td><td>Quận Tây Hồ</td><td>Hà Nội</td><td> Phường Thụy Khuê, Quận Tây Hồ, Hà Nội</td></tr><tr><td>391</td><td> Phường Tứ Liên</td><td>Quận Tây Hồ</td><td>Hà Nội</td><td> Phường Tứ Liên, Quận Tây Hồ, Hà Nội</td></tr><tr><td>392</td><td> Phường Xuân La</td><td>Quận Tây Hồ</td><td>Hà Nội</td><td> Phường Xuân La, Quận Tây Hồ, Hà Nội</td></tr><tr><td>393</td><td> Phường Cát Linh</td><td>Quận Đống Đa</td><td>Hà Nội</td><td> Phường Cát Linh, Quận Đống Đa, Hà Nội</td></tr><tr><td>394</td><td> Phường Hàng Bột</td><td>Quận Đống Đa</td><td>Hà Nội</td><td> Phường Hàng Bột, Quận Đống Đa, Hà Nội</td></tr><tr><td>395</td><td> Phường Khâm Thiên</td><td>Quận Đống Đa</td><td>Hà Nội</td><td> Phường Khâm Thiên, Quận Đống Đa, Hà Nội</td></tr><tr><td>396</td><td> Phường Khương Thượng</td><td>Quận Đống Đa</td><td>Hà Nội</td><td> Phường Khương Thượng, Quận Đống Đa, Hà Nội</td></tr><tr><td>397</td><td> Phường Kim Liên</td><td>Quận Đống Đa</td><td>Hà Nội</td><td> Phường Kim Liên, Quận Đống Đa, Hà Nội</td></tr><tr><td>398</td><td> Phường Láng Hạ</td><td>Quận Đống Đa</td><td>Hà Nội</td><td> Phường Láng Hạ, Quận Đống Đa, Hà Nội</td></tr><tr><td>399</td><td> Phường Láng Thượng</td><td>Quận Đống Đa</td><td>Hà Nội</td><td> Phường Láng Thượng, Quận Đống Đa, Hà Nội</td></tr><tr><td>400</td><td> Phường Nam Đồng</td><td>Quận Đống Đa</td><td>Hà Nội</td><td> Phường Nam Đồng, Quận Đống Đa, Hà Nội</td></tr><tr><td>401</td><td> Phường Ngã Tư Sở</td><td>Quận Đống Đa</td><td>Hà Nội</td><td> Phường Ngã Tư Sở, Quận Đống Đa, Hà Nội</td></tr><tr><td>402</td><td> Phường Phương Liên</td><td>Quận Đống Đa</td><td>Hà Nội</td><td> Phường Phương Liên, Quận Đống Đa, Hà Nội</td></tr><tr><td>403</td><td> Phường Quang Trung</td><td>Quận Đống Đa</td><td>Hà Nội</td><td> Phường Quang Trung, Quận Đống Đa, Hà Nội</td></tr><tr><td>404</td><td> Phường Quốc Tử Giám</td><td>Quận Đống Đa</td><td>Hà Nội</td><td> Phường Quốc Tử Giám, Quận Đống Đa, Hà Nội</td></tr><tr><td>405</td><td> Phường Thổ Quan</td><td>Quận Đống Đa</td><td>Hà Nội</td><td> Phường Thổ Quan, Quận Đống Đa, Hà Nội</td></tr><tr><td>406</td><td> Phường Trung Liệt</td><td>Quận Đống Đa</td><td>Hà Nội</td><td> Phường Trung Liệt, Quận Đống Đa, Hà Nội</td></tr><tr><td>407</td><td> Phường Trung Tự</td><td>Quận Đống Đa</td><td>Hà Nội</td><td> Phường Trung Tự, Quận Đống Đa, Hà Nội</td></tr><tr><td>408</td><td> Phường Văn Chương</td><td>Quận Đống Đa</td><td>Hà Nội</td><td> Phường Văn Chương, Quận Đống Đa, Hà Nội</td></tr><tr><td>409</td><td> Phường Ô Chợ Dừa</td><td>Quận Đống Đa</td><td>Hà Nội</td><td> Phường Ô Chợ Dừa, Quận Đống Đa, Hà Nội</td></tr><tr><td>410</td><td> Xã Cổ Đông</td><td>Thị xã Sơn Tây</td><td>Hà Nội</td><td> Xã Cổ Đông, Thị xã Sơn Tây, Hà Nội</td></tr><tr><td>411</td><td> Phường Thạch Linh</td><td>Thành phố Hà Tĩnh</td><td>Hà Tĩnh</td><td> Phường Thạch Linh, Thành phố Hà Tĩnh, Hà Tĩnh</td></tr><tr><td>412</td><td> Xã Cư Yên</td><td>Huyện Lương Sơn</td><td>Hòa Bình</td><td> Xã Cư Yên, Huyện Lương Sơn, Hòa Bình</td></tr><tr><td>413</td><td> Thị trấn Chi Nê</td><td>Huyện Lạc Thủy</td><td>Hòa Bình</td><td> Thị trấn Chi Nê, Huyện Lạc Thủy, Hòa Bình</td></tr><tr><td>414</td><td> Xã Thanh Hối</td><td>Huyện Tân Lạc</td><td>Hòa Bình</td><td> Xã Thanh Hối, Huyện Tân Lạc, Hòa Bình</td></tr><tr><td>415</td><td> Xã Ngọc Lương</td><td>Huyện Yên Thủy</td><td>Hòa Bình</td><td> Xã Ngọc Lương, Huyện Yên Thủy, Hòa Bình</td></tr><tr><td>416</td><td> Xã Tân Tiến</td><td>Huyện Văn Giang</td><td>Hưng Yên</td><td> Xã Tân Tiến, Huyện Văn Giang, Hưng Yên</td></tr><tr><td>417</td><td> Phường Bần Yên Nhân</td><td>Thị xã Mỹ Hào</td><td>Hưng Yên</td><td> Phường Bần Yên Nhân, Thị xã Mỹ Hào, Hưng Yên</td></tr><tr><td>418</td><td> Xã Nam Sơn</td><td>Huyện An Dương</td><td>Hải Phòng</td><td> Xã Nam Sơn, Huyện An Dương, Hải Phòng</td></tr><tr><td>419</td><td> Xã Đặng Cương</td><td>Huyện An Dương</td><td>Hải Phòng</td><td> Xã Đặng Cương, Huyện An Dương, Hải Phòng</td></tr><tr><td>420</td><td> Phường Anh Dũng</td><td>Quận Dương Kinh</td><td>Hải Phòng</td><td> Phường Anh Dũng, Quận Dương Kinh, Hải Phòng</td></tr><tr><td>421</td><td> Phường Đông Hải 1</td><td>Quận Hải An</td><td>Hải Phòng</td><td> Phường Đông Hải 1, Quận Hải An, Hải Phòng</td></tr><tr><td>422</td><td> Phường Đằng Hải</td><td>Quận Hải An</td><td>Hải Phòng</td><td> Phường Đằng Hải, Quận Hải An, Hải Phòng</td></tr><tr><td>423</td><td> Phường Đằng Lâm</td><td>Quận Hải An</td><td>Hải Phòng</td><td> Phường Đằng Lâm, Quận Hải An, Hải Phòng</td></tr><tr><td>424</td><td> Phường Quán Toan</td><td>Quận Hồng Bàng</td><td>Hải Phòng</td><td> Phường Quán Toan, Quận Hồng Bàng, Hải Phòng</td></tr><tr><td>425</td><td> Phường Nam Sơn</td><td>Quận Kiến An</td><td>Hải Phòng</td><td> Phường Nam Sơn, Quận Kiến An, Hải Phòng</td></tr><tr><td>426</td><td> Phường Trần Thành Ngọ</td><td>Quận Kiến An</td><td>Hải Phòng</td><td> Phường Trần Thành Ngọ, Quận Kiến An, Hải Phòng</td></tr><tr><td>427</td><td> Phường Dư Hàng Kênh</td><td>Quận Lê Chân</td><td>Hải Phòng</td><td> Phường Dư Hàng Kênh, Quận Lê Chân, Hải Phòng</td></tr><tr><td>428</td><td> Phường Hồ Nam</td><td>Quận Lê Chân</td><td>Hải Phòng</td><td> Phường Hồ Nam, Quận Lê Chân, Hải Phòng</td></tr><tr><td>429</td><td> Phường Máy Chai</td><td>Quận Ngô Quyền</td><td>Hải Phòng</td><td> Phường Máy Chai, Quận Ngô Quyền, Hải Phòng</td></tr><tr><td>430</td><td> Phường Vạn Mỹ</td><td>Quận Ngô Quyền</td><td>Hải Phòng</td><td> Phường Vạn Mỹ, Quận Ngô Quyền, Hải Phòng</td></tr><tr><td>431</td><td> Xã Đông Phú</td><td>Huyện Châu Thành</td><td>Hậu Giang</td><td> Xã Đông Phú, Huyện Châu Thành, Hậu Giang</td></tr><tr><td>432</td><td> Xã Tân Phú Thạnh</td><td>Huyện Châu Thành A</td><td>Hậu Giang</td><td> Xã Tân Phú Thạnh, Huyện Châu Thành A, Hậu Giang</td></tr><tr><td>433</td><td> Phường Ngã Bảy</td><td>Thành phố Ngã Bảy</td><td>Hậu Giang</td><td> Phường Ngã Bảy, Thành phố Ngã Bảy, Hậu Giang</td></tr><tr><td>434</td><td> Xã Cam Hiệp Nam</td><td>Huyện Cam Lâm</td><td>Khánh Hòa</td><td> Xã Cam Hiệp Nam, Huyện Cam Lâm, Khánh Hòa</td></tr><tr><td>435</td><td> Xã Diên Lâm</td><td>Huyện Diên Khánh</td><td>Khánh Hòa</td><td> Xã Diên Lâm, Huyện Diên Khánh, Khánh Hòa</td></tr><tr><td>436</td><td> Xã Diên Đồng</td><td>Huyện Diên Khánh</td><td>Khánh Hòa</td><td> Xã Diên Đồng, Huyện Diên Khánh, Khánh Hòa</td></tr><tr><td>437</td><td> Xã Sông Cầu</td><td>Huyện Khánh Vĩnh</td><td>Khánh Hòa</td><td> Xã Sông Cầu, Huyện Khánh Vĩnh, Khánh Hòa</td></tr><tr><td>438</td><td> Phường Lộc Thọ</td><td>Thành phố Nha Trang</td><td>Khánh Hòa</td><td> Phường Lộc Thọ, Thành phố Nha Trang, Khánh Hòa</td></tr><tr><td>439</td><td> Phường Phước Hải</td><td>Thành phố Nha Trang</td><td>Khánh Hòa</td><td> Phường Phước Hải, Thành phố Nha Trang, Khánh Hòa</td></tr><tr><td>440</td><td> Phường Phước Long</td><td>Thành phố Nha Trang</td><td>Khánh Hòa</td><td> Phường Phước Long, Thành phố Nha Trang, Khánh Hòa</td></tr><tr><td>441</td><td> Phường Vĩnh Hòa</td><td>Thành phố Nha Trang</td><td>Khánh Hòa</td><td> Phường Vĩnh Hòa, Thành phố Nha Trang, Khánh Hòa</td></tr><tr><td>442</td><td> Phường Vĩnh Hải</td><td>Thành phố Nha Trang</td><td>Khánh Hòa</td><td> Phường Vĩnh Hải, Thành phố Nha Trang, Khánh Hòa</td></tr><tr><td>443</td><td> Phường Vĩnh Nguyên</td><td>Thành phố Nha Trang</td><td>Khánh Hòa</td><td> Phường Vĩnh Nguyên, Thành phố Nha Trang, Khánh Hòa</td></tr><tr><td>444</td><td> Phường Vĩnh Phước</td><td>Thành phố Nha Trang</td><td>Khánh Hòa</td><td> Phường Vĩnh Phước, Thành phố Nha Trang, Khánh Hòa</td></tr><tr><td>445</td><td> Phường Xương Huân</td><td>Thành phố Nha Trang</td><td>Khánh Hòa</td><td> Phường Xương Huân, Thành phố Nha Trang, Khánh Hòa</td></tr><tr><td>446</td><td> Xã Phước Đồng</td><td>Thành phố Nha Trang</td><td>Khánh Hòa</td><td> Xã Phước Đồng, Thành phố Nha Trang, Khánh Hòa</td></tr><tr><td>447</td><td> Xã Vĩnh Hiệp</td><td>Thành phố Nha Trang</td><td>Khánh Hòa</td><td> Xã Vĩnh Hiệp, Thành phố Nha Trang, Khánh Hòa</td></tr><tr><td>448</td><td> Xã Vĩnh Ngọc</td><td>Thành phố Nha Trang</td><td>Khánh Hòa</td><td> Xã Vĩnh Ngọc, Thành phố Nha Trang, Khánh Hòa</td></tr><tr><td>449</td><td> Xã Ninh An</td><td>Thị xã Ninh Hòa</td><td>Khánh Hòa</td><td> Xã Ninh An, Thị xã Ninh Hòa, Khánh Hòa</td></tr><tr><td>450</td><td> Xã Ninh Phú</td><td>Thị xã Ninh Hòa</td><td>Khánh Hòa</td><td> Xã Ninh Phú, Thị xã Ninh Hòa, Khánh Hòa</td></tr><tr><td>451</td><td> Xã Ninh Sim</td><td>Thị xã Ninh Hòa</td><td>Khánh Hòa</td><td> Xã Ninh Sim, Thị xã Ninh Hòa, Khánh Hòa</td></tr><tr><td>452</td><td> Xã Ninh Xuân</td><td>Thị xã Ninh Hòa</td><td>Khánh Hòa</td><td> Xã Ninh Xuân, Thị xã Ninh Hòa, Khánh Hòa</td></tr><tr><td>453</td><td> Thị trấn Gò Quao</td><td>Huyện Gò Quao</td><td>Kiên Giang</td><td> Thị trấn Gò Quao, Huyện Gò Quao, Kiên Giang</td></tr><tr><td>454</td><td> Thị trấn Hòn Đất</td><td>Huyện Hòn Đất</td><td>Kiên Giang</td><td> Thị trấn Hòn Đất, Huyện Hòn Đất, Kiên Giang</td></tr><tr><td>455</td><td> Phường Pháo Đài</td><td>Thành phố Hà Tiên</td><td>Kiên Giang</td><td> Phường Pháo Đài, Thành phố Hà Tiên, Kiên Giang</td></tr><tr><td>456</td><td> Phường Tô Châu</td><td>Thành phố Hà Tiên</td><td>Kiên Giang</td><td> Phường Tô Châu, Thành phố Hà Tiên, Kiên Giang</td></tr><tr><td>457</td><td> Phường Đông Hồ</td><td>Thành phố Hà Tiên</td><td>Kiên Giang</td><td> Phường Đông Hồ, Thành phố Hà Tiên, Kiên Giang</td></tr><tr><td>458</td><td> Thị trấn Dương Đông</td><td>Thành phố Phú Quốc</td><td>Kiên Giang</td><td> Thị trấn Dương Đông, Thành phố Phú Quốc, Kiên Giang</td></tr><tr><td>459</td><td> Xã Dương Tơ</td><td>Thành phố Phú Quốc</td><td>Kiên Giang</td><td> Xã Dương Tơ, Thành phố Phú Quốc, Kiên Giang</td></tr><tr><td>460</td><td> Xã Gành Dầu</td><td>Thành phố Phú Quốc</td><td>Kiên Giang</td><td> Xã Gành Dầu, Thành phố Phú Quốc, Kiên Giang</td></tr><tr><td>461</td><td> Phường An Bình</td><td>Thành phố Rạch Giá</td><td>Kiên Giang</td><td> Phường An Bình, Thành phố Rạch Giá, Kiên Giang</td></tr><tr><td>462</td><td> Phường An Hòa</td><td>Thành phố Rạch Giá</td><td>Kiên Giang</td><td> Phường An Hòa, Thành phố Rạch Giá, Kiên Giang</td></tr><tr><td>463</td><td> Phường Rạch Sỏi</td><td>Thành phố Rạch Giá</td><td>Kiên Giang</td><td> Phường Rạch Sỏi, Thành phố Rạch Giá, Kiên Giang</td></tr><tr><td>464</td><td> Phường Vĩnh Lợi</td><td>Thành phố Rạch Giá</td><td>Kiên Giang</td><td> Phường Vĩnh Lợi, Thành phố Rạch Giá, Kiên Giang</td></tr><tr><td>465</td><td> Phường Vĩnh Quang</td><td>Thành phố Rạch Giá</td><td>Kiên Giang</td><td> Phường Vĩnh Quang, Thành phố Rạch Giá, Kiên Giang</td></tr><tr><td>466</td><td> Phường Vĩnh Thanh</td><td>Thành phố Rạch Giá</td><td>Kiên Giang</td><td> Phường Vĩnh Thanh, Thành phố Rạch Giá, Kiên Giang</td></tr><tr><td>467</td><td> Thị trấn Đắk Hà</td><td>Huyện Đắk Hà</td><td>Kon Tum</td><td> Thị trấn Đắk Hà, Huyện Đắk Hà, Kon Tum</td></tr><tr><td>468</td><td> Thị trấn Tân Uyên</td><td>Huyện Tân Uyên</td><td>Lai Châu</td><td> Thị trấn Tân Uyên, Huyện Tân Uyên, Lai Châu</td></tr><tr><td>469</td><td> Thị trấn Bến Lức</td><td>Huyện Bến Lức</td><td>Long An</td><td> Thị trấn Bến Lức, Huyện Bến Lức, Long An</td></tr><tr><td>470</td><td> Xã An Thạnh</td><td>Huyện Bến Lức</td><td>Long An</td><td> Xã An Thạnh, Huyện Bến Lức, Long An</td></tr><tr><td>471</td><td> Xã Bình Đức</td><td>Huyện Bến Lức</td><td>Long An</td><td> Xã Bình Đức, Huyện Bến Lức, Long An</td></tr><tr><td>472</td><td> Xã Lương Bình</td><td>Huyện Bến Lức</td><td>Long An</td><td> Xã Lương Bình, Huyện Bến Lức, Long An</td></tr><tr><td>473</td><td> Xã Lương Hòa</td><td>Huyện Bến Lức</td><td>Long An</td><td> Xã Lương Hòa, Huyện Bến Lức, Long An</td></tr><tr><td>474</td><td> Xã Mỹ Yên</td><td>Huyện Bến Lức</td><td>Long An</td><td> Xã Mỹ Yên, Huyện Bến Lức, Long An</td></tr><tr><td>475</td><td> Xã Nhựt Chánh</td><td>Huyện Bến Lức</td><td>Long An</td><td> Xã Nhựt Chánh, Huyện Bến Lức, Long An</td></tr><tr><td>476</td><td> Xã Phước Lợi</td><td>Huyện Bến Lức</td><td>Long An</td><td> Xã Phước Lợi, Huyện Bến Lức, Long An</td></tr><tr><td>477</td><td> Xã Thanh Phú</td><td>Huyện Bến Lức</td><td>Long An</td><td> Xã Thanh Phú, Huyện Bến Lức, Long An</td></tr><tr><td>478</td><td> Xã Thạnh Hòa</td><td>Huyện Bến Lức</td><td>Long An</td><td> Xã Thạnh Hòa, Huyện Bến Lức, Long An</td></tr><tr><td>479</td><td> Xã Thạnh Đức</td><td>Huyện Bến Lức</td><td>Long An</td><td> Xã Thạnh Đức, Huyện Bến Lức, Long An</td></tr><tr><td>480</td><td> Xã Tân Bửu</td><td>Huyện Bến Lức</td><td>Long An</td><td> Xã Tân Bửu, Huyện Bến Lức, Long An</td></tr><tr><td>481</td><td> Xã Bình Quới</td><td>Huyện Châu Thành</td><td>Long An</td><td> Xã Bình Quới, Huyện Châu Thành, Long An</td></tr><tr><td>482</td><td> Xã Phú Ngãi Trị</td><td>Huyện Châu Thành</td><td>Long An</td><td> Xã Phú Ngãi Trị, Huyện Châu Thành, Long An</td></tr><tr><td>483</td><td> Xã Thanh Phú Long</td><td>Huyện Châu Thành</td><td>Long An</td><td> Xã Thanh Phú Long, Huyện Châu Thành, Long An</td></tr><tr><td>484</td><td> Xã Thuận Mỹ</td><td>Huyện Châu Thành</td><td>Long An</td><td> Xã Thuận Mỹ, Huyện Châu Thành, Long An</td></tr><tr><td>485</td><td> Thị trấn Cần Giuộc</td><td>Huyện Cần Giuộc</td><td>Long An</td><td> Thị trấn Cần Giuộc, Huyện Cần Giuộc, Long An</td></tr><tr><td>486</td><td> Xã Long An</td><td>Huyện Cần Giuộc</td><td>Long An</td><td> Xã Long An, Huyện Cần Giuộc, Long An</td></tr><tr><td>487</td><td> Xã Long Hậu</td><td>Huyện Cần Giuộc</td><td>Long An</td><td> Xã Long Hậu, Huyện Cần Giuộc, Long An</td></tr><tr><td>488</td><td> Xã Long Thượng</td><td>Huyện Cần Giuộc</td><td>Long An</td><td> Xã Long Thượng, Huyện Cần Giuộc, Long An</td></tr><tr><td>489</td><td> Xã Mỹ Lộc</td><td>Huyện Cần Giuộc</td><td>Long An</td><td> Xã Mỹ Lộc, Huyện Cần Giuộc, Long An</td></tr><tr><td>490</td><td> Xã Phước Lâm</td><td>Huyện Cần Giuộc</td><td>Long An</td><td> Xã Phước Lâm, Huyện Cần Giuộc, Long An</td></tr><tr><td>491</td><td> Xã Phước Lý</td><td>Huyện Cần Giuộc</td><td>Long An</td><td> Xã Phước Lý, Huyện Cần Giuộc, Long An</td></tr><tr><td>492</td><td> Xã Tân Kim</td><td>Huyện Cần Giuộc</td><td>Long An</td><td> Xã Tân Kim, Huyện Cần Giuộc, Long An</td></tr><tr><td>493</td><td> Thị trấn Cần Đước</td><td>Huyện Cần Đước</td><td>Long An</td><td> Thị trấn Cần Đước, Huyện Cần Đước, Long An</td></tr><tr><td>494</td><td> Xã Long Cang</td><td>Huyện Cần Đước</td><td>Long An</td><td> Xã Long Cang, Huyện Cần Đước, Long An</td></tr><tr><td>495</td><td> Xã Long Hòa</td><td>Huyện Cần Đước</td><td>Long An</td><td> Xã Long Hòa, Huyện Cần Đước, Long An</td></tr><tr><td>496</td><td> Xã Long Trạch</td><td>Huyện Cần Đước</td><td>Long An</td><td> Xã Long Trạch, Huyện Cần Đước, Long An</td></tr><tr><td>497</td><td> Xã Long Định</td><td>Huyện Cần Đước</td><td>Long An</td><td> Xã Long Định, Huyện Cần Đước, Long An</td></tr><tr><td>498</td><td> Xã Phước Vân</td><td>Huyện Cần Đước</td><td>Long An</td><td> Xã Phước Vân, Huyện Cần Đước, Long An</td></tr><tr><td>499</td><td> Xã Phước Đông</td><td>Huyện Cần Đước</td><td>Long An</td><td> Xã Phước Đông, Huyện Cần Đước, Long An</td></tr><tr><td>500</td><td> Xã Tân Trạch</td><td>Huyện Cần Đước</td><td>Long An</td><td> Xã Tân Trạch, Huyện Cần Đước, Long An</td></tr><tr><td>501</td><td> Xã Tân Đông</td><td>Huyện Thạnh Hóa</td><td>Long An</td><td> Xã Tân Đông, Huyện Thạnh Hóa, Long An</td></tr><tr><td>502</td><td> Thị trấn Thủ Thừa</td><td>Huyện Thủ Thừa</td><td>Long An</td><td> Thị trấn Thủ Thừa, Huyện Thủ Thừa, Long An</td></tr><tr><td>503</td><td> Xã Long Thạnh</td><td>Huyện Thủ Thừa</td><td>Long An</td><td> Xã Long Thạnh, Huyện Thủ Thừa, Long An</td></tr><tr><td>504</td><td> Xã Mỹ Lạc</td><td>Huyện Thủ Thừa</td><td>Long An</td><td> Xã Mỹ Lạc, Huyện Thủ Thừa, Long An</td></tr><tr><td>505</td><td> Xã Tân Thành</td><td>Huyện Thủ Thừa</td><td>Long An</td><td> Xã Tân Thành, Huyện Thủ Thừa, Long An</td></tr><tr><td>506</td><td> Xã Hậu Thạnh Đông</td><td>Huyện Tân Thạnh</td><td>Long An</td><td> Xã Hậu Thạnh Đông, Huyện Tân Thạnh, Long An</td></tr><tr><td>507</td><td> Xã Bình Lãng</td><td>Huyện Tân Trụ</td><td>Long An</td><td> Xã Bình Lãng, Huyện Tân Trụ, Long An</td></tr><tr><td>508</td><td> Xã Bình Trinh Đông</td><td>Huyện Tân Trụ</td><td>Long An</td><td> Xã Bình Trinh Đông, Huyện Tân Trụ, Long An</td></tr><tr><td>509</td><td> Xã Tân Phước Tây</td><td>Huyện Tân Trụ</td><td>Long An</td><td> Xã Tân Phước Tây, Huyện Tân Trụ, Long An</td></tr><tr><td>510</td><td> Xã Đức Tân</td><td>Huyện Tân Trụ</td><td>Long An</td><td> Xã Đức Tân, Huyện Tân Trụ, Long An</td></tr><tr><td>511</td><td> Thị trấn Vĩnh Hưng</td><td>Huyện Vĩnh Hưng</td><td>Long An</td><td> Thị trấn Vĩnh Hưng, Huyện Vĩnh Hưng, Long An</td></tr><tr><td>512</td><td> Xã Mỹ Thạnh Tây</td><td>Huyện Đức Huệ</td><td>Long An</td><td> Xã Mỹ Thạnh Tây, Huyện Đức Huệ, Long An</td></tr><tr><td>513</td><td> Xã Mỹ Thạnh Đông</td><td>Huyện Đức Huệ</td><td>Long An</td><td> Xã Mỹ Thạnh Đông, Huyện Đức Huệ, Long An</td></tr><tr><td>514</td><td> Thị trấn Hậu Nghĩa</td><td>Huyện Đức Hòa</td><td>Long An</td><td> Thị trấn Hậu Nghĩa, Huyện Đức Hòa, Long An</td></tr><tr><td>515</td><td> Thị trấn Đức Hòa</td><td>Huyện Đức Hòa</td><td>Long An</td><td> Thị trấn Đức Hòa, Huyện Đức Hòa, Long An</td></tr><tr><td>516</td><td> Xã An Ninh Đông</td><td>Huyện Đức Hòa</td><td>Long An</td><td> Xã An Ninh Đông, Huyện Đức Hòa, Long An</td></tr><tr><td>517</td><td> Xã Hiệp Hòa</td><td>Huyện Đức Hòa</td><td>Long An</td><td> Xã Hiệp Hòa, Huyện Đức Hòa, Long An</td></tr><tr><td>518</td><td> Xã Hòa Khánh Nam</td><td>Huyện Đức Hòa</td><td>Long An</td><td> Xã Hòa Khánh Nam, Huyện Đức Hòa, Long An</td></tr><tr><td>519</td><td> Xã Hựu Thạnh</td><td>Huyện Đức Hòa</td><td>Long An</td><td> Xã Hựu Thạnh, Huyện Đức Hòa, Long An</td></tr><tr><td>520</td><td> Xã Mỹ Hạnh Bắc</td><td>Huyện Đức Hòa</td><td>Long An</td><td> Xã Mỹ Hạnh Bắc, Huyện Đức Hòa, Long An</td></tr><tr><td>521</td><td> Xã Mỹ Hạnh Nam</td><td>Huyện Đức Hòa</td><td>Long An</td><td> Xã Mỹ Hạnh Nam, Huyện Đức Hòa, Long An</td></tr><tr><td>522</td><td> Xã Tân Mỹ</td><td>Huyện Đức Hòa</td><td>Long An</td><td> Xã Tân Mỹ, Huyện Đức Hòa, Long An</td></tr><tr><td>523</td><td> Xã Đức Hòa Hạ</td><td>Huyện Đức Hòa</td><td>Long An</td><td> Xã Đức Hòa Hạ, Huyện Đức Hòa, Long An</td></tr><tr><td>524</td><td> Xã Đức Hòa Đông</td><td>Huyện Đức Hòa</td><td>Long An</td><td> Xã Đức Hòa Đông, Huyện Đức Hòa, Long An</td></tr><tr><td>525</td><td> Xã Đức Lập Hạ</td><td>Huyện Đức Hòa</td><td>Long An</td><td> Xã Đức Lập Hạ, Huyện Đức Hòa, Long An</td></tr><tr><td>526</td><td> Xã Đức Lập Thượng</td><td>Huyện Đức Hòa</td><td>Long An</td><td> Xã Đức Lập Thượng, Huyện Đức Hòa, Long An</td></tr><tr><td>527</td><td> Phường 2</td><td>Thành phố Tân An</td><td>Long An</td><td> Phường 2, Thành phố Tân An, Long An</td></tr><tr><td>528</td><td> Phường 3</td><td>Thành phố Tân An</td><td>Long An</td><td> Phường 3, Thành phố Tân An, Long An</td></tr><tr><td>529</td><td> Phường 4</td><td>Thành phố Tân An</td><td>Long An</td><td> Phường 4, Thành phố Tân An, Long An</td></tr><tr><td>530</td><td> Phường 5</td><td>Thành phố Tân An</td><td>Long An</td><td> Phường 5, Thành phố Tân An, Long An</td></tr><tr><td>531</td><td> Phường 6</td><td>Thành phố Tân An</td><td>Long An</td><td> Phường 6, Thành phố Tân An, Long An</td></tr><tr><td>532</td><td> Phường 7</td><td>Thành phố Tân An</td><td>Long An</td><td> Phường 7, Thành phố Tân An, Long An</td></tr><tr><td>533</td><td> Phường Khánh Hậu</td><td>Thành phố Tân An</td><td>Long An</td><td> Phường Khánh Hậu, Thành phố Tân An, Long An</td></tr><tr><td>534</td><td> Phường Tân Khánh</td><td>Thành phố Tân An</td><td>Long An</td><td> Phường Tân Khánh, Thành phố Tân An, Long An</td></tr><tr><td>535</td><td> Xã Bình Tâm</td><td>Thành phố Tân An</td><td>Long An</td><td> Xã Bình Tâm, Thành phố Tân An, Long An</td></tr><tr><td>536</td><td> Xã Hướng Thọ Phú</td><td>Thành phố Tân An</td><td>Long An</td><td> Xã Hướng Thọ Phú, Thành phố Tân An, Long An</td></tr><tr><td>537</td><td> Xã Lợi Bình Nhơn</td><td>Thành phố Tân An</td><td>Long An</td><td> Xã Lợi Bình Nhơn, Thành phố Tân An, Long An</td></tr><tr><td>538</td><td> Xã Nhơn Thạnh Trung</td><td>Thành phố Tân An</td><td>Long An</td><td> Xã Nhơn Thạnh Trung, Thành phố Tân An, Long An</td></tr><tr><td>539</td><td> Thị trấn Lộc Thắng</td><td>Huyện Bảo Lâm</td><td>Lâm Đồng</td><td> Thị trấn Lộc Thắng, Huyện Bảo Lâm, Lâm Đồng</td></tr><tr><td>540</td><td> Xã B' Lá</td><td>Huyện Bảo Lâm</td><td>Lâm Đồng</td><td> Xã B' Lá, Huyện Bảo Lâm, Lâm Đồng</td></tr><tr><td>541</td><td> Xã Lộc An</td><td>Huyện Bảo Lâm</td><td>Lâm Đồng</td><td> Xã Lộc An, Huyện Bảo Lâm, Lâm Đồng</td></tr><tr><td>542</td><td> Xã Lộc Bắc</td><td>Huyện Bảo Lâm</td><td>Lâm Đồng</td><td> Xã Lộc Bắc, Huyện Bảo Lâm, Lâm Đồng</td></tr><tr><td>543</td><td> Xã Lộc Ngãi</td><td>Huyện Bảo Lâm</td><td>Lâm Đồng</td><td> Xã Lộc Ngãi, Huyện Bảo Lâm, Lâm Đồng</td></tr><tr><td>544</td><td> Xã Lộc Quảng</td><td>Huyện Bảo Lâm</td><td>Lâm Đồng</td><td> Xã Lộc Quảng, Huyện Bảo Lâm, Lâm Đồng</td></tr><tr><td>545</td><td> Xã Lộc Thành</td><td>Huyện Bảo Lâm</td><td>Lâm Đồng</td><td> Xã Lộc Thành, Huyện Bảo Lâm, Lâm Đồng</td></tr><tr><td>546</td><td> Xã Lộc Tân</td><td>Huyện Bảo Lâm</td><td>Lâm Đồng</td><td> Xã Lộc Tân, Huyện Bảo Lâm, Lâm Đồng</td></tr><tr><td>547</td><td> Xã Lộc Đức</td><td>Huyện Bảo Lâm</td><td>Lâm Đồng</td><td> Xã Lộc Đức, Huyện Bảo Lâm, Lâm Đồng</td></tr><tr><td>548</td><td> Xã Tân Lạc</td><td>Huyện Bảo Lâm</td><td>Lâm Đồng</td><td> Xã Tân Lạc, Huyện Bảo Lâm, Lâm Đồng</td></tr><tr><td>549</td><td> Xã Đức Phổ</td><td>Huyện Cát Tiên</td><td>Lâm Đồng</td><td> Xã Đức Phổ, Huyện Cát Tiên, Lâm Đồng</td></tr><tr><td>550</td><td> Thị trấn Di Linh</td><td>Huyện Di Linh</td><td>Lâm Đồng</td><td> Thị trấn Di Linh, Huyện Di Linh, Lâm Đồng</td></tr><tr><td>551</td><td> Xã Tân Châu</td><td>Huyện Di Linh</td><td>Lâm Đồng</td><td> Xã Tân Châu, Huyện Di Linh, Lâm Đồng</td></tr><tr><td>552</td><td> Xã Đinh Trang Thượng</td><td>Huyện Di Linh</td><td>Lâm Đồng</td><td> Xã Đinh Trang Thượng, Huyện Di Linh, Lâm Đồng</td></tr><tr><td>553</td><td> Thị trấn Nam Ban</td><td>Huyện Lâm Hà</td><td>Lâm Đồng</td><td> Thị trấn Nam Ban, Huyện Lâm Hà, Lâm Đồng</td></tr><tr><td>554</td><td> Thị trấn Đinh Văn</td><td>Huyện Lâm Hà</td><td>Lâm Đồng</td><td> Thị trấn Đinh Văn, Huyện Lâm Hà, Lâm Đồng</td></tr><tr><td>555</td><td> Xã Gia Lâm</td><td>Huyện Lâm Hà</td><td>Lâm Đồng</td><td> Xã Gia Lâm, Huyện Lâm Hà, Lâm Đồng</td></tr><tr><td>556</td><td> Xã Hoài Đức</td><td>Huyện Lâm Hà</td><td>Lâm Đồng</td><td> Xã Hoài Đức, Huyện Lâm Hà, Lâm Đồng</td></tr><tr><td>557</td><td> Xã Mê Linh</td><td>Huyện Lâm Hà</td><td>Lâm Đồng</td><td> Xã Mê Linh, Huyện Lâm Hà, Lâm Đồng</td></tr><tr><td>558</td><td> Xã Nam Hà</td><td>Huyện Lâm Hà</td><td>Lâm Đồng</td><td> Xã Nam Hà, Huyện Lâm Hà, Lâm Đồng</td></tr><tr><td>559</td><td> Xã Phúc Thọ</td><td>Huyện Lâm Hà</td><td>Lâm Đồng</td><td> Xã Phúc Thọ, Huyện Lâm Hà, Lâm Đồng</td></tr><tr><td>560</td><td> Xã Tân Văn</td><td>Huyện Lâm Hà</td><td>Lâm Đồng</td><td> Xã Tân Văn, Huyện Lâm Hà, Lâm Đồng</td></tr><tr><td>561</td><td> Xã Đông Thanh</td><td>Huyện Lâm Hà</td><td>Lâm Đồng</td><td> Xã Đông Thanh, Huyện Lâm Hà, Lâm Đồng</td></tr><tr><td>562</td><td> Thị trấn Ma Đa Guôi</td><td>Huyện Đạ Huoai</td><td>Lâm Đồng</td><td> Thị trấn Ma Đa Guôi, Huyện Đạ Huoai, Lâm Đồng</td></tr><tr><td>563</td><td> Xã Phước Lộc</td><td>Huyện Đạ Huoai</td><td>Lâm Đồng</td><td> Xã Phước Lộc, Huyện Đạ Huoai, Lâm Đồng</td></tr><tr><td>564</td><td> Xã Đạ Ploa</td><td>Huyện Đạ Huoai</td><td>Lâm Đồng</td><td> Xã Đạ Ploa, Huyện Đạ Huoai, Lâm Đồng</td></tr><tr><td>565</td><td> Thị trấn Liên Nghĩa</td><td>Huyện Đức Trọng</td><td>Lâm Đồng</td><td> Thị trấn Liên Nghĩa, Huyện Đức Trọng, Lâm Đồng</td></tr><tr><td>566</td><td> Phường 1</td><td>Thành phố Bảo Lộc</td><td>Lâm Đồng</td><td> Phường 1, Thành phố Bảo Lộc, Lâm Đồng</td></tr><tr><td>567</td><td> Phường 2</td><td>Thành phố Bảo Lộc</td><td>Lâm Đồng</td><td> Phường 2, Thành phố Bảo Lộc, Lâm Đồng</td></tr><tr><td>568</td><td> Phường Lộc Phát</td><td>Thành phố Bảo Lộc</td><td>Lâm Đồng</td><td> Phường Lộc Phát, Thành phố Bảo Lộc, Lâm Đồng</td></tr><tr><td>569</td><td> Phường Lộc Sơn</td><td>Thành phố Bảo Lộc</td><td>Lâm Đồng</td><td> Phường Lộc Sơn, Thành phố Bảo Lộc, Lâm Đồng</td></tr><tr><td>570</td><td> Xã Lộc Châu</td><td>Thành phố Bảo Lộc</td><td>Lâm Đồng</td><td> Xã Lộc Châu, Thành phố Bảo Lộc, Lâm Đồng</td></tr><tr><td>571</td><td> Xã Lộc Nga</td><td>Thành phố Bảo Lộc</td><td>Lâm Đồng</td><td> Xã Lộc Nga, Thành phố Bảo Lộc, Lâm Đồng</td></tr><tr><td>572</td><td> Xã Đại Lào</td><td>Thành phố Bảo Lộc</td><td>Lâm Đồng</td><td> Xã Đại Lào, Thành phố Bảo Lộc, Lâm Đồng</td></tr><tr><td>573</td><td> Xã Đạm Bri</td><td>Thành phố Bảo Lộc</td><td>Lâm Đồng</td><td> Xã Đạm Bri, Thành phố Bảo Lộc, Lâm Đồng</td></tr><tr><td>574</td><td> Phường 1</td><td>Thành phố Đà Lạt</td><td>Lâm Đồng</td><td> Phường 1, Thành phố Đà Lạt, Lâm Đồng</td></tr><tr><td>575</td><td> Phường 10</td><td>Thành phố Đà Lạt</td><td>Lâm Đồng</td><td> Phường 10, Thành phố Đà Lạt, Lâm Đồng</td></tr><tr><td>576</td><td> Phường 11</td><td>Thành phố Đà Lạt</td><td>Lâm Đồng</td><td> Phường 11, Thành phố Đà Lạt, Lâm Đồng</td></tr><tr><td>577</td><td> Phường 2</td><td>Thành phố Đà Lạt</td><td>Lâm Đồng</td><td> Phường 2, Thành phố Đà Lạt, Lâm Đồng</td></tr><tr><td>578</td><td> Phường 3</td><td>Thành phố Đà Lạt</td><td>Lâm Đồng</td><td> Phường 3, Thành phố Đà Lạt, Lâm Đồng</td></tr><tr><td>579</td><td> Phường 4</td><td>Thành phố Đà Lạt</td><td>Lâm Đồng</td><td> Phường 4, Thành phố Đà Lạt, Lâm Đồng</td></tr><tr><td>580</td><td> Phường 5</td><td>Thành phố Đà Lạt</td><td>Lâm Đồng</td><td> Phường 5, Thành phố Đà Lạt, Lâm Đồng</td></tr><tr><td>581</td><td> Phường 6</td><td>Thành phố Đà Lạt</td><td>Lâm Đồng</td><td> Phường 6, Thành phố Đà Lạt, Lâm Đồng</td></tr><tr><td>582</td><td> Phường 7</td><td>Thành phố Đà Lạt</td><td>Lâm Đồng</td><td> Phường 7, Thành phố Đà Lạt, Lâm Đồng</td></tr><tr><td>583</td><td> Phường 8</td><td>Thành phố Đà Lạt</td><td>Lâm Đồng</td><td> Phường 8, Thành phố Đà Lạt, Lâm Đồng</td></tr><tr><td>584</td><td> Xã Tà Nung</td><td>Thành phố Đà Lạt</td><td>Lâm Đồng</td><td> Xã Tà Nung, Thành phố Đà Lạt, Lâm Đồng</td></tr><tr><td>585</td><td> Xã Xuân Thọ</td><td>Thành phố Đà Lạt</td><td>Lâm Đồng</td><td> Xã Xuân Thọ, Thành phố Đà Lạt, Lâm Đồng</td></tr><tr><td>586</td><td> Xã Xuân Trường</td><td>Thành phố Đà Lạt</td><td>Lâm Đồng</td><td> Xã Xuân Trường, Thành phố Đà Lạt, Lâm Đồng</td></tr><tr><td>587</td><td> Xã Phước Sơn</td><td>Huyện Ninh Phước</td><td>Ninh Thuận</td><td> Xã Phước Sơn, Huyện Ninh Phước, Ninh Thuận</td></tr><tr><td>588</td><td> Phường Mỹ Hải</td><td>Thành phố Phan Rang-Tháp Chàm</td><td>Ninh Thuận</td><td> Phường Mỹ Hải, Thành phố Phan Rang-Tháp Chàm, Ninh Thuận</td></tr><tr><td>589</td><td> Phường Thanh Sơn</td><td>Thành phố Phan Rang-Tháp Chàm</td><td>Ninh Thuận</td><td> Phường Thanh Sơn, Thành phố Phan Rang-Tháp Chàm, Ninh Thuận</td></tr><tr><td>590</td><td> Phường Tấn Tài</td><td>Thành phố Phan Rang-Tháp Chàm</td><td>Ninh Thuận</td><td> Phường Tấn Tài, Thành phố Phan Rang-Tháp Chàm, Ninh Thuận</td></tr><tr><td>591</td><td> Phường Phú Thạnh</td><td>Thành phố Tuy Hòa</td><td>Phú Yên</td><td> Phường Phú Thạnh, Thành phố Tuy Hòa, Phú Yên</td></tr><tr><td>592</td><td> Phường Hòa Hiệp Trung</td><td>Thị xã Đông Hòa</td><td>Phú Yên</td><td> Phường Hòa Hiệp Trung, Thị xã Đông Hòa, Phú Yên</td></tr><tr><td>593</td><td> Xã Hòa Tâm</td><td>Thị xã Đông Hòa</td><td>Phú Yên</td><td> Xã Hòa Tâm, Thị xã Đông Hòa, Phú Yên</td></tr><tr><td>594</td><td> Phường Thanh Hà</td><td>Thành phố Hội An</td><td>Quảng Nam</td><td> Phường Thanh Hà, Thành phố Hội An, Quảng Nam</td></tr><tr><td>595</td><td> Xã Cẩm Thanh</td><td>Thành phố Hội An</td><td>Quảng Nam</td><td> Xã Cẩm Thanh, Thành phố Hội An, Quảng Nam</td></tr><tr><td>596</td><td> Phường Vĩnh Điện</td><td>Thị xã Điện Bàn</td><td>Quảng Nam</td><td> Phường Vĩnh Điện, Thị xã Điện Bàn, Quảng Nam</td></tr><tr><td>597</td><td> Phường Điện Nam Bắc</td><td>Thị xã Điện Bàn</td><td>Quảng Nam</td><td> Phường Điện Nam Bắc, Thị xã Điện Bàn, Quảng Nam</td></tr><tr><td>598</td><td> Phường Điện Ngọc</td><td>Thị xã Điện Bàn</td><td>Quảng Nam</td><td> Phường Điện Ngọc, Thị xã Điện Bàn, Quảng Nam</td></tr><tr><td>599</td><td> Xã Điện Quang</td><td>Thị xã Điện Bàn</td><td>Quảng Nam</td><td> Xã Điện Quang, Thị xã Điện Bàn, Quảng Nam</td></tr><tr><td>600</td><td> Xã Điện Thọ</td><td>Thị xã Điện Bàn</td><td>Quảng Nam</td><td> Xã Điện Thọ, Thị xã Điện Bàn, Quảng Nam</td></tr><tr><td>601</td><td> Xã Điện Tiến</td><td>Thị xã Điện Bàn</td><td>Quảng Nam</td><td> Xã Điện Tiến, Thị xã Điện Bàn, Quảng Nam</td></tr><tr><td>602</td><td> Xã Đức Minh</td><td>Huyện Mộ Đức</td><td>Quảng Ngãi</td><td> Xã Đức Minh, Huyện Mộ Đức, Quảng Ngãi</td></tr><tr><td>603</td><td> Xã Nghĩa Hòa</td><td>Huyện Tư Nghĩa</td><td>Quảng Ngãi</td><td> Xã Nghĩa Hòa, Huyện Tư Nghĩa, Quảng Ngãi</td></tr><tr><td>604</td><td> Xã Nghĩa Thắng</td><td>Huyện Tư Nghĩa</td><td>Quảng Ngãi</td><td> Xã Nghĩa Thắng, Huyện Tư Nghĩa, Quảng Ngãi</td></tr><tr><td>605</td><td> Xã Tịnh Ấn Tây</td><td>Thành phố Quảng Ngãi</td><td>Quảng Ngãi</td><td> Xã Tịnh Ấn Tây, Thành phố Quảng Ngãi, Quảng Ngãi</td></tr><tr><td>606</td><td> Phường Đại Yên</td><td>Thành phố Hạ Long</td><td>Quảng Ninh</td><td> Phường Đại Yên, Thành phố Hạ Long, Quảng Ninh</td></tr><tr><td>607</td><td> Phường Cộng Hòa</td><td>Thị xã Quảng Yên</td><td>Quảng Ninh</td><td> Phường Cộng Hòa, Thị xã Quảng Yên, Quảng Ninh</td></tr><tr><td>608</td><td> Phường Hà An</td><td>Thị xã Quảng Yên</td><td>Quảng Ninh</td><td> Phường Hà An, Thị xã Quảng Yên, Quảng Ninh</td></tr><tr><td>609</td><td> Phường 2</td><td>Thành phố Đông Hà</td><td>Quảng Trị</td><td> Phường 2, Thành phố Đông Hà, Quảng Trị</td></tr><tr><td>610</td><td> Xã Thạnh Thới An</td><td>Huyện Trần Đề</td><td>Sóc Trăng</td><td> Xã Thạnh Thới An, Huyện Trần Đề, Sóc Trăng</td></tr><tr><td>611</td><td> Phường 1</td><td>Thành phố Sóc Trăng</td><td>Sóc Trăng</td><td> Phường 1, Thành phố Sóc Trăng, Sóc Trăng</td></tr><tr><td>612</td><td> Phường 2</td><td>Thành phố Sóc Trăng</td><td>Sóc Trăng</td><td> Phường 2, Thành phố Sóc Trăng, Sóc Trăng</td></tr><tr><td>613</td><td> Phường 6</td><td>Thành phố Sóc Trăng</td><td>Sóc Trăng</td><td> Phường 6, Thành phố Sóc Trăng, Sóc Trăng</td></tr><tr><td>614</td><td> Phường 7</td><td>Thành phố Sóc Trăng</td><td>Sóc Trăng</td><td> Phường 7, Thành phố Sóc Trăng, Sóc Trăng</td></tr><tr><td>615</td><td> Phường 2</td><td>Thị xã Vĩnh Châu</td><td>Sóc Trăng</td><td> Phường 2, Thị xã Vĩnh Châu, Sóc Trăng</td></tr><tr><td>616</td><td> Xã Hoằng Kim</td><td>Huyện Hoằng Hóa</td><td>Thanh Hóa</td><td> Xã Hoằng Kim, Huyện Hoằng Hóa, Thanh Hóa</td></tr><tr><td>617</td><td> Xã Thành Minh</td><td>Huyện Thạch Thành</td><td>Thanh Hóa</td><td> Xã Thành Minh, Huyện Thạch Thành, Thanh Hóa</td></tr><tr><td>618</td><td> Xã Thạch Quảng</td><td>Huyện Thạch Thành</td><td>Thanh Hóa</td><td> Xã Thạch Quảng, Huyện Thạch Thành, Thanh Hóa</td></tr><tr><td>619</td><td> Xã Thọ Tân</td><td>Huyện Triệu Sơn</td><td>Thanh Hóa</td><td> Xã Thọ Tân, Huyện Triệu Sơn, Thanh Hóa</td></tr><tr><td>620</td><td> Xã Đông Khê</td><td>Huyện Đông Sơn</td><td>Thanh Hóa</td><td> Xã Đông Khê, Huyện Đông Sơn, Thanh Hóa</td></tr><tr><td>621</td><td> Phường Lam Sơn</td><td>Thành phố Thanh Hóa</td><td>Thanh Hóa</td><td> Phường Lam Sơn, Thành phố Thanh Hóa, Thanh Hóa</td></tr><tr><td>622</td><td> Phường Quảng Thành</td><td>Thành phố Thanh Hóa</td><td>Thanh Hóa</td><td> Phường Quảng Thành, Thành phố Thanh Hóa, Thanh Hóa</td></tr><tr><td>623</td><td> Phường Đông Hải</td><td>Thành phố Thanh Hóa</td><td>Thanh Hóa</td><td> Phường Đông Hải, Thành phố Thanh Hóa, Thanh Hóa</td></tr><tr><td>624</td><td> Xã Quảng Thịnh</td><td>Thành phố Thanh Hóa</td><td>Thanh Hóa</td><td> Xã Quảng Thịnh, Thành phố Thanh Hóa, Thanh Hóa</td></tr><tr><td>625</td><td> Xã Quảng Đông</td><td>Thành phố Thanh Hóa</td><td>Thanh Hóa</td><td> Xã Quảng Đông, Thành phố Thanh Hóa, Thanh Hóa</td></tr><tr><td>626</td><td> Xã Đông Tân</td><td>Thành phố Thanh Hóa</td><td>Thanh Hóa</td><td> Xã Đông Tân, Thành phố Thanh Hóa, Thanh Hóa</td></tr><tr><td>627</td><td> Phường Lê Hồng Phong</td><td>Thành phố Thái Bình</td><td>Thái Bình</td><td> Phường Lê Hồng Phong, Thành phố Thái Bình, Thái Bình</td></tr><tr><td>628</td><td> Phường Thịnh Đán</td><td>Thành phố Thái Nguyên</td><td>Thái Nguyên</td><td> Phường Thịnh Đán, Thành phố Thái Nguyên, Thái Nguyên</td></tr><tr><td>629</td><td> Xã Phong Chương</td><td>Huyện Phong Điền</td><td>Thừa Thiên Huế</td><td> Xã Phong Chương, Huyện Phong Điền, Thừa Thiên Huế</td></tr><tr><td>630</td><td> Xã Quảng Thọ</td><td>Huyện Quảng Điền</td><td>Thừa Thiên Huế</td><td> Xã Quảng Thọ, Huyện Quảng Điền, Thừa Thiên Huế</td></tr><tr><td>631</td><td> Phường An Tây</td><td>Thành phố Huế</td><td>Thừa Thiên Huế</td><td> Phường An Tây, Thành phố Huế, Thừa Thiên Huế</td></tr><tr><td>632</td><td> Phường An Đông</td><td>Thành phố Huế</td><td>Thừa Thiên Huế</td><td> Phường An Đông, Thành phố Huế, Thừa Thiên Huế</td></tr><tr><td>633</td><td> Phường Phước Vĩnh</td><td>Thành phố Huế</td><td>Thừa Thiên Huế</td><td> Phường Phước Vĩnh, Thành phố Huế, Thừa Thiên Huế</td></tr><tr><td>634</td><td> Phường Thuận Lộc</td><td>Thành phố Huế</td><td>Thừa Thiên Huế</td><td> Phường Thuận Lộc, Thành phố Huế, Thừa Thiên Huế</td></tr><tr><td>635</td><td> Phường Trường An</td><td>Thành phố Huế</td><td>Thừa Thiên Huế</td><td> Phường Trường An, Thành phố Huế, Thừa Thiên Huế</td></tr><tr><td>636</td><td> Phường Vĩ Dạ</td><td>Thành phố Huế</td><td>Thừa Thiên Huế</td><td> Phường Vĩ Dạ, Thành phố Huế, Thừa Thiên Huế</td></tr><tr><td>637</td><td> Phường Vĩnh Ninh</td><td>Thành phố Huế</td><td>Thừa Thiên Huế</td><td> Phường Vĩnh Ninh, Thành phố Huế, Thừa Thiên Huế</td></tr><tr><td>638</td><td> Phường Xuân Phú</td><td>Thành phố Huế</td><td>Thừa Thiên Huế</td><td> Phường Xuân Phú, Thành phố Huế, Thừa Thiên Huế</td></tr><tr><td>639</td><td> Phường Phú Bài</td><td>Thị xã Hương Thủy</td><td>Thừa Thiên Huế</td><td> Phường Phú Bài, Thị xã Hương Thủy, Thừa Thiên Huế</td></tr><tr><td>640</td><td> Phường Thủy Dương</td><td>Thị xã Hương Thủy</td><td>Thừa Thiên Huế</td><td> Phường Thủy Dương, Thị xã Hương Thủy, Thừa Thiên Huế</td></tr><tr><td>641</td><td> Xã Phú An</td><td>Huyện Cai Lậy</td><td>Tiền Giang</td><td> Xã Phú An, Huyện Cai Lậy, Tiền Giang</td></tr><tr><td>642</td><td> Xã Long Định</td><td>Huyện Châu Thành</td><td>Tiền Giang</td><td> Xã Long Định, Huyện Châu Thành, Tiền Giang</td></tr><tr><td>643</td><td> Xã Tam Hiệp</td><td>Huyện Châu Thành</td><td>Tiền Giang</td><td> Xã Tam Hiệp, Huyện Châu Thành, Tiền Giang</td></tr><tr><td>644</td><td> Xã Thân Cửu Nghĩa</td><td>Huyện Châu Thành</td><td>Tiền Giang</td><td> Xã Thân Cửu Nghĩa, Huyện Châu Thành, Tiền Giang</td></tr><tr><td>645</td><td> Xã Tân Lý Đông</td><td>Huyện Châu Thành</td><td>Tiền Giang</td><td> Xã Tân Lý Đông, Huyện Châu Thành, Tiền Giang</td></tr><tr><td>646</td><td> Xã Vĩnh Kim</td><td>Huyện Châu Thành</td><td>Tiền Giang</td><td> Xã Vĩnh Kim, Huyện Châu Thành, Tiền Giang</td></tr><tr><td>647</td><td> Xã Bình Ninh</td><td>Huyện Chợ Gạo</td><td>Tiền Giang</td><td> Xã Bình Ninh, Huyện Chợ Gạo, Tiền Giang</td></tr><tr><td>648</td><td> Xã Hòa Định</td><td>Huyện Chợ Gạo</td><td>Tiền Giang</td><td> Xã Hòa Định, Huyện Chợ Gạo, Tiền Giang</td></tr><tr><td>649</td><td> Xã Long Bình Điền</td><td>Huyện Chợ Gạo</td><td>Tiền Giang</td><td> Xã Long Bình Điền, Huyện Chợ Gạo, Tiền Giang</td></tr><tr><td>650</td><td> Xã Lương Hòa Lạc</td><td>Huyện Chợ Gạo</td><td>Tiền Giang</td><td> Xã Lương Hòa Lạc, Huyện Chợ Gạo, Tiền Giang</td></tr><tr><td>651</td><td> Xã Quơn Long</td><td>Huyện Chợ Gạo</td><td>Tiền Giang</td><td> Xã Quơn Long, Huyện Chợ Gạo, Tiền Giang</td></tr><tr><td>652</td><td> Xã Tân Bình Thạnh</td><td>Huyện Chợ Gạo</td><td>Tiền Giang</td><td> Xã Tân Bình Thạnh, Huyện Chợ Gạo, Tiền Giang</td></tr><tr><td>653</td><td> Xã Tân Thuận Bình</td><td>Huyện Chợ Gạo</td><td>Tiền Giang</td><td> Xã Tân Thuận Bình, Huyện Chợ Gạo, Tiền Giang</td></tr><tr><td>654</td><td> Xã Bình Ân</td><td>Huyện Gò Công Đông</td><td>Tiền Giang</td><td> Xã Bình Ân, Huyện Gò Công Đông, Tiền Giang</td></tr><tr><td>655</td><td> Xã Tân Thành</td><td>Huyện Gò Công Đông</td><td>Tiền Giang</td><td> Xã Tân Thành, Huyện Gò Công Đông, Tiền Giang</td></tr><tr><td>656</td><td> Xã Tân Thới</td><td>Huyện Tân Phú Đông</td><td>Tiền Giang</td><td> Xã Tân Thới, Huyện Tân Phú Đông, Tiền Giang</td></tr><tr><td>657</td><td> Thị trấn Mỹ Phước</td><td>Huyện Tân Phước</td><td>Tiền Giang</td><td> Thị trấn Mỹ Phước, Huyện Tân Phước, Tiền Giang</td></tr><tr><td>658</td><td> Xã Phước Lập</td><td>Huyện Tân Phước</td><td>Tiền Giang</td><td> Xã Phước Lập, Huyện Tân Phước, Tiền Giang</td></tr><tr><td>659</td><td> Xã Thạnh Mỹ</td><td>Huyện Tân Phước</td><td>Tiền Giang</td><td> Xã Thạnh Mỹ, Huyện Tân Phước, Tiền Giang</td></tr><tr><td>660</td><td> Xã Tân Hòa Đông</td><td>Huyện Tân Phước</td><td>Tiền Giang</td><td> Xã Tân Hòa Đông, Huyện Tân Phước, Tiền Giang</td></tr><tr><td>661</td><td> Phường 3</td><td>Thành phố Mỹ Tho</td><td>Tiền Giang</td><td> Phường 3, Thành phố Mỹ Tho, Tiền Giang</td></tr><tr><td>662</td><td> Xã Thới Sơn</td><td>Thành phố Mỹ Tho</td><td>Tiền Giang</td><td> Xã Thới Sơn, Thành phố Mỹ Tho, Tiền Giang</td></tr><tr><td>663</td><td> Xã Trung An</td><td>Thành phố Mỹ Tho</td><td>Tiền Giang</td><td> Xã Trung An, Thành phố Mỹ Tho, Tiền Giang</td></tr><tr><td>664</td><td> Xã Tân Mỹ Chánh</td><td>Thành phố Mỹ Tho</td><td>Tiền Giang</td><td> Xã Tân Mỹ Chánh, Thành phố Mỹ Tho, Tiền Giang</td></tr><tr><td>665</td><td> Phường 1</td><td>Thị xã Gò Công</td><td>Tiền Giang</td><td> Phường 1, Thị xã Gò Công, Tiền Giang</td></tr><tr><td>666</td><td> Phường 3</td><td>Thị xã Gò Công</td><td>Tiền Giang</td><td> Phường 3, Thị xã Gò Công, Tiền Giang</td></tr><tr><td>667</td><td> Phường 4</td><td>Thị xã Gò Công</td><td>Tiền Giang</td><td> Phường 4, Thị xã Gò Công, Tiền Giang</td></tr><tr><td>668</td><td> Xã Bình Đông</td><td>Thị xã Gò Công</td><td>Tiền Giang</td><td> Xã Bình Đông, Thị xã Gò Công, Tiền Giang</td></tr><tr><td>669</td><td> Xã Tân Trung</td><td>Thị xã Gò Công</td><td>Tiền Giang</td><td> Xã Tân Trung, Thị xã Gò Công, Tiền Giang</td></tr><tr><td>670</td><td> Thị trấn Tân Túc</td><td>Huyện Bình Chánh</td><td>Tp Hồ Chí Minh</td><td> Thị trấn Tân Túc, Huyện Bình Chánh, Tp Hồ Chí Minh</td></tr><tr><td>671</td><td> Xã An Phú Tây</td><td>Huyện Bình Chánh</td><td>Tp Hồ Chí Minh</td><td> Xã An Phú Tây, Huyện Bình Chánh, Tp Hồ Chí Minh</td></tr><tr><td>672</td><td> Xã Bình Chánh</td><td>Huyện Bình Chánh</td><td>Tp Hồ Chí Minh</td><td> Xã Bình Chánh, Huyện Bình Chánh, Tp Hồ Chí Minh</td></tr><tr><td>673</td><td> Xã Bình Hưng</td><td>Huyện Bình Chánh</td><td>Tp Hồ Chí Minh</td><td> Xã Bình Hưng, Huyện Bình Chánh, Tp Hồ Chí Minh</td></tr><tr><td>674</td><td> Xã Bình Lợi</td><td>Huyện Bình Chánh</td><td>Tp Hồ Chí Minh</td><td> Xã Bình Lợi, Huyện Bình Chánh, Tp Hồ Chí Minh</td></tr><tr><td>675</td><td> Xã Hưng Long</td><td>Huyện Bình Chánh</td><td>Tp Hồ Chí Minh</td><td> Xã Hưng Long, Huyện Bình Chánh, Tp Hồ Chí Minh</td></tr><tr><td>676</td><td> Xã Lê Minh Xuân</td><td>Huyện Bình Chánh</td><td>Tp Hồ Chí Minh</td><td> Xã Lê Minh Xuân, Huyện Bình Chánh, Tp Hồ Chí Minh</td></tr><tr><td>677</td><td> Xã Phong Phú</td><td>Huyện Bình Chánh</td><td>Tp Hồ Chí Minh</td><td> Xã Phong Phú, Huyện Bình Chánh, Tp Hồ Chí Minh</td></tr><tr><td>678</td><td> Xã Phạm Văn Hai</td><td>Huyện Bình Chánh</td><td>Tp Hồ Chí Minh</td><td> Xã Phạm Văn Hai, Huyện Bình Chánh, Tp Hồ Chí Minh</td></tr><tr><td>679</td><td> Xã Quy Đức</td><td>Huyện Bình Chánh</td><td>Tp Hồ Chí Minh</td><td> Xã Quy Đức, Huyện Bình Chánh, Tp Hồ Chí Minh</td></tr><tr><td>680</td><td> Xã Tân Kiên</td><td>Huyện Bình Chánh</td><td>Tp Hồ Chí Minh</td><td> Xã Tân Kiên, Huyện Bình Chánh, Tp Hồ Chí Minh</td></tr><tr><td>681</td><td> Xã Tân Nhựt</td><td>Huyện Bình Chánh</td><td>Tp Hồ Chí Minh</td><td> Xã Tân Nhựt, Huyện Bình Chánh, Tp Hồ Chí Minh</td></tr><tr><td>682</td><td> Xã Tân Quý Tây</td><td>Huyện Bình Chánh</td><td>Tp Hồ Chí Minh</td><td> Xã Tân Quý Tây, Huyện Bình Chánh, Tp Hồ Chí Minh</td></tr><tr><td>683</td><td> Xã Vĩnh Lộc A</td><td>Huyện Bình Chánh</td><td>Tp Hồ Chí Minh</td><td> Xã Vĩnh Lộc A, Huyện Bình Chánh, Tp Hồ Chí Minh</td></tr><tr><td>684</td><td> Xã Vĩnh Lộc B</td><td>Huyện Bình Chánh</td><td>Tp Hồ Chí Minh</td><td> Xã Vĩnh Lộc B, Huyện Bình Chánh, Tp Hồ Chí Minh</td></tr><tr><td>685</td><td> Xã Đa Phước</td><td>Huyện Bình Chánh</td><td>Tp Hồ Chí Minh</td><td> Xã Đa Phước, Huyện Bình Chánh, Tp Hồ Chí Minh</td></tr><tr><td>686</td><td>bình chánh</td><td>Huyện Bình Chánh</td><td>Tp Hồ Chí Minh</td><td>bình chánh, Huyện Bình Chánh, Tp Hồ Chí Minh</td></tr><tr><td>687</td><td> Thị trấn Cần Thạnh</td><td>Huyện Cần Giờ</td><td>Tp Hồ Chí Minh</td><td> Thị trấn Cần Thạnh, Huyện Cần Giờ, Tp Hồ Chí Minh</td></tr><tr><td>688</td><td> Xã Bình Khánh</td><td>Huyện Cần Giờ</td><td>Tp Hồ Chí Minh</td><td> Xã Bình Khánh, Huyện Cần Giờ, Tp Hồ Chí Minh</td></tr><tr><td>689</td><td> Xã Tam Thôn Hiệp</td><td>Huyện Cần Giờ</td><td>Tp Hồ Chí Minh</td><td> Xã Tam Thôn Hiệp, Huyện Cần Giờ, Tp Hồ Chí Minh</td></tr><tr><td>690</td><td> Thị trấn Củ Chi</td><td>Huyện Củ Chi</td><td>Tp Hồ Chí Minh</td><td> Thị trấn Củ Chi, Huyện Củ Chi, Tp Hồ Chí Minh</td></tr><tr><td>691</td><td> Xã An Nhơn Tây</td><td>Huyện Củ Chi</td><td>Tp Hồ Chí Minh</td><td> Xã An Nhơn Tây, Huyện Củ Chi, Tp Hồ Chí Minh</td></tr><tr><td>692</td><td> Xã An Phú</td><td>Huyện Củ Chi</td><td>Tp Hồ Chí Minh</td><td> Xã An Phú, Huyện Củ Chi, Tp Hồ Chí Minh</td></tr><tr><td>693</td><td> Xã Bình Mỹ</td><td>Huyện Củ Chi</td><td>Tp Hồ Chí Minh</td><td> Xã Bình Mỹ, Huyện Củ Chi, Tp Hồ Chí Minh</td></tr><tr><td>694</td><td> Xã Hòa Phú</td><td>Huyện Củ Chi</td><td>Tp Hồ Chí Minh</td><td> Xã Hòa Phú, Huyện Củ Chi, Tp Hồ Chí Minh</td></tr><tr><td>695</td><td> Xã Nhuận Đức</td><td>Huyện Củ Chi</td><td>Tp Hồ Chí Minh</td><td> Xã Nhuận Đức, Huyện Củ Chi, Tp Hồ Chí Minh</td></tr><tr><td>696</td><td> Xã Phú Hòa Đông</td><td>Huyện Củ Chi</td><td>Tp Hồ Chí Minh</td><td> Xã Phú Hòa Đông, Huyện Củ Chi, Tp Hồ Chí Minh</td></tr><tr><td>697</td><td> Xã Phú Mỹ Hưng</td><td>Huyện Củ Chi</td><td>Tp Hồ Chí Minh</td><td> Xã Phú Mỹ Hưng, Huyện Củ Chi, Tp Hồ Chí Minh</td></tr><tr><td>698</td><td> Xã Phước Hiệp</td><td>Huyện Củ Chi</td><td>Tp Hồ Chí Minh</td><td> Xã Phước Hiệp, Huyện Củ Chi, Tp Hồ Chí Minh</td></tr><tr><td>699</td><td> Xã Phước Thạnh</td><td>Huyện Củ Chi</td><td>Tp Hồ Chí Minh</td><td> Xã Phước Thạnh, Huyện Củ Chi, Tp Hồ Chí Minh</td></tr><tr><td>700</td><td> Xã Phước Vĩnh An</td><td>Huyện Củ Chi</td><td>Tp Hồ Chí Minh</td><td> Xã Phước Vĩnh An, Huyện Củ Chi, Tp Hồ Chí Minh</td></tr><tr><td>701</td><td> Xã Phạm Văn Cội</td><td>Huyện Củ Chi</td><td>Tp Hồ Chí Minh</td><td> Xã Phạm Văn Cội, Huyện Củ Chi, Tp Hồ Chí Minh</td></tr><tr><td>702</td><td> Xã Thái Mỹ</td><td>Huyện Củ Chi</td><td>Tp Hồ Chí Minh</td><td> Xã Thái Mỹ, Huyện Củ Chi, Tp Hồ Chí Minh</td></tr><tr><td>703</td><td> Xã Trung An</td><td>Huyện Củ Chi</td><td>Tp Hồ Chí Minh</td><td> Xã Trung An, Huyện Củ Chi, Tp Hồ Chí Minh</td></tr><tr><td>704</td><td> Xã Trung Lập Thượng</td><td>Huyện Củ Chi</td><td>Tp Hồ Chí Minh</td><td> Xã Trung Lập Thượng, Huyện Củ Chi, Tp Hồ Chí Minh</td></tr><tr><td>705</td><td> Xã Tân An Hội</td><td>Huyện Củ Chi</td><td>Tp Hồ Chí Minh</td><td> Xã Tân An Hội, Huyện Củ Chi, Tp Hồ Chí Minh</td></tr><tr><td>706</td><td> Xã Tân Phú Trung</td><td>Huyện Củ Chi</td><td>Tp Hồ Chí Minh</td><td> Xã Tân Phú Trung, Huyện Củ Chi, Tp Hồ Chí Minh</td></tr><tr><td>707</td><td> Xã Tân Thông Hội</td><td>Huyện Củ Chi</td><td>Tp Hồ Chí Minh</td><td> Xã Tân Thông Hội, Huyện Củ Chi, Tp Hồ Chí Minh</td></tr><tr><td>708</td><td> Xã Tân Thạnh Tây</td><td>Huyện Củ Chi</td><td>Tp Hồ Chí Minh</td><td> Xã Tân Thạnh Tây, Huyện Củ Chi, Tp Hồ Chí Minh</td></tr><tr><td>709</td><td> Xã Tân Thạnh Đông</td><td>Huyện Củ Chi</td><td>Tp Hồ Chí Minh</td><td> Xã Tân Thạnh Đông, Huyện Củ Chi, Tp Hồ Chí Minh</td></tr><tr><td>710</td><td> Thị trấn Hóc Môn</td><td>Huyện Hóc Môn</td><td>Tp Hồ Chí Minh</td><td> Thị trấn Hóc Môn, Huyện Hóc Môn, Tp Hồ Chí Minh</td></tr><tr><td>711</td><td> Xã Bà Điểm</td><td>Huyện Hóc Môn</td><td>Tp Hồ Chí Minh</td><td> Xã Bà Điểm, Huyện Hóc Môn, Tp Hồ Chí Minh</td></tr><tr><td>712</td><td> Xã Nhị Bình</td><td>Huyện Hóc Môn</td><td>Tp Hồ Chí Minh</td><td> Xã Nhị Bình, Huyện Hóc Môn, Tp Hồ Chí Minh</td></tr><tr><td>713</td><td> Xã Thới Tam Thôn</td><td>Huyện Hóc Môn</td><td>Tp Hồ Chí Minh</td><td> Xã Thới Tam Thôn, Huyện Hóc Môn, Tp Hồ Chí Minh</td></tr><tr><td>714</td><td> Xã Trung Chánh</td><td>Huyện Hóc Môn</td><td>Tp Hồ Chí Minh</td><td> Xã Trung Chánh, Huyện Hóc Môn, Tp Hồ Chí Minh</td></tr><tr><td>715</td><td> Xã Tân Hiệp</td><td>Huyện Hóc Môn</td><td>Tp Hồ Chí Minh</td><td> Xã Tân Hiệp, Huyện Hóc Môn, Tp Hồ Chí Minh</td></tr><tr><td>716</td><td> Xã Tân Thới Nhì</td><td>Huyện Hóc Môn</td><td>Tp Hồ Chí Minh</td><td> Xã Tân Thới Nhì, Huyện Hóc Môn, Tp Hồ Chí Minh</td></tr><tr><td>717</td><td> Xã Tân Xuân</td><td>Huyện Hóc Môn</td><td>Tp Hồ Chí Minh</td><td> Xã Tân Xuân, Huyện Hóc Môn, Tp Hồ Chí Minh</td></tr><tr><td>718</td><td> Xã Xuân Thới Sơn</td><td>Huyện Hóc Môn</td><td>Tp Hồ Chí Minh</td><td> Xã Xuân Thới Sơn, Huyện Hóc Môn, Tp Hồ Chí Minh</td></tr><tr><td>719</td><td> Xã Xuân Thới Thượng</td><td>Huyện Hóc Môn</td><td>Tp Hồ Chí Minh</td><td> Xã Xuân Thới Thượng, Huyện Hóc Môn, Tp Hồ Chí Minh</td></tr><tr><td>720</td><td> Xã Xuân Thới Đông</td><td>Huyện Hóc Môn</td><td>Tp Hồ Chí Minh</td><td> Xã Xuân Thới Đông, Huyện Hóc Môn, Tp Hồ Chí Minh</td></tr><tr><td>721</td><td> Xã Đông Thạnh</td><td>Huyện Hóc Môn</td><td>Tp Hồ Chí Minh</td><td> Xã Đông Thạnh, Huyện Hóc Môn, Tp Hồ Chí Minh</td></tr><tr><td>722</td><td> Thị trấn Nhà Bè</td><td>Huyện Nhà Bè</td><td>Tp Hồ Chí Minh</td><td> Thị trấn Nhà Bè, Huyện Nhà Bè, Tp Hồ Chí Minh</td></tr><tr><td>723</td><td> Xã Hiệp Phước</td><td>Huyện Nhà Bè</td><td>Tp Hồ Chí Minh</td><td> Xã Hiệp Phước, Huyện Nhà Bè, Tp Hồ Chí Minh</td></tr><tr><td>724</td><td> Xã Long Thới</td><td>Huyện Nhà Bè</td><td>Tp Hồ Chí Minh</td><td> Xã Long Thới, Huyện Nhà Bè, Tp Hồ Chí Minh</td></tr><tr><td>725</td><td> Xã Nhơn Đức</td><td>Huyện Nhà Bè</td><td>Tp Hồ Chí Minh</td><td> Xã Nhơn Đức, Huyện Nhà Bè, Tp Hồ Chí Minh</td></tr><tr><td>726</td><td> Xã Phú Xuân</td><td>Huyện Nhà Bè</td><td>Tp Hồ Chí Minh</td><td> Xã Phú Xuân, Huyện Nhà Bè, Tp Hồ Chí Minh</td></tr><tr><td>727</td><td> Xã Phước Kiển</td><td>Huyện Nhà Bè</td><td>Tp Hồ Chí Minh</td><td> Xã Phước Kiển, Huyện Nhà Bè, Tp Hồ Chí Minh</td></tr><tr><td>728</td><td> Xã Phước Lộc</td><td>Huyện Nhà Bè</td><td>Tp Hồ Chí Minh</td><td> Xã Phước Lộc, Huyện Nhà Bè, Tp Hồ Chí Minh</td></tr><tr><td>729</td><td> Phường Bến Nghé</td><td>Quận 1</td><td>Tp Hồ Chí Minh</td><td> Phường Bến Nghé, Quận 1, Tp Hồ Chí Minh</td></tr><tr><td>730</td><td> Phường Bến Thành</td><td>Quận 1</td><td>Tp Hồ Chí Minh</td><td> Phường Bến Thành, Quận 1, Tp Hồ Chí Minh</td></tr><tr><td>731</td><td> Phường Cô Giang</td><td>Quận 1</td><td>Tp Hồ Chí Minh</td><td> Phường Cô Giang, Quận 1, Tp Hồ Chí Minh</td></tr><tr><td>732</td><td> Phường Cầu Kho</td><td>Quận 1</td><td>Tp Hồ Chí Minh</td><td> Phường Cầu Kho, Quận 1, Tp Hồ Chí Minh</td></tr><tr><td>733</td><td> Phường Nguyễn Cư Trinh</td><td>Quận 1</td><td>Tp Hồ Chí Minh</td><td> Phường Nguyễn Cư Trinh, Quận 1, Tp Hồ Chí Minh</td></tr><tr><td>734</td><td> Phường Nguyễn Thái Bình</td><td>Quận 1</td><td>Tp Hồ Chí Minh</td><td> Phường Nguyễn Thái Bình, Quận 1, Tp Hồ Chí Minh</td></tr><tr><td>735</td><td> Phường Phạm Ngũ Lão</td><td>Quận 1</td><td>Tp Hồ Chí Minh</td><td> Phường Phạm Ngũ Lão, Quận 1, Tp Hồ Chí Minh</td></tr><tr><td>736</td><td> Phường Tân Định</td><td>Quận 1</td><td>Tp Hồ Chí Minh</td><td> Phường Tân Định, Quận 1, Tp Hồ Chí Minh</td></tr><tr><td>737</td><td> Phường Đa Kao</td><td>Quận 1</td><td>Tp Hồ Chí Minh</td><td> Phường Đa Kao, Quận 1, Tp Hồ Chí Minh</td></tr><tr><td>738</td><td> Phường 10</td><td>Quận 10</td><td>Tp Hồ Chí Minh</td><td> Phường 10, Quận 10, Tp Hồ Chí Minh</td></tr><tr><td>739</td><td> Phường 11</td><td>Quận 10</td><td>Tp Hồ Chí Minh</td><td> Phường 11, Quận 10, Tp Hồ Chí Minh</td></tr><tr><td>740</td><td> Phường 12</td><td>Quận 10</td><td>Tp Hồ Chí Minh</td><td> Phường 12, Quận 10, Tp Hồ Chí Minh</td></tr><tr><td>741</td><td> Phường 13</td><td>Quận 10</td><td>Tp Hồ Chí Minh</td><td> Phường 13, Quận 10, Tp Hồ Chí Minh</td></tr><tr><td>742</td><td> Phường 14</td><td>Quận 10</td><td>Tp Hồ Chí Minh</td><td> Phường 14, Quận 10, Tp Hồ Chí Minh</td></tr><tr><td>743</td><td> Phường 15</td><td>Quận 10</td><td>Tp Hồ Chí Minh</td><td> Phường 15, Quận 10, Tp Hồ Chí Minh</td></tr><tr><td>744</td><td> Phường 2</td><td>Quận 10</td><td>Tp Hồ Chí Minh</td><td> Phường 2, Quận 10, Tp Hồ Chí Minh</td></tr><tr><td>745</td><td> Phường 4</td><td>Quận 10</td><td>Tp Hồ Chí Minh</td><td> Phường 4, Quận 10, Tp Hồ Chí Minh</td></tr><tr><td>746</td><td> Phường 5</td><td>Quận 10</td><td>Tp Hồ Chí Minh</td><td> Phường 5, Quận 10, Tp Hồ Chí Minh</td></tr><tr><td>747</td><td> Phường 6</td><td>Quận 10</td><td>Tp Hồ Chí Minh</td><td> Phường 6, Quận 10, Tp Hồ Chí Minh</td></tr><tr><td>748</td><td> Phường 7</td><td>Quận 10</td><td>Tp Hồ Chí Minh</td><td> Phường 7, Quận 10, Tp Hồ Chí Minh</td></tr><tr><td>749</td><td> Phường 8</td><td>Quận 10</td><td>Tp Hồ Chí Minh</td><td> Phường 8, Quận 10, Tp Hồ Chí Minh</td></tr><tr><td>750</td><td> Phường 9</td><td>Quận 10</td><td>Tp Hồ Chí Minh</td><td> Phường 9, Quận 10, Tp Hồ Chí Minh</td></tr><tr><td>751</td><td> Phường 1</td><td>Quận 11</td><td>Tp Hồ Chí Minh</td><td> Phường 1, Quận 11, Tp Hồ Chí Minh</td></tr><tr><td>752</td><td> Phường 10</td><td>Quận 11</td><td>Tp Hồ Chí Minh</td><td> Phường 10, Quận 11, Tp Hồ Chí Minh</td></tr><tr><td>753</td><td> Phường 11</td><td>Quận 11</td><td>Tp Hồ Chí Minh</td><td> Phường 11, Quận 11, Tp Hồ Chí Minh</td></tr><tr><td>754</td><td> Phường 13</td><td>Quận 11</td><td>Tp Hồ Chí Minh</td><td> Phường 13, Quận 11, Tp Hồ Chí Minh</td></tr><tr><td>755</td><td> Phường 14</td><td>Quận 11</td><td>Tp Hồ Chí Minh</td><td> Phường 14, Quận 11, Tp Hồ Chí Minh</td></tr><tr><td>756</td><td> Phường 15</td><td>Quận 11</td><td>Tp Hồ Chí Minh</td><td> Phường 15, Quận 11, Tp Hồ Chí Minh</td></tr><tr><td>757</td><td> Phường 16</td><td>Quận 11</td><td>Tp Hồ Chí Minh</td><td> Phường 16, Quận 11, Tp Hồ Chí Minh</td></tr><tr><td>758</td><td> Phường 2</td><td>Quận 11</td><td>Tp Hồ Chí Minh</td><td> Phường 2, Quận 11, Tp Hồ Chí Minh</td></tr><tr><td>759</td><td> Phường 3</td><td>Quận 11</td><td>Tp Hồ Chí Minh</td><td> Phường 3, Quận 11, Tp Hồ Chí Minh</td></tr><tr><td>760</td><td> Phường 4</td><td>Quận 11</td><td>Tp Hồ Chí Minh</td><td> Phường 4, Quận 11, Tp Hồ Chí Minh</td></tr><tr><td>761</td><td> Phường 5</td><td>Quận 11</td><td>Tp Hồ Chí Minh</td><td> Phường 5, Quận 11, Tp Hồ Chí Minh</td></tr><tr><td>762</td><td> Phường 6</td><td>Quận 11</td><td>Tp Hồ Chí Minh</td><td> Phường 6, Quận 11, Tp Hồ Chí Minh</td></tr><tr><td>763</td><td> Phường 9</td><td>Quận 11</td><td>Tp Hồ Chí Minh</td><td> Phường 9, Quận 11, Tp Hồ Chí Minh</td></tr><tr><td>764</td><td> Phường An Phú Đông</td><td>Quận 12</td><td>Tp Hồ Chí Minh</td><td> Phường An Phú Đông, Quận 12, Tp Hồ Chí Minh</td></tr><tr><td>765</td><td> Phường Hiệp Thành</td><td>Quận 12</td><td>Tp Hồ Chí Minh</td><td> Phường Hiệp Thành, Quận 12, Tp Hồ Chí Minh</td></tr><tr><td>766</td><td> Phường Thạnh Lộc</td><td>Quận 12</td><td>Tp Hồ Chí Minh</td><td> Phường Thạnh Lộc, Quận 12, Tp Hồ Chí Minh</td></tr><tr><td>767</td><td> Phường Thạnh Xuân</td><td>Quận 12</td><td>Tp Hồ Chí Minh</td><td> Phường Thạnh Xuân, Quận 12, Tp Hồ Chí Minh</td></tr><tr><td>768</td><td> Phường Thới An</td><td>Quận 12</td><td>Tp Hồ Chí Minh</td><td> Phường Thới An, Quận 12, Tp Hồ Chí Minh</td></tr><tr><td>769</td><td> Phường Trung Mỹ Tây</td><td>Quận 12</td><td>Tp Hồ Chí Minh</td><td> Phường Trung Mỹ Tây, Quận 12, Tp Hồ Chí Minh</td></tr><tr><td>770</td><td> Phường Tân Chánh Hiệp</td><td>Quận 12</td><td>Tp Hồ Chí Minh</td><td> Phường Tân Chánh Hiệp, Quận 12, Tp Hồ Chí Minh</td></tr><tr><td>771</td><td> Phường Tân Hưng Thuận</td><td>Quận 12</td><td>Tp Hồ Chí Minh</td><td> Phường Tân Hưng Thuận, Quận 12, Tp Hồ Chí Minh</td></tr><tr><td>772</td><td> Phường Tân Thới Hiệp</td><td>Quận 12</td><td>Tp Hồ Chí Minh</td><td> Phường Tân Thới Hiệp, Quận 12, Tp Hồ Chí Minh</td></tr><tr><td>773</td><td> Phường Tân Thới Nhất</td><td>Quận 12</td><td>Tp Hồ Chí Minh</td><td> Phường Tân Thới Nhất, Quận 12, Tp Hồ Chí Minh</td></tr><tr><td>774</td><td> Phường Đông Hưng Thuận</td><td>Quận 12</td><td>Tp Hồ Chí Minh</td><td> Phường Đông Hưng Thuận, Quận 12, Tp Hồ Chí Minh</td></tr><tr><td>775</td><td> Phường 1</td><td>Quận 3</td><td>Tp Hồ Chí Minh</td><td> Phường 1, Quận 3, Tp Hồ Chí Minh</td></tr><tr><td>776</td><td> Phường 10</td><td>Quận 3</td><td>Tp Hồ Chí Minh</td><td> Phường 10, Quận 3, Tp Hồ Chí Minh</td></tr><tr><td>777</td><td> Phường 11</td><td>Quận 3</td><td>Tp Hồ Chí Minh</td><td> Phường 11, Quận 3, Tp Hồ Chí Minh</td></tr><tr><td>778</td><td> Phường 12</td><td>Quận 3</td><td>Tp Hồ Chí Minh</td><td> Phường 12, Quận 3, Tp Hồ Chí Minh</td></tr><tr><td>779</td><td> Phường 13</td><td>Quận 3</td><td>Tp Hồ Chí Minh</td><td> Phường 13, Quận 3, Tp Hồ Chí Minh</td></tr><tr><td>780</td><td> Phường 14</td><td>Quận 3</td><td>Tp Hồ Chí Minh</td><td> Phường 14, Quận 3, Tp Hồ Chí Minh</td></tr><tr><td>781</td><td> Phường 2</td><td>Quận 3</td><td>Tp Hồ Chí Minh</td><td> Phường 2, Quận 3, Tp Hồ Chí Minh</td></tr><tr><td>782</td><td> Phường 3</td><td>Quận 3</td><td>Tp Hồ Chí Minh</td><td> Phường 3, Quận 3, Tp Hồ Chí Minh</td></tr><tr><td>783</td><td> Phường 4</td><td>Quận 3</td><td>Tp Hồ Chí Minh</td><td> Phường 4, Quận 3, Tp Hồ Chí Minh</td></tr><tr><td>784</td><td> Phường 5</td><td>Quận 3</td><td>Tp Hồ Chí Minh</td><td> Phường 5, Quận 3, Tp Hồ Chí Minh</td></tr><tr><td>785</td><td> Phường 9</td><td>Quận 3</td><td>Tp Hồ Chí Minh</td><td> Phường 9, Quận 3, Tp Hồ Chí Minh</td></tr><tr><td>786</td><td> Phường Võ Thị Sáu</td><td>Quận 3</td><td>Tp Hồ Chí Minh</td><td> Phường Võ Thị Sáu, Quận 3, Tp Hồ Chí Minh</td></tr><tr><td>787</td><td> Phường 1</td><td>Quận 4</td><td>Tp Hồ Chí Minh</td><td> Phường 1, Quận 4, Tp Hồ Chí Minh</td></tr><tr><td>788</td><td> Phường 10</td><td>Quận 4</td><td>Tp Hồ Chí Minh</td><td> Phường 10, Quận 4, Tp Hồ Chí Minh</td></tr><tr><td>789</td><td> Phường 13</td><td>Quận 4</td><td>Tp Hồ Chí Minh</td><td> Phường 13, Quận 4, Tp Hồ Chí Minh</td></tr><tr><td>790</td><td> Phường 14</td><td>Quận 4</td><td>Tp Hồ Chí Minh</td><td> Phường 14, Quận 4, Tp Hồ Chí Minh</td></tr><tr><td>791</td><td> Phường 15</td><td>Quận 4</td><td>Tp Hồ Chí Minh</td><td> Phường 15, Quận 4, Tp Hồ Chí Minh</td></tr><tr><td>792</td><td> Phường 16</td><td>Quận 4</td><td>Tp Hồ Chí Minh</td><td> Phường 16, Quận 4, Tp Hồ Chí Minh</td></tr><tr><td>793</td><td> Phường 18</td><td>Quận 4</td><td>Tp Hồ Chí Minh</td><td> Phường 18, Quận 4, Tp Hồ Chí Minh</td></tr><tr><td>794</td><td> Phường 2</td><td>Quận 4</td><td>Tp Hồ Chí Minh</td><td> Phường 2, Quận 4, Tp Hồ Chí Minh</td></tr><tr><td>795</td><td> Phường 4</td><td>Quận 4</td><td>Tp Hồ Chí Minh</td><td> Phường 4, Quận 4, Tp Hồ Chí Minh</td></tr><tr><td>796</td><td> Phường 6</td><td>Quận 4</td><td>Tp Hồ Chí Minh</td><td> Phường 6, Quận 4, Tp Hồ Chí Minh</td></tr><tr><td>797</td><td> Phường 8</td><td>Quận 4</td><td>Tp Hồ Chí Minh</td><td> Phường 8, Quận 4, Tp Hồ Chí Minh</td></tr><tr><td>798</td><td> Phường 9</td><td>Quận 4</td><td>Tp Hồ Chí Minh</td><td> Phường 9, Quận 4, Tp Hồ Chí Minh</td></tr><tr><td>799</td><td> Phường 1</td><td>Quận 5</td><td>Tp Hồ Chí Minh</td><td> Phường 1, Quận 5, Tp Hồ Chí Minh</td></tr><tr><td>800</td><td> Phường 10</td><td>Quận 5</td><td>Tp Hồ Chí Minh</td><td> Phường 10, Quận 5, Tp Hồ Chí Minh</td></tr><tr><td>801</td><td> Phường 11</td><td>Quận 5</td><td>Tp Hồ Chí Minh</td><td> Phường 11, Quận 5, Tp Hồ Chí Minh</td></tr><tr><td>802</td><td> Phường 2</td><td>Quận 5</td><td>Tp Hồ Chí Minh</td><td> Phường 2, Quận 5, Tp Hồ Chí Minh</td></tr><tr><td>803</td><td> Phường 4</td><td>Quận 5</td><td>Tp Hồ Chí Minh</td><td> Phường 4, Quận 5, Tp Hồ Chí Minh</td></tr><tr><td>804</td><td> Phường 5</td><td>Quận 5</td><td>Tp Hồ Chí Minh</td><td> Phường 5, Quận 5, Tp Hồ Chí Minh</td></tr><tr><td>805</td><td> Phường 6</td><td>Quận 5</td><td>Tp Hồ Chí Minh</td><td> Phường 6, Quận 5, Tp Hồ Chí Minh</td></tr><tr><td>806</td><td> Phường 7</td><td>Quận 5</td><td>Tp Hồ Chí Minh</td><td> Phường 7, Quận 5, Tp Hồ Chí Minh</td></tr><tr><td>807</td><td> Phường 1</td><td>Quận 6</td><td>Tp Hồ Chí Minh</td><td> Phường 1, Quận 6, Tp Hồ Chí Minh</td></tr><tr><td>808</td><td> Phường 10</td><td>Quận 6</td><td>Tp Hồ Chí Minh</td><td> Phường 10, Quận 6, Tp Hồ Chí Minh</td></tr><tr><td>809</td><td> Phường 11</td><td>Quận 6</td><td>Tp Hồ Chí Minh</td><td> Phường 11, Quận 6, Tp Hồ Chí Minh</td></tr><tr><td>810</td><td> Phường 12</td><td>Quận 6</td><td>Tp Hồ Chí Minh</td><td> Phường 12, Quận 6, Tp Hồ Chí Minh</td></tr><tr><td>811</td><td> Phường 13</td><td>Quận 6</td><td>Tp Hồ Chí Minh</td><td> Phường 13, Quận 6, Tp Hồ Chí Minh</td></tr><tr><td>812</td><td> Phường 14</td><td>Quận 6</td><td>Tp Hồ Chí Minh</td><td> Phường 14, Quận 6, Tp Hồ Chí Minh</td></tr><tr><td>813</td><td> Phường 2</td><td>Quận 6</td><td>Tp Hồ Chí Minh</td><td> Phường 2, Quận 6, Tp Hồ Chí Minh</td></tr><tr><td>814</td><td> Phường 4</td><td>Quận 6</td><td>Tp Hồ Chí Minh</td><td> Phường 4, Quận 6, Tp Hồ Chí Minh</td></tr><tr><td>815</td><td> Phường 5</td><td>Quận 6</td><td>Tp Hồ Chí Minh</td><td> Phường 5, Quận 6, Tp Hồ Chí Minh</td></tr><tr><td>816</td><td> Phường 6</td><td>Quận 6</td><td>Tp Hồ Chí Minh</td><td> Phường 6, Quận 6, Tp Hồ Chí Minh</td></tr><tr><td>817</td><td> Phường 7</td><td>Quận 6</td><td>Tp Hồ Chí Minh</td><td> Phường 7, Quận 6, Tp Hồ Chí Minh</td></tr><tr><td>818</td><td> Phường 8</td><td>Quận 6</td><td>Tp Hồ Chí Minh</td><td> Phường 8, Quận 6, Tp Hồ Chí Minh</td></tr><tr><td>819</td><td> Phường 9</td><td>Quận 6</td><td>Tp Hồ Chí Minh</td><td> Phường 9, Quận 6, Tp Hồ Chí Minh</td></tr><tr><td>820</td><td> Phường Bình Thuận</td><td>Quận 7</td><td>Tp Hồ Chí Minh</td><td> Phường Bình Thuận, Quận 7, Tp Hồ Chí Minh</td></tr><tr><td>821</td><td> Phường Phú Mỹ</td><td>Quận 7</td><td>Tp Hồ Chí Minh</td><td> Phường Phú Mỹ, Quận 7, Tp Hồ Chí Minh</td></tr><tr><td>822</td><td> Phường Phú Thuận</td><td>Quận 7</td><td>Tp Hồ Chí Minh</td><td> Phường Phú Thuận, Quận 7, Tp Hồ Chí Minh</td></tr><tr><td>823</td><td> Phường Tân Hưng</td><td>Quận 7</td><td>Tp Hồ Chí Minh</td><td> Phường Tân Hưng, Quận 7, Tp Hồ Chí Minh</td></tr><tr><td>824</td><td> Phường Tân Kiểng</td><td>Quận 7</td><td>Tp Hồ Chí Minh</td><td> Phường Tân Kiểng, Quận 7, Tp Hồ Chí Minh</td></tr><tr><td>825</td><td> Phường Tân Phong</td><td>Quận 7</td><td>Tp Hồ Chí Minh</td><td> Phường Tân Phong, Quận 7, Tp Hồ Chí Minh</td></tr><tr><td>826</td><td> Phường Tân Phú</td><td>Quận 7</td><td>Tp Hồ Chí Minh</td><td> Phường Tân Phú, Quận 7, Tp Hồ Chí Minh</td></tr><tr><td>827</td><td> Phường Tân Quy</td><td>Quận 7</td><td>Tp Hồ Chí Minh</td><td> Phường Tân Quy, Quận 7, Tp Hồ Chí Minh</td></tr><tr><td>828</td><td> Phường Tân Thuận Tây</td><td>Quận 7</td><td>Tp Hồ Chí Minh</td><td> Phường Tân Thuận Tây, Quận 7, Tp Hồ Chí Minh</td></tr><tr><td>829</td><td> Phường Tân Thuận Đông</td><td>Quận 7</td><td>Tp Hồ Chí Minh</td><td> Phường Tân Thuận Đông, Quận 7, Tp Hồ Chí Minh</td></tr><tr><td>830</td><td> Phường 1</td><td>Quận 8</td><td>Tp Hồ Chí Minh</td><td> Phường 1, Quận 8, Tp Hồ Chí Minh</td></tr><tr><td>831</td><td> Phường 10</td><td>Quận 8</td><td>Tp Hồ Chí Minh</td><td> Phường 10, Quận 8, Tp Hồ Chí Minh</td></tr><tr><td>832</td><td> Phường 11</td><td>Quận 8</td><td>Tp Hồ Chí Minh</td><td> Phường 11, Quận 8, Tp Hồ Chí Minh</td></tr><tr><td>833</td><td> Phường 12</td><td>Quận 8</td><td>Tp Hồ Chí Minh</td><td> Phường 12, Quận 8, Tp Hồ Chí Minh</td></tr><tr><td>834</td><td> Phường 13</td><td>Quận 8</td><td>Tp Hồ Chí Minh</td><td> Phường 13, Quận 8, Tp Hồ Chí Minh</td></tr><tr><td>835</td><td> Phường 14</td><td>Quận 8</td><td>Tp Hồ Chí Minh</td><td> Phường 14, Quận 8, Tp Hồ Chí Minh</td></tr><tr><td>836</td><td> Phường 15</td><td>Quận 8</td><td>Tp Hồ Chí Minh</td><td> Phường 15, Quận 8, Tp Hồ Chí Minh</td></tr><tr><td>837</td><td> Phường 16</td><td>Quận 8</td><td>Tp Hồ Chí Minh</td><td> Phường 16, Quận 8, Tp Hồ Chí Minh</td></tr><tr><td>838</td><td> Phường 2</td><td>Quận 8</td><td>Tp Hồ Chí Minh</td><td> Phường 2, Quận 8, Tp Hồ Chí Minh</td></tr><tr><td>839</td><td> Phường 3</td><td>Quận 8</td><td>Tp Hồ Chí Minh</td><td> Phường 3, Quận 8, Tp Hồ Chí Minh</td></tr><tr><td>840</td><td> Phường 4</td><td>Quận 8</td><td>Tp Hồ Chí Minh</td><td> Phường 4, Quận 8, Tp Hồ Chí Minh</td></tr><tr><td>841</td><td> Phường 5</td><td>Quận 8</td><td>Tp Hồ Chí Minh</td><td> Phường 5, Quận 8, Tp Hồ Chí Minh</td></tr><tr><td>842</td><td> Phường 6</td><td>Quận 8</td><td>Tp Hồ Chí Minh</td><td> Phường 6, Quận 8, Tp Hồ Chí Minh</td></tr><tr><td>843</td><td> Phường 7</td><td>Quận 8</td><td>Tp Hồ Chí Minh</td><td> Phường 7, Quận 8, Tp Hồ Chí Minh</td></tr><tr><td>844</td><td> Phường 8</td><td>Quận 8</td><td>Tp Hồ Chí Minh</td><td> Phường 8, Quận 8, Tp Hồ Chí Minh</td></tr><tr><td>845</td><td> Phường 9</td><td>Quận 8</td><td>Tp Hồ Chí Minh</td><td> Phường 9, Quận 8, Tp Hồ Chí Minh</td></tr><tr><td>846</td><td> Phường 1</td><td>Quận Bình Thạnh</td><td>Tp Hồ Chí Minh</td><td> Phường 1, Quận Bình Thạnh, Tp Hồ Chí Minh</td></tr><tr><td>847</td><td> Phường 11</td><td>Quận Bình Thạnh</td><td>Tp Hồ Chí Minh</td><td> Phường 11, Quận Bình Thạnh, Tp Hồ Chí Minh</td></tr><tr><td>848</td><td> Phường 12</td><td>Quận Bình Thạnh</td><td>Tp Hồ Chí Minh</td><td> Phường 12, Quận Bình Thạnh, Tp Hồ Chí Minh</td></tr><tr><td>849</td><td> Phường 13</td><td>Quận Bình Thạnh</td><td>Tp Hồ Chí Minh</td><td> Phường 13, Quận Bình Thạnh, Tp Hồ Chí Minh</td></tr><tr><td>850</td><td> Phường 14</td><td>Quận Bình Thạnh</td><td>Tp Hồ Chí Minh</td><td> Phường 14, Quận Bình Thạnh, Tp Hồ Chí Minh</td></tr><tr><td>851</td><td> Phường 15</td><td>Quận Bình Thạnh</td><td>Tp Hồ Chí Minh</td><td> Phường 15, Quận Bình Thạnh, Tp Hồ Chí Minh</td></tr><tr><td>852</td><td> Phường 17</td><td>Quận Bình Thạnh</td><td>Tp Hồ Chí Minh</td><td> Phường 17, Quận Bình Thạnh, Tp Hồ Chí Minh</td></tr><tr><td>853</td><td> Phường 19</td><td>Quận Bình Thạnh</td><td>Tp Hồ Chí Minh</td><td> Phường 19, Quận Bình Thạnh, Tp Hồ Chí Minh</td></tr><tr><td>854</td><td> Phường 2</td><td>Quận Bình Thạnh</td><td>Tp Hồ Chí Minh</td><td> Phường 2, Quận Bình Thạnh, Tp Hồ Chí Minh</td></tr><tr><td>855</td><td> Phường 21</td><td>Quận Bình Thạnh</td><td>Tp Hồ Chí Minh</td><td> Phường 21, Quận Bình Thạnh, Tp Hồ Chí Minh</td></tr><tr><td>856</td><td> Phường 22</td><td>Quận Bình Thạnh</td><td>Tp Hồ Chí Minh</td><td> Phường 22, Quận Bình Thạnh, Tp Hồ Chí Minh</td></tr><tr><td>857</td><td> Phường 24</td><td>Quận Bình Thạnh</td><td>Tp Hồ Chí Minh</td><td> Phường 24, Quận Bình Thạnh, Tp Hồ Chí Minh</td></tr><tr><td>858</td><td> Phường 25</td><td>Quận Bình Thạnh</td><td>Tp Hồ Chí Minh</td><td> Phường 25, Quận Bình Thạnh, Tp Hồ Chí Minh</td></tr><tr><td>859</td><td> Phường 26</td><td>Quận Bình Thạnh</td><td>Tp Hồ Chí Minh</td><td> Phường 26, Quận Bình Thạnh, Tp Hồ Chí Minh</td></tr><tr><td>860</td><td> Phường 27</td><td>Quận Bình Thạnh</td><td>Tp Hồ Chí Minh</td><td> Phường 27, Quận Bình Thạnh, Tp Hồ Chí Minh</td></tr><tr><td>861</td><td> Phường 28</td><td>Quận Bình Thạnh</td><td>Tp Hồ Chí Minh</td><td> Phường 28, Quận Bình Thạnh, Tp Hồ Chí Minh</td></tr><tr><td>862</td><td> Phường 3</td><td>Quận Bình Thạnh</td><td>Tp Hồ Chí Minh</td><td> Phường 3, Quận Bình Thạnh, Tp Hồ Chí Minh</td></tr><tr><td>863</td><td> Phường 5</td><td>Quận Bình Thạnh</td><td>Tp Hồ Chí Minh</td><td> Phường 5, Quận Bình Thạnh, Tp Hồ Chí Minh</td></tr><tr><td>864</td><td> Phường 6</td><td>Quận Bình Thạnh</td><td>Tp Hồ Chí Minh</td><td> Phường 6, Quận Bình Thạnh, Tp Hồ Chí Minh</td></tr><tr><td>865</td><td> Phường 7</td><td>Quận Bình Thạnh</td><td>Tp Hồ Chí Minh</td><td> Phường 7, Quận Bình Thạnh, Tp Hồ Chí Minh</td></tr><tr><td>866</td><td> Phường An Lạc</td><td>Quận Bình Tân</td><td>Tp Hồ Chí Minh</td><td> Phường An Lạc, Quận Bình Tân, Tp Hồ Chí Minh</td></tr><tr><td>867</td><td> Phường An Lạc A</td><td>Quận Bình Tân</td><td>Tp Hồ Chí Minh</td><td> Phường An Lạc A, Quận Bình Tân, Tp Hồ Chí Minh</td></tr><tr><td>868</td><td> Phường Bình Hưng Hoà A</td><td>Quận Bình Tân</td><td>Tp Hồ Chí Minh</td><td> Phường Bình Hưng Hoà A, Quận Bình Tân, Tp Hồ Chí Minh</td></tr><tr><td>869</td><td> Phường Bình Hưng Hoà B</td><td>Quận Bình Tân</td><td>Tp Hồ Chí Minh</td><td> Phường Bình Hưng Hoà B, Quận Bình Tân, Tp Hồ Chí Minh</td></tr><tr><td>870</td><td> Phường Bình Hưng Hòa</td><td>Quận Bình Tân</td><td>Tp Hồ Chí Minh</td><td> Phường Bình Hưng Hòa, Quận Bình Tân, Tp Hồ Chí Minh</td></tr><tr><td>871</td><td> Phường Bình Trị Đông</td><td>Quận Bình Tân</td><td>Tp Hồ Chí Minh</td><td> Phường Bình Trị Đông, Quận Bình Tân, Tp Hồ Chí Minh</td></tr><tr><td>872</td><td> Phường Bình Trị Đông A</td><td>Quận Bình Tân</td><td>Tp Hồ Chí Minh</td><td> Phường Bình Trị Đông A, Quận Bình Tân, Tp Hồ Chí Minh</td></tr><tr><td>873</td><td> Phường Bình Trị Đông B</td><td>Quận Bình Tân</td><td>Tp Hồ Chí Minh</td><td> Phường Bình Trị Đông B, Quận Bình Tân, Tp Hồ Chí Minh</td></tr><tr><td>874</td><td> Phường Tân Tạo</td><td>Quận Bình Tân</td><td>Tp Hồ Chí Minh</td><td> Phường Tân Tạo, Quận Bình Tân, Tp Hồ Chí Minh</td></tr><tr><td>875</td><td> Phường Tân Tạo A</td><td>Quận Bình Tân</td><td>Tp Hồ Chí Minh</td><td> Phường Tân Tạo A, Quận Bình Tân, Tp Hồ Chí Minh</td></tr><tr><td>876</td><td> Phường 1</td><td>Quận Gò Vấp</td><td>Tp Hồ Chí Minh</td><td> Phường 1, Quận Gò Vấp, Tp Hồ Chí Minh</td></tr><tr><td>877</td><td> Phường 10</td><td>Quận Gò Vấp</td><td>Tp Hồ Chí Minh</td><td> Phường 10, Quận Gò Vấp, Tp Hồ Chí Minh</td></tr><tr><td>878</td><td> Phường 11</td><td>Quận Gò Vấp</td><td>Tp Hồ Chí Minh</td><td> Phường 11, Quận Gò Vấp, Tp Hồ Chí Minh</td></tr><tr><td>879</td><td> Phường 12</td><td>Quận Gò Vấp</td><td>Tp Hồ Chí Minh</td><td> Phường 12, Quận Gò Vấp, Tp Hồ Chí Minh</td></tr><tr><td>880</td><td> Phường 13</td><td>Quận Gò Vấp</td><td>Tp Hồ Chí Minh</td><td> Phường 13, Quận Gò Vấp, Tp Hồ Chí Minh</td></tr><tr><td>881</td><td> Phường 14</td><td>Quận Gò Vấp</td><td>Tp Hồ Chí Minh</td><td> Phường 14, Quận Gò Vấp, Tp Hồ Chí Minh</td></tr><tr><td>882</td><td> Phường 15</td><td>Quận Gò Vấp</td><td>Tp Hồ Chí Minh</td><td> Phường 15, Quận Gò Vấp, Tp Hồ Chí Minh</td></tr><tr><td>883</td><td> Phường 16</td><td>Quận Gò Vấp</td><td>Tp Hồ Chí Minh</td><td> Phường 16, Quận Gò Vấp, Tp Hồ Chí Minh</td></tr><tr><td>884</td><td> Phường 17</td><td>Quận Gò Vấp</td><td>Tp Hồ Chí Minh</td><td> Phường 17, Quận Gò Vấp, Tp Hồ Chí Minh</td></tr><tr><td>885</td><td> Phường 3</td><td>Quận Gò Vấp</td><td>Tp Hồ Chí Minh</td><td> Phường 3, Quận Gò Vấp, Tp Hồ Chí Minh</td></tr><tr><td>886</td><td> Phường 4</td><td>Quận Gò Vấp</td><td>Tp Hồ Chí Minh</td><td> Phường 4, Quận Gò Vấp, Tp Hồ Chí Minh</td></tr><tr><td>887</td><td> Phường 5</td><td>Quận Gò Vấp</td><td>Tp Hồ Chí Minh</td><td> Phường 5, Quận Gò Vấp, Tp Hồ Chí Minh</td></tr><tr><td>888</td><td> Phường 6</td><td>Quận Gò Vấp</td><td>Tp Hồ Chí Minh</td><td> Phường 6, Quận Gò Vấp, Tp Hồ Chí Minh</td></tr><tr><td>889</td><td> Phường 7</td><td>Quận Gò Vấp</td><td>Tp Hồ Chí Minh</td><td> Phường 7, Quận Gò Vấp, Tp Hồ Chí Minh</td></tr><tr><td>890</td><td> Phường 8</td><td>Quận Gò Vấp</td><td>Tp Hồ Chí Minh</td><td> Phường 8, Quận Gò Vấp, Tp Hồ Chí Minh</td></tr><tr><td>891</td><td> Phường 9</td><td>Quận Gò Vấp</td><td>Tp Hồ Chí Minh</td><td> Phường 9, Quận Gò Vấp, Tp Hồ Chí Minh</td></tr><tr><td>892</td><td> Phường 1</td><td>Quận Phú Nhuận</td><td>Tp Hồ Chí Minh</td><td> Phường 1, Quận Phú Nhuận, Tp Hồ Chí Minh</td></tr><tr><td>893</td><td> Phường 10</td><td>Quận Phú Nhuận</td><td>Tp Hồ Chí Minh</td><td> Phường 10, Quận Phú Nhuận, Tp Hồ Chí Minh</td></tr><tr><td>894</td><td> Phường 11</td><td>Quận Phú Nhuận</td><td>Tp Hồ Chí Minh</td><td> Phường 11, Quận Phú Nhuận, Tp Hồ Chí Minh</td></tr><tr><td>895</td><td> Phường 13</td><td>Quận Phú Nhuận</td><td>Tp Hồ Chí Minh</td><td> Phường 13, Quận Phú Nhuận, Tp Hồ Chí Minh</td></tr><tr><td>896</td><td> Phường 17</td><td>Quận Phú Nhuận</td><td>Tp Hồ Chí Minh</td><td> Phường 17, Quận Phú Nhuận, Tp Hồ Chí Minh</td></tr><tr><td>897</td><td> Phường 2</td><td>Quận Phú Nhuận</td><td>Tp Hồ Chí Minh</td><td> Phường 2, Quận Phú Nhuận, Tp Hồ Chí Minh</td></tr><tr><td>898</td><td> Phường 3</td><td>Quận Phú Nhuận</td><td>Tp Hồ Chí Minh</td><td> Phường 3, Quận Phú Nhuận, Tp Hồ Chí Minh</td></tr><tr><td>899</td><td> Phường 4</td><td>Quận Phú Nhuận</td><td>Tp Hồ Chí Minh</td><td> Phường 4, Quận Phú Nhuận, Tp Hồ Chí Minh</td></tr><tr><td>900</td><td> Phường 5</td><td>Quận Phú Nhuận</td><td>Tp Hồ Chí Minh</td><td> Phường 5, Quận Phú Nhuận, Tp Hồ Chí Minh</td></tr><tr><td>901</td><td> Phường 7</td><td>Quận Phú Nhuận</td><td>Tp Hồ Chí Minh</td><td> Phường 7, Quận Phú Nhuận, Tp Hồ Chí Minh</td></tr><tr><td>902</td><td> Phường 8</td><td>Quận Phú Nhuận</td><td>Tp Hồ Chí Minh</td><td> Phường 8, Quận Phú Nhuận, Tp Hồ Chí Minh</td></tr><tr><td>903</td><td> Phường 9</td><td>Quận Phú Nhuận</td><td>Tp Hồ Chí Minh</td><td> Phường 9, Quận Phú Nhuận, Tp Hồ Chí Minh</td></tr><tr><td>904</td><td> Phường 1</td><td>Quận Tân Bình</td><td>Tp Hồ Chí Minh</td><td> Phường 1, Quận Tân Bình, Tp Hồ Chí Minh</td></tr><tr><td>905</td><td> Phường 10</td><td>Quận Tân Bình</td><td>Tp Hồ Chí Minh</td><td> Phường 10, Quận Tân Bình, Tp Hồ Chí Minh</td></tr><tr><td>906</td><td> Phường 11</td><td>Quận Tân Bình</td><td>Tp Hồ Chí Minh</td><td> Phường 11, Quận Tân Bình, Tp Hồ Chí Minh</td></tr><tr><td>907</td><td> Phường 12</td><td>Quận Tân Bình</td><td>Tp Hồ Chí Minh</td><td> Phường 12, Quận Tân Bình, Tp Hồ Chí Minh</td></tr><tr><td>908</td><td> Phường 13</td><td>Quận Tân Bình</td><td>Tp Hồ Chí Minh</td><td> Phường 13, Quận Tân Bình, Tp Hồ Chí Minh</td></tr><tr><td>909</td><td> Phường 14</td><td>Quận Tân Bình</td><td>Tp Hồ Chí Minh</td><td> Phường 14, Quận Tân Bình, Tp Hồ Chí Minh</td></tr><tr><td>910</td><td> Phường 15</td><td>Quận Tân Bình</td><td>Tp Hồ Chí Minh</td><td> Phường 15, Quận Tân Bình, Tp Hồ Chí Minh</td></tr><tr><td>911</td><td> Phường 2</td><td>Quận Tân Bình</td><td>Tp Hồ Chí Minh</td><td> Phường 2, Quận Tân Bình, Tp Hồ Chí Minh</td></tr><tr><td>912</td><td> Phường 3</td><td>Quận Tân Bình</td><td>Tp Hồ Chí Minh</td><td> Phường 3, Quận Tân Bình, Tp Hồ Chí Minh</td></tr><tr><td>913</td><td> Phường 4</td><td>Quận Tân Bình</td><td>Tp Hồ Chí Minh</td><td> Phường 4, Quận Tân Bình, Tp Hồ Chí Minh</td></tr><tr><td>914</td><td> Phường 5</td><td>Quận Tân Bình</td><td>Tp Hồ Chí Minh</td><td> Phường 5, Quận Tân Bình, Tp Hồ Chí Minh</td></tr><tr><td>915</td><td> Phường 6</td><td>Quận Tân Bình</td><td>Tp Hồ Chí Minh</td><td> Phường 6, Quận Tân Bình, Tp Hồ Chí Minh</td></tr><tr><td>916</td><td> Phường 7</td><td>Quận Tân Bình</td><td>Tp Hồ Chí Minh</td><td> Phường 7, Quận Tân Bình, Tp Hồ Chí Minh</td></tr><tr><td>917</td><td> Phường 8</td><td>Quận Tân Bình</td><td>Tp Hồ Chí Minh</td><td> Phường 8, Quận Tân Bình, Tp Hồ Chí Minh</td></tr><tr><td>918</td><td> Phường 9</td><td>Quận Tân Bình</td><td>Tp Hồ Chí Minh</td><td> Phường 9, Quận Tân Bình, Tp Hồ Chí Minh</td></tr><tr><td>919</td><td> Phường Hiệp Tân</td><td>Quận Tân Phú</td><td>Tp Hồ Chí Minh</td><td> Phường Hiệp Tân, Quận Tân Phú, Tp Hồ Chí Minh</td></tr><tr><td>920</td><td> Phường Hòa Thạnh</td><td>Quận Tân Phú</td><td>Tp Hồ Chí Minh</td><td> Phường Hòa Thạnh, Quận Tân Phú, Tp Hồ Chí Minh</td></tr><tr><td>921</td><td> Phường Phú Thạnh</td><td>Quận Tân Phú</td><td>Tp Hồ Chí Minh</td><td> Phường Phú Thạnh, Quận Tân Phú, Tp Hồ Chí Minh</td></tr><tr><td>922</td><td> Phường Phú Thọ Hòa</td><td>Quận Tân Phú</td><td>Tp Hồ Chí Minh</td><td> Phường Phú Thọ Hòa, Quận Tân Phú, Tp Hồ Chí Minh</td></tr><tr><td>923</td><td> Phường Phú Trung</td><td>Quận Tân Phú</td><td>Tp Hồ Chí Minh</td><td> Phường Phú Trung, Quận Tân Phú, Tp Hồ Chí Minh</td></tr><tr><td>924</td><td> Phường Sơn Kỳ</td><td>Quận Tân Phú</td><td>Tp Hồ Chí Minh</td><td> Phường Sơn Kỳ, Quận Tân Phú, Tp Hồ Chí Minh</td></tr><tr><td>925</td><td> Phường Tân Quý</td><td>Quận Tân Phú</td><td>Tp Hồ Chí Minh</td><td> Phường Tân Quý, Quận Tân Phú, Tp Hồ Chí Minh</td></tr><tr><td>926</td><td> Phường Tân Sơn Nhì</td><td>Quận Tân Phú</td><td>Tp Hồ Chí Minh</td><td> Phường Tân Sơn Nhì, Quận Tân Phú, Tp Hồ Chí Minh</td></tr><tr><td>927</td><td> Phường Tân Thành</td><td>Quận Tân Phú</td><td>Tp Hồ Chí Minh</td><td> Phường Tân Thành, Quận Tân Phú, Tp Hồ Chí Minh</td></tr><tr><td>928</td><td> Phường Tân Thới Hòa</td><td>Quận Tân Phú</td><td>Tp Hồ Chí Minh</td><td> Phường Tân Thới Hòa, Quận Tân Phú, Tp Hồ Chí Minh</td></tr><tr><td>929</td><td> Phường Tây Thạnh</td><td>Quận Tân Phú</td><td>Tp Hồ Chí Minh</td><td> Phường Tây Thạnh, Quận Tân Phú, Tp Hồ Chí Minh</td></tr><tr><td>930</td><td> Phường An Khánh (Quận 2 cũ)</td><td>Thành phố Thủ Đức</td><td>Tp Hồ Chí Minh</td><td> Phường An Khánh (Quận 2 cũ), Thành phố Thủ Đức, Tp Hồ Chí Minh</td></tr><tr><td>931</td><td> Phường An Phú (Quận 2 cũ)</td><td>Thành phố Thủ Đức</td><td>Tp Hồ Chí Minh</td><td> Phường An Phú (Quận 2 cũ), Thành phố Thủ Đức, Tp Hồ Chí Minh</td></tr><tr><td>932</td><td> Phường Bình Chiểu (Quận Thủ Đức cũ)</td><td>Thành phố Thủ Đức</td><td>Tp Hồ Chí Minh</td><td> Phường Bình Chiểu (Quận Thủ Đức cũ), Thành phố Thủ Đức, Tp Hồ Chí Minh</td></tr><tr><td>933</td><td> Phường Bình Thọ (Quận Thủ Đức cũ)</td><td>Thành phố Thủ Đức</td><td>Tp Hồ Chí Minh</td><td> Phường Bình Thọ (Quận Thủ Đức cũ), Thành phố Thủ Đức, Tp Hồ Chí Minh</td></tr><tr><td>934</td><td> Phường Bình Trưng Tây (Quận 2 cũ)</td><td>Thành phố Thủ Đức</td><td>Tp Hồ Chí Minh</td><td> Phường Bình Trưng Tây (Quận 2 cũ), Thành phố Thủ Đức, Tp Hồ Chí Minh</td></tr><tr><td>935</td><td> Phường Bình Trưng Đông (Quận 2 cũ)</td><td>Thành phố Thủ Đức</td><td>Tp Hồ Chí Minh</td><td> Phường Bình Trưng Đông (Quận 2 cũ), Thành phố Thủ Đức, Tp Hồ Chí Minh</td></tr><tr><td>936</td><td> Phường Cát Lái (Quận 2 cũ)</td><td>Thành phố Thủ Đức</td><td>Tp Hồ Chí Minh</td><td> Phường Cát Lái (Quận 2 cũ), Thành phố Thủ Đức, Tp Hồ Chí Minh</td></tr><tr><td>937</td><td> Phường Hiệp Bình Chánh (Quận Thủ Đức cũ)</td><td>Thành phố Thủ Đức</td><td>Tp Hồ Chí Minh</td><td> Phường Hiệp Bình Chánh (Quận Thủ Đức cũ), Thành phố Thủ Đức, Tp Hồ Chí Minh</td></tr><tr><td>938</td><td> Phường Hiệp Bình Phước (Quận Thủ Đức cũ)</td><td>Thành phố Thủ Đức</td><td>Tp Hồ Chí Minh</td><td> Phường Hiệp Bình Phước (Quận Thủ Đức cũ), Thành phố Thủ Đức, Tp Hồ Chí Minh</td></tr><tr><td>939</td><td> Phường Hiệp Phú (Quận 9 cũ)</td><td>Thành phố Thủ Đức</td><td>Tp Hồ Chí Minh</td><td> Phường Hiệp Phú (Quận 9 cũ), Thành phố Thủ Đức, Tp Hồ Chí Minh</td></tr><tr><td>940</td><td> Phường Linh Chiểu (Quận Thủ Đức cũ)</td><td>Thành phố Thủ Đức</td><td>Tp Hồ Chí Minh</td><td> Phường Linh Chiểu (Quận Thủ Đức cũ), Thành phố Thủ Đức, Tp Hồ Chí Minh</td></tr><tr><td>941</td><td> Phường Linh Trung (Quận Thủ Đức cũ)</td><td>Thành phố Thủ Đức</td><td>Tp Hồ Chí Minh</td><td> Phường Linh Trung (Quận Thủ Đức cũ), Thành phố Thủ Đức, Tp Hồ Chí Minh</td></tr><tr><td>942</td><td> Phường Linh Tây (Quận Thủ Đức cũ)</td><td>Thành phố Thủ Đức</td><td>Tp Hồ Chí Minh</td><td> Phường Linh Tây (Quận Thủ Đức cũ), Thành phố Thủ Đức, Tp Hồ Chí Minh</td></tr><tr><td>943</td><td> Phường Linh Xuân (Quận Thủ Đức cũ)</td><td>Thành phố Thủ Đức</td><td>Tp Hồ Chí Minh</td><td> Phường Linh Xuân (Quận Thủ Đức cũ), Thành phố Thủ Đức, Tp Hồ Chí Minh</td></tr><tr><td>944</td><td> Phường Linh Đông (Quận Thủ Đức cũ)</td><td>Thành phố Thủ Đức</td><td>Tp Hồ Chí Minh</td><td> Phường Linh Đông (Quận Thủ Đức cũ), Thành phố Thủ Đức, Tp Hồ Chí Minh</td></tr><tr><td>945</td><td> Phường Long Bình (Quận 9 cũ)</td><td>Thành phố Thủ Đức</td><td>Tp Hồ Chí Minh</td><td> Phường Long Bình (Quận 9 cũ), Thành phố Thủ Đức, Tp Hồ Chí Minh</td></tr><tr><td>946</td><td> Phường Long Phước (Quận 9 cũ)</td><td>Thành phố Thủ Đức</td><td>Tp Hồ Chí Minh</td><td> Phường Long Phước (Quận 9 cũ), Thành phố Thủ Đức, Tp Hồ Chí Minh</td></tr><tr><td>947</td><td> Phường Long Thạnh Mỹ (Quận 9 cũ)</td><td>Thành phố Thủ Đức</td><td>Tp Hồ Chí Minh</td><td> Phường Long Thạnh Mỹ (Quận 9 cũ), Thành phố Thủ Đức, Tp Hồ Chí Minh</td></tr><tr><td>948</td><td> Phường Long Trường (Quận 9 cũ)</td><td>Thành phố Thủ Đức</td><td>Tp Hồ Chí Minh</td><td> Phường Long Trường (Quận 9 cũ), Thành phố Thủ Đức, Tp Hồ Chí Minh</td></tr><tr><td>949</td><td> Phường Phú Hữu (Quận 9 cũ)</td><td>Thành phố Thủ Đức</td><td>Tp Hồ Chí Minh</td><td> Phường Phú Hữu (Quận 9 cũ), Thành phố Thủ Đức, Tp Hồ Chí Minh</td></tr><tr><td>950</td><td> Phường Phước Bình (Quận 9 cũ)</td><td>Thành phố Thủ Đức</td><td>Tp Hồ Chí Minh</td><td> Phường Phước Bình (Quận 9 cũ), Thành phố Thủ Đức, Tp Hồ Chí Minh</td></tr><tr><td>951</td><td> Phường Phước Long A (Quận 9 cũ)</td><td>Thành phố Thủ Đức</td><td>Tp Hồ Chí Minh</td><td> Phường Phước Long A (Quận 9 cũ), Thành phố Thủ Đức, Tp Hồ Chí Minh</td></tr><tr><td>952</td><td> Phường Phước Long B (Quận 9 cũ)</td><td>Thành phố Thủ Đức</td><td>Tp Hồ Chí Minh</td><td> Phường Phước Long B (Quận 9 cũ), Thành phố Thủ Đức, Tp Hồ Chí Minh</td></tr><tr><td>953</td><td> Phường Tam Bình (Quận Thủ Đức cũ)</td><td>Thành phố Thủ Đức</td><td>Tp Hồ Chí Minh</td><td> Phường Tam Bình (Quận Thủ Đức cũ), Thành phố Thủ Đức, Tp Hồ Chí Minh</td></tr><tr><td>954</td><td> Phường Tam Phú (Quận Thủ Đức cũ)</td><td>Thành phố Thủ Đức</td><td>Tp Hồ Chí Minh</td><td> Phường Tam Phú (Quận Thủ Đức cũ), Thành phố Thủ Đức, Tp Hồ Chí Minh</td></tr><tr><td>955</td><td> Phường Thạnh Mỹ Lợi (Quận 2 cũ)</td><td>Thành phố Thủ Đức</td><td>Tp Hồ Chí Minh</td><td> Phường Thạnh Mỹ Lợi (Quận 2 cũ), Thành phố Thủ Đức, Tp Hồ Chí Minh</td></tr><tr><td>956</td><td> Phường Thảo Điền (Quận 2 cũ)</td><td>Thành phố Thủ Đức</td><td>Tp Hồ Chí Minh</td><td> Phường Thảo Điền (Quận 2 cũ), Thành phố Thủ Đức, Tp Hồ Chí Minh</td></tr><tr><td>957</td><td> Phường Thủ Thiêm (Quận 2 cũ)</td><td>Thành phố Thủ Đức</td><td>Tp Hồ Chí Minh</td><td> Phường Thủ Thiêm (Quận 2 cũ), Thành phố Thủ Đức, Tp Hồ Chí Minh</td></tr><tr><td>958</td><td> Phường Trường Thạnh (Quận 9 cũ)</td><td>Thành phố Thủ Đức</td><td>Tp Hồ Chí Minh</td><td> Phường Trường Thạnh (Quận 9 cũ), Thành phố Thủ Đức, Tp Hồ Chí Minh</td></tr><tr><td>959</td><td> Phường Trường Thọ (Quận Thủ Đức cũ)</td><td>Thành phố Thủ Đức</td><td>Tp Hồ Chí Minh</td><td> Phường Trường Thọ (Quận Thủ Đức cũ), Thành phố Thủ Đức, Tp Hồ Chí Minh</td></tr><tr><td>960</td><td> Phường Tân Phú (Quận 9 cũ)</td><td>Thành phố Thủ Đức</td><td>Tp Hồ Chí Minh</td><td> Phường Tân Phú (Quận 9 cũ), Thành phố Thủ Đức, Tp Hồ Chí Minh</td></tr><tr><td>961</td><td> Phường Tăng Nhơn Phú A (Quận 9 cũ)</td><td>Thành phố Thủ Đức</td><td>Tp Hồ Chí Minh</td><td> Phường Tăng Nhơn Phú A (Quận 9 cũ), Thành phố Thủ Đức, Tp Hồ Chí Minh</td></tr><tr><td>962</td><td> Phường Tăng Nhơn Phú B (Quận 9 cũ)</td><td>Thành phố Thủ Đức</td><td>Tp Hồ Chí Minh</td><td> Phường Tăng Nhơn Phú B (Quận 9 cũ), Thành phố Thủ Đức, Tp Hồ Chí Minh</td></tr><tr><td>963</td><td> Xã Nguyệt Hóa</td><td>Huyện Châu Thành</td><td>Trà Vinh</td><td> Xã Nguyệt Hóa, Huyện Châu Thành, Trà Vinh</td></tr><tr><td>964</td><td> Xã Huyền Hội</td><td>Huyện Càng Long</td><td>Trà Vinh</td><td> Xã Huyền Hội, Huyện Càng Long, Trà Vinh</td></tr><tr><td>965</td><td> Thị trấn Cầu Kè</td><td>Huyện Cầu Kè</td><td>Trà Vinh</td><td> Thị trấn Cầu Kè, Huyện Cầu Kè, Trà Vinh</td></tr><tr><td>966</td><td> Xã Phong Thạnh</td><td>Huyện Cầu Kè</td><td>Trà Vinh</td><td> Xã Phong Thạnh, Huyện Cầu Kè, Trà Vinh</td></tr><tr><td>967</td><td> Xã Định An</td><td>Huyện Trà Cú</td><td>Trà Vinh</td><td> Xã Định An, Huyện Trà Cú, Trà Vinh</td></tr><tr><td>968</td><td> Phường 4</td><td>Thành phố Trà Vinh</td><td>Trà Vinh</td><td> Phường 4, Thành phố Trà Vinh, Trà Vinh</td></tr><tr><td>969</td><td> Phường 9</td><td>Thành phố Trà Vinh</td><td>Trà Vinh</td><td> Phường 9, Thành phố Trà Vinh, Trà Vinh</td></tr><tr><td>970</td><td> Thị trấn Bến Cầu</td><td>Huyện Bến Cầu</td><td>Tây Ninh</td><td> Thị trấn Bến Cầu, Huyện Bến Cầu, Tây Ninh</td></tr><tr><td>971</td><td> Xã An Bình</td><td>Huyện Châu Thành</td><td>Tây Ninh</td><td> Xã An Bình, Huyện Châu Thành, Tây Ninh</td></tr><tr><td>972</td><td> Xã Trí Bình</td><td>Huyện Châu Thành</td><td>Tây Ninh</td><td> Xã Trí Bình, Huyện Châu Thành, Tây Ninh</td></tr><tr><td>973</td><td> Xã Phan</td><td>Huyện Dương Minh Châu</td><td>Tây Ninh</td><td> Xã Phan, Huyện Dương Minh Châu, Tây Ninh</td></tr><tr><td>974</td><td> Xã Phước Ninh</td><td>Huyện Dương Minh Châu</td><td>Tây Ninh</td><td> Xã Phước Ninh, Huyện Dương Minh Châu, Tây Ninh</td></tr><tr><td>975</td><td> Xã Suối Đá</td><td>Huyện Dương Minh Châu</td><td>Tây Ninh</td><td> Xã Suối Đá, Huyện Dương Minh Châu, Tây Ninh</td></tr><tr><td>976</td><td> Xã Bàu Đồn</td><td>Huyện Gò Dầu</td><td>Tây Ninh</td><td> Xã Bàu Đồn, Huyện Gò Dầu, Tây Ninh</td></tr><tr><td>977</td><td> Xã Cẩm Giang</td><td>Huyện Gò Dầu</td><td>Tây Ninh</td><td> Xã Cẩm Giang, Huyện Gò Dầu, Tây Ninh</td></tr><tr><td>978</td><td> Xã Hiệp Thạnh</td><td>Huyện Gò Dầu</td><td>Tây Ninh</td><td> Xã Hiệp Thạnh, Huyện Gò Dầu, Tây Ninh</td></tr><tr><td>979</td><td> Xã Phước Thạnh</td><td>Huyện Gò Dầu</td><td>Tây Ninh</td><td> Xã Phước Thạnh, Huyện Gò Dầu, Tây Ninh</td></tr><tr><td>980</td><td> Xã Phước Đông</td><td>Huyện Gò Dầu</td><td>Tây Ninh</td><td> Xã Phước Đông, Huyện Gò Dầu, Tây Ninh</td></tr><tr><td>981</td><td> Xã Thanh Phước</td><td>Huyện Gò Dầu</td><td>Tây Ninh</td><td> Xã Thanh Phước, Huyện Gò Dầu, Tây Ninh</td></tr><tr><td>982</td><td> Xã Thạnh Đức</td><td>Huyện Gò Dầu</td><td>Tây Ninh</td><td> Xã Thạnh Đức, Huyện Gò Dầu, Tây Ninh</td></tr><tr><td>983</td><td> Xã Hiệp Tân</td><td>Huyện Hòa Thành</td><td>Tây Ninh</td><td> Xã Hiệp Tân, Huyện Hòa Thành, Tây Ninh</td></tr><tr><td>984</td><td> Xã Long Thành Nam</td><td>Huyện Hòa Thành</td><td>Tây Ninh</td><td> Xã Long Thành Nam, Huyện Hòa Thành, Tây Ninh</td></tr><tr><td>985</td><td> Xã Long Thành Trung</td><td>Huyện Hòa Thành</td><td>Tây Ninh</td><td> Xã Long Thành Trung, Huyện Hòa Thành, Tây Ninh</td></tr><tr><td>986</td><td> Xã Trường Tây</td><td>Huyện Hòa Thành</td><td>Tây Ninh</td><td> Xã Trường Tây, Huyện Hòa Thành, Tây Ninh</td></tr><tr><td>987</td><td> Thị trấn Trảng Bàng</td><td>Huyện Trảng Bàng</td><td>Tây Ninh</td><td> Thị trấn Trảng Bàng, Huyện Trảng Bàng, Tây Ninh</td></tr><tr><td>988</td><td> Xã An Hòa</td><td>Huyện Trảng Bàng</td><td>Tây Ninh</td><td> Xã An Hòa, Huyện Trảng Bàng, Tây Ninh</td></tr><tr><td>989</td><td> Xã An Tịnh</td><td>Huyện Trảng Bàng</td><td>Tây Ninh</td><td> Xã An Tịnh, Huyện Trảng Bàng, Tây Ninh</td></tr><tr><td>990</td><td> Xã Gia Bình</td><td>Huyện Trảng Bàng</td><td>Tây Ninh</td><td> Xã Gia Bình, Huyện Trảng Bàng, Tây Ninh</td></tr><tr><td>991</td><td> Xã Gia Lộc</td><td>Huyện Trảng Bàng</td><td>Tây Ninh</td><td> Xã Gia Lộc, Huyện Trảng Bàng, Tây Ninh</td></tr><tr><td>992</td><td> Xã Lộc Hưng</td><td>Huyện Trảng Bàng</td><td>Tây Ninh</td><td> Xã Lộc Hưng, Huyện Trảng Bàng, Tây Ninh</td></tr><tr><td>993</td><td> Xã Phước Chỉ</td><td>Huyện Trảng Bàng</td><td>Tây Ninh</td><td> Xã Phước Chỉ, Huyện Trảng Bàng, Tây Ninh</td></tr><tr><td>994</td><td> Xã Thạnh Bình</td><td>Huyện Tân Biên</td><td>Tây Ninh</td><td> Xã Thạnh Bình, Huyện Tân Biên, Tây Ninh</td></tr><tr><td>995</td><td> Xã Tân Phong</td><td>Huyện Tân Biên</td><td>Tây Ninh</td><td> Xã Tân Phong, Huyện Tân Biên, Tây Ninh</td></tr><tr><td>996</td><td> Xã Thạnh Đông</td><td>Huyện Tân Châu</td><td>Tây Ninh</td><td> Xã Thạnh Đông, Huyện Tân Châu, Tây Ninh</td></tr><tr><td>997</td><td> Xã Tân Hội</td><td>Huyện Tân Châu</td><td>Tây Ninh</td><td> Xã Tân Hội, Huyện Tân Châu, Tây Ninh</td></tr><tr><td>998</td><td> Xã Tân Phú</td><td>Huyện Tân Châu</td><td>Tây Ninh</td><td> Xã Tân Phú, Huyện Tân Châu, Tây Ninh</td></tr><tr><td>999</td><td> Phường 4</td><td>Thành phố Tây Ninh</td><td>Tây Ninh</td><td> Phường 4, Thành phố Tây Ninh, Tây Ninh</td></tr><tr><td>1000</td><td> Phường Hiệp Ninh</td><td>Thành phố Tây Ninh</td><td>Tây Ninh</td><td> Phường Hiệp Ninh, Thành phố Tây Ninh, Tây Ninh</td></tr><tr><td>1001</td><td> Phường Ninh Sơn</td><td>Thành phố Tây Ninh</td><td>Tây Ninh</td><td> Phường Ninh Sơn, Thành phố Tây Ninh, Tây Ninh</td></tr><tr><td>1002</td><td> Phường Ninh Thạnh</td><td>Thành phố Tây Ninh</td><td>Tây Ninh</td><td> Phường Ninh Thạnh, Thành phố Tây Ninh, Tây Ninh</td></tr><tr><td>1003</td><td> Xã Thạnh Tân</td><td>Thành phố Tây Ninh</td><td>Tây Ninh</td><td> Xã Thạnh Tân, Thành phố Tây Ninh, Tây Ninh</td></tr><tr><td>1004</td><td> Xã Tân Quới</td><td>Huyện Bình Tân</td><td>Vĩnh Long</td><td> Xã Tân Quới, Huyện Bình Tân, Vĩnh Long</td></tr><tr><td>1005</td><td> Xã Hòa Phú</td><td>Huyện Long Hồ</td><td>Vĩnh Long</td><td> Xã Hòa Phú, Huyện Long Hồ, Vĩnh Long</td></tr><tr><td>1006</td><td> Xã Long Phước</td><td>Huyện Long Hồ</td><td>Vĩnh Long</td><td> Xã Long Phước, Huyện Long Hồ, Vĩnh Long</td></tr><tr><td>1007</td><td> Xã Phú Quới</td><td>Huyện Long Hồ</td><td>Vĩnh Long</td><td> Xã Phú Quới, Huyện Long Hồ, Vĩnh Long</td></tr><tr><td>1008</td><td> Xã Phú Đức</td><td>Huyện Long Hồ</td><td>Vĩnh Long</td><td> Xã Phú Đức, Huyện Long Hồ, Vĩnh Long</td></tr><tr><td>1009</td><td> Xã Ngãi Tứ</td><td>Huyện Tam Bình</td><td>Vĩnh Long</td><td> Xã Ngãi Tứ, Huyện Tam Bình, Vĩnh Long</td></tr><tr><td>1010</td><td> Xã Xuân Hiệp</td><td>Huyện Trà Ôn</td><td>Vĩnh Long</td><td> Xã Xuân Hiệp, Huyện Trà Ôn, Vĩnh Long</td></tr><tr><td>1011</td><td> Xã Trung Hiệp</td><td>Huyện Vũng Liêm</td><td>Vĩnh Long</td><td> Xã Trung Hiệp, Huyện Vũng Liêm, Vĩnh Long</td></tr><tr><td>1012</td><td> Xã Trung Ngãi</td><td>Huyện Vũng Liêm</td><td>Vĩnh Long</td><td> Xã Trung Ngãi, Huyện Vũng Liêm, Vĩnh Long</td></tr><tr><td>1013</td><td> Phường 3</td><td>Thành phố Vĩnh Long</td><td>Vĩnh Long</td><td> Phường 3, Thành phố Vĩnh Long, Vĩnh Long</td></tr><tr><td>1014</td><td> Phường 4</td><td>Thành phố Vĩnh Long</td><td>Vĩnh Long</td><td> Phường 4, Thành phố Vĩnh Long, Vĩnh Long</td></tr><tr><td>1015</td><td> Phường 8</td><td>Thành phố Vĩnh Long</td><td>Vĩnh Long</td><td> Phường 8, Thành phố Vĩnh Long, Vĩnh Long</td></tr><tr><td>1016</td><td> Phường 9</td><td>Thành phố Vĩnh Long</td><td>Vĩnh Long</td><td> Phường 9, Thành phố Vĩnh Long, Vĩnh Long</td></tr><tr><td>1017</td><td> Phường Thành Phước</td><td>Thị xã Bình Minh</td><td>Vĩnh Long</td><td> Phường Thành Phước, Thị xã Bình Minh, Vĩnh Long</td></tr><tr><td>1018</td><td> Xã Ngọc Thanh</td><td>Thành phố Phúc Yên</td><td>Vĩnh Phúc</td><td> Xã Ngọc Thanh, Thành phố Phúc Yên, Vĩnh Phúc</td></tr><tr><td>1019</td><td> Xã Hòa Châu</td><td>Huyện Hòa Vang</td><td>Đà Nẵng</td><td> Xã Hòa Châu, Huyện Hòa Vang, Đà Nẵng</td></tr><tr><td>1020</td><td> Xã Hòa Khương</td><td>Huyện Hòa Vang</td><td>Đà Nẵng</td><td> Xã Hòa Khương, Huyện Hòa Vang, Đà Nẵng</td></tr><tr><td>1021</td><td> Xã Hòa Nhơn</td><td>Huyện Hòa Vang</td><td>Đà Nẵng</td><td> Xã Hòa Nhơn, Huyện Hòa Vang, Đà Nẵng</td></tr><tr><td>1022</td><td> Xã Hòa Ninh</td><td>Huyện Hòa Vang</td><td>Đà Nẵng</td><td> Xã Hòa Ninh, Huyện Hòa Vang, Đà Nẵng</td></tr><tr><td>1023</td><td> Xã Hòa Phong</td><td>Huyện Hòa Vang</td><td>Đà Nẵng</td><td> Xã Hòa Phong, Huyện Hòa Vang, Đà Nẵng</td></tr><tr><td>1024</td><td> Xã Hòa Phú</td><td>Huyện Hòa Vang</td><td>Đà Nẵng</td><td> Xã Hòa Phú, Huyện Hòa Vang, Đà Nẵng</td></tr><tr><td>1025</td><td> Xã Hòa Phước</td><td>Huyện Hòa Vang</td><td>Đà Nẵng</td><td> Xã Hòa Phước, Huyện Hòa Vang, Đà Nẵng</td></tr><tr><td>1026</td><td> Xã Hòa Tiến</td><td>Huyện Hòa Vang</td><td>Đà Nẵng</td><td> Xã Hòa Tiến, Huyện Hòa Vang, Đà Nẵng</td></tr><tr><td>1027</td><td> Phường Hòa An</td><td>Quận Cẩm Lệ</td><td>Đà Nẵng</td><td> Phường Hòa An, Quận Cẩm Lệ, Đà Nẵng</td></tr><tr><td>1028</td><td> Phường Hòa Phát</td><td>Quận Cẩm Lệ</td><td>Đà Nẵng</td><td> Phường Hòa Phát, Quận Cẩm Lệ, Đà Nẵng</td></tr><tr><td>1029</td><td> Phường Hòa Thọ Tây</td><td>Quận Cẩm Lệ</td><td>Đà Nẵng</td><td> Phường Hòa Thọ Tây, Quận Cẩm Lệ, Đà Nẵng</td></tr><tr><td>1030</td><td> Phường Hòa Thọ Đông</td><td>Quận Cẩm Lệ</td><td>Đà Nẵng</td><td> Phường Hòa Thọ Đông, Quận Cẩm Lệ, Đà Nẵng</td></tr><tr><td>1031</td><td> Phường Hòa Xuân</td><td>Quận Cẩm Lệ</td><td>Đà Nẵng</td><td> Phường Hòa Xuân, Quận Cẩm Lệ, Đà Nẵng</td></tr><tr><td>1032</td><td> Phường Khuê Trung</td><td>Quận Cẩm Lệ</td><td>Đà Nẵng</td><td> Phường Khuê Trung, Quận Cẩm Lệ, Đà Nẵng</td></tr><tr><td>1033</td><td> Phường Hòa Cường Bắc</td><td>Quận Hải Châu</td><td>Đà Nẵng</td><td> Phường Hòa Cường Bắc, Quận Hải Châu, Đà Nẵng</td></tr><tr><td>1034</td><td> Phường Hòa Cường Nam</td><td>Quận Hải Châu</td><td>Đà Nẵng</td><td> Phường Hòa Cường Nam, Quận Hải Châu, Đà Nẵng</td></tr><tr><td>1035</td><td> Phường Hòa Thuận Tây</td><td>Quận Hải Châu</td><td>Đà Nẵng</td><td> Phường Hòa Thuận Tây, Quận Hải Châu, Đà Nẵng</td></tr><tr><td>1036</td><td> Phường Hòa Thuận Đông</td><td>Quận Hải Châu</td><td>Đà Nẵng</td><td> Phường Hòa Thuận Đông, Quận Hải Châu, Đà Nẵng</td></tr><tr><td>1037</td><td> Phường Hải Châu  I</td><td>Quận Hải Châu</td><td>Đà Nẵng</td><td> Phường Hải Châu  I, Quận Hải Châu, Đà Nẵng</td></tr><tr><td>1038</td><td> Phường Nam Dương</td><td>Quận Hải Châu</td><td>Đà Nẵng</td><td> Phường Nam Dương, Quận Hải Châu, Đà Nẵng</td></tr><tr><td>1039</td><td> Phường Phước Ninh</td><td>Quận Hải Châu</td><td>Đà Nẵng</td><td> Phường Phước Ninh, Quận Hải Châu, Đà Nẵng</td></tr><tr><td>1040</td><td> Phường Thanh Bình</td><td>Quận Hải Châu</td><td>Đà Nẵng</td><td> Phường Thanh Bình, Quận Hải Châu, Đà Nẵng</td></tr><tr><td>1041</td><td> Phường Thạch Thang</td><td>Quận Hải Châu</td><td>Đà Nẵng</td><td> Phường Thạch Thang, Quận Hải Châu, Đà Nẵng</td></tr><tr><td>1042</td><td> Phường Hòa Hiệp Bắc</td><td>Quận Liên Chiểu</td><td>Đà Nẵng</td><td> Phường Hòa Hiệp Bắc, Quận Liên Chiểu, Đà Nẵng</td></tr><tr><td>1043</td><td> Phường Hòa Hiệp Nam</td><td>Quận Liên Chiểu</td><td>Đà Nẵng</td><td> Phường Hòa Hiệp Nam, Quận Liên Chiểu, Đà Nẵng</td></tr><tr><td>1044</td><td> Phường Hòa Khánh Bắc</td><td>Quận Liên Chiểu</td><td>Đà Nẵng</td><td> Phường Hòa Khánh Bắc, Quận Liên Chiểu, Đà Nẵng</td></tr><tr><td>1045</td><td> Phường Hòa Khánh Nam</td><td>Quận Liên Chiểu</td><td>Đà Nẵng</td><td> Phường Hòa Khánh Nam, Quận Liên Chiểu, Đà Nẵng</td></tr><tr><td>1046</td><td> Phường Hòa Minh</td><td>Quận Liên Chiểu</td><td>Đà Nẵng</td><td> Phường Hòa Minh, Quận Liên Chiểu, Đà Nẵng</td></tr><tr><td>1047</td><td> Phường Hoà Hải</td><td>Quận Ngũ Hành Sơn</td><td>Đà Nẵng</td><td> Phường Hoà Hải, Quận Ngũ Hành Sơn, Đà Nẵng</td></tr><tr><td>1048</td><td> Phường Hoà Quý</td><td>Quận Ngũ Hành Sơn</td><td>Đà Nẵng</td><td> Phường Hoà Quý, Quận Ngũ Hành Sơn, Đà Nẵng</td></tr><tr><td>1049</td><td> Phường Khuê Mỹ</td><td>Quận Ngũ Hành Sơn</td><td>Đà Nẵng</td><td> Phường Khuê Mỹ, Quận Ngũ Hành Sơn, Đà Nẵng</td></tr><tr><td>1050</td><td> Phường Mỹ An</td><td>Quận Ngũ Hành Sơn</td><td>Đà Nẵng</td><td> Phường Mỹ An, Quận Ngũ Hành Sơn, Đà Nẵng</td></tr><tr><td>1051</td><td> Phường An Hải Bắc</td><td>Quận Sơn Trà</td><td>Đà Nẵng</td><td> Phường An Hải Bắc, Quận Sơn Trà, Đà Nẵng</td></tr><tr><td>1052</td><td> Phường An Hải Tây</td><td>Quận Sơn Trà</td><td>Đà Nẵng</td><td> Phường An Hải Tây, Quận Sơn Trà, Đà Nẵng</td></tr><tr><td>1053</td><td> Phường An Hải Đông</td><td>Quận Sơn Trà</td><td>Đà Nẵng</td><td> Phường An Hải Đông, Quận Sơn Trà, Đà Nẵng</td></tr><tr><td>1054</td><td> Phường Mân Thái</td><td>Quận Sơn Trà</td><td>Đà Nẵng</td><td> Phường Mân Thái, Quận Sơn Trà, Đà Nẵng</td></tr><tr><td>1055</td><td> Phường Nại Hiên Đông</td><td>Quận Sơn Trà</td><td>Đà Nẵng</td><td> Phường Nại Hiên Đông, Quận Sơn Trà, Đà Nẵng</td></tr><tr><td>1056</td><td> Phường Phước Mỹ</td><td>Quận Sơn Trà</td><td>Đà Nẵng</td><td> Phường Phước Mỹ, Quận Sơn Trà, Đà Nẵng</td></tr><tr><td>1057</td><td> Phường Thọ Quang</td><td>Quận Sơn Trà</td><td>Đà Nẵng</td><td> Phường Thọ Quang, Quận Sơn Trà, Đà Nẵng</td></tr><tr><td>1058</td><td> Phường An Khê</td><td>Quận Thanh Khê</td><td>Đà Nẵng</td><td> Phường An Khê, Quận Thanh Khê, Đà Nẵng</td></tr><tr><td>1059</td><td> Phường Chính Gián</td><td>Quận Thanh Khê</td><td>Đà Nẵng</td><td> Phường Chính Gián, Quận Thanh Khê, Đà Nẵng</td></tr><tr><td>1060</td><td> Phường Hòa Khê</td><td>Quận Thanh Khê</td><td>Đà Nẵng</td><td> Phường Hòa Khê, Quận Thanh Khê, Đà Nẵng</td></tr><tr><td>1061</td><td> Phường Tam Thuận</td><td>Quận Thanh Khê</td><td>Đà Nẵng</td><td> Phường Tam Thuận, Quận Thanh Khê, Đà Nẵng</td></tr><tr><td>1062</td><td> Phường Thanh Khê Tây</td><td>Quận Thanh Khê</td><td>Đà Nẵng</td><td> Phường Thanh Khê Tây, Quận Thanh Khê, Đà Nẵng</td></tr><tr><td>1063</td><td> Phường Thanh Khê Đông</td><td>Quận Thanh Khê</td><td>Đà Nẵng</td><td> Phường Thanh Khê Đông, Quận Thanh Khê, Đà Nẵng</td></tr><tr><td>1064</td><td> Phường Thạc Gián</td><td>Quận Thanh Khê</td><td>Đà Nẵng</td><td> Phường Thạc Gián, Quận Thanh Khê, Đà Nẵng</td></tr><tr><td>1065</td><td> Phường Tân Chính</td><td>Quận Thanh Khê</td><td>Đà Nẵng</td><td> Phường Tân Chính, Quận Thanh Khê, Đà Nẵng</td></tr><tr><td>1066</td><td> Phường Vĩnh Trung</td><td>Quận Thanh Khê</td><td>Đà Nẵng</td><td> Phường Vĩnh Trung, Quận Thanh Khê, Đà Nẵng</td></tr><tr><td>1067</td><td> Phường Xuân Hà</td><td>Quận Thanh Khê</td><td>Đà Nẵng</td><td> Phường Xuân Hà, Quận Thanh Khê, Đà Nẵng</td></tr><tr><td>1068</td><td> Xã Ea Bar</td><td>Huyện Buôn Đôn</td><td>Đắk Lắk</td><td> Xã Ea Bar, Huyện Buôn Đôn, Đắk Lắk</td></tr><tr><td>1069</td><td> Xã Tân Hoà</td><td>Huyện Buôn Đôn</td><td>Đắk Lắk</td><td> Xã Tân Hoà, Huyện Buôn Đôn, Đắk Lắk</td></tr><tr><td>1070</td><td> Xã Dray Bhăng</td><td>Huyện Cư Kuin</td><td>Đắk Lắk</td><td> Xã Dray Bhăng, Huyện Cư Kuin, Đắk Lắk</td></tr><tr><td>1071</td><td> Thị trấn Ea Pốk</td><td>Huyện Cư M'gar</td><td>Đắk Lắk</td><td> Thị trấn Ea Pốk, Huyện Cư M'gar, Đắk Lắk</td></tr><tr><td>1072</td><td> Xã Cuor Đăng</td><td>Huyện Cư M'gar</td><td>Đắk Lắk</td><td> Xã Cuor Đăng, Huyện Cư M'gar, Đắk Lắk</td></tr><tr><td>1073</td><td> Xã Ea D'Rơng</td><td>Huyện Cư M'gar</td><td>Đắk Lắk</td><td> Xã Ea D'Rơng, Huyện Cư M'gar, Đắk Lắk</td></tr><tr><td>1074</td><td> Xã Ea H'đinh</td><td>Huyện Cư M'gar</td><td>Đắk Lắk</td><td> Xã Ea H'đinh, Huyện Cư M'gar, Đắk Lắk</td></tr><tr><td>1075</td><td> Xã Ea Kiết</td><td>Huyện Cư M'gar</td><td>Đắk Lắk</td><td> Xã Ea Kiết, Huyện Cư M'gar, Đắk Lắk</td></tr><tr><td>1076</td><td> Xã Ea Kuêh</td><td>Huyện Cư M'gar</td><td>Đắk Lắk</td><td> Xã Ea Kuêh, Huyện Cư M'gar, Đắk Lắk</td></tr><tr><td>1077</td><td> Xã Ea Sô</td><td>Huyện Ea Kar</td><td>Đắk Lắk</td><td> Xã Ea Sô, Huyện Ea Kar, Đắk Lắk</td></tr><tr><td>1078</td><td> Xã Ea Na</td><td>Huyện Krông A Na</td><td>Đắk Lắk</td><td> Xã Ea Na, Huyện Krông A Na, Đắk Lắk</td></tr><tr><td>1079</td><td> Xã Pơng Drang</td><td>Huyện Krông Búk</td><td>Đắk Lắk</td><td> Xã Pơng Drang, Huyện Krông Búk, Đắk Lắk</td></tr><tr><td>1080</td><td> Xã Phú Lộc</td><td>Huyện Krông Năng</td><td>Đắk Lắk</td><td> Xã Phú Lộc, Huyện Krông Năng, Đắk Lắk</td></tr><tr><td>1081</td><td> Xã Ea KNuec</td><td>Huyện Krông Pắc</td><td>Đắk Lắk</td><td> Xã Ea KNuec, Huyện Krông Pắc, Đắk Lắk</td></tr><tr><td>1082</td><td> Xã Ea Kly</td><td>Huyện Krông Pắc</td><td>Đắk Lắk</td><td> Xã Ea Kly, Huyện Krông Pắc, Đắk Lắk</td></tr><tr><td>1083</td><td> Xã Hòa Đông</td><td>Huyện Krông Pắc</td><td>Đắk Lắk</td><td> Xã Hòa Đông, Huyện Krông Pắc, Đắk Lắk</td></tr><tr><td>1084</td><td> Phường Ea Tam</td><td>Thành phố Buôn Ma Thuột</td><td>Đắk Lắk</td><td> Phường Ea Tam, Thành phố Buôn Ma Thuột, Đắk Lắk</td></tr><tr><td>1085</td><td> Phường Khánh Xuân</td><td>Thành phố Buôn Ma Thuột</td><td>Đắk Lắk</td><td> Phường Khánh Xuân, Thành phố Buôn Ma Thuột, Đắk Lắk</td></tr><tr><td>1086</td><td> Phường Thành Công</td><td>Thành phố Buôn Ma Thuột</td><td>Đắk Lắk</td><td> Phường Thành Công, Thành phố Buôn Ma Thuột, Đắk Lắk</td></tr><tr><td>1087</td><td> Phường Thành Nhất</td><td>Thành phố Buôn Ma Thuột</td><td>Đắk Lắk</td><td> Phường Thành Nhất, Thành phố Buôn Ma Thuột, Đắk Lắk</td></tr><tr><td>1088</td><td> Phường Tân Lập</td><td>Thành phố Buôn Ma Thuột</td><td>Đắk Lắk</td><td> Phường Tân Lập, Thành phố Buôn Ma Thuột, Đắk Lắk</td></tr><tr><td>1089</td><td> Phường Tân Lợi</td><td>Thành phố Buôn Ma Thuột</td><td>Đắk Lắk</td><td> Phường Tân Lợi, Thành phố Buôn Ma Thuột, Đắk Lắk</td></tr><tr><td>1090</td><td> Phường Tân Thành</td><td>Thành phố Buôn Ma Thuột</td><td>Đắk Lắk</td><td> Phường Tân Thành, Thành phố Buôn Ma Thuột, Đắk Lắk</td></tr><tr><td>1091</td><td> Phường Tân Tiến</td><td>Thành phố Buôn Ma Thuột</td><td>Đắk Lắk</td><td> Phường Tân Tiến, Thành phố Buôn Ma Thuột, Đắk Lắk</td></tr><tr><td>1092</td><td> Xã Cư ÊBur</td><td>Thành phố Buôn Ma Thuột</td><td>Đắk Lắk</td><td> Xã Cư ÊBur, Thành phố Buôn Ma Thuột, Đắk Lắk</td></tr><tr><td>1093</td><td> Xã Ea Kao</td><td>Thành phố Buôn Ma Thuột</td><td>Đắk Lắk</td><td> Xã Ea Kao, Thành phố Buôn Ma Thuột, Đắk Lắk</td></tr><tr><td>1094</td><td> Xã Ea Tu</td><td>Thành phố Buôn Ma Thuột</td><td>Đắk Lắk</td><td> Xã Ea Tu, Thành phố Buôn Ma Thuột, Đắk Lắk</td></tr><tr><td>1095</td><td> Xã Hòa Thắng</td><td>Thành phố Buôn Ma Thuột</td><td>Đắk Lắk</td><td> Xã Hòa Thắng, Thành phố Buôn Ma Thuột, Đắk Lắk</td></tr><tr><td>1096</td><td> Xã Hòa Xuân</td><td>Thành phố Buôn Ma Thuột</td><td>Đắk Lắk</td><td> Xã Hòa Xuân, Thành phố Buôn Ma Thuột, Đắk Lắk</td></tr><tr><td>1097</td><td> Phường An Lạc</td><td>Thị Xã Buôn Hồ</td><td>Đắk Lắk</td><td> Phường An Lạc, Thị Xã Buôn Hồ, Đắk Lắk</td></tr><tr><td>1098</td><td> Phường Đoàn Kết</td><td>Thị Xã Buôn Hồ</td><td>Đắk Lắk</td><td> Phường Đoàn Kết, Thị Xã Buôn Hồ, Đắk Lắk</td></tr><tr><td>1099</td><td> Xã Ea Pô</td><td>Huyện Cư Jút</td><td>Đắk Nông</td><td> Xã Ea Pô, Huyện Cư Jút, Đắk Nông</td></tr><tr><td>1100</td><td> Xã Tâm Thắng</td><td>Huyện Cư Jút</td><td>Đắk Nông</td><td> Xã Tâm Thắng, Huyện Cư Jút, Đắk Nông</td></tr><tr><td>1101</td><td> Xã Quảng Tâm</td><td>Huyện Tuy Đức</td><td>Đắk Nông</td><td> Xã Quảng Tâm, Huyện Tuy Đức, Đắk Nông</td></tr><tr><td>1102</td><td> Xã Quảng Tân</td><td>Huyện Tuy Đức</td><td>Đắk Nông</td><td> Xã Quảng Tân, Huyện Tuy Đức, Đắk Nông</td></tr><tr><td>1103</td><td> Xã Quảng Sơn</td><td>Huyện Đăk Glong</td><td>Đắk Nông</td><td> Xã Quảng Sơn, Huyện Đăk Glong, Đắk Nông</td></tr><tr><td>1104</td><td> Xã Xuân Mỹ</td><td>Huyện Cẩm Mỹ</td><td>Đồng Nai</td><td> Xã Xuân Mỹ, Huyện Cẩm Mỹ, Đồng Nai</td></tr><tr><td>1105</td><td> Xã Xuân Tây</td><td>Huyện Cẩm Mỹ</td><td>Đồng Nai</td><td> Xã Xuân Tây, Huyện Cẩm Mỹ, Đồng Nai</td></tr><tr><td>1106</td><td> Xã Xuân Đông</td><td>Huyện Cẩm Mỹ</td><td>Đồng Nai</td><td> Xã Xuân Đông, Huyện Cẩm Mỹ, Đồng Nai</td></tr><tr><td>1107</td><td> Thị trấn Long Thành</td><td>Huyện Long Thành</td><td>Đồng Nai</td><td> Thị trấn Long Thành, Huyện Long Thành, Đồng Nai</td></tr><tr><td>1108</td><td> Xã An Phước</td><td>Huyện Long Thành</td><td>Đồng Nai</td><td> Xã An Phước, Huyện Long Thành, Đồng Nai</td></tr><tr><td>1109</td><td> Xã Bàu Cạn</td><td>Huyện Long Thành</td><td>Đồng Nai</td><td> Xã Bàu Cạn, Huyện Long Thành, Đồng Nai</td></tr><tr><td>1110</td><td> Xã Bình Sơn</td><td>Huyện Long Thành</td><td>Đồng Nai</td><td> Xã Bình Sơn, Huyện Long Thành, Đồng Nai</td></tr><tr><td>1111</td><td> Xã Long An</td><td>Huyện Long Thành</td><td>Đồng Nai</td><td> Xã Long An, Huyện Long Thành, Đồng Nai</td></tr><tr><td>1112</td><td> Xã Long Phước</td><td>Huyện Long Thành</td><td>Đồng Nai</td><td> Xã Long Phước, Huyện Long Thành, Đồng Nai</td></tr><tr><td>1113</td><td> Xã Lộc An</td><td>Huyện Long Thành</td><td>Đồng Nai</td><td> Xã Lộc An, Huyện Long Thành, Đồng Nai</td></tr><tr><td>1114</td><td> Xã Phước Thái</td><td>Huyện Long Thành</td><td>Đồng Nai</td><td> Xã Phước Thái, Huyện Long Thành, Đồng Nai</td></tr><tr><td>1115</td><td> Xã Tam An</td><td>Huyện Long Thành</td><td>Đồng Nai</td><td> Xã Tam An, Huyện Long Thành, Đồng Nai</td></tr><tr><td>1116</td><td> Xã Long Thọ</td><td>Huyện Nhơn Trạch</td><td>Đồng Nai</td><td> Xã Long Thọ, Huyện Nhơn Trạch, Đồng Nai</td></tr><tr><td>1117</td><td> Xã Long Tân</td><td>Huyện Nhơn Trạch</td><td>Đồng Nai</td><td> Xã Long Tân, Huyện Nhơn Trạch, Đồng Nai</td></tr><tr><td>1118</td><td> Xã Phú Hội</td><td>Huyện Nhơn Trạch</td><td>Đồng Nai</td><td> Xã Phú Hội, Huyện Nhơn Trạch, Đồng Nai</td></tr><tr><td>1119</td><td> Xã Phú Hữu</td><td>Huyện Nhơn Trạch</td><td>Đồng Nai</td><td> Xã Phú Hữu, Huyện Nhơn Trạch, Đồng Nai</td></tr><tr><td>1120</td><td> Xã Phú Đông</td><td>Huyện Nhơn Trạch</td><td>Đồng Nai</td><td> Xã Phú Đông, Huyện Nhơn Trạch, Đồng Nai</td></tr><tr><td>1121</td><td> Xã Phước An</td><td>Huyện Nhơn Trạch</td><td>Đồng Nai</td><td> Xã Phước An, Huyện Nhơn Trạch, Đồng Nai</td></tr><tr><td>1122</td><td> Xã Phước Khánh</td><td>Huyện Nhơn Trạch</td><td>Đồng Nai</td><td> Xã Phước Khánh, Huyện Nhơn Trạch, Đồng Nai</td></tr><tr><td>1123</td><td> Xã Vĩnh Thanh</td><td>Huyện Nhơn Trạch</td><td>Đồng Nai</td><td> Xã Vĩnh Thanh, Huyện Nhơn Trạch, Đồng Nai</td></tr><tr><td>1124</td><td> Xã Đại Phước</td><td>Huyện Nhơn Trạch</td><td>Đồng Nai</td><td> Xã Đại Phước, Huyện Nhơn Trạch, Đồng Nai</td></tr><tr><td>1125</td><td> Thị trấn Dầu Giây</td><td>Huyện Thống Nhất</td><td>Đồng Nai</td><td> Thị trấn Dầu Giây, Huyện Thống Nhất, Đồng Nai</td></tr><tr><td>1126</td><td> Xã Gia Kiệm</td><td>Huyện Thống Nhất</td><td>Đồng Nai</td><td> Xã Gia Kiệm, Huyện Thống Nhất, Đồng Nai</td></tr><tr><td>1127</td><td> Xã Gia Tân 2</td><td>Huyện Thống Nhất</td><td>Đồng Nai</td><td> Xã Gia Tân 2, Huyện Thống Nhất, Đồng Nai</td></tr><tr><td>1128</td><td> Xã Hưng Lộc</td><td>Huyện Thống Nhất</td><td>Đồng Nai</td><td> Xã Hưng Lộc, Huyện Thống Nhất, Đồng Nai</td></tr><tr><td>1129</td><td> Thị trấn Trảng Bom</td><td>Huyện Trảng Bom</td><td>Đồng Nai</td><td> Thị trấn Trảng Bom, Huyện Trảng Bom, Đồng Nai</td></tr><tr><td>1130</td><td> Xã An Viễn</td><td>Huyện Trảng Bom</td><td>Đồng Nai</td><td> Xã An Viễn, Huyện Trảng Bom, Đồng Nai</td></tr><tr><td>1131</td><td> Xã Bàu Hàm</td><td>Huyện Trảng Bom</td><td>Đồng Nai</td><td> Xã Bàu Hàm, Huyện Trảng Bom, Đồng Nai</td></tr><tr><td>1132</td><td> Xã Bình Minh</td><td>Huyện Trảng Bom</td><td>Đồng Nai</td><td> Xã Bình Minh, Huyện Trảng Bom, Đồng Nai</td></tr><tr><td>1133</td><td> Xã Bắc Sơn</td><td>Huyện Trảng Bom</td><td>Đồng Nai</td><td> Xã Bắc Sơn, Huyện Trảng Bom, Đồng Nai</td></tr><tr><td>1134</td><td> Xã Cây Gáo</td><td>Huyện Trảng Bom</td><td>Đồng Nai</td><td> Xã Cây Gáo, Huyện Trảng Bom, Đồng Nai</td></tr><tr><td>1135</td><td> Xã Hưng Thịnh</td><td>Huyện Trảng Bom</td><td>Đồng Nai</td><td> Xã Hưng Thịnh, Huyện Trảng Bom, Đồng Nai</td></tr><tr><td>1136</td><td> Xã Hố Nai 3</td><td>Huyện Trảng Bom</td><td>Đồng Nai</td><td> Xã Hố Nai 3, Huyện Trảng Bom, Đồng Nai</td></tr><tr><td>1137</td><td> Xã Quảng Tiến</td><td>Huyện Trảng Bom</td><td>Đồng Nai</td><td> Xã Quảng Tiến, Huyện Trảng Bom, Đồng Nai</td></tr><tr><td>1138</td><td> Xã Sông Thao</td><td>Huyện Trảng Bom</td><td>Đồng Nai</td><td> Xã Sông Thao, Huyện Trảng Bom, Đồng Nai</td></tr><tr><td>1139</td><td> Xã Sông Trầu</td><td>Huyện Trảng Bom</td><td>Đồng Nai</td><td> Xã Sông Trầu, Huyện Trảng Bom, Đồng Nai</td></tr><tr><td>1140</td><td> Xã Trung Hoà</td><td>Huyện Trảng Bom</td><td>Đồng Nai</td><td> Xã Trung Hoà, Huyện Trảng Bom, Đồng Nai</td></tr><tr><td>1141</td><td> Xã Tây Hoà</td><td>Huyện Trảng Bom</td><td>Đồng Nai</td><td> Xã Tây Hoà, Huyện Trảng Bom, Đồng Nai</td></tr><tr><td>1142</td><td> Xã Đông Hoà</td><td>Huyện Trảng Bom</td><td>Đồng Nai</td><td> Xã Đông Hoà, Huyện Trảng Bom, Đồng Nai</td></tr><tr><td>1143</td><td> Xã Đồi 61</td><td>Huyện Trảng Bom</td><td>Đồng Nai</td><td> Xã Đồi 61, Huyện Trảng Bom, Đồng Nai</td></tr><tr><td>1144</td><td> Xã Phú Lập</td><td>Huyện Tân Phú</td><td>Đồng Nai</td><td> Xã Phú Lập, Huyện Tân Phú, Đồng Nai</td></tr><tr><td>1145</td><td> Xã Phú Điền</td><td>Huyện Tân Phú</td><td>Đồng Nai</td><td> Xã Phú Điền, Huyện Tân Phú, Đồng Nai</td></tr><tr><td>1146</td><td> Xã Trà Cổ</td><td>Huyện Tân Phú</td><td>Đồng Nai</td><td> Xã Trà Cổ, Huyện Tân Phú, Đồng Nai</td></tr><tr><td>1147</td><td> Xã Tà Lài</td><td>Huyện Tân Phú</td><td>Đồng Nai</td><td> Xã Tà Lài, Huyện Tân Phú, Đồng Nai</td></tr><tr><td>1148</td><td> Xã Bình Lợi</td><td>Huyện Vĩnh Cửu</td><td>Đồng Nai</td><td> Xã Bình Lợi, Huyện Vĩnh Cửu, Đồng Nai</td></tr><tr><td>1149</td><td> Xã Hiếu Liêm</td><td>Huyện Vĩnh Cửu</td><td>Đồng Nai</td><td> Xã Hiếu Liêm, Huyện Vĩnh Cửu, Đồng Nai</td></tr><tr><td>1150</td><td> Xã Thạnh Phú</td><td>Huyện Vĩnh Cửu</td><td>Đồng Nai</td><td> Xã Thạnh Phú, Huyện Vĩnh Cửu, Đồng Nai</td></tr><tr><td>1151</td><td> Xã Tân Bình</td><td>Huyện Vĩnh Cửu</td><td>Đồng Nai</td><td> Xã Tân Bình, Huyện Vĩnh Cửu, Đồng Nai</td></tr><tr><td>1152</td><td> Xã Bảo Hoà</td><td>Huyện Xuân Lộc</td><td>Đồng Nai</td><td> Xã Bảo Hoà, Huyện Xuân Lộc, Đồng Nai</td></tr><tr><td>1153</td><td> Xã La Ngà</td><td>Huyện Định Quán</td><td>Đồng Nai</td><td> Xã La Ngà, Huyện Định Quán, Đồng Nai</td></tr><tr><td>1154</td><td> Xã Phú Ngọc</td><td>Huyện Định Quán</td><td>Đồng Nai</td><td> Xã Phú Ngọc, Huyện Định Quán, Đồng Nai</td></tr><tr><td>1155</td><td> Xã Phú Túc</td><td>Huyện Định Quán</td><td>Đồng Nai</td><td> Xã Phú Túc, Huyện Định Quán, Đồng Nai</td></tr><tr><td>1156</td><td> Xã Túc Trưng</td><td>Huyện Định Quán</td><td>Đồng Nai</td><td> Xã Túc Trưng, Huyện Định Quán, Đồng Nai</td></tr><tr><td>1157</td><td> Phường Bình Đa</td><td>Thành phố Biên Hòa</td><td>Đồng Nai</td><td> Phường Bình Đa, Thành phố Biên Hòa, Đồng Nai</td></tr><tr><td>1158</td><td> Phường Bửu Hòa</td><td>Thành phố Biên Hòa</td><td>Đồng Nai</td><td> Phường Bửu Hòa, Thành phố Biên Hòa, Đồng Nai</td></tr><tr><td>1159</td><td> Phường Bửu Long</td><td>Thành phố Biên Hòa</td><td>Đồng Nai</td><td> Phường Bửu Long, Thành phố Biên Hòa, Đồng Nai</td></tr><tr><td>1160</td><td> Phường Hiệp Hoà</td><td>Thành phố Biên Hòa</td><td>Đồng Nai</td><td> Phường Hiệp Hoà, Thành phố Biên Hòa, Đồng Nai</td></tr><tr><td>1161</td><td> Phường Hoá An</td><td>Thành phố Biên Hòa</td><td>Đồng Nai</td><td> Phường Hoá An, Thành phố Biên Hòa, Đồng Nai</td></tr><tr><td>1162</td><td> Phường Hố Nai</td><td>Thành phố Biên Hòa</td><td>Đồng Nai</td><td> Phường Hố Nai, Thành phố Biên Hòa, Đồng Nai</td></tr><tr><td>1163</td><td> Phường Long Bình</td><td>Thành phố Biên Hòa</td><td>Đồng Nai</td><td> Phường Long Bình, Thành phố Biên Hòa, Đồng Nai</td></tr><tr><td>1164</td><td> Phường Long Bình Tân</td><td>Thành phố Biên Hòa</td><td>Đồng Nai</td><td> Phường Long Bình Tân, Thành phố Biên Hòa, Đồng Nai</td></tr><tr><td>1165</td><td> Phường Phước Tân</td><td>Thành phố Biên Hòa</td><td>Đồng Nai</td><td> Phường Phước Tân, Thành phố Biên Hòa, Đồng Nai</td></tr><tr><td>1166</td><td> Phường Quang Vinh</td><td>Thành phố Biên Hòa</td><td>Đồng Nai</td><td> Phường Quang Vinh, Thành phố Biên Hòa, Đồng Nai</td></tr><tr><td>1167</td><td> Phường Tam Hòa</td><td>Thành phố Biên Hòa</td><td>Đồng Nai</td><td> Phường Tam Hòa, Thành phố Biên Hòa, Đồng Nai</td></tr><tr><td>1168</td><td> Phường Tam Phước</td><td>Thành phố Biên Hòa</td><td>Đồng Nai</td><td> Phường Tam Phước, Thành phố Biên Hòa, Đồng Nai</td></tr><tr><td>1169</td><td> Phường Trảng Dài</td><td>Thành phố Biên Hòa</td><td>Đồng Nai</td><td> Phường Trảng Dài, Thành phố Biên Hòa, Đồng Nai</td></tr><tr><td>1170</td><td> Phường Tân Biên</td><td>Thành phố Biên Hòa</td><td>Đồng Nai</td><td> Phường Tân Biên, Thành phố Biên Hòa, Đồng Nai</td></tr><tr><td>1171</td><td> Phường Tân Hiệp</td><td>Thành phố Biên Hòa</td><td>Đồng Nai</td><td> Phường Tân Hiệp, Thành phố Biên Hòa, Đồng Nai</td></tr><tr><td>1172</td><td> Phường Tân Phong</td><td>Thành phố Biên Hòa</td><td>Đồng Nai</td><td> Phường Tân Phong, Thành phố Biên Hòa, Đồng Nai</td></tr><tr><td>1173</td><td> Phường Tân Vạn</td><td>Thành phố Biên Hòa</td><td>Đồng Nai</td><td> Phường Tân Vạn, Thành phố Biên Hòa, Đồng Nai</td></tr><tr><td>1174</td><td> Xã Long Hưng</td><td>Thành phố Biên Hòa</td><td>Đồng Nai</td><td> Xã Long Hưng, Thành phố Biên Hòa, Đồng Nai</td></tr><tr><td>1175</td><td> Phường Bảo Vinh</td><td>Thành phố Long Khánh</td><td>Đồng Nai</td><td> Phường Bảo Vinh, Thành phố Long Khánh, Đồng Nai</td></tr><tr><td>1176</td><td> Xã Bàu Trâm</td><td>Thành phố Long Khánh</td><td>Đồng Nai</td><td> Xã Bàu Trâm, Thành phố Long Khánh, Đồng Nai</td></tr><tr><td>1177</td><td> Xã Bình Lộc</td><td>Thành phố Long Khánh</td><td>Đồng Nai</td><td> Xã Bình Lộc, Thành phố Long Khánh, Đồng Nai</td></tr><tr><td>1178</td><td> Xã Bảo Quang</td><td>Thành phố Long Khánh</td><td>Đồng Nai</td><td> Xã Bảo Quang, Thành phố Long Khánh, Đồng Nai</td></tr><tr><td>1179</td><td> Xã Mỹ Hiệp</td><td>Huyện Cao Lãnh</td><td>Đồng Tháp</td><td> Xã Mỹ Hiệp, Huyện Cao Lãnh, Đồng Tháp</td></tr><tr><td>1180</td><td> Xã Tân Nhuận Đông</td><td>Huyện Châu Thành</td><td>Đồng Tháp</td><td> Xã Tân Nhuận Đông, Huyện Châu Thành, Đồng Tháp</td></tr><tr><td>1181</td><td> Xã An Long</td><td>Huyện Tam Nông</td><td>Đồng Tháp</td><td> Xã An Long, Huyện Tam Nông, Đồng Tháp</td></tr><tr><td>1182</td><td> Xã Hoà Bình</td><td>Huyện Tam Nông</td><td>Đồng Tháp</td><td> Xã Hoà Bình, Huyện Tam Nông, Đồng Tháp</td></tr><tr><td>1183</td><td> Xã An Phong</td><td>Huyện Thanh Bình</td><td>Đồng Tháp</td><td> Xã An Phong, Huyện Thanh Bình, Đồng Tháp</td></tr><tr><td>1184</td><td> Thị trấn Mỹ An</td><td>Huyện Tháp Mười</td><td>Đồng Tháp</td><td> Thị trấn Mỹ An, Huyện Tháp Mười, Đồng Tháp</td></tr><tr><td>1185</td><td> Xã An Phước</td><td>Huyện Tân Hồng</td><td>Đồng Tháp</td><td> Xã An Phước, Huyện Tân Hồng, Đồng Tháp</td></tr><tr><td>1186</td><td> Phường An Thạnh</td><td>Thành phố Hồng Ngự</td><td>Đồng Tháp</td><td> Phường An Thạnh, Thành phố Hồng Ngự, Đồng Tháp</td></tr><tr><td>1187</td><td> Phường 2</td><td>Thành phố Sa Đéc</td><td>Đồng Tháp</td><td> Phường 2, Thành phố Sa Đéc, Đồng Tháp</td></tr><tr><td>1188</td><td> Xã Tân Phú Đông</td><td>Thành phố Sa Đéc</td><td>Đồng Tháp</td><td> Xã Tân Phú Đông, Thành phố Sa Đéc, Đồng Tháp</td></tr><tr><td>1189</td><td> Xã Tân Quy Tây</td><td>Thành phố Sa Đéc</td><td>Đồng Tháp</td><td> Xã Tân Quy Tây, Thành phố Sa Đéc, Đồng Tháp</td></tr></tbody></table></div>"
      ]
     },
     "metadata": {
      "application/vnd.databricks.v1+output": {
       "addedWidgets": {},
       "aggData": [],
       "aggError": "",
       "aggOverflow": false,
       "aggSchema": [],
       "aggSeriesLimitReached": false,
       "aggType": "",
       "arguments": {},
       "columnCustomDisplayInfos": {},
       "data": [
        [
         0,
         " Phường Châu Phú A",
         "Thành phố Châu Đốc",
         "An Giang",
         " Phường Châu Phú A, Thành phố Châu Đốc, An Giang"
        ],
        [
         1,
         " Phường Vĩnh Mỹ",
         "Thành phố Châu Đốc",
         "An Giang",
         " Phường Vĩnh Mỹ, Thành phố Châu Đốc, An Giang"
        ],
        [
         2,
         " Phường Mỹ Bình",
         "Thành phố Long Xuyên",
         "An Giang",
         " Phường Mỹ Bình, Thành phố Long Xuyên, An Giang"
        ],
        [
         3,
         " Phường Mỹ Hòa",
         "Thành phố Long Xuyên",
         "An Giang",
         " Phường Mỹ Hòa, Thành phố Long Xuyên, An Giang"
        ],
        [
         4,
         " Phường Mỹ Quý",
         "Thành phố Long Xuyên",
         "An Giang",
         " Phường Mỹ Quý, Thành phố Long Xuyên, An Giang"
        ],
        [
         5,
         " Phường Mỹ Xuyên",
         "Thành phố Long Xuyên",
         "An Giang",
         " Phường Mỹ Xuyên, Thành phố Long Xuyên, An Giang"
        ],
        [
         6,
         " Thị trấn Ngãi Giao",
         "Huyện Châu Đức",
         "Bà Rịa - Vũng Tàu",
         " Thị trấn Ngãi Giao, Huyện Châu Đức, Bà Rịa - Vũng Tàu"
        ],
        [
         7,
         " Xã Bàu Chinh",
         "Huyện Châu Đức",
         "Bà Rịa - Vũng Tàu",
         " Xã Bàu Chinh, Huyện Châu Đức, Bà Rịa - Vũng Tàu"
        ],
        [
         8,
         " Xã Bình Giã",
         "Huyện Châu Đức",
         "Bà Rịa - Vũng Tàu",
         " Xã Bình Giã, Huyện Châu Đức, Bà Rịa - Vũng Tàu"
        ],
        [
         9,
         " Xã Nghĩa Thành",
         "Huyện Châu Đức",
         "Bà Rịa - Vũng Tàu",
         " Xã Nghĩa Thành, Huyện Châu Đức, Bà Rịa - Vũng Tàu"
        ],
        [
         10,
         " Xã Xà Bang",
         "Huyện Châu Đức",
         "Bà Rịa - Vũng Tàu",
         " Xã Xà Bang, Huyện Châu Đức, Bà Rịa - Vũng Tàu"
        ],
        [
         11,
         " Xã Đá Bạc",
         "Huyện Châu Đức",
         "Bà Rịa - Vũng Tàu",
         " Xã Đá Bạc, Huyện Châu Đức, Bà Rịa - Vũng Tàu"
        ],
        [
         12,
         " Xã Phước Hưng",
         "Huyện Long Điền",
         "Bà Rịa - Vũng Tàu",
         " Xã Phước Hưng, Huyện Long Điền, Bà Rịa - Vũng Tàu"
        ],
        [
         13,
         " Xã Tam Phước",
         "Huyện Long Điền",
         "Bà Rịa - Vũng Tàu",
         " Xã Tam Phước, Huyện Long Điền, Bà Rịa - Vũng Tàu"
        ],
        [
         14,
         " Thị trấn Phước Bửu",
         "Huyện Xuyên Mộc",
         "Bà Rịa - Vũng Tàu",
         " Thị trấn Phước Bửu, Huyện Xuyên Mộc, Bà Rịa - Vũng Tàu"
        ],
        [
         15,
         " Xã Bình Châu",
         "Huyện Xuyên Mộc",
         "Bà Rịa - Vũng Tàu",
         " Xã Bình Châu, Huyện Xuyên Mộc, Bà Rịa - Vũng Tàu"
        ],
        [
         16,
         " Xã Bông Trang",
         "Huyện Xuyên Mộc",
         "Bà Rịa - Vũng Tàu",
         " Xã Bông Trang, Huyện Xuyên Mộc, Bà Rịa - Vũng Tàu"
        ],
        [
         17,
         " Xã Xuyên Mộc",
         "Huyện Xuyên Mộc",
         "Bà Rịa - Vũng Tàu",
         " Xã Xuyên Mộc, Huyện Xuyên Mộc, Bà Rịa - Vũng Tàu"
        ],
        [
         18,
         "undefined",
         "Huyện Xuyên Mộc",
         "Bà Rịa - Vũng Tàu",
         "undefined, Huyện Xuyên Mộc, Bà Rịa - Vũng Tàu"
        ],
        [
         19,
         " Thị trấn Phước Hải",
         "Huyện Đất Đỏ",
         "Bà Rịa - Vũng Tàu",
         " Thị trấn Phước Hải, Huyện Đất Đỏ, Bà Rịa - Vũng Tàu"
        ],
        [
         20,
         " Thị trấn Đất Đỏ",
         "Huyện Đất Đỏ",
         "Bà Rịa - Vũng Tàu",
         " Thị trấn Đất Đỏ, Huyện Đất Đỏ, Bà Rịa - Vũng Tàu"
        ],
        [
         21,
         " Xã Long Mỹ",
         "Huyện Đất Đỏ",
         "Bà Rịa - Vũng Tàu",
         " Xã Long Mỹ, Huyện Đất Đỏ, Bà Rịa - Vũng Tàu"
        ],
        [
         22,
         " Xã Long Tân",
         "Huyện Đất Đỏ",
         "Bà Rịa - Vũng Tàu",
         " Xã Long Tân, Huyện Đất Đỏ, Bà Rịa - Vũng Tàu"
        ],
        [
         23,
         " Xã Láng Dài",
         "Huyện Đất Đỏ",
         "Bà Rịa - Vũng Tàu",
         " Xã Láng Dài, Huyện Đất Đỏ, Bà Rịa - Vũng Tàu"
        ],
        [
         24,
         " Xã Lộc An",
         "Huyện Đất Đỏ",
         "Bà Rịa - Vũng Tàu",
         " Xã Lộc An, Huyện Đất Đỏ, Bà Rịa - Vũng Tàu"
        ],
        [
         25,
         " Xã Phước Hội",
         "Huyện Đất Đỏ",
         "Bà Rịa - Vũng Tàu",
         " Xã Phước Hội, Huyện Đất Đỏ, Bà Rịa - Vũng Tàu"
        ],
        [
         26,
         " Xã Phước Long Thọ",
         "Huyện Đất Đỏ",
         "Bà Rịa - Vũng Tàu",
         " Xã Phước Long Thọ, Huyện Đất Đỏ, Bà Rịa - Vũng Tàu"
        ],
        [
         27,
         " Phường Long Toàn",
         "Thành phố Bà Rịa",
         "Bà Rịa - Vũng Tàu",
         " Phường Long Toàn, Thành phố Bà Rịa, Bà Rịa - Vũng Tàu"
        ],
        [
         28,
         " Phường Long Tâm",
         "Thành phố Bà Rịa",
         "Bà Rịa - Vũng Tàu",
         " Phường Long Tâm, Thành phố Bà Rịa, Bà Rịa - Vũng Tàu"
        ],
        [
         29,
         " Xã Hoà Long",
         "Thành phố Bà Rịa",
         "Bà Rịa - Vũng Tàu",
         " Xã Hoà Long, Thành phố Bà Rịa, Bà Rịa - Vũng Tàu"
        ],
        [
         30,
         " Xã Long Phước",
         "Thành phố Bà Rịa",
         "Bà Rịa - Vũng Tàu",
         " Xã Long Phước, Thành phố Bà Rịa, Bà Rịa - Vũng Tàu"
        ],
        [
         31,
         " Phường 1",
         "Thành phố Vũng Tàu",
         "Bà Rịa - Vũng Tàu",
         " Phường 1, Thành phố Vũng Tàu, Bà Rịa - Vũng Tàu"
        ],
        [
         32,
         " Phường 10",
         "Thành phố Vũng Tàu",
         "Bà Rịa - Vũng Tàu",
         " Phường 10, Thành phố Vũng Tàu, Bà Rịa - Vũng Tàu"
        ],
        [
         33,
         " Phường 11",
         "Thành phố Vũng Tàu",
         "Bà Rịa - Vũng Tàu",
         " Phường 11, Thành phố Vũng Tàu, Bà Rịa - Vũng Tàu"
        ],
        [
         34,
         " Phường 12",
         "Thành phố Vũng Tàu",
         "Bà Rịa - Vũng Tàu",
         " Phường 12, Thành phố Vũng Tàu, Bà Rịa - Vũng Tàu"
        ],
        [
         35,
         " Phường 4",
         "Thành phố Vũng Tàu",
         "Bà Rịa - Vũng Tàu",
         " Phường 4, Thành phố Vũng Tàu, Bà Rịa - Vũng Tàu"
        ],
        [
         36,
         " Phường 5",
         "Thành phố Vũng Tàu",
         "Bà Rịa - Vũng Tàu",
         " Phường 5, Thành phố Vũng Tàu, Bà Rịa - Vũng Tàu"
        ],
        [
         37,
         " Phường 8",
         "Thành phố Vũng Tàu",
         "Bà Rịa - Vũng Tàu",
         " Phường 8, Thành phố Vũng Tàu, Bà Rịa - Vũng Tàu"
        ],
        [
         38,
         " Phường 9",
         "Thành phố Vũng Tàu",
         "Bà Rịa - Vũng Tàu",
         " Phường 9, Thành phố Vũng Tàu, Bà Rịa - Vũng Tàu"
        ],
        [
         39,
         " Phường Nguyễn An Ninh",
         "Thành phố Vũng Tàu",
         "Bà Rịa - Vũng Tàu",
         " Phường Nguyễn An Ninh, Thành phố Vũng Tàu, Bà Rịa - Vũng Tàu"
        ],
        [
         40,
         " Phường Thắng Tam",
         "Thành phố Vũng Tàu",
         "Bà Rịa - Vũng Tàu",
         " Phường Thắng Tam, Thành phố Vũng Tàu, Bà Rịa - Vũng Tàu"
        ],
        [
         41,
         " Phường Hắc Dịch",
         "Thị xã Phú Mỹ",
         "Bà Rịa - Vũng Tàu",
         " Phường Hắc Dịch, Thị xã Phú Mỹ, Bà Rịa - Vũng Tàu"
        ],
        [
         42,
         " Phường Mỹ Xuân",
         "Thị xã Phú Mỹ",
         "Bà Rịa - Vũng Tàu",
         " Phường Mỹ Xuân, Thị xã Phú Mỹ, Bà Rịa - Vũng Tàu"
        ],
        [
         43,
         " Phường Phú Mỹ",
         "Thị xã Phú Mỹ",
         "Bà Rịa - Vũng Tàu",
         " Phường Phú Mỹ, Thị xã Phú Mỹ, Bà Rịa - Vũng Tàu"
        ],
        [
         44,
         " Xã Sông Xoài",
         "Thị xã Phú Mỹ",
         "Bà Rịa - Vũng Tàu",
         " Xã Sông Xoài, Thị xã Phú Mỹ, Bà Rịa - Vũng Tàu"
        ],
        [
         45,
         " Xã Tóc Tiên",
         "Thị xã Phú Mỹ",
         "Bà Rịa - Vũng Tàu",
         " Xã Tóc Tiên, Thị xã Phú Mỹ, Bà Rịa - Vũng Tàu"
        ],
        [
         46,
         " Thị trấn Lai Uyên",
         "Huyện Bàu Bàng",
         "Bình Dương",
         " Thị trấn Lai Uyên, Huyện Bàu Bàng, Bình Dương"
        ],
        [
         47,
         " Xã Hưng Hòa",
         "Huyện Bàu Bàng",
         "Bình Dương",
         " Xã Hưng Hòa, Huyện Bàu Bàng, Bình Dương"
        ],
        [
         48,
         " Xã Lai Hưng",
         "Huyện Bàu Bàng",
         "Bình Dương",
         " Xã Lai Hưng, Huyện Bàu Bàng, Bình Dương"
        ],
        [
         49,
         " Xã Long Nguyên",
         "Huyện Bàu Bàng",
         "Bình Dương",
         " Xã Long Nguyên, Huyện Bàu Bàng, Bình Dương"
        ],
        [
         50,
         " Xã Trừ Văn Thố",
         "Huyện Bàu Bàng",
         "Bình Dương",
         " Xã Trừ Văn Thố, Huyện Bàu Bàng, Bình Dương"
        ],
        [
         51,
         " Xã Tân Bình",
         "Huyện Bắc Tân Uyên",
         "Bình Dương",
         " Xã Tân Bình, Huyện Bắc Tân Uyên, Bình Dương"
        ],
        [
         52,
         " Xã Tân Lập",
         "Huyện Bắc Tân Uyên",
         "Bình Dương",
         " Xã Tân Lập, Huyện Bắc Tân Uyên, Bình Dương"
        ],
        [
         53,
         " Xã Tân Định",
         "Huyện Bắc Tân Uyên",
         "Bình Dương",
         " Xã Tân Định, Huyện Bắc Tân Uyên, Bình Dương"
        ],
        [
         54,
         " Xã Đất Cuốc",
         "Huyện Bắc Tân Uyên",
         "Bình Dương",
         " Xã Đất Cuốc, Huyện Bắc Tân Uyên, Bình Dương"
        ],
        [
         55,
         " Xã An Lập",
         "Huyện Dầu Tiếng",
         "Bình Dương",
         " Xã An Lập, Huyện Dầu Tiếng, Bình Dương"
        ],
        [
         56,
         " Xã Thanh Tuyền",
         "Huyện Dầu Tiếng",
         "Bình Dương",
         " Xã Thanh Tuyền, Huyện Dầu Tiếng, Bình Dương"
        ],
        [
         57,
         " Xã An Bình",
         "Huyện Phú Giáo",
         "Bình Dương",
         " Xã An Bình, Huyện Phú Giáo, Bình Dương"
        ],
        [
         58,
         " Xã Phước Hoà",
         "Huyện Phú Giáo",
         "Bình Dương",
         " Xã Phước Hoà, Huyện Phú Giáo, Bình Dương"
        ],
        [
         59,
         " Xã Tam Lập",
         "Huyện Phú Giáo",
         "Bình Dương",
         " Xã Tam Lập, Huyện Phú Giáo, Bình Dương"
        ],
        [
         60,
         " Phường An Bình",
         "Thành phố Dĩ An",
         "Bình Dương",
         " Phường An Bình, Thành phố Dĩ An, Bình Dương"
        ],
        [
         61,
         " Phường Bình An",
         "Thành phố Dĩ An",
         "Bình Dương",
         " Phường Bình An, Thành phố Dĩ An, Bình Dương"
        ],
        [
         62,
         " Phường Bình Thắng",
         "Thành phố Dĩ An",
         "Bình Dương",
         " Phường Bình Thắng, Thành phố Dĩ An, Bình Dương"
        ],
        [
         63,
         " Phường Dĩ An",
         "Thành phố Dĩ An",
         "Bình Dương",
         " Phường Dĩ An, Thành phố Dĩ An, Bình Dương"
        ],
        [
         64,
         " Phường Tân Bình",
         "Thành phố Dĩ An",
         "Bình Dương",
         " Phường Tân Bình, Thành phố Dĩ An, Bình Dương"
        ],
        [
         65,
         " Phường Tân Đông Hiệp",
         "Thành phố Dĩ An",
         "Bình Dương",
         " Phường Tân Đông Hiệp, Thành phố Dĩ An, Bình Dương"
        ],
        [
         66,
         " Phường Đông Hòa",
         "Thành phố Dĩ An",
         "Bình Dương",
         " Phường Đông Hòa, Thành phố Dĩ An, Bình Dương"
        ],
        [
         67,
         " Phường An Phú",
         "Thành phố Thuận An",
         "Bình Dương",
         " Phường An Phú, Thành phố Thuận An, Bình Dương"
        ],
        [
         68,
         " Phường An Thạnh",
         "Thành phố Thuận An",
         "Bình Dương",
         " Phường An Thạnh, Thành phố Thuận An, Bình Dương"
        ],
        [
         69,
         " Phường Bình Chuẩn",
         "Thành phố Thuận An",
         "Bình Dương",
         " Phường Bình Chuẩn, Thành phố Thuận An, Bình Dương"
        ],
        [
         70,
         " Phường Bình Hòa",
         "Thành phố Thuận An",
         "Bình Dương",
         " Phường Bình Hòa, Thành phố Thuận An, Bình Dương"
        ],
        [
         71,
         " Phường Bình Nhâm",
         "Thành phố Thuận An",
         "Bình Dương",
         " Phường Bình Nhâm, Thành phố Thuận An, Bình Dương"
        ],
        [
         72,
         " Phường Hưng Định",
         "Thành phố Thuận An",
         "Bình Dương",
         " Phường Hưng Định, Thành phố Thuận An, Bình Dương"
        ],
        [
         73,
         " Phường Lái Thiêu",
         "Thành phố Thuận An",
         "Bình Dương",
         " Phường Lái Thiêu, Thành phố Thuận An, Bình Dương"
        ],
        [
         74,
         " Phường Thuận Giao",
         "Thành phố Thuận An",
         "Bình Dương",
         " Phường Thuận Giao, Thành phố Thuận An, Bình Dương"
        ],
        [
         75,
         " Phường Vĩnh Phú",
         "Thành phố Thuận An",
         "Bình Dương",
         " Phường Vĩnh Phú, Thành phố Thuận An, Bình Dương"
        ],
        [
         76,
         " Xã An Sơn",
         "Thành phố Thuận An",
         "Bình Dương",
         " Xã An Sơn, Thành phố Thuận An, Bình Dương"
        ],
        [
         77,
         " Phường Chánh Mỹ",
         "Thành phố Thủ Dầu Một",
         "Bình Dương",
         " Phường Chánh Mỹ, Thành phố Thủ Dầu Một, Bình Dương"
        ],
        [
         78,
         " Phường Chánh Nghĩa",
         "Thành phố Thủ Dầu Một",
         "Bình Dương",
         " Phường Chánh Nghĩa, Thành phố Thủ Dầu Một, Bình Dương"
        ],
        [
         79,
         " Phường Hiệp An",
         "Thành phố Thủ Dầu Một",
         "Bình Dương",
         " Phường Hiệp An, Thành phố Thủ Dầu Một, Bình Dương"
        ],
        [
         80,
         " Phường Hiệp Thành",
         "Thành phố Thủ Dầu Một",
         "Bình Dương",
         " Phường Hiệp Thành, Thành phố Thủ Dầu Một, Bình Dương"
        ],
        [
         81,
         " Phường Hoà Phú",
         "Thành phố Thủ Dầu Một",
         "Bình Dương",
         " Phường Hoà Phú, Thành phố Thủ Dầu Một, Bình Dương"
        ],
        [
         82,
         " Phường Phú Hòa",
         "Thành phố Thủ Dầu Một",
         "Bình Dương",
         " Phường Phú Hòa, Thành phố Thủ Dầu Một, Bình Dương"
        ],
        [
         83,
         " Phường Phú Lợi",
         "Thành phố Thủ Dầu Một",
         "Bình Dương",
         " Phường Phú Lợi, Thành phố Thủ Dầu Một, Bình Dương"
        ],
        [
         84,
         " Phường Phú Mỹ",
         "Thành phố Thủ Dầu Một",
         "Bình Dương",
         " Phường Phú Mỹ, Thành phố Thủ Dầu Một, Bình Dương"
        ],
        [
         85,
         " Phường Phú Thọ",
         "Thành phố Thủ Dầu Một",
         "Bình Dương",
         " Phường Phú Thọ, Thành phố Thủ Dầu Một, Bình Dương"
        ],
        [
         86,
         " Phường Phú Tân",
         "Thành phố Thủ Dầu Một",
         "Bình Dương",
         " Phường Phú Tân, Thành phố Thủ Dầu Một, Bình Dương"
        ],
        [
         87,
         " Phường Tân An",
         "Thành phố Thủ Dầu Một",
         "Bình Dương",
         " Phường Tân An, Thành phố Thủ Dầu Một, Bình Dương"
        ],
        [
         88,
         " Phường Tương Bình Hiệp",
         "Thành phố Thủ Dầu Một",
         "Bình Dương",
         " Phường Tương Bình Hiệp, Thành phố Thủ Dầu Một, Bình Dương"
        ],
        [
         89,
         " Phường Định Hoà",
         "Thành phố Thủ Dầu Một",
         "Bình Dương",
         " Phường Định Hoà, Thành phố Thủ Dầu Một, Bình Dương"
        ],
        [
         90,
         " Phường Chánh Phú Hòa",
         "Thị xã Bến Cát",
         "Bình Dương",
         " Phường Chánh Phú Hòa, Thị xã Bến Cát, Bình Dương"
        ],
        [
         91,
         " Phường Hòa Lợi",
         "Thị xã Bến Cát",
         "Bình Dương",
         " Phường Hòa Lợi, Thị xã Bến Cát, Bình Dương"
        ],
        [
         92,
         " Phường Mỹ Phước",
         "Thị xã Bến Cát",
         "Bình Dương",
         " Phường Mỹ Phước, Thị xã Bến Cát, Bình Dương"
        ],
        [
         93,
         " Phường Thới Hòa",
         "Thị xã Bến Cát",
         "Bình Dương",
         " Phường Thới Hòa, Thị xã Bến Cát, Bình Dương"
        ],
        [
         94,
         " Phường Tân Định",
         "Thị xã Bến Cát",
         "Bình Dương",
         " Phường Tân Định, Thị xã Bến Cát, Bình Dương"
        ],
        [
         95,
         " Xã An Điền",
         "Thị xã Bến Cát",
         "Bình Dương",
         " Xã An Điền, Thị xã Bến Cát, Bình Dương"
        ],
        [
         96,
         " Xã Phú An",
         "Thị xã Bến Cát",
         "Bình Dương",
         " Xã Phú An, Thị xã Bến Cát, Bình Dương"
        ],
        [
         97,
         " Phường Khánh Bình",
         "Thị xã Tân Uyên",
         "Bình Dương",
         " Phường Khánh Bình, Thị xã Tân Uyên, Bình Dương"
        ],
        [
         98,
         " Phường Thái Hòa",
         "Thị xã Tân Uyên",
         "Bình Dương",
         " Phường Thái Hòa, Thị xã Tân Uyên, Bình Dương"
        ],
        [
         99,
         " Phường Thạnh Phước",
         "Thị xã Tân Uyên",
         "Bình Dương",
         " Phường Thạnh Phước, Thị xã Tân Uyên, Bình Dương"
        ],
        [
         100,
         " Phường Tân Hiệp",
         "Thị xã Tân Uyên",
         "Bình Dương",
         " Phường Tân Hiệp, Thị xã Tân Uyên, Bình Dương"
        ],
        [
         101,
         " Phường Tân Phước Khánh",
         "Thị xã Tân Uyên",
         "Bình Dương",
         " Phường Tân Phước Khánh, Thị xã Tân Uyên, Bình Dương"
        ],
        [
         102,
         " Phường Uyên Hưng",
         "Thị xã Tân Uyên",
         "Bình Dương",
         " Phường Uyên Hưng, Thị xã Tân Uyên, Bình Dương"
        ],
        [
         103,
         " Xã Bạch Đằng",
         "Thị xã Tân Uyên",
         "Bình Dương",
         " Xã Bạch Đằng, Thị xã Tân Uyên, Bình Dương"
        ],
        [
         104,
         " Xã Hội Nghĩa",
         "Thị xã Tân Uyên",
         "Bình Dương",
         " Xã Hội Nghĩa, Thị xã Tân Uyên, Bình Dương"
        ],
        [
         105,
         " Xã Phú Chánh",
         "Thị xã Tân Uyên",
         "Bình Dương",
         " Xã Phú Chánh, Thị xã Tân Uyên, Bình Dương"
        ],
        [
         106,
         " Xã Tân Vĩnh Hiệp",
         "Thị xã Tân Uyên",
         "Bình Dương",
         " Xã Tân Vĩnh Hiệp, Thị xã Tân Uyên, Bình Dương"
        ],
        [
         107,
         " Xã Vĩnh Tân",
         "Thị xã Tân Uyên",
         "Bình Dương",
         " Xã Vĩnh Tân, Thị xã Tân Uyên, Bình Dương"
        ],
        [
         108,
         " Xã Nghĩa Trung",
         "Huyện Bù Đăng",
         "Bình Phước",
         " Xã Nghĩa Trung, Huyện Bù Đăng, Bình Phước"
        ],
        [
         109,
         " Xã Phước Sơn",
         "Huyện Bù Đăng",
         "Bình Phước",
         " Xã Phước Sơn, Huyện Bù Đăng, Bình Phước"
        ],
        [
         110,
         " Xã Thống Nhất",
         "Huyện Bù Đăng",
         "Bình Phước",
         " Xã Thống Nhất, Huyện Bù Đăng, Bình Phước"
        ],
        [
         111,
         " Xã Đức Liễu",
         "Huyện Bù Đăng",
         "Bình Phước",
         " Xã Đức Liễu, Huyện Bù Đăng, Bình Phước"
        ],
        [
         112,
         " Thị trấn Chơn Thành",
         "Huyện Chơn Thành",
         "Bình Phước",
         " Thị trấn Chơn Thành, Huyện Chơn Thành, Bình Phước"
        ],
        [
         113,
         " Xã Minh Hưng",
         "Huyện Chơn Thành",
         "Bình Phước",
         " Xã Minh Hưng, Huyện Chơn Thành, Bình Phước"
        ],
        [
         114,
         " Xã Minh Long",
         "Huyện Chơn Thành",
         "Bình Phước",
         " Xã Minh Long, Huyện Chơn Thành, Bình Phước"
        ],
        [
         115,
         " Xã Minh Lập",
         "Huyện Chơn Thành",
         "Bình Phước",
         " Xã Minh Lập, Huyện Chơn Thành, Bình Phước"
        ],
        [
         116,
         " Xã Minh Thành",
         "Huyện Chơn Thành",
         "Bình Phước",
         " Xã Minh Thành, Huyện Chơn Thành, Bình Phước"
        ],
        [
         117,
         " Xã Minh Thắng",
         "Huyện Chơn Thành",
         "Bình Phước",
         " Xã Minh Thắng, Huyện Chơn Thành, Bình Phước"
        ],
        [
         118,
         " Xã Nha Bích",
         "Huyện Chơn Thành",
         "Bình Phước",
         " Xã Nha Bích, Huyện Chơn Thành, Bình Phước"
        ],
        [
         119,
         " Xã Thành Tâm",
         "Huyện Chơn Thành",
         "Bình Phước",
         " Xã Thành Tâm, Huyện Chơn Thành, Bình Phước"
        ],
        [
         120,
         " Xã Thanh An",
         "Huyện Hớn Quản",
         "Bình Phước",
         " Xã Thanh An, Huyện Hớn Quản, Bình Phước"
        ],
        [
         121,
         " Xã Lộc An",
         "Huyện Lộc Ninh",
         "Bình Phước",
         " Xã Lộc An, Huyện Lộc Ninh, Bình Phước"
        ],
        [
         122,
         " Xã Lộc Phú",
         "Huyện Lộc Ninh",
         "Bình Phước",
         " Xã Lộc Phú, Huyện Lộc Ninh, Bình Phước"
        ],
        [
         123,
         " Xã Lộc Thịnh",
         "Huyện Lộc Ninh",
         "Bình Phước",
         " Xã Lộc Thịnh, Huyện Lộc Ninh, Bình Phước"
        ],
        [
         124,
         " Xã Bù Nho",
         "Huyện Phú Riềng",
         "Bình Phước",
         " Xã Bù Nho, Huyện Phú Riềng, Bình Phước"
        ],
        [
         125,
         " Xã Long Bình",
         "Huyện Phú Riềng",
         "Bình Phước",
         " Xã Long Bình, Huyện Phú Riềng, Bình Phước"
        ],
        [
         126,
         " Thị trấn Tân Phú",
         "Huyện Đồng Phú",
         "Bình Phước",
         " Thị trấn Tân Phú, Huyện Đồng Phú, Bình Phước"
        ],
        [
         127,
         " Xã Thuận Lợi",
         "Huyện Đồng Phú",
         "Bình Phước",
         " Xã Thuận Lợi, Huyện Đồng Phú, Bình Phước"
        ],
        [
         128,
         " Xã Tân Hòa",
         "Huyện Đồng Phú",
         "Bình Phước",
         " Xã Tân Hòa, Huyện Đồng Phú, Bình Phước"
        ],
        [
         129,
         " Xã Tân Hưng",
         "Huyện Đồng Phú",
         "Bình Phước",
         " Xã Tân Hưng, Huyện Đồng Phú, Bình Phước"
        ],
        [
         130,
         " Xã Tân Lợi",
         "Huyện Đồng Phú",
         "Bình Phước",
         " Xã Tân Lợi, Huyện Đồng Phú, Bình Phước"
        ],
        [
         131,
         " Xã Đồng Tâm",
         "Huyện Đồng Phú",
         "Bình Phước",
         " Xã Đồng Tâm, Huyện Đồng Phú, Bình Phước"
        ],
        [
         132,
         " Phường Tiến Thành",
         "Thành phố Đồng Xoài",
         "Bình Phước",
         " Phường Tiến Thành, Thành phố Đồng Xoài, Bình Phước"
        ],
        [
         133,
         " Phường Tân Phú",
         "Thành phố Đồng Xoài",
         "Bình Phước",
         " Phường Tân Phú, Thành phố Đồng Xoài, Bình Phước"
        ],
        [
         134,
         " Xã Tiến Hưng",
         "Thành phố Đồng Xoài",
         "Bình Phước",
         " Xã Tiến Hưng, Thành phố Đồng Xoài, Bình Phước"
        ],
        [
         135,
         " Xã Tân Thành",
         "Thành phố Đồng Xoài",
         "Bình Phước",
         " Xã Tân Thành, Thành phố Đồng Xoài, Bình Phước"
        ],
        [
         136,
         " Phường An Lộc",
         "Thị xã Bình Long",
         "Bình Phước",
         " Phường An Lộc, Thị xã Bình Long, Bình Phước"
        ],
        [
         137,
         " Xã Thanh Lương",
         "Thị xã Bình Long",
         "Bình Phước",
         " Xã Thanh Lương, Thị xã Bình Long, Bình Phước"
        ],
        [
         138,
         " Xã Thanh Phú",
         "Thị xã Bình Long",
         "Bình Phước",
         " Xã Thanh Phú, Thị xã Bình Long, Bình Phước"
        ],
        [
         139,
         " Xã Hòa Thắng",
         "Huyện Bắc Bình",
         "Bình Thuận",
         " Xã Hòa Thắng, Huyện Bắc Bình, Bình Thuận"
        ],
        [
         140,
         " Xã Hồng Thái",
         "Huyện Bắc Bình",
         "Bình Thuận",
         " Xã Hồng Thái, Huyện Bắc Bình, Bình Thuận"
        ],
        [
         141,
         " Xã Phan Lâm",
         "Huyện Bắc Bình",
         "Bình Thuận",
         " Xã Phan Lâm, Huyện Bắc Bình, Bình Thuận"
        ],
        [
         142,
         " Xã Sông Bình",
         "Huyện Bắc Bình",
         "Bình Thuận",
         " Xã Sông Bình, Huyện Bắc Bình, Bình Thuận"
        ],
        [
         143,
         " Thị trấn Ma Lâm",
         "Huyện Hàm Thuận Bắc",
         "Bình Thuận",
         " Thị trấn Ma Lâm, Huyện Hàm Thuận Bắc, Bình Thuận"
        ],
        [
         144,
         " Xã Hàm Phú",
         "Huyện Hàm Thuận Bắc",
         "Bình Thuận",
         " Xã Hàm Phú, Huyện Hàm Thuận Bắc, Bình Thuận"
        ],
        [
         145,
         " Xã La Dạ",
         "Huyện Hàm Thuận Bắc",
         "Bình Thuận",
         " Xã La Dạ, Huyện Hàm Thuận Bắc, Bình Thuận"
        ],
        [
         146,
         " Xã Hàm Cường",
         "Huyện Hàm Thuận Nam",
         "Bình Thuận",
         " Xã Hàm Cường, Huyện Hàm Thuận Nam, Bình Thuận"
        ],
        [
         147,
         " Xã Hàm Kiệm",
         "Huyện Hàm Thuận Nam",
         "Bình Thuận",
         " Xã Hàm Kiệm, Huyện Hàm Thuận Nam, Bình Thuận"
        ],
        [
         148,
         " Xã Tân Thành",
         "Huyện Hàm Thuận Nam",
         "Bình Thuận",
         " Xã Tân Thành, Huyện Hàm Thuận Nam, Bình Thuận"
        ],
        [
         149,
         " Xã Sông Phan",
         "Huyện Hàm Tân",
         "Bình Thuận",
         " Xã Sông Phan, Huyện Hàm Tân, Bình Thuận"
        ],
        [
         150,
         " Xã Tân Phúc",
         "Huyện Hàm Tân",
         "Bình Thuận",
         " Xã Tân Phúc, Huyện Hàm Tân, Bình Thuận"
        ],
        [
         151,
         " Xã Tân Xuân",
         "Huyện Hàm Tân",
         "Bình Thuận",
         " Xã Tân Xuân, Huyện Hàm Tân, Bình Thuận"
        ],
        [
         152,
         " Xã Tân Đức",
         "Huyện Hàm Tân",
         "Bình Thuận",
         " Xã Tân Đức, Huyện Hàm Tân, Bình Thuận"
        ],
        [
         153,
         " Xã Long Hải",
         "Huyện Phú Quí",
         "Bình Thuận",
         " Xã Long Hải, Huyện Phú Quí, Bình Thuận"
        ],
        [
         154,
         " Xã Ngũ Phụng",
         "Huyện Phú Quí",
         "Bình Thuận",
         " Xã Ngũ Phụng, Huyện Phú Quí, Bình Thuận"
        ],
        [
         155,
         " Xã Mê Pu",
         "Huyện Đức Linh",
         "Bình Thuận",
         " Xã Mê Pu, Huyện Đức Linh, Bình Thuận"
        ],
        [
         156,
         " Phường Mũi Né",
         "Thành phố Phan Thiết",
         "Bình Thuận",
         " Phường Mũi Né, Thành phố Phan Thiết, Bình Thuận"
        ],
        [
         157,
         " Phường Phú Hài",
         "Thành phố Phan Thiết",
         "Bình Thuận",
         " Phường Phú Hài, Thành phố Phan Thiết, Bình Thuận"
        ],
        [
         158,
         " Phường Phú Tài",
         "Thành phố Phan Thiết",
         "Bình Thuận",
         " Phường Phú Tài, Thành phố Phan Thiết, Bình Thuận"
        ],
        [
         159,
         " Xã Tiến Thành",
         "Thành phố Phan Thiết",
         "Bình Thuận",
         " Xã Tiến Thành, Thành phố Phan Thiết, Bình Thuận"
        ],
        [
         160,
         " Phường Tân Thiện",
         "Thị xã La Gi",
         "Bình Thuận",
         " Phường Tân Thiện, Thị xã La Gi, Bình Thuận"
        ],
        [
         161,
         " Xã Tân Bình",
         "Thị xã La Gi",
         "Bình Thuận",
         " Xã Tân Bình, Thị xã La Gi, Bình Thuận"
        ],
        [
         162,
         " Xã Tân Hải",
         "Thị xã La Gi",
         "Bình Thuận",
         " Xã Tân Hải, Thị xã La Gi, Bình Thuận"
        ],
        [
         163,
         " Xã Tân Phước",
         "Thị xã La Gi",
         "Bình Thuận",
         " Xã Tân Phước, Thị xã La Gi, Bình Thuận"
        ],
        [
         164,
         " Xã Tân Tiến",
         "Thị xã La Gi",
         "Bình Thuận",
         " Xã Tân Tiến, Thị xã La Gi, Bình Thuận"
        ],
        [
         165,
         " Xã Cát Khánh",
         "Huyện Phù Cát",
         "Bình Định",
         " Xã Cát Khánh, Huyện Phù Cát, Bình Định"
        ],
        [
         166,
         " Thị trấn Diêu Trì",
         "Huyện Tuy Phước",
         "Bình Định",
         " Thị trấn Diêu Trì, Huyện Tuy Phước, Bình Định"
        ],
        [
         167,
         " Phường Ghềnh Ráng",
         "Thành phố Qui Nhơn",
         "Bình Định",
         " Phường Ghềnh Ráng, Thành phố Qui Nhơn, Bình Định"
        ],
        [
         168,
         " Phường Hải Cảng",
         "Thành phố Qui Nhơn",
         "Bình Định",
         " Phường Hải Cảng, Thành phố Qui Nhơn, Bình Định"
        ],
        [
         169,
         " Phường Lý Thường Kiệt",
         "Thành phố Qui Nhơn",
         "Bình Định",
         " Phường Lý Thường Kiệt, Thành phố Qui Nhơn, Bình Định"
        ],
        [
         170,
         " Phường Quang Trung",
         "Thành phố Qui Nhơn",
         "Bình Định",
         " Phường Quang Trung, Thành phố Qui Nhơn, Bình Định"
        ],
        [
         171,
         " Phường Trần Phú",
         "Thành phố Qui Nhơn",
         "Bình Định",
         " Phường Trần Phú, Thành phố Qui Nhơn, Bình Định"
        ],
        [
         172,
         " Phường Trần Quang Diệu",
         "Thành phố Qui Nhơn",
         "Bình Định",
         " Phường Trần Quang Diệu, Thành phố Qui Nhơn, Bình Định"
        ],
        [
         173,
         " Xã Nhơn Hội",
         "Thành phố Qui Nhơn",
         "Bình Định",
         " Xã Nhơn Hội, Thành phố Qui Nhơn, Bình Định"
        ],
        [
         174,
         " Phường Tam Quan Bắc",
         "Thị xã Hoài Nhơn",
         "Bình Định",
         " Phường Tam Quan Bắc, Thị xã Hoài Nhơn, Bình Định"
        ],
        [
         175,
         " Phường 1",
         "Thành phố Bạc Liêu",
         "Bạc Liêu",
         " Phường 1, Thành phố Bạc Liêu, Bạc Liêu"
        ],
        [
         176,
         " Xã Vĩnh Trạch Đông",
         "Thành phố Bạc Liêu",
         "Bạc Liêu",
         " Xã Vĩnh Trạch Đông, Thành phố Bạc Liêu, Bạc Liêu"
        ],
        [
         177,
         " Xã Lạc Vệ",
         "Huyện Tiên Du",
         "Bắc Ninh",
         " Xã Lạc Vệ, Huyện Tiên Du, Bắc Ninh"
        ],
        [
         178,
         " Xã Đông Tiến",
         "Huyện Yên Phong",
         "Bắc Ninh",
         " Xã Đông Tiến, Huyện Yên Phong, Bắc Ninh"
        ],
        [
         179,
         " Xã Định Trung",
         "Huyện Bình Đại",
         "Bến Tre",
         " Xã Định Trung, Huyện Bình Đại, Bến Tre"
        ],
        [
         180,
         " Thị trấn Châu Thành",
         "Huyện Châu Thành",
         "Bến Tre",
         " Thị trấn Châu Thành, Huyện Châu Thành, Bến Tre"
        ],
        [
         181,
         " Xã Phước Thạnh",
         "Huyện Châu Thành",
         "Bến Tre",
         " Xã Phước Thạnh, Huyện Châu Thành, Bến Tre"
        ],
        [
         182,
         " Xã Qưới Sơn",
         "Huyện Châu Thành",
         "Bến Tre",
         " Xã Qưới Sơn, Huyện Châu Thành, Bến Tre"
        ],
        [
         183,
         " Xã Tam Phước",
         "Huyện Châu Thành",
         "Bến Tre",
         " Xã Tam Phước, Huyện Châu Thành, Bến Tre"
        ],
        [
         184,
         " Xã Thanh Tân",
         "Huyện Mỏ Cày Bắc",
         "Bến Tre",
         " Xã Thanh Tân, Huyện Mỏ Cày Bắc, Bến Tre"
        ],
        [
         185,
         " Xã Tân Thành Bình",
         "Huyện Mỏ Cày Bắc",
         "Bến Tre",
         " Xã Tân Thành Bình, Huyện Mỏ Cày Bắc, Bến Tre"
        ],
        [
         186,
         " Xã Hương Mỹ",
         "Huyện Mỏ Cày Nam",
         "Bến Tre",
         " Xã Hương Mỹ, Huyện Mỏ Cày Nam, Bến Tre"
        ],
        [
         187,
         " Phường Phú Tân",
         "Thành phố Bến Tre",
         "Bến Tre",
         " Phường Phú Tân, Thành phố Bến Tre, Bến Tre"
        ],
        [
         188,
         " Xã Bình Phú",
         "Thành phố Bến Tre",
         "Bến Tre",
         " Xã Bình Phú, Thành phố Bến Tre, Bến Tre"
        ],
        [
         189,
         " Xã Nhơn Thạnh",
         "Thành phố Bến Tre",
         "Bến Tre",
         " Xã Nhơn Thạnh, Thành phố Bến Tre, Bến Tre"
        ],
        [
         190,
         " Xã Phú Nhuận",
         "Thành phố Bến Tre",
         "Bến Tre",
         " Xã Phú Nhuận, Thành phố Bến Tre, Bến Tre"
        ],
        [
         191,
         " Xã Phong Điền",
         "Huyện Trần Văn Thời",
         "Cà Mau",
         " Xã Phong Điền, Huyện Trần Văn Thời, Cà Mau"
        ],
        [
         192,
         " Phường 1",
         "Thành phố Cà Mau",
         "Cà Mau",
         " Phường 1, Thành phố Cà Mau, Cà Mau"
        ],
        [
         193,
         " Phường 8",
         "Thành phố Cà Mau",
         "Cà Mau",
         " Phường 8, Thành phố Cà Mau, Cà Mau"
        ],
        [
         194,
         " Phường Tân Thành",
         "Thành phố Cà Mau",
         "Cà Mau",
         " Phường Tân Thành, Thành phố Cà Mau, Cà Mau"
        ],
        [
         195,
         " Thị trấn Phong Điền",
         "Huyện Phong Điền",
         "Cần Thơ",
         " Thị trấn Phong Điền, Huyện Phong Điền, Cần Thơ"
        ],
        [
         196,
         " Xã Mỹ Khánh",
         "Huyện Phong Điền",
         "Cần Thơ",
         " Xã Mỹ Khánh, Huyện Phong Điền, Cần Thơ"
        ],
        [
         197,
         " Xã Nhơn Ái",
         "Huyện Phong Điền",
         "Cần Thơ",
         " Xã Nhơn Ái, Huyện Phong Điền, Cần Thơ"
        ],
        [
         198,
         " Xã Tân Thới",
         "Huyện Phong Điền",
         "Cần Thơ",
         " Xã Tân Thới, Huyện Phong Điền, Cần Thơ"
        ],
        [
         199,
         " Phường An Thới",
         "Quận Bình Thuỷ",
         "Cần Thơ",
         " Phường An Thới, Quận Bình Thuỷ, Cần Thơ"
        ],
        [
         200,
         " Phường Bình Thủy",
         "Quận Bình Thuỷ",
         "Cần Thơ",
         " Phường Bình Thủy, Quận Bình Thuỷ, Cần Thơ"
        ],
        [
         201,
         " Phường Long Hòa",
         "Quận Bình Thuỷ",
         "Cần Thơ",
         " Phường Long Hòa, Quận Bình Thuỷ, Cần Thơ"
        ],
        [
         202,
         " Phường Long Tuyền",
         "Quận Bình Thuỷ",
         "Cần Thơ",
         " Phường Long Tuyền, Quận Bình Thuỷ, Cần Thơ"
        ],
        [
         203,
         " Phường Trà An",
         "Quận Bình Thuỷ",
         "Cần Thơ",
         " Phường Trà An, Quận Bình Thuỷ, Cần Thơ"
        ],
        [
         204,
         " Phường Trà Nóc",
         "Quận Bình Thuỷ",
         "Cần Thơ",
         " Phường Trà Nóc, Quận Bình Thuỷ, Cần Thơ"
        ],
        [
         205,
         " Phường Ba Láng",
         "Quận Cái Răng",
         "Cần Thơ",
         " Phường Ba Láng, Quận Cái Răng, Cần Thơ"
        ],
        [
         206,
         " Phường Hưng Phú",
         "Quận Cái Răng",
         "Cần Thơ",
         " Phường Hưng Phú, Quận Cái Răng, Cần Thơ"
        ],
        [
         207,
         " Phường Hưng Thạnh",
         "Quận Cái Răng",
         "Cần Thơ",
         " Phường Hưng Thạnh, Quận Cái Răng, Cần Thơ"
        ],
        [
         208,
         " Phường Lê Bình",
         "Quận Cái Răng",
         "Cần Thơ",
         " Phường Lê Bình, Quận Cái Răng, Cần Thơ"
        ],
        [
         209,
         " Phường Phú Thứ",
         "Quận Cái Răng",
         "Cần Thơ",
         " Phường Phú Thứ, Quận Cái Răng, Cần Thơ"
        ],
        [
         210,
         " Phường Thường Thạnh",
         "Quận Cái Răng",
         "Cần Thơ",
         " Phường Thường Thạnh, Quận Cái Răng, Cần Thơ"
        ],
        [
         211,
         " Phường Tân Phú",
         "Quận Cái Răng",
         "Cần Thơ",
         " Phường Tân Phú, Quận Cái Răng, Cần Thơ"
        ],
        [
         212,
         " Phường An Bình",
         "Quận Ninh Kiều",
         "Cần Thơ",
         " Phường An Bình, Quận Ninh Kiều, Cần Thơ"
        ],
        [
         213,
         " Phường An Cư",
         "Quận Ninh Kiều",
         "Cần Thơ",
         " Phường An Cư, Quận Ninh Kiều, Cần Thơ"
        ],
        [
         214,
         " Phường An Hòa",
         "Quận Ninh Kiều",
         "Cần Thơ",
         " Phường An Hòa, Quận Ninh Kiều, Cần Thơ"
        ],
        [
         215,
         " Phường An Khánh",
         "Quận Ninh Kiều",
         "Cần Thơ",
         " Phường An Khánh, Quận Ninh Kiều, Cần Thơ"
        ],
        [
         216,
         " Phường An Phú",
         "Quận Ninh Kiều",
         "Cần Thơ",
         " Phường An Phú, Quận Ninh Kiều, Cần Thơ"
        ],
        [
         217,
         " Phường Cái Khế",
         "Quận Ninh Kiều",
         "Cần Thơ",
         " Phường Cái Khế, Quận Ninh Kiều, Cần Thơ"
        ],
        [
         218,
         " Phường Hưng Lợi",
         "Quận Ninh Kiều",
         "Cần Thơ",
         " Phường Hưng Lợi, Quận Ninh Kiều, Cần Thơ"
        ],
        [
         219,
         " Phường Thới Bình",
         "Quận Ninh Kiều",
         "Cần Thơ",
         " Phường Thới Bình, Quận Ninh Kiều, Cần Thơ"
        ],
        [
         220,
         " Phường Tân An",
         "Quận Ninh Kiều",
         "Cần Thơ",
         " Phường Tân An, Quận Ninh Kiều, Cần Thơ"
        ],
        [
         221,
         " Phường Xuân Khánh",
         "Quận Ninh Kiều",
         "Cần Thơ",
         " Phường Xuân Khánh, Quận Ninh Kiều, Cần Thơ"
        ],
        [
         222,
         " Phường Châu Văn Liêm",
         "Quận Ô Môn",
         "Cần Thơ",
         " Phường Châu Văn Liêm, Quận Ô Môn, Cần Thơ"
        ],
        [
         223,
         " Phường Trường Lạc",
         "Quận Ô Môn",
         "Cần Thơ",
         " Phường Trường Lạc, Quận Ô Môn, Cần Thơ"
        ],
        [
         224,
         " Thị trấn Chư Sê",
         "Huyện Chư Sê",
         "Gia Lai",
         " Thị trấn Chư Sê, Huyện Chư Sê, Gia Lai"
        ],
        [
         225,
         " Phường Hoa Lư",
         "Thành phố Pleiku",
         "Gia Lai",
         " Phường Hoa Lư, Thành phố Pleiku, Gia Lai"
        ],
        [
         226,
         " Phường Hội Thương",
         "Thành phố Pleiku",
         "Gia Lai",
         " Phường Hội Thương, Thành phố Pleiku, Gia Lai"
        ],
        [
         227,
         " Phường Đống Đa",
         "Thành phố Pleiku",
         "Gia Lai",
         " Phường Đống Đa, Thành phố Pleiku, Gia Lai"
        ],
        [
         228,
         " Phường Hoàng Đông",
         "Thị xã Duy Tiên",
         "Hà Nam",
         " Phường Hoàng Đông, Thị xã Duy Tiên, Hà Nam"
        ],
        [
         229,
         " Xã Cẩm Lĩnh",
         "Huyện Ba Vì",
         "Hà Nội",
         " Xã Cẩm Lĩnh, Huyện Ba Vì, Hà Nội"
        ],
        [
         230,
         " Xã Phong Vân",
         "Huyện Ba Vì",
         "Hà Nội",
         " Xã Phong Vân, Huyện Ba Vì, Hà Nội"
        ],
        [
         231,
         " Thị trấn Xuân Mai",
         "Huyện Chương Mỹ",
         "Hà Nội",
         " Thị trấn Xuân Mai, Huyện Chương Mỹ, Hà Nội"
        ],
        [
         232,
         " Xã Ngọc Hòa",
         "Huyện Chương Mỹ",
         "Hà Nội",
         " Xã Ngọc Hòa, Huyện Chương Mỹ, Hà Nội"
        ],
        [
         233,
         " Xã Đại Yên",
         "Huyện Chương Mỹ",
         "Hà Nội",
         " Xã Đại Yên, Huyện Chương Mỹ, Hà Nội"
        ],
        [
         234,
         " Thị trấn Trâu Quỳ",
         "Huyện Gia Lâm",
         "Hà Nội",
         " Thị trấn Trâu Quỳ, Huyện Gia Lâm, Hà Nội"
        ],
        [
         235,
         " Xã Kiêu Kỵ",
         "Huyện Gia Lâm",
         "Hà Nội",
         " Xã Kiêu Kỵ, Huyện Gia Lâm, Hà Nội"
        ],
        [
         236,
         " Xã Lệ Chi",
         "Huyện Gia Lâm",
         "Hà Nội",
         " Xã Lệ Chi, Huyện Gia Lâm, Hà Nội"
        ],
        [
         237,
         " Xã Đa Tốn",
         "Huyện Gia Lâm",
         "Hà Nội",
         " Xã Đa Tốn, Huyện Gia Lâm, Hà Nội"
        ],
        [
         238,
         " Xã An Khánh",
         "Huyện Hoài Đức",
         "Hà Nội",
         " Xã An Khánh, Huyện Hoài Đức, Hà Nội"
        ],
        [
         239,
         " Xã Di Trạch",
         "Huyện Hoài Đức",
         "Hà Nội",
         " Xã Di Trạch, Huyện Hoài Đức, Hà Nội"
        ],
        [
         240,
         " Xã Kim Chung",
         "Huyện Hoài Đức",
         "Hà Nội",
         " Xã Kim Chung, Huyện Hoài Đức, Hà Nội"
        ],
        [
         241,
         " Xã Vân Canh",
         "Huyện Hoài Đức",
         "Hà Nội",
         " Xã Vân Canh, Huyện Hoài Đức, Hà Nội"
        ],
        [
         242,
         " Xã Vân Côn",
         "Huyện Hoài Đức",
         "Hà Nội",
         " Xã Vân Côn, Huyện Hoài Đức, Hà Nội"
        ],
        [
         243,
         " Xã Đông La",
         "Huyện Hoài Đức",
         "Hà Nội",
         " Xã Đông La, Huyện Hoài Đức, Hà Nội"
        ],
        [
         244,
         " Xã Tiền Phong",
         "Huyện Mê Linh",
         "Hà Nội",
         " Xã Tiền Phong, Huyện Mê Linh, Hà Nội"
        ],
        [
         245,
         " Xã An Phú",
         "Huyện Mỹ Đức",
         "Hà Nội",
         " Xã An Phú, Huyện Mỹ Đức, Hà Nội"
        ],
        [
         246,
         " Xã Hòa Thạch",
         "Huyện Quốc Oai",
         "Hà Nội",
         " Xã Hòa Thạch, Huyện Quốc Oai, Hà Nội"
        ],
        [
         247,
         " Xã Phú Cát",
         "Huyện Quốc Oai",
         "Hà Nội",
         " Xã Phú Cát, Huyện Quốc Oai, Hà Nội"
        ],
        [
         248,
         " Xã Phú Mãn",
         "Huyện Quốc Oai",
         "Hà Nội",
         " Xã Phú Mãn, Huyện Quốc Oai, Hà Nội"
        ],
        [
         249,
         " Xã Đông Yên",
         "Huyện Quốc Oai",
         "Hà Nội",
         " Xã Đông Yên, Huyện Quốc Oai, Hà Nội"
        ],
        [
         250,
         " Xã Đại Thành",
         "Huyện Quốc Oai",
         "Hà Nội",
         " Xã Đại Thành, Huyện Quốc Oai, Hà Nội"
        ],
        [
         251,
         " Xã Quang Tiến",
         "Huyện Sóc Sơn",
         "Hà Nội",
         " Xã Quang Tiến, Huyện Sóc Sơn, Hà Nội"
        ],
        [
         252,
         " Thị trấn Kim Bài",
         "Huyện Thanh Oai",
         "Hà Nội",
         " Thị trấn Kim Bài, Huyện Thanh Oai, Hà Nội"
        ],
        [
         253,
         " Xã Bích Hòa",
         "Huyện Thanh Oai",
         "Hà Nội",
         " Xã Bích Hòa, Huyện Thanh Oai, Hà Nội"
        ],
        [
         254,
         " Thị trấn Văn Điển",
         "Huyện Thanh Trì",
         "Hà Nội",
         " Thị trấn Văn Điển, Huyện Thanh Trì, Hà Nội"
        ],
        [
         255,
         " Xã Liên Ninh",
         "Huyện Thanh Trì",
         "Hà Nội",
         " Xã Liên Ninh, Huyện Thanh Trì, Hà Nội"
        ],
        [
         256,
         " Xã Ngũ Hiệp",
         "Huyện Thanh Trì",
         "Hà Nội",
         " Xã Ngũ Hiệp, Huyện Thanh Trì, Hà Nội"
        ],
        [
         257,
         " Xã Ngọc Hồi",
         "Huyện Thanh Trì",
         "Hà Nội",
         " Xã Ngọc Hồi, Huyện Thanh Trì, Hà Nội"
        ],
        [
         258,
         " Xã Tam Hiệp",
         "Huyện Thanh Trì",
         "Hà Nội",
         " Xã Tam Hiệp, Huyện Thanh Trì, Hà Nội"
        ],
        [
         259,
         " Xã Thanh Liệt",
         "Huyện Thanh Trì",
         "Hà Nội",
         " Xã Thanh Liệt, Huyện Thanh Trì, Hà Nội"
        ],
        [
         260,
         " Xã Tân Triều",
         "Huyện Thanh Trì",
         "Hà Nội",
         " Xã Tân Triều, Huyện Thanh Trì, Hà Nội"
        ],
        [
         261,
         " Xã Tả Thanh Oai",
         "Huyện Thanh Trì",
         "Hà Nội",
         " Xã Tả Thanh Oai, Huyện Thanh Trì, Hà Nội"
        ],
        [
         262,
         " Xã Tứ Hiệp",
         "Huyện Thanh Trì",
         "Hà Nội",
         " Xã Tứ Hiệp, Huyện Thanh Trì, Hà Nội"
        ],
        [
         263,
         " Xã Vĩnh Quỳnh",
         "Huyện Thanh Trì",
         "Hà Nội",
         " Xã Vĩnh Quỳnh, Huyện Thanh Trì, Hà Nội"
        ],
        [
         264,
         " Xã Vạn Phúc",
         "Huyện Thanh Trì",
         "Hà Nội",
         " Xã Vạn Phúc, Huyện Thanh Trì, Hà Nội"
        ],
        [
         265,
         " Xã Chương Dương",
         "Huyện Thường Tín",
         "Hà Nội",
         " Xã Chương Dương, Huyện Thường Tín, Hà Nội"
        ],
        [
         266,
         " Xã Khánh Hà",
         "Huyện Thường Tín",
         "Hà Nội",
         " Xã Khánh Hà, Huyện Thường Tín, Hà Nội"
        ],
        [
         267,
         " Xã Ninh Sở",
         "Huyện Thường Tín",
         "Hà Nội",
         " Xã Ninh Sở, Huyện Thường Tín, Hà Nội"
        ],
        [
         268,
         " Xã Văn Tự",
         "Huyện Thường Tín",
         "Hà Nội",
         " Xã Văn Tự, Huyện Thường Tín, Hà Nội"
        ],
        [
         269,
         " Xã Bình Yên",
         "Huyện Thạch Thất",
         "Hà Nội",
         " Xã Bình Yên, Huyện Thạch Thất, Hà Nội"
        ],
        [
         270,
         " Xã Tiến Xuân",
         "Huyện Thạch Thất",
         "Hà Nội",
         " Xã Tiến Xuân, Huyện Thạch Thất, Hà Nội"
        ],
        [
         271,
         " Xã Tân Xã",
         "Huyện Thạch Thất",
         "Hà Nội",
         " Xã Tân Xã, Huyện Thạch Thất, Hà Nội"
        ],
        [
         272,
         " Xã Yên Trung",
         "Huyện Thạch Thất",
         "Hà Nội",
         " Xã Yên Trung, Huyện Thạch Thất, Hà Nội"
        ],
        [
         273,
         " Xã Đồng Trúc",
         "Huyện Thạch Thất",
         "Hà Nội",
         " Xã Đồng Trúc, Huyện Thạch Thất, Hà Nội"
        ],
        [
         274,
         " Xã Hải Bối",
         "Huyện Đông Anh",
         "Hà Nội",
         " Xã Hải Bối, Huyện Đông Anh, Hà Nội"
        ],
        [
         275,
         " Xã Nguyên Khê",
         "Huyện Đông Anh",
         "Hà Nội",
         " Xã Nguyên Khê, Huyện Đông Anh, Hà Nội"
        ],
        [
         276,
         " Xã Tiên Dương",
         "Huyện Đông Anh",
         "Hà Nội",
         " Xã Tiên Dương, Huyện Đông Anh, Hà Nội"
        ],
        [
         277,
         " Xã Uy Nỗ",
         "Huyện Đông Anh",
         "Hà Nội",
         " Xã Uy Nỗ, Huyện Đông Anh, Hà Nội"
        ],
        [
         278,
         " Xã Vân Nội",
         "Huyện Đông Anh",
         "Hà Nội",
         " Xã Vân Nội, Huyện Đông Anh, Hà Nội"
        ],
        [
         279,
         " Xã Trường Thịnh",
         "Huyện Ứng Hòa",
         "Hà Nội",
         " Xã Trường Thịnh, Huyện Ứng Hòa, Hà Nội"
        ],
        [
         280,
         " Phường Cống Vị",
         "Quận Ba Đình",
         "Hà Nội",
         " Phường Cống Vị, Quận Ba Đình, Hà Nội"
        ],
        [
         281,
         " Phường Giảng Võ",
         "Quận Ba Đình",
         "Hà Nội",
         " Phường Giảng Võ, Quận Ba Đình, Hà Nội"
        ],
        [
         282,
         " Phường Kim Mã",
         "Quận Ba Đình",
         "Hà Nội",
         " Phường Kim Mã, Quận Ba Đình, Hà Nội"
        ],
        [
         283,
         " Phường Liễu Giai",
         "Quận Ba Đình",
         "Hà Nội",
         " Phường Liễu Giai, Quận Ba Đình, Hà Nội"
        ],
        [
         284,
         " Phường Ngọc Hà",
         "Quận Ba Đình",
         "Hà Nội",
         " Phường Ngọc Hà, Quận Ba Đình, Hà Nội"
        ],
        [
         285,
         " Phường Ngọc Khánh",
         "Quận Ba Đình",
         "Hà Nội",
         " Phường Ngọc Khánh, Quận Ba Đình, Hà Nội"
        ],
        [
         286,
         " Phường Phúc Xá",
         "Quận Ba Đình",
         "Hà Nội",
         " Phường Phúc Xá, Quận Ba Đình, Hà Nội"
        ],
        [
         287,
         " Phường Thành Công",
         "Quận Ba Đình",
         "Hà Nội",
         " Phường Thành Công, Quận Ba Đình, Hà Nội"
        ],
        [
         288,
         " Phường Trúc Bạch",
         "Quận Ba Đình",
         "Hà Nội",
         " Phường Trúc Bạch, Quận Ba Đình, Hà Nội"
        ],
        [
         289,
         " Phường Vĩnh Phúc",
         "Quận Ba Đình",
         "Hà Nội",
         " Phường Vĩnh Phúc, Quận Ba Đình, Hà Nội"
        ],
        [
         290,
         " Phường Điện Biên",
         "Quận Ba Đình",
         "Hà Nội",
         " Phường Điện Biên, Quận Ba Đình, Hà Nội"
        ],
        [
         291,
         " Phường Đội Cấn",
         "Quận Ba Đình",
         "Hà Nội",
         " Phường Đội Cấn, Quận Ba Đình, Hà Nội"
        ],
        [
         292,
         " Phường Cổ Nhuế 1",
         "Quận Bắc Từ Liêm",
         "Hà Nội",
         " Phường Cổ Nhuế 1, Quận Bắc Từ Liêm, Hà Nội"
        ],
        [
         293,
         " Phường Cổ Nhuế 2",
         "Quận Bắc Từ Liêm",
         "Hà Nội",
         " Phường Cổ Nhuế 2, Quận Bắc Từ Liêm, Hà Nội"
        ],
        [
         294,
         " Phường Liên Mạc",
         "Quận Bắc Từ Liêm",
         "Hà Nội",
         " Phường Liên Mạc, Quận Bắc Từ Liêm, Hà Nội"
        ],
        [
         295,
         " Phường Minh Khai",
         "Quận Bắc Từ Liêm",
         "Hà Nội",
         " Phường Minh Khai, Quận Bắc Từ Liêm, Hà Nội"
        ],
        [
         296,
         " Phường Phú Diễn",
         "Quận Bắc Từ Liêm",
         "Hà Nội",
         " Phường Phú Diễn, Quận Bắc Từ Liêm, Hà Nội"
        ],
        [
         297,
         " Phường Tây Tựu",
         "Quận Bắc Từ Liêm",
         "Hà Nội",
         " Phường Tây Tựu, Quận Bắc Từ Liêm, Hà Nội"
        ],
        [
         298,
         " Phường Xuân Tảo",
         "Quận Bắc Từ Liêm",
         "Hà Nội",
         " Phường Xuân Tảo, Quận Bắc Từ Liêm, Hà Nội"
        ],
        [
         299,
         " Phường Xuân Đỉnh",
         "Quận Bắc Từ Liêm",
         "Hà Nội",
         " Phường Xuân Đỉnh, Quận Bắc Từ Liêm, Hà Nội"
        ],
        [
         300,
         " Phường Dịch Vọng",
         "Quận Cầu Giấy",
         "Hà Nội",
         " Phường Dịch Vọng, Quận Cầu Giấy, Hà Nội"
        ],
        [
         301,
         " Phường Dịch Vọng Hậu",
         "Quận Cầu Giấy",
         "Hà Nội",
         " Phường Dịch Vọng Hậu, Quận Cầu Giấy, Hà Nội"
        ],
        [
         302,
         " Phường Mai Dịch",
         "Quận Cầu Giấy",
         "Hà Nội",
         " Phường Mai Dịch, Quận Cầu Giấy, Hà Nội"
        ],
        [
         303,
         " Phường Nghĩa Tân",
         "Quận Cầu Giấy",
         "Hà Nội",
         " Phường Nghĩa Tân, Quận Cầu Giấy, Hà Nội"
        ],
        [
         304,
         " Phường Quan Hoa",
         "Quận Cầu Giấy",
         "Hà Nội",
         " Phường Quan Hoa, Quận Cầu Giấy, Hà Nội"
        ],
        [
         305,
         " Phường Trung Hoà",
         "Quận Cầu Giấy",
         "Hà Nội",
         " Phường Trung Hoà, Quận Cầu Giấy, Hà Nội"
        ],
        [
         306,
         " Phường Yên Hoà",
         "Quận Cầu Giấy",
         "Hà Nội",
         " Phường Yên Hoà, Quận Cầu Giấy, Hà Nội"
        ],
        [
         307,
         " Phường Bách Khoa",
         "Quận Hai Bà Trưng",
         "Hà Nội",
         " Phường Bách Khoa, Quận Hai Bà Trưng, Hà Nội"
        ],
        [
         308,
         " Phường Bạch Mai",
         "Quận Hai Bà Trưng",
         "Hà Nội",
         " Phường Bạch Mai, Quận Hai Bà Trưng, Hà Nội"
        ],
        [
         309,
         " Phường Cầu Dền",
         "Quận Hai Bà Trưng",
         "Hà Nội",
         " Phường Cầu Dền, Quận Hai Bà Trưng, Hà Nội"
        ],
        [
         310,
         " Phường Minh Khai",
         "Quận Hai Bà Trưng",
         "Hà Nội",
         " Phường Minh Khai, Quận Hai Bà Trưng, Hà Nội"
        ],
        [
         311,
         " Phường Nguyễn Du",
         "Quận Hai Bà Trưng",
         "Hà Nội",
         " Phường Nguyễn Du, Quận Hai Bà Trưng, Hà Nội"
        ],
        [
         312,
         " Phường Phạm Đình Hổ",
         "Quận Hai Bà Trưng",
         "Hà Nội",
         " Phường Phạm Đình Hổ, Quận Hai Bà Trưng, Hà Nội"
        ],
        [
         313,
         " Phường Phố Huế",
         "Quận Hai Bà Trưng",
         "Hà Nội",
         " Phường Phố Huế, Quận Hai Bà Trưng, Hà Nội"
        ],
        [
         314,
         " Phường Quỳnh Lôi",
         "Quận Hai Bà Trưng",
         "Hà Nội",
         " Phường Quỳnh Lôi, Quận Hai Bà Trưng, Hà Nội"
        ],
        [
         315,
         " Phường Quỳnh Mai",
         "Quận Hai Bà Trưng",
         "Hà Nội",
         " Phường Quỳnh Mai, Quận Hai Bà Trưng, Hà Nội"
        ],
        [
         316,
         " Phường Thanh Lương",
         "Quận Hai Bà Trưng",
         "Hà Nội",
         " Phường Thanh Lương, Quận Hai Bà Trưng, Hà Nội"
        ],
        [
         317,
         " Phường Thanh Nhàn",
         "Quận Hai Bà Trưng",
         "Hà Nội",
         " Phường Thanh Nhàn, Quận Hai Bà Trưng, Hà Nội"
        ],
        [
         318,
         " Phường Trương Định",
         "Quận Hai Bà Trưng",
         "Hà Nội",
         " Phường Trương Định, Quận Hai Bà Trưng, Hà Nội"
        ],
        [
         319,
         " Phường Vĩnh Tuy",
         "Quận Hai Bà Trưng",
         "Hà Nội",
         " Phường Vĩnh Tuy, Quận Hai Bà Trưng, Hà Nội"
        ],
        [
         320,
         " Phường Đống Mác",
         "Quận Hai Bà Trưng",
         "Hà Nội",
         " Phường Đống Mác, Quận Hai Bà Trưng, Hà Nội"
        ],
        [
         321,
         " Phường Đồng Tâm",
         "Quận Hai Bà Trưng",
         "Hà Nội",
         " Phường Đồng Tâm, Quận Hai Bà Trưng, Hà Nội"
        ],
        [
         322,
         " Phường Chương Dương",
         "Quận Hoàn Kiếm",
         "Hà Nội",
         " Phường Chương Dương, Quận Hoàn Kiếm, Hà Nội"
        ],
        [
         323,
         " Phường Phan Chu Trinh",
         "Quận Hoàn Kiếm",
         "Hà Nội",
         " Phường Phan Chu Trinh, Quận Hoàn Kiếm, Hà Nội"
        ],
        [
         324,
         " Phường Trần Hưng Đạo",
         "Quận Hoàn Kiếm",
         "Hà Nội",
         " Phường Trần Hưng Đạo, Quận Hoàn Kiếm, Hà Nội"
        ],
        [
         325,
         " Phường Giáp Bát",
         "Quận Hoàng Mai",
         "Hà Nội",
         " Phường Giáp Bát, Quận Hoàng Mai, Hà Nội"
        ],
        [
         326,
         " Phường Hoàng Liệt",
         "Quận Hoàng Mai",
         "Hà Nội",
         " Phường Hoàng Liệt, Quận Hoàng Mai, Hà Nội"
        ],
        [
         327,
         " Phường Hoàng Văn Thụ",
         "Quận Hoàng Mai",
         "Hà Nội",
         " Phường Hoàng Văn Thụ, Quận Hoàng Mai, Hà Nội"
        ],
        [
         328,
         " Phường Lĩnh Nam",
         "Quận Hoàng Mai",
         "Hà Nội",
         " Phường Lĩnh Nam, Quận Hoàng Mai, Hà Nội"
        ],
        [
         329,
         " Phường Mai Động",
         "Quận Hoàng Mai",
         "Hà Nội",
         " Phường Mai Động, Quận Hoàng Mai, Hà Nội"
        ],
        [
         330,
         " Phường Thanh Trì",
         "Quận Hoàng Mai",
         "Hà Nội",
         " Phường Thanh Trì, Quận Hoàng Mai, Hà Nội"
        ],
        [
         331,
         " Phường Thịnh Liệt",
         "Quận Hoàng Mai",
         "Hà Nội",
         " Phường Thịnh Liệt, Quận Hoàng Mai, Hà Nội"
        ],
        [
         332,
         " Phường Tân Mai",
         "Quận Hoàng Mai",
         "Hà Nội",
         " Phường Tân Mai, Quận Hoàng Mai, Hà Nội"
        ],
        [
         333,
         " Phường Tương Mai",
         "Quận Hoàng Mai",
         "Hà Nội",
         " Phường Tương Mai, Quận Hoàng Mai, Hà Nội"
        ],
        [
         334,
         " Phường Vĩnh Hưng",
         "Quận Hoàng Mai",
         "Hà Nội",
         " Phường Vĩnh Hưng, Quận Hoàng Mai, Hà Nội"
        ],
        [
         335,
         " Phường Yên Sở",
         "Quận Hoàng Mai",
         "Hà Nội",
         " Phường Yên Sở, Quận Hoàng Mai, Hà Nội"
        ],
        [
         336,
         " Phường Đại Kim",
         "Quận Hoàng Mai",
         "Hà Nội",
         " Phường Đại Kim, Quận Hoàng Mai, Hà Nội"
        ],
        [
         337,
         " Phường Định Công",
         "Quận Hoàng Mai",
         "Hà Nội",
         " Phường Định Công, Quận Hoàng Mai, Hà Nội"
        ],
        [
         338,
         " Phường Biên Giang",
         "Quận Hà Đông",
         "Hà Nội",
         " Phường Biên Giang, Quận Hà Đông, Hà Nội"
        ],
        [
         339,
         " Phường Dương Nội",
         "Quận Hà Đông",
         "Hà Nội",
         " Phường Dương Nội, Quận Hà Đông, Hà Nội"
        ],
        [
         340,
         " Phường Hà Cầu",
         "Quận Hà Đông",
         "Hà Nội",
         " Phường Hà Cầu, Quận Hà Đông, Hà Nội"
        ],
        [
         341,
         " Phường Kiến Hưng",
         "Quận Hà Đông",
         "Hà Nội",
         " Phường Kiến Hưng, Quận Hà Đông, Hà Nội"
        ],
        [
         342,
         " Phường La Khê",
         "Quận Hà Đông",
         "Hà Nội",
         " Phường La Khê, Quận Hà Đông, Hà Nội"
        ],
        [
         343,
         " Phường Mộ Lao",
         "Quận Hà Đông",
         "Hà Nội",
         " Phường Mộ Lao, Quận Hà Đông, Hà Nội"
        ],
        [
         344,
         " Phường Nguyễn Trãi",
         "Quận Hà Đông",
         "Hà Nội",
         " Phường Nguyễn Trãi, Quận Hà Đông, Hà Nội"
        ],
        [
         345,
         " Phường Phú La",
         "Quận Hà Đông",
         "Hà Nội",
         " Phường Phú La, Quận Hà Đông, Hà Nội"
        ],
        [
         346,
         " Phường Phú Lãm",
         "Quận Hà Đông",
         "Hà Nội",
         " Phường Phú Lãm, Quận Hà Đông, Hà Nội"
        ],
        [
         347,
         " Phường Phú Lương",
         "Quận Hà Đông",
         "Hà Nội",
         " Phường Phú Lương, Quận Hà Đông, Hà Nội"
        ],
        [
         348,
         " Phường Phúc La",
         "Quận Hà Đông",
         "Hà Nội",
         " Phường Phúc La, Quận Hà Đông, Hà Nội"
        ],
        [
         349,
         " Phường Quang Trung",
         "Quận Hà Đông",
         "Hà Nội",
         " Phường Quang Trung, Quận Hà Đông, Hà Nội"
        ],
        [
         350,
         " Phường Văn Quán",
         "Quận Hà Đông",
         "Hà Nội",
         " Phường Văn Quán, Quận Hà Đông, Hà Nội"
        ],
        [
         351,
         " Phường Vạn Phúc",
         "Quận Hà Đông",
         "Hà Nội",
         " Phường Vạn Phúc, Quận Hà Đông, Hà Nội"
        ],
        [
         352,
         " Phường Yên Nghĩa",
         "Quận Hà Đông",
         "Hà Nội",
         " Phường Yên Nghĩa, Quận Hà Đông, Hà Nội"
        ],
        [
         353,
         " Phường Đồng Mai",
         "Quận Hà Đông",
         "Hà Nội",
         " Phường Đồng Mai, Quận Hà Đông, Hà Nội"
        ],
        [
         354,
         " Phường Bồ Đề",
         "Quận Long Biên",
         "Hà Nội",
         " Phường Bồ Đề, Quận Long Biên, Hà Nội"
        ],
        [
         355,
         " Phường Cự Khối",
         "Quận Long Biên",
         "Hà Nội",
         " Phường Cự Khối, Quận Long Biên, Hà Nội"
        ],
        [
         356,
         " Phường Gia Thụy",
         "Quận Long Biên",
         "Hà Nội",
         " Phường Gia Thụy, Quận Long Biên, Hà Nội"
        ],
        [
         357,
         " Phường Giang Biên",
         "Quận Long Biên",
         "Hà Nội",
         " Phường Giang Biên, Quận Long Biên, Hà Nội"
        ],
        [
         358,
         " Phường Long Biên",
         "Quận Long Biên",
         "Hà Nội",
         " Phường Long Biên, Quận Long Biên, Hà Nội"
        ],
        [
         359,
         " Phường Ngọc Lâm",
         "Quận Long Biên",
         "Hà Nội",
         " Phường Ngọc Lâm, Quận Long Biên, Hà Nội"
        ],
        [
         360,
         " Phường Ngọc Thụy",
         "Quận Long Biên",
         "Hà Nội",
         " Phường Ngọc Thụy, Quận Long Biên, Hà Nội"
        ],
        [
         361,
         " Phường Phúc Lợi",
         "Quận Long Biên",
         "Hà Nội",
         " Phường Phúc Lợi, Quận Long Biên, Hà Nội"
        ],
        [
         362,
         " Phường Sài Đồng",
         "Quận Long Biên",
         "Hà Nội",
         " Phường Sài Đồng, Quận Long Biên, Hà Nội"
        ],
        [
         363,
         " Phường Thượng Thanh",
         "Quận Long Biên",
         "Hà Nội",
         " Phường Thượng Thanh, Quận Long Biên, Hà Nội"
        ],
        [
         364,
         " Phường Thạch Bàn",
         "Quận Long Biên",
         "Hà Nội",
         " Phường Thạch Bàn, Quận Long Biên, Hà Nội"
        ],
        [
         365,
         " Phường Việt Hưng",
         "Quận Long Biên",
         "Hà Nội",
         " Phường Việt Hưng, Quận Long Biên, Hà Nội"
        ],
        [
         366,
         " Phường Đức Giang",
         "Quận Long Biên",
         "Hà Nội",
         " Phường Đức Giang, Quận Long Biên, Hà Nội"
        ],
        [
         367,
         " Phường Cầu Diễn",
         "Quận Nam Từ Liêm",
         "Hà Nội",
         " Phường Cầu Diễn, Quận Nam Từ Liêm, Hà Nội"
        ],
        [
         368,
         " Phường Mễ Trì",
         "Quận Nam Từ Liêm",
         "Hà Nội",
         " Phường Mễ Trì, Quận Nam Từ Liêm, Hà Nội"
        ],
        [
         369,
         " Phường Mỹ Đình 1",
         "Quận Nam Từ Liêm",
         "Hà Nội",
         " Phường Mỹ Đình 1, Quận Nam Từ Liêm, Hà Nội"
        ],
        [
         370,
         " Phường Mỹ Đình 2",
         "Quận Nam Từ Liêm",
         "Hà Nội",
         " Phường Mỹ Đình 2, Quận Nam Từ Liêm, Hà Nội"
        ],
        [
         371,
         " Phường Phú Đô",
         "Quận Nam Từ Liêm",
         "Hà Nội",
         " Phường Phú Đô, Quận Nam Từ Liêm, Hà Nội"
        ],
        [
         372,
         " Phường Phương Canh",
         "Quận Nam Từ Liêm",
         "Hà Nội",
         " Phường Phương Canh, Quận Nam Từ Liêm, Hà Nội"
        ],
        [
         373,
         " Phường Trung Văn",
         "Quận Nam Từ Liêm",
         "Hà Nội",
         " Phường Trung Văn, Quận Nam Từ Liêm, Hà Nội"
        ],
        [
         374,
         " Phường Tây Mỗ",
         "Quận Nam Từ Liêm",
         "Hà Nội",
         " Phường Tây Mỗ, Quận Nam Từ Liêm, Hà Nội"
        ],
        [
         375,
         " Phường Xuân Phương",
         "Quận Nam Từ Liêm",
         "Hà Nội",
         " Phường Xuân Phương, Quận Nam Từ Liêm, Hà Nội"
        ],
        [
         376,
         " Phường Đại Mỗ",
         "Quận Nam Từ Liêm",
         "Hà Nội",
         " Phường Đại Mỗ, Quận Nam Từ Liêm, Hà Nội"
        ],
        [
         377,
         " Phường Hạ Đình",
         "Quận Thanh Xuân",
         "Hà Nội",
         " Phường Hạ Đình, Quận Thanh Xuân, Hà Nội"
        ],
        [
         378,
         " Phường Khương Mai",
         "Quận Thanh Xuân",
         "Hà Nội",
         " Phường Khương Mai, Quận Thanh Xuân, Hà Nội"
        ],
        [
         379,
         " Phường Khương Trung",
         "Quận Thanh Xuân",
         "Hà Nội",
         " Phường Khương Trung, Quận Thanh Xuân, Hà Nội"
        ],
        [
         380,
         " Phường Khương Đình",
         "Quận Thanh Xuân",
         "Hà Nội",
         " Phường Khương Đình, Quận Thanh Xuân, Hà Nội"
        ],
        [
         381,
         " Phường Nhân Chính",
         "Quận Thanh Xuân",
         "Hà Nội",
         " Phường Nhân Chính, Quận Thanh Xuân, Hà Nội"
        ],
        [
         382,
         " Phường Phương Liệt",
         "Quận Thanh Xuân",
         "Hà Nội",
         " Phường Phương Liệt, Quận Thanh Xuân, Hà Nội"
        ],
        [
         383,
         " Phường Thanh Xuân Bắc",
         "Quận Thanh Xuân",
         "Hà Nội",
         " Phường Thanh Xuân Bắc, Quận Thanh Xuân, Hà Nội"
        ],
        [
         384,
         " Phường Thanh Xuân Trung",
         "Quận Thanh Xuân",
         "Hà Nội",
         " Phường Thanh Xuân Trung, Quận Thanh Xuân, Hà Nội"
        ],
        [
         385,
         " Phường Thượng Đình",
         "Quận Thanh Xuân",
         "Hà Nội",
         " Phường Thượng Đình, Quận Thanh Xuân, Hà Nội"
        ],
        [
         386,
         " Phường Bưởi",
         "Quận Tây Hồ",
         "Hà Nội",
         " Phường Bưởi, Quận Tây Hồ, Hà Nội"
        ],
        [
         387,
         " Phường Nhật Tân",
         "Quận Tây Hồ",
         "Hà Nội",
         " Phường Nhật Tân, Quận Tây Hồ, Hà Nội"
        ],
        [
         388,
         " Phường Phú Thượng",
         "Quận Tây Hồ",
         "Hà Nội",
         " Phường Phú Thượng, Quận Tây Hồ, Hà Nội"
        ],
        [
         389,
         " Phường Quảng An",
         "Quận Tây Hồ",
         "Hà Nội",
         " Phường Quảng An, Quận Tây Hồ, Hà Nội"
        ],
        [
         390,
         " Phường Thụy Khuê",
         "Quận Tây Hồ",
         "Hà Nội",
         " Phường Thụy Khuê, Quận Tây Hồ, Hà Nội"
        ],
        [
         391,
         " Phường Tứ Liên",
         "Quận Tây Hồ",
         "Hà Nội",
         " Phường Tứ Liên, Quận Tây Hồ, Hà Nội"
        ],
        [
         392,
         " Phường Xuân La",
         "Quận Tây Hồ",
         "Hà Nội",
         " Phường Xuân La, Quận Tây Hồ, Hà Nội"
        ],
        [
         393,
         " Phường Cát Linh",
         "Quận Đống Đa",
         "Hà Nội",
         " Phường Cát Linh, Quận Đống Đa, Hà Nội"
        ],
        [
         394,
         " Phường Hàng Bột",
         "Quận Đống Đa",
         "Hà Nội",
         " Phường Hàng Bột, Quận Đống Đa, Hà Nội"
        ],
        [
         395,
         " Phường Khâm Thiên",
         "Quận Đống Đa",
         "Hà Nội",
         " Phường Khâm Thiên, Quận Đống Đa, Hà Nội"
        ],
        [
         396,
         " Phường Khương Thượng",
         "Quận Đống Đa",
         "Hà Nội",
         " Phường Khương Thượng, Quận Đống Đa, Hà Nội"
        ],
        [
         397,
         " Phường Kim Liên",
         "Quận Đống Đa",
         "Hà Nội",
         " Phường Kim Liên, Quận Đống Đa, Hà Nội"
        ],
        [
         398,
         " Phường Láng Hạ",
         "Quận Đống Đa",
         "Hà Nội",
         " Phường Láng Hạ, Quận Đống Đa, Hà Nội"
        ],
        [
         399,
         " Phường Láng Thượng",
         "Quận Đống Đa",
         "Hà Nội",
         " Phường Láng Thượng, Quận Đống Đa, Hà Nội"
        ],
        [
         400,
         " Phường Nam Đồng",
         "Quận Đống Đa",
         "Hà Nội",
         " Phường Nam Đồng, Quận Đống Đa, Hà Nội"
        ],
        [
         401,
         " Phường Ngã Tư Sở",
         "Quận Đống Đa",
         "Hà Nội",
         " Phường Ngã Tư Sở, Quận Đống Đa, Hà Nội"
        ],
        [
         402,
         " Phường Phương Liên",
         "Quận Đống Đa",
         "Hà Nội",
         " Phường Phương Liên, Quận Đống Đa, Hà Nội"
        ],
        [
         403,
         " Phường Quang Trung",
         "Quận Đống Đa",
         "Hà Nội",
         " Phường Quang Trung, Quận Đống Đa, Hà Nội"
        ],
        [
         404,
         " Phường Quốc Tử Giám",
         "Quận Đống Đa",
         "Hà Nội",
         " Phường Quốc Tử Giám, Quận Đống Đa, Hà Nội"
        ],
        [
         405,
         " Phường Thổ Quan",
         "Quận Đống Đa",
         "Hà Nội",
         " Phường Thổ Quan, Quận Đống Đa, Hà Nội"
        ],
        [
         406,
         " Phường Trung Liệt",
         "Quận Đống Đa",
         "Hà Nội",
         " Phường Trung Liệt, Quận Đống Đa, Hà Nội"
        ],
        [
         407,
         " Phường Trung Tự",
         "Quận Đống Đa",
         "Hà Nội",
         " Phường Trung Tự, Quận Đống Đa, Hà Nội"
        ],
        [
         408,
         " Phường Văn Chương",
         "Quận Đống Đa",
         "Hà Nội",
         " Phường Văn Chương, Quận Đống Đa, Hà Nội"
        ],
        [
         409,
         " Phường Ô Chợ Dừa",
         "Quận Đống Đa",
         "Hà Nội",
         " Phường Ô Chợ Dừa, Quận Đống Đa, Hà Nội"
        ],
        [
         410,
         " Xã Cổ Đông",
         "Thị xã Sơn Tây",
         "Hà Nội",
         " Xã Cổ Đông, Thị xã Sơn Tây, Hà Nội"
        ],
        [
         411,
         " Phường Thạch Linh",
         "Thành phố Hà Tĩnh",
         "Hà Tĩnh",
         " Phường Thạch Linh, Thành phố Hà Tĩnh, Hà Tĩnh"
        ],
        [
         412,
         " Xã Cư Yên",
         "Huyện Lương Sơn",
         "Hòa Bình",
         " Xã Cư Yên, Huyện Lương Sơn, Hòa Bình"
        ],
        [
         413,
         " Thị trấn Chi Nê",
         "Huyện Lạc Thủy",
         "Hòa Bình",
         " Thị trấn Chi Nê, Huyện Lạc Thủy, Hòa Bình"
        ],
        [
         414,
         " Xã Thanh Hối",
         "Huyện Tân Lạc",
         "Hòa Bình",
         " Xã Thanh Hối, Huyện Tân Lạc, Hòa Bình"
        ],
        [
         415,
         " Xã Ngọc Lương",
         "Huyện Yên Thủy",
         "Hòa Bình",
         " Xã Ngọc Lương, Huyện Yên Thủy, Hòa Bình"
        ],
        [
         416,
         " Xã Tân Tiến",
         "Huyện Văn Giang",
         "Hưng Yên",
         " Xã Tân Tiến, Huyện Văn Giang, Hưng Yên"
        ],
        [
         417,
         " Phường Bần Yên Nhân",
         "Thị xã Mỹ Hào",
         "Hưng Yên",
         " Phường Bần Yên Nhân, Thị xã Mỹ Hào, Hưng Yên"
        ],
        [
         418,
         " Xã Nam Sơn",
         "Huyện An Dương",
         "Hải Phòng",
         " Xã Nam Sơn, Huyện An Dương, Hải Phòng"
        ],
        [
         419,
         " Xã Đặng Cương",
         "Huyện An Dương",
         "Hải Phòng",
         " Xã Đặng Cương, Huyện An Dương, Hải Phòng"
        ],
        [
         420,
         " Phường Anh Dũng",
         "Quận Dương Kinh",
         "Hải Phòng",
         " Phường Anh Dũng, Quận Dương Kinh, Hải Phòng"
        ],
        [
         421,
         " Phường Đông Hải 1",
         "Quận Hải An",
         "Hải Phòng",
         " Phường Đông Hải 1, Quận Hải An, Hải Phòng"
        ],
        [
         422,
         " Phường Đằng Hải",
         "Quận Hải An",
         "Hải Phòng",
         " Phường Đằng Hải, Quận Hải An, Hải Phòng"
        ],
        [
         423,
         " Phường Đằng Lâm",
         "Quận Hải An",
         "Hải Phòng",
         " Phường Đằng Lâm, Quận Hải An, Hải Phòng"
        ],
        [
         424,
         " Phường Quán Toan",
         "Quận Hồng Bàng",
         "Hải Phòng",
         " Phường Quán Toan, Quận Hồng Bàng, Hải Phòng"
        ],
        [
         425,
         " Phường Nam Sơn",
         "Quận Kiến An",
         "Hải Phòng",
         " Phường Nam Sơn, Quận Kiến An, Hải Phòng"
        ],
        [
         426,
         " Phường Trần Thành Ngọ",
         "Quận Kiến An",
         "Hải Phòng",
         " Phường Trần Thành Ngọ, Quận Kiến An, Hải Phòng"
        ],
        [
         427,
         " Phường Dư Hàng Kênh",
         "Quận Lê Chân",
         "Hải Phòng",
         " Phường Dư Hàng Kênh, Quận Lê Chân, Hải Phòng"
        ],
        [
         428,
         " Phường Hồ Nam",
         "Quận Lê Chân",
         "Hải Phòng",
         " Phường Hồ Nam, Quận Lê Chân, Hải Phòng"
        ],
        [
         429,
         " Phường Máy Chai",
         "Quận Ngô Quyền",
         "Hải Phòng",
         " Phường Máy Chai, Quận Ngô Quyền, Hải Phòng"
        ],
        [
         430,
         " Phường Vạn Mỹ",
         "Quận Ngô Quyền",
         "Hải Phòng",
         " Phường Vạn Mỹ, Quận Ngô Quyền, Hải Phòng"
        ],
        [
         431,
         " Xã Đông Phú",
         "Huyện Châu Thành",
         "Hậu Giang",
         " Xã Đông Phú, Huyện Châu Thành, Hậu Giang"
        ],
        [
         432,
         " Xã Tân Phú Thạnh",
         "Huyện Châu Thành A",
         "Hậu Giang",
         " Xã Tân Phú Thạnh, Huyện Châu Thành A, Hậu Giang"
        ],
        [
         433,
         " Phường Ngã Bảy",
         "Thành phố Ngã Bảy",
         "Hậu Giang",
         " Phường Ngã Bảy, Thành phố Ngã Bảy, Hậu Giang"
        ],
        [
         434,
         " Xã Cam Hiệp Nam",
         "Huyện Cam Lâm",
         "Khánh Hòa",
         " Xã Cam Hiệp Nam, Huyện Cam Lâm, Khánh Hòa"
        ],
        [
         435,
         " Xã Diên Lâm",
         "Huyện Diên Khánh",
         "Khánh Hòa",
         " Xã Diên Lâm, Huyện Diên Khánh, Khánh Hòa"
        ],
        [
         436,
         " Xã Diên Đồng",
         "Huyện Diên Khánh",
         "Khánh Hòa",
         " Xã Diên Đồng, Huyện Diên Khánh, Khánh Hòa"
        ],
        [
         437,
         " Xã Sông Cầu",
         "Huyện Khánh Vĩnh",
         "Khánh Hòa",
         " Xã Sông Cầu, Huyện Khánh Vĩnh, Khánh Hòa"
        ],
        [
         438,
         " Phường Lộc Thọ",
         "Thành phố Nha Trang",
         "Khánh Hòa",
         " Phường Lộc Thọ, Thành phố Nha Trang, Khánh Hòa"
        ],
        [
         439,
         " Phường Phước Hải",
         "Thành phố Nha Trang",
         "Khánh Hòa",
         " Phường Phước Hải, Thành phố Nha Trang, Khánh Hòa"
        ],
        [
         440,
         " Phường Phước Long",
         "Thành phố Nha Trang",
         "Khánh Hòa",
         " Phường Phước Long, Thành phố Nha Trang, Khánh Hòa"
        ],
        [
         441,
         " Phường Vĩnh Hòa",
         "Thành phố Nha Trang",
         "Khánh Hòa",
         " Phường Vĩnh Hòa, Thành phố Nha Trang, Khánh Hòa"
        ],
        [
         442,
         " Phường Vĩnh Hải",
         "Thành phố Nha Trang",
         "Khánh Hòa",
         " Phường Vĩnh Hải, Thành phố Nha Trang, Khánh Hòa"
        ],
        [
         443,
         " Phường Vĩnh Nguyên",
         "Thành phố Nha Trang",
         "Khánh Hòa",
         " Phường Vĩnh Nguyên, Thành phố Nha Trang, Khánh Hòa"
        ],
        [
         444,
         " Phường Vĩnh Phước",
         "Thành phố Nha Trang",
         "Khánh Hòa",
         " Phường Vĩnh Phước, Thành phố Nha Trang, Khánh Hòa"
        ],
        [
         445,
         " Phường Xương Huân",
         "Thành phố Nha Trang",
         "Khánh Hòa",
         " Phường Xương Huân, Thành phố Nha Trang, Khánh Hòa"
        ],
        [
         446,
         " Xã Phước Đồng",
         "Thành phố Nha Trang",
         "Khánh Hòa",
         " Xã Phước Đồng, Thành phố Nha Trang, Khánh Hòa"
        ],
        [
         447,
         " Xã Vĩnh Hiệp",
         "Thành phố Nha Trang",
         "Khánh Hòa",
         " Xã Vĩnh Hiệp, Thành phố Nha Trang, Khánh Hòa"
        ],
        [
         448,
         " Xã Vĩnh Ngọc",
         "Thành phố Nha Trang",
         "Khánh Hòa",
         " Xã Vĩnh Ngọc, Thành phố Nha Trang, Khánh Hòa"
        ],
        [
         449,
         " Xã Ninh An",
         "Thị xã Ninh Hòa",
         "Khánh Hòa",
         " Xã Ninh An, Thị xã Ninh Hòa, Khánh Hòa"
        ],
        [
         450,
         " Xã Ninh Phú",
         "Thị xã Ninh Hòa",
         "Khánh Hòa",
         " Xã Ninh Phú, Thị xã Ninh Hòa, Khánh Hòa"
        ],
        [
         451,
         " Xã Ninh Sim",
         "Thị xã Ninh Hòa",
         "Khánh Hòa",
         " Xã Ninh Sim, Thị xã Ninh Hòa, Khánh Hòa"
        ],
        [
         452,
         " Xã Ninh Xuân",
         "Thị xã Ninh Hòa",
         "Khánh Hòa",
         " Xã Ninh Xuân, Thị xã Ninh Hòa, Khánh Hòa"
        ],
        [
         453,
         " Thị trấn Gò Quao",
         "Huyện Gò Quao",
         "Kiên Giang",
         " Thị trấn Gò Quao, Huyện Gò Quao, Kiên Giang"
        ],
        [
         454,
         " Thị trấn Hòn Đất",
         "Huyện Hòn Đất",
         "Kiên Giang",
         " Thị trấn Hòn Đất, Huyện Hòn Đất, Kiên Giang"
        ],
        [
         455,
         " Phường Pháo Đài",
         "Thành phố Hà Tiên",
         "Kiên Giang",
         " Phường Pháo Đài, Thành phố Hà Tiên, Kiên Giang"
        ],
        [
         456,
         " Phường Tô Châu",
         "Thành phố Hà Tiên",
         "Kiên Giang",
         " Phường Tô Châu, Thành phố Hà Tiên, Kiên Giang"
        ],
        [
         457,
         " Phường Đông Hồ",
         "Thành phố Hà Tiên",
         "Kiên Giang",
         " Phường Đông Hồ, Thành phố Hà Tiên, Kiên Giang"
        ],
        [
         458,
         " Thị trấn Dương Đông",
         "Thành phố Phú Quốc",
         "Kiên Giang",
         " Thị trấn Dương Đông, Thành phố Phú Quốc, Kiên Giang"
        ],
        [
         459,
         " Xã Dương Tơ",
         "Thành phố Phú Quốc",
         "Kiên Giang",
         " Xã Dương Tơ, Thành phố Phú Quốc, Kiên Giang"
        ],
        [
         460,
         " Xã Gành Dầu",
         "Thành phố Phú Quốc",
         "Kiên Giang",
         " Xã Gành Dầu, Thành phố Phú Quốc, Kiên Giang"
        ],
        [
         461,
         " Phường An Bình",
         "Thành phố Rạch Giá",
         "Kiên Giang",
         " Phường An Bình, Thành phố Rạch Giá, Kiên Giang"
        ],
        [
         462,
         " Phường An Hòa",
         "Thành phố Rạch Giá",
         "Kiên Giang",
         " Phường An Hòa, Thành phố Rạch Giá, Kiên Giang"
        ],
        [
         463,
         " Phường Rạch Sỏi",
         "Thành phố Rạch Giá",
         "Kiên Giang",
         " Phường Rạch Sỏi, Thành phố Rạch Giá, Kiên Giang"
        ],
        [
         464,
         " Phường Vĩnh Lợi",
         "Thành phố Rạch Giá",
         "Kiên Giang",
         " Phường Vĩnh Lợi, Thành phố Rạch Giá, Kiên Giang"
        ],
        [
         465,
         " Phường Vĩnh Quang",
         "Thành phố Rạch Giá",
         "Kiên Giang",
         " Phường Vĩnh Quang, Thành phố Rạch Giá, Kiên Giang"
        ],
        [
         466,
         " Phường Vĩnh Thanh",
         "Thành phố Rạch Giá",
         "Kiên Giang",
         " Phường Vĩnh Thanh, Thành phố Rạch Giá, Kiên Giang"
        ],
        [
         467,
         " Thị trấn Đắk Hà",
         "Huyện Đắk Hà",
         "Kon Tum",
         " Thị trấn Đắk Hà, Huyện Đắk Hà, Kon Tum"
        ],
        [
         468,
         " Thị trấn Tân Uyên",
         "Huyện Tân Uyên",
         "Lai Châu",
         " Thị trấn Tân Uyên, Huyện Tân Uyên, Lai Châu"
        ],
        [
         469,
         " Thị trấn Bến Lức",
         "Huyện Bến Lức",
         "Long An",
         " Thị trấn Bến Lức, Huyện Bến Lức, Long An"
        ],
        [
         470,
         " Xã An Thạnh",
         "Huyện Bến Lức",
         "Long An",
         " Xã An Thạnh, Huyện Bến Lức, Long An"
        ],
        [
         471,
         " Xã Bình Đức",
         "Huyện Bến Lức",
         "Long An",
         " Xã Bình Đức, Huyện Bến Lức, Long An"
        ],
        [
         472,
         " Xã Lương Bình",
         "Huyện Bến Lức",
         "Long An",
         " Xã Lương Bình, Huyện Bến Lức, Long An"
        ],
        [
         473,
         " Xã Lương Hòa",
         "Huyện Bến Lức",
         "Long An",
         " Xã Lương Hòa, Huyện Bến Lức, Long An"
        ],
        [
         474,
         " Xã Mỹ Yên",
         "Huyện Bến Lức",
         "Long An",
         " Xã Mỹ Yên, Huyện Bến Lức, Long An"
        ],
        [
         475,
         " Xã Nhựt Chánh",
         "Huyện Bến Lức",
         "Long An",
         " Xã Nhựt Chánh, Huyện Bến Lức, Long An"
        ],
        [
         476,
         " Xã Phước Lợi",
         "Huyện Bến Lức",
         "Long An",
         " Xã Phước Lợi, Huyện Bến Lức, Long An"
        ],
        [
         477,
         " Xã Thanh Phú",
         "Huyện Bến Lức",
         "Long An",
         " Xã Thanh Phú, Huyện Bến Lức, Long An"
        ],
        [
         478,
         " Xã Thạnh Hòa",
         "Huyện Bến Lức",
         "Long An",
         " Xã Thạnh Hòa, Huyện Bến Lức, Long An"
        ],
        [
         479,
         " Xã Thạnh Đức",
         "Huyện Bến Lức",
         "Long An",
         " Xã Thạnh Đức, Huyện Bến Lức, Long An"
        ],
        [
         480,
         " Xã Tân Bửu",
         "Huyện Bến Lức",
         "Long An",
         " Xã Tân Bửu, Huyện Bến Lức, Long An"
        ],
        [
         481,
         " Xã Bình Quới",
         "Huyện Châu Thành",
         "Long An",
         " Xã Bình Quới, Huyện Châu Thành, Long An"
        ],
        [
         482,
         " Xã Phú Ngãi Trị",
         "Huyện Châu Thành",
         "Long An",
         " Xã Phú Ngãi Trị, Huyện Châu Thành, Long An"
        ],
        [
         483,
         " Xã Thanh Phú Long",
         "Huyện Châu Thành",
         "Long An",
         " Xã Thanh Phú Long, Huyện Châu Thành, Long An"
        ],
        [
         484,
         " Xã Thuận Mỹ",
         "Huyện Châu Thành",
         "Long An",
         " Xã Thuận Mỹ, Huyện Châu Thành, Long An"
        ],
        [
         485,
         " Thị trấn Cần Giuộc",
         "Huyện Cần Giuộc",
         "Long An",
         " Thị trấn Cần Giuộc, Huyện Cần Giuộc, Long An"
        ],
        [
         486,
         " Xã Long An",
         "Huyện Cần Giuộc",
         "Long An",
         " Xã Long An, Huyện Cần Giuộc, Long An"
        ],
        [
         487,
         " Xã Long Hậu",
         "Huyện Cần Giuộc",
         "Long An",
         " Xã Long Hậu, Huyện Cần Giuộc, Long An"
        ],
        [
         488,
         " Xã Long Thượng",
         "Huyện Cần Giuộc",
         "Long An",
         " Xã Long Thượng, Huyện Cần Giuộc, Long An"
        ],
        [
         489,
         " Xã Mỹ Lộc",
         "Huyện Cần Giuộc",
         "Long An",
         " Xã Mỹ Lộc, Huyện Cần Giuộc, Long An"
        ],
        [
         490,
         " Xã Phước Lâm",
         "Huyện Cần Giuộc",
         "Long An",
         " Xã Phước Lâm, Huyện Cần Giuộc, Long An"
        ],
        [
         491,
         " Xã Phước Lý",
         "Huyện Cần Giuộc",
         "Long An",
         " Xã Phước Lý, Huyện Cần Giuộc, Long An"
        ],
        [
         492,
         " Xã Tân Kim",
         "Huyện Cần Giuộc",
         "Long An",
         " Xã Tân Kim, Huyện Cần Giuộc, Long An"
        ],
        [
         493,
         " Thị trấn Cần Đước",
         "Huyện Cần Đước",
         "Long An",
         " Thị trấn Cần Đước, Huyện Cần Đước, Long An"
        ],
        [
         494,
         " Xã Long Cang",
         "Huyện Cần Đước",
         "Long An",
         " Xã Long Cang, Huyện Cần Đước, Long An"
        ],
        [
         495,
         " Xã Long Hòa",
         "Huyện Cần Đước",
         "Long An",
         " Xã Long Hòa, Huyện Cần Đước, Long An"
        ],
        [
         496,
         " Xã Long Trạch",
         "Huyện Cần Đước",
         "Long An",
         " Xã Long Trạch, Huyện Cần Đước, Long An"
        ],
        [
         497,
         " Xã Long Định",
         "Huyện Cần Đước",
         "Long An",
         " Xã Long Định, Huyện Cần Đước, Long An"
        ],
        [
         498,
         " Xã Phước Vân",
         "Huyện Cần Đước",
         "Long An",
         " Xã Phước Vân, Huyện Cần Đước, Long An"
        ],
        [
         499,
         " Xã Phước Đông",
         "Huyện Cần Đước",
         "Long An",
         " Xã Phước Đông, Huyện Cần Đước, Long An"
        ],
        [
         500,
         " Xã Tân Trạch",
         "Huyện Cần Đước",
         "Long An",
         " Xã Tân Trạch, Huyện Cần Đước, Long An"
        ],
        [
         501,
         " Xã Tân Đông",
         "Huyện Thạnh Hóa",
         "Long An",
         " Xã Tân Đông, Huyện Thạnh Hóa, Long An"
        ],
        [
         502,
         " Thị trấn Thủ Thừa",
         "Huyện Thủ Thừa",
         "Long An",
         " Thị trấn Thủ Thừa, Huyện Thủ Thừa, Long An"
        ],
        [
         503,
         " Xã Long Thạnh",
         "Huyện Thủ Thừa",
         "Long An",
         " Xã Long Thạnh, Huyện Thủ Thừa, Long An"
        ],
        [
         504,
         " Xã Mỹ Lạc",
         "Huyện Thủ Thừa",
         "Long An",
         " Xã Mỹ Lạc, Huyện Thủ Thừa, Long An"
        ],
        [
         505,
         " Xã Tân Thành",
         "Huyện Thủ Thừa",
         "Long An",
         " Xã Tân Thành, Huyện Thủ Thừa, Long An"
        ],
        [
         506,
         " Xã Hậu Thạnh Đông",
         "Huyện Tân Thạnh",
         "Long An",
         " Xã Hậu Thạnh Đông, Huyện Tân Thạnh, Long An"
        ],
        [
         507,
         " Xã Bình Lãng",
         "Huyện Tân Trụ",
         "Long An",
         " Xã Bình Lãng, Huyện Tân Trụ, Long An"
        ],
        [
         508,
         " Xã Bình Trinh Đông",
         "Huyện Tân Trụ",
         "Long An",
         " Xã Bình Trinh Đông, Huyện Tân Trụ, Long An"
        ],
        [
         509,
         " Xã Tân Phước Tây",
         "Huyện Tân Trụ",
         "Long An",
         " Xã Tân Phước Tây, Huyện Tân Trụ, Long An"
        ],
        [
         510,
         " Xã Đức Tân",
         "Huyện Tân Trụ",
         "Long An",
         " Xã Đức Tân, Huyện Tân Trụ, Long An"
        ],
        [
         511,
         " Thị trấn Vĩnh Hưng",
         "Huyện Vĩnh Hưng",
         "Long An",
         " Thị trấn Vĩnh Hưng, Huyện Vĩnh Hưng, Long An"
        ],
        [
         512,
         " Xã Mỹ Thạnh Tây",
         "Huyện Đức Huệ",
         "Long An",
         " Xã Mỹ Thạnh Tây, Huyện Đức Huệ, Long An"
        ],
        [
         513,
         " Xã Mỹ Thạnh Đông",
         "Huyện Đức Huệ",
         "Long An",
         " Xã Mỹ Thạnh Đông, Huyện Đức Huệ, Long An"
        ],
        [
         514,
         " Thị trấn Hậu Nghĩa",
         "Huyện Đức Hòa",
         "Long An",
         " Thị trấn Hậu Nghĩa, Huyện Đức Hòa, Long An"
        ],
        [
         515,
         " Thị trấn Đức Hòa",
         "Huyện Đức Hòa",
         "Long An",
         " Thị trấn Đức Hòa, Huyện Đức Hòa, Long An"
        ],
        [
         516,
         " Xã An Ninh Đông",
         "Huyện Đức Hòa",
         "Long An",
         " Xã An Ninh Đông, Huyện Đức Hòa, Long An"
        ],
        [
         517,
         " Xã Hiệp Hòa",
         "Huyện Đức Hòa",
         "Long An",
         " Xã Hiệp Hòa, Huyện Đức Hòa, Long An"
        ],
        [
         518,
         " Xã Hòa Khánh Nam",
         "Huyện Đức Hòa",
         "Long An",
         " Xã Hòa Khánh Nam, Huyện Đức Hòa, Long An"
        ],
        [
         519,
         " Xã Hựu Thạnh",
         "Huyện Đức Hòa",
         "Long An",
         " Xã Hựu Thạnh, Huyện Đức Hòa, Long An"
        ],
        [
         520,
         " Xã Mỹ Hạnh Bắc",
         "Huyện Đức Hòa",
         "Long An",
         " Xã Mỹ Hạnh Bắc, Huyện Đức Hòa, Long An"
        ],
        [
         521,
         " Xã Mỹ Hạnh Nam",
         "Huyện Đức Hòa",
         "Long An",
         " Xã Mỹ Hạnh Nam, Huyện Đức Hòa, Long An"
        ],
        [
         522,
         " Xã Tân Mỹ",
         "Huyện Đức Hòa",
         "Long An",
         " Xã Tân Mỹ, Huyện Đức Hòa, Long An"
        ],
        [
         523,
         " Xã Đức Hòa Hạ",
         "Huyện Đức Hòa",
         "Long An",
         " Xã Đức Hòa Hạ, Huyện Đức Hòa, Long An"
        ],
        [
         524,
         " Xã Đức Hòa Đông",
         "Huyện Đức Hòa",
         "Long An",
         " Xã Đức Hòa Đông, Huyện Đức Hòa, Long An"
        ],
        [
         525,
         " Xã Đức Lập Hạ",
         "Huyện Đức Hòa",
         "Long An",
         " Xã Đức Lập Hạ, Huyện Đức Hòa, Long An"
        ],
        [
         526,
         " Xã Đức Lập Thượng",
         "Huyện Đức Hòa",
         "Long An",
         " Xã Đức Lập Thượng, Huyện Đức Hòa, Long An"
        ],
        [
         527,
         " Phường 2",
         "Thành phố Tân An",
         "Long An",
         " Phường 2, Thành phố Tân An, Long An"
        ],
        [
         528,
         " Phường 3",
         "Thành phố Tân An",
         "Long An",
         " Phường 3, Thành phố Tân An, Long An"
        ],
        [
         529,
         " Phường 4",
         "Thành phố Tân An",
         "Long An",
         " Phường 4, Thành phố Tân An, Long An"
        ],
        [
         530,
         " Phường 5",
         "Thành phố Tân An",
         "Long An",
         " Phường 5, Thành phố Tân An, Long An"
        ],
        [
         531,
         " Phường 6",
         "Thành phố Tân An",
         "Long An",
         " Phường 6, Thành phố Tân An, Long An"
        ],
        [
         532,
         " Phường 7",
         "Thành phố Tân An",
         "Long An",
         " Phường 7, Thành phố Tân An, Long An"
        ],
        [
         533,
         " Phường Khánh Hậu",
         "Thành phố Tân An",
         "Long An",
         " Phường Khánh Hậu, Thành phố Tân An, Long An"
        ],
        [
         534,
         " Phường Tân Khánh",
         "Thành phố Tân An",
         "Long An",
         " Phường Tân Khánh, Thành phố Tân An, Long An"
        ],
        [
         535,
         " Xã Bình Tâm",
         "Thành phố Tân An",
         "Long An",
         " Xã Bình Tâm, Thành phố Tân An, Long An"
        ],
        [
         536,
         " Xã Hướng Thọ Phú",
         "Thành phố Tân An",
         "Long An",
         " Xã Hướng Thọ Phú, Thành phố Tân An, Long An"
        ],
        [
         537,
         " Xã Lợi Bình Nhơn",
         "Thành phố Tân An",
         "Long An",
         " Xã Lợi Bình Nhơn, Thành phố Tân An, Long An"
        ],
        [
         538,
         " Xã Nhơn Thạnh Trung",
         "Thành phố Tân An",
         "Long An",
         " Xã Nhơn Thạnh Trung, Thành phố Tân An, Long An"
        ],
        [
         539,
         " Thị trấn Lộc Thắng",
         "Huyện Bảo Lâm",
         "Lâm Đồng",
         " Thị trấn Lộc Thắng, Huyện Bảo Lâm, Lâm Đồng"
        ],
        [
         540,
         " Xã B' Lá",
         "Huyện Bảo Lâm",
         "Lâm Đồng",
         " Xã B' Lá, Huyện Bảo Lâm, Lâm Đồng"
        ],
        [
         541,
         " Xã Lộc An",
         "Huyện Bảo Lâm",
         "Lâm Đồng",
         " Xã Lộc An, Huyện Bảo Lâm, Lâm Đồng"
        ],
        [
         542,
         " Xã Lộc Bắc",
         "Huyện Bảo Lâm",
         "Lâm Đồng",
         " Xã Lộc Bắc, Huyện Bảo Lâm, Lâm Đồng"
        ],
        [
         543,
         " Xã Lộc Ngãi",
         "Huyện Bảo Lâm",
         "Lâm Đồng",
         " Xã Lộc Ngãi, Huyện Bảo Lâm, Lâm Đồng"
        ],
        [
         544,
         " Xã Lộc Quảng",
         "Huyện Bảo Lâm",
         "Lâm Đồng",
         " Xã Lộc Quảng, Huyện Bảo Lâm, Lâm Đồng"
        ],
        [
         545,
         " Xã Lộc Thành",
         "Huyện Bảo Lâm",
         "Lâm Đồng",
         " Xã Lộc Thành, Huyện Bảo Lâm, Lâm Đồng"
        ],
        [
         546,
         " Xã Lộc Tân",
         "Huyện Bảo Lâm",
         "Lâm Đồng",
         " Xã Lộc Tân, Huyện Bảo Lâm, Lâm Đồng"
        ],
        [
         547,
         " Xã Lộc Đức",
         "Huyện Bảo Lâm",
         "Lâm Đồng",
         " Xã Lộc Đức, Huyện Bảo Lâm, Lâm Đồng"
        ],
        [
         548,
         " Xã Tân Lạc",
         "Huyện Bảo Lâm",
         "Lâm Đồng",
         " Xã Tân Lạc, Huyện Bảo Lâm, Lâm Đồng"
        ],
        [
         549,
         " Xã Đức Phổ",
         "Huyện Cát Tiên",
         "Lâm Đồng",
         " Xã Đức Phổ, Huyện Cát Tiên, Lâm Đồng"
        ],
        [
         550,
         " Thị trấn Di Linh",
         "Huyện Di Linh",
         "Lâm Đồng",
         " Thị trấn Di Linh, Huyện Di Linh, Lâm Đồng"
        ],
        [
         551,
         " Xã Tân Châu",
         "Huyện Di Linh",
         "Lâm Đồng",
         " Xã Tân Châu, Huyện Di Linh, Lâm Đồng"
        ],
        [
         552,
         " Xã Đinh Trang Thượng",
         "Huyện Di Linh",
         "Lâm Đồng",
         " Xã Đinh Trang Thượng, Huyện Di Linh, Lâm Đồng"
        ],
        [
         553,
         " Thị trấn Nam Ban",
         "Huyện Lâm Hà",
         "Lâm Đồng",
         " Thị trấn Nam Ban, Huyện Lâm Hà, Lâm Đồng"
        ],
        [
         554,
         " Thị trấn Đinh Văn",
         "Huyện Lâm Hà",
         "Lâm Đồng",
         " Thị trấn Đinh Văn, Huyện Lâm Hà, Lâm Đồng"
        ],
        [
         555,
         " Xã Gia Lâm",
         "Huyện Lâm Hà",
         "Lâm Đồng",
         " Xã Gia Lâm, Huyện Lâm Hà, Lâm Đồng"
        ],
        [
         556,
         " Xã Hoài Đức",
         "Huyện Lâm Hà",
         "Lâm Đồng",
         " Xã Hoài Đức, Huyện Lâm Hà, Lâm Đồng"
        ],
        [
         557,
         " Xã Mê Linh",
         "Huyện Lâm Hà",
         "Lâm Đồng",
         " Xã Mê Linh, Huyện Lâm Hà, Lâm Đồng"
        ],
        [
         558,
         " Xã Nam Hà",
         "Huyện Lâm Hà",
         "Lâm Đồng",
         " Xã Nam Hà, Huyện Lâm Hà, Lâm Đồng"
        ],
        [
         559,
         " Xã Phúc Thọ",
         "Huyện Lâm Hà",
         "Lâm Đồng",
         " Xã Phúc Thọ, Huyện Lâm Hà, Lâm Đồng"
        ],
        [
         560,
         " Xã Tân Văn",
         "Huyện Lâm Hà",
         "Lâm Đồng",
         " Xã Tân Văn, Huyện Lâm Hà, Lâm Đồng"
        ],
        [
         561,
         " Xã Đông Thanh",
         "Huyện Lâm Hà",
         "Lâm Đồng",
         " Xã Đông Thanh, Huyện Lâm Hà, Lâm Đồng"
        ],
        [
         562,
         " Thị trấn Ma Đa Guôi",
         "Huyện Đạ Huoai",
         "Lâm Đồng",
         " Thị trấn Ma Đa Guôi, Huyện Đạ Huoai, Lâm Đồng"
        ],
        [
         563,
         " Xã Phước Lộc",
         "Huyện Đạ Huoai",
         "Lâm Đồng",
         " Xã Phước Lộc, Huyện Đạ Huoai, Lâm Đồng"
        ],
        [
         564,
         " Xã Đạ Ploa",
         "Huyện Đạ Huoai",
         "Lâm Đồng",
         " Xã Đạ Ploa, Huyện Đạ Huoai, Lâm Đồng"
        ],
        [
         565,
         " Thị trấn Liên Nghĩa",
         "Huyện Đức Trọng",
         "Lâm Đồng",
         " Thị trấn Liên Nghĩa, Huyện Đức Trọng, Lâm Đồng"
        ],
        [
         566,
         " Phường 1",
         "Thành phố Bảo Lộc",
         "Lâm Đồng",
         " Phường 1, Thành phố Bảo Lộc, Lâm Đồng"
        ],
        [
         567,
         " Phường 2",
         "Thành phố Bảo Lộc",
         "Lâm Đồng",
         " Phường 2, Thành phố Bảo Lộc, Lâm Đồng"
        ],
        [
         568,
         " Phường Lộc Phát",
         "Thành phố Bảo Lộc",
         "Lâm Đồng",
         " Phường Lộc Phát, Thành phố Bảo Lộc, Lâm Đồng"
        ],
        [
         569,
         " Phường Lộc Sơn",
         "Thành phố Bảo Lộc",
         "Lâm Đồng",
         " Phường Lộc Sơn, Thành phố Bảo Lộc, Lâm Đồng"
        ],
        [
         570,
         " Xã Lộc Châu",
         "Thành phố Bảo Lộc",
         "Lâm Đồng",
         " Xã Lộc Châu, Thành phố Bảo Lộc, Lâm Đồng"
        ],
        [
         571,
         " Xã Lộc Nga",
         "Thành phố Bảo Lộc",
         "Lâm Đồng",
         " Xã Lộc Nga, Thành phố Bảo Lộc, Lâm Đồng"
        ],
        [
         572,
         " Xã Đại Lào",
         "Thành phố Bảo Lộc",
         "Lâm Đồng",
         " Xã Đại Lào, Thành phố Bảo Lộc, Lâm Đồng"
        ],
        [
         573,
         " Xã Đạm Bri",
         "Thành phố Bảo Lộc",
         "Lâm Đồng",
         " Xã Đạm Bri, Thành phố Bảo Lộc, Lâm Đồng"
        ],
        [
         574,
         " Phường 1",
         "Thành phố Đà Lạt",
         "Lâm Đồng",
         " Phường 1, Thành phố Đà Lạt, Lâm Đồng"
        ],
        [
         575,
         " Phường 10",
         "Thành phố Đà Lạt",
         "Lâm Đồng",
         " Phường 10, Thành phố Đà Lạt, Lâm Đồng"
        ],
        [
         576,
         " Phường 11",
         "Thành phố Đà Lạt",
         "Lâm Đồng",
         " Phường 11, Thành phố Đà Lạt, Lâm Đồng"
        ],
        [
         577,
         " Phường 2",
         "Thành phố Đà Lạt",
         "Lâm Đồng",
         " Phường 2, Thành phố Đà Lạt, Lâm Đồng"
        ],
        [
         578,
         " Phường 3",
         "Thành phố Đà Lạt",
         "Lâm Đồng",
         " Phường 3, Thành phố Đà Lạt, Lâm Đồng"
        ],
        [
         579,
         " Phường 4",
         "Thành phố Đà Lạt",
         "Lâm Đồng",
         " Phường 4, Thành phố Đà Lạt, Lâm Đồng"
        ],
        [
         580,
         " Phường 5",
         "Thành phố Đà Lạt",
         "Lâm Đồng",
         " Phường 5, Thành phố Đà Lạt, Lâm Đồng"
        ],
        [
         581,
         " Phường 6",
         "Thành phố Đà Lạt",
         "Lâm Đồng",
         " Phường 6, Thành phố Đà Lạt, Lâm Đồng"
        ],
        [
         582,
         " Phường 7",
         "Thành phố Đà Lạt",
         "Lâm Đồng",
         " Phường 7, Thành phố Đà Lạt, Lâm Đồng"
        ],
        [
         583,
         " Phường 8",
         "Thành phố Đà Lạt",
         "Lâm Đồng",
         " Phường 8, Thành phố Đà Lạt, Lâm Đồng"
        ],
        [
         584,
         " Xã Tà Nung",
         "Thành phố Đà Lạt",
         "Lâm Đồng",
         " Xã Tà Nung, Thành phố Đà Lạt, Lâm Đồng"
        ],
        [
         585,
         " Xã Xuân Thọ",
         "Thành phố Đà Lạt",
         "Lâm Đồng",
         " Xã Xuân Thọ, Thành phố Đà Lạt, Lâm Đồng"
        ],
        [
         586,
         " Xã Xuân Trường",
         "Thành phố Đà Lạt",
         "Lâm Đồng",
         " Xã Xuân Trường, Thành phố Đà Lạt, Lâm Đồng"
        ],
        [
         587,
         " Xã Phước Sơn",
         "Huyện Ninh Phước",
         "Ninh Thuận",
         " Xã Phước Sơn, Huyện Ninh Phước, Ninh Thuận"
        ],
        [
         588,
         " Phường Mỹ Hải",
         "Thành phố Phan Rang-Tháp Chàm",
         "Ninh Thuận",
         " Phường Mỹ Hải, Thành phố Phan Rang-Tháp Chàm, Ninh Thuận"
        ],
        [
         589,
         " Phường Thanh Sơn",
         "Thành phố Phan Rang-Tháp Chàm",
         "Ninh Thuận",
         " Phường Thanh Sơn, Thành phố Phan Rang-Tháp Chàm, Ninh Thuận"
        ],
        [
         590,
         " Phường Tấn Tài",
         "Thành phố Phan Rang-Tháp Chàm",
         "Ninh Thuận",
         " Phường Tấn Tài, Thành phố Phan Rang-Tháp Chàm, Ninh Thuận"
        ],
        [
         591,
         " Phường Phú Thạnh",
         "Thành phố Tuy Hòa",
         "Phú Yên",
         " Phường Phú Thạnh, Thành phố Tuy Hòa, Phú Yên"
        ],
        [
         592,
         " Phường Hòa Hiệp Trung",
         "Thị xã Đông Hòa",
         "Phú Yên",
         " Phường Hòa Hiệp Trung, Thị xã Đông Hòa, Phú Yên"
        ],
        [
         593,
         " Xã Hòa Tâm",
         "Thị xã Đông Hòa",
         "Phú Yên",
         " Xã Hòa Tâm, Thị xã Đông Hòa, Phú Yên"
        ],
        [
         594,
         " Phường Thanh Hà",
         "Thành phố Hội An",
         "Quảng Nam",
         " Phường Thanh Hà, Thành phố Hội An, Quảng Nam"
        ],
        [
         595,
         " Xã Cẩm Thanh",
         "Thành phố Hội An",
         "Quảng Nam",
         " Xã Cẩm Thanh, Thành phố Hội An, Quảng Nam"
        ],
        [
         596,
         " Phường Vĩnh Điện",
         "Thị xã Điện Bàn",
         "Quảng Nam",
         " Phường Vĩnh Điện, Thị xã Điện Bàn, Quảng Nam"
        ],
        [
         597,
         " Phường Điện Nam Bắc",
         "Thị xã Điện Bàn",
         "Quảng Nam",
         " Phường Điện Nam Bắc, Thị xã Điện Bàn, Quảng Nam"
        ],
        [
         598,
         " Phường Điện Ngọc",
         "Thị xã Điện Bàn",
         "Quảng Nam",
         " Phường Điện Ngọc, Thị xã Điện Bàn, Quảng Nam"
        ],
        [
         599,
         " Xã Điện Quang",
         "Thị xã Điện Bàn",
         "Quảng Nam",
         " Xã Điện Quang, Thị xã Điện Bàn, Quảng Nam"
        ],
        [
         600,
         " Xã Điện Thọ",
         "Thị xã Điện Bàn",
         "Quảng Nam",
         " Xã Điện Thọ, Thị xã Điện Bàn, Quảng Nam"
        ],
        [
         601,
         " Xã Điện Tiến",
         "Thị xã Điện Bàn",
         "Quảng Nam",
         " Xã Điện Tiến, Thị xã Điện Bàn, Quảng Nam"
        ],
        [
         602,
         " Xã Đức Minh",
         "Huyện Mộ Đức",
         "Quảng Ngãi",
         " Xã Đức Minh, Huyện Mộ Đức, Quảng Ngãi"
        ],
        [
         603,
         " Xã Nghĩa Hòa",
         "Huyện Tư Nghĩa",
         "Quảng Ngãi",
         " Xã Nghĩa Hòa, Huyện Tư Nghĩa, Quảng Ngãi"
        ],
        [
         604,
         " Xã Nghĩa Thắng",
         "Huyện Tư Nghĩa",
         "Quảng Ngãi",
         " Xã Nghĩa Thắng, Huyện Tư Nghĩa, Quảng Ngãi"
        ],
        [
         605,
         " Xã Tịnh Ấn Tây",
         "Thành phố Quảng Ngãi",
         "Quảng Ngãi",
         " Xã Tịnh Ấn Tây, Thành phố Quảng Ngãi, Quảng Ngãi"
        ],
        [
         606,
         " Phường Đại Yên",
         "Thành phố Hạ Long",
         "Quảng Ninh",
         " Phường Đại Yên, Thành phố Hạ Long, Quảng Ninh"
        ],
        [
         607,
         " Phường Cộng Hòa",
         "Thị xã Quảng Yên",
         "Quảng Ninh",
         " Phường Cộng Hòa, Thị xã Quảng Yên, Quảng Ninh"
        ],
        [
         608,
         " Phường Hà An",
         "Thị xã Quảng Yên",
         "Quảng Ninh",
         " Phường Hà An, Thị xã Quảng Yên, Quảng Ninh"
        ],
        [
         609,
         " Phường 2",
         "Thành phố Đông Hà",
         "Quảng Trị",
         " Phường 2, Thành phố Đông Hà, Quảng Trị"
        ],
        [
         610,
         " Xã Thạnh Thới An",
         "Huyện Trần Đề",
         "Sóc Trăng",
         " Xã Thạnh Thới An, Huyện Trần Đề, Sóc Trăng"
        ],
        [
         611,
         " Phường 1",
         "Thành phố Sóc Trăng",
         "Sóc Trăng",
         " Phường 1, Thành phố Sóc Trăng, Sóc Trăng"
        ],
        [
         612,
         " Phường 2",
         "Thành phố Sóc Trăng",
         "Sóc Trăng",
         " Phường 2, Thành phố Sóc Trăng, Sóc Trăng"
        ],
        [
         613,
         " Phường 6",
         "Thành phố Sóc Trăng",
         "Sóc Trăng",
         " Phường 6, Thành phố Sóc Trăng, Sóc Trăng"
        ],
        [
         614,
         " Phường 7",
         "Thành phố Sóc Trăng",
         "Sóc Trăng",
         " Phường 7, Thành phố Sóc Trăng, Sóc Trăng"
        ],
        [
         615,
         " Phường 2",
         "Thị xã Vĩnh Châu",
         "Sóc Trăng",
         " Phường 2, Thị xã Vĩnh Châu, Sóc Trăng"
        ],
        [
         616,
         " Xã Hoằng Kim",
         "Huyện Hoằng Hóa",
         "Thanh Hóa",
         " Xã Hoằng Kim, Huyện Hoằng Hóa, Thanh Hóa"
        ],
        [
         617,
         " Xã Thành Minh",
         "Huyện Thạch Thành",
         "Thanh Hóa",
         " Xã Thành Minh, Huyện Thạch Thành, Thanh Hóa"
        ],
        [
         618,
         " Xã Thạch Quảng",
         "Huyện Thạch Thành",
         "Thanh Hóa",
         " Xã Thạch Quảng, Huyện Thạch Thành, Thanh Hóa"
        ],
        [
         619,
         " Xã Thọ Tân",
         "Huyện Triệu Sơn",
         "Thanh Hóa",
         " Xã Thọ Tân, Huyện Triệu Sơn, Thanh Hóa"
        ],
        [
         620,
         " Xã Đông Khê",
         "Huyện Đông Sơn",
         "Thanh Hóa",
         " Xã Đông Khê, Huyện Đông Sơn, Thanh Hóa"
        ],
        [
         621,
         " Phường Lam Sơn",
         "Thành phố Thanh Hóa",
         "Thanh Hóa",
         " Phường Lam Sơn, Thành phố Thanh Hóa, Thanh Hóa"
        ],
        [
         622,
         " Phường Quảng Thành",
         "Thành phố Thanh Hóa",
         "Thanh Hóa",
         " Phường Quảng Thành, Thành phố Thanh Hóa, Thanh Hóa"
        ],
        [
         623,
         " Phường Đông Hải",
         "Thành phố Thanh Hóa",
         "Thanh Hóa",
         " Phường Đông Hải, Thành phố Thanh Hóa, Thanh Hóa"
        ],
        [
         624,
         " Xã Quảng Thịnh",
         "Thành phố Thanh Hóa",
         "Thanh Hóa",
         " Xã Quảng Thịnh, Thành phố Thanh Hóa, Thanh Hóa"
        ],
        [
         625,
         " Xã Quảng Đông",
         "Thành phố Thanh Hóa",
         "Thanh Hóa",
         " Xã Quảng Đông, Thành phố Thanh Hóa, Thanh Hóa"
        ],
        [
         626,
         " Xã Đông Tân",
         "Thành phố Thanh Hóa",
         "Thanh Hóa",
         " Xã Đông Tân, Thành phố Thanh Hóa, Thanh Hóa"
        ],
        [
         627,
         " Phường Lê Hồng Phong",
         "Thành phố Thái Bình",
         "Thái Bình",
         " Phường Lê Hồng Phong, Thành phố Thái Bình, Thái Bình"
        ],
        [
         628,
         " Phường Thịnh Đán",
         "Thành phố Thái Nguyên",
         "Thái Nguyên",
         " Phường Thịnh Đán, Thành phố Thái Nguyên, Thái Nguyên"
        ],
        [
         629,
         " Xã Phong Chương",
         "Huyện Phong Điền",
         "Thừa Thiên Huế",
         " Xã Phong Chương, Huyện Phong Điền, Thừa Thiên Huế"
        ],
        [
         630,
         " Xã Quảng Thọ",
         "Huyện Quảng Điền",
         "Thừa Thiên Huế",
         " Xã Quảng Thọ, Huyện Quảng Điền, Thừa Thiên Huế"
        ],
        [
         631,
         " Phường An Tây",
         "Thành phố Huế",
         "Thừa Thiên Huế",
         " Phường An Tây, Thành phố Huế, Thừa Thiên Huế"
        ],
        [
         632,
         " Phường An Đông",
         "Thành phố Huế",
         "Thừa Thiên Huế",
         " Phường An Đông, Thành phố Huế, Thừa Thiên Huế"
        ],
        [
         633,
         " Phường Phước Vĩnh",
         "Thành phố Huế",
         "Thừa Thiên Huế",
         " Phường Phước Vĩnh, Thành phố Huế, Thừa Thiên Huế"
        ],
        [
         634,
         " Phường Thuận Lộc",
         "Thành phố Huế",
         "Thừa Thiên Huế",
         " Phường Thuận Lộc, Thành phố Huế, Thừa Thiên Huế"
        ],
        [
         635,
         " Phường Trường An",
         "Thành phố Huế",
         "Thừa Thiên Huế",
         " Phường Trường An, Thành phố Huế, Thừa Thiên Huế"
        ],
        [
         636,
         " Phường Vĩ Dạ",
         "Thành phố Huế",
         "Thừa Thiên Huế",
         " Phường Vĩ Dạ, Thành phố Huế, Thừa Thiên Huế"
        ],
        [
         637,
         " Phường Vĩnh Ninh",
         "Thành phố Huế",
         "Thừa Thiên Huế",
         " Phường Vĩnh Ninh, Thành phố Huế, Thừa Thiên Huế"
        ],
        [
         638,
         " Phường Xuân Phú",
         "Thành phố Huế",
         "Thừa Thiên Huế",
         " Phường Xuân Phú, Thành phố Huế, Thừa Thiên Huế"
        ],
        [
         639,
         " Phường Phú Bài",
         "Thị xã Hương Thủy",
         "Thừa Thiên Huế",
         " Phường Phú Bài, Thị xã Hương Thủy, Thừa Thiên Huế"
        ],
        [
         640,
         " Phường Thủy Dương",
         "Thị xã Hương Thủy",
         "Thừa Thiên Huế",
         " Phường Thủy Dương, Thị xã Hương Thủy, Thừa Thiên Huế"
        ],
        [
         641,
         " Xã Phú An",
         "Huyện Cai Lậy",
         "Tiền Giang",
         " Xã Phú An, Huyện Cai Lậy, Tiền Giang"
        ],
        [
         642,
         " Xã Long Định",
         "Huyện Châu Thành",
         "Tiền Giang",
         " Xã Long Định, Huyện Châu Thành, Tiền Giang"
        ],
        [
         643,
         " Xã Tam Hiệp",
         "Huyện Châu Thành",
         "Tiền Giang",
         " Xã Tam Hiệp, Huyện Châu Thành, Tiền Giang"
        ],
        [
         644,
         " Xã Thân Cửu Nghĩa",
         "Huyện Châu Thành",
         "Tiền Giang",
         " Xã Thân Cửu Nghĩa, Huyện Châu Thành, Tiền Giang"
        ],
        [
         645,
         " Xã Tân Lý Đông",
         "Huyện Châu Thành",
         "Tiền Giang",
         " Xã Tân Lý Đông, Huyện Châu Thành, Tiền Giang"
        ],
        [
         646,
         " Xã Vĩnh Kim",
         "Huyện Châu Thành",
         "Tiền Giang",
         " Xã Vĩnh Kim, Huyện Châu Thành, Tiền Giang"
        ],
        [
         647,
         " Xã Bình Ninh",
         "Huyện Chợ Gạo",
         "Tiền Giang",
         " Xã Bình Ninh, Huyện Chợ Gạo, Tiền Giang"
        ],
        [
         648,
         " Xã Hòa Định",
         "Huyện Chợ Gạo",
         "Tiền Giang",
         " Xã Hòa Định, Huyện Chợ Gạo, Tiền Giang"
        ],
        [
         649,
         " Xã Long Bình Điền",
         "Huyện Chợ Gạo",
         "Tiền Giang",
         " Xã Long Bình Điền, Huyện Chợ Gạo, Tiền Giang"
        ],
        [
         650,
         " Xã Lương Hòa Lạc",
         "Huyện Chợ Gạo",
         "Tiền Giang",
         " Xã Lương Hòa Lạc, Huyện Chợ Gạo, Tiền Giang"
        ],
        [
         651,
         " Xã Quơn Long",
         "Huyện Chợ Gạo",
         "Tiền Giang",
         " Xã Quơn Long, Huyện Chợ Gạo, Tiền Giang"
        ],
        [
         652,
         " Xã Tân Bình Thạnh",
         "Huyện Chợ Gạo",
         "Tiền Giang",
         " Xã Tân Bình Thạnh, Huyện Chợ Gạo, Tiền Giang"
        ],
        [
         653,
         " Xã Tân Thuận Bình",
         "Huyện Chợ Gạo",
         "Tiền Giang",
         " Xã Tân Thuận Bình, Huyện Chợ Gạo, Tiền Giang"
        ],
        [
         654,
         " Xã Bình Ân",
         "Huyện Gò Công Đông",
         "Tiền Giang",
         " Xã Bình Ân, Huyện Gò Công Đông, Tiền Giang"
        ],
        [
         655,
         " Xã Tân Thành",
         "Huyện Gò Công Đông",
         "Tiền Giang",
         " Xã Tân Thành, Huyện Gò Công Đông, Tiền Giang"
        ],
        [
         656,
         " Xã Tân Thới",
         "Huyện Tân Phú Đông",
         "Tiền Giang",
         " Xã Tân Thới, Huyện Tân Phú Đông, Tiền Giang"
        ],
        [
         657,
         " Thị trấn Mỹ Phước",
         "Huyện Tân Phước",
         "Tiền Giang",
         " Thị trấn Mỹ Phước, Huyện Tân Phước, Tiền Giang"
        ],
        [
         658,
         " Xã Phước Lập",
         "Huyện Tân Phước",
         "Tiền Giang",
         " Xã Phước Lập, Huyện Tân Phước, Tiền Giang"
        ],
        [
         659,
         " Xã Thạnh Mỹ",
         "Huyện Tân Phước",
         "Tiền Giang",
         " Xã Thạnh Mỹ, Huyện Tân Phước, Tiền Giang"
        ],
        [
         660,
         " Xã Tân Hòa Đông",
         "Huyện Tân Phước",
         "Tiền Giang",
         " Xã Tân Hòa Đông, Huyện Tân Phước, Tiền Giang"
        ],
        [
         661,
         " Phường 3",
         "Thành phố Mỹ Tho",
         "Tiền Giang",
         " Phường 3, Thành phố Mỹ Tho, Tiền Giang"
        ],
        [
         662,
         " Xã Thới Sơn",
         "Thành phố Mỹ Tho",
         "Tiền Giang",
         " Xã Thới Sơn, Thành phố Mỹ Tho, Tiền Giang"
        ],
        [
         663,
         " Xã Trung An",
         "Thành phố Mỹ Tho",
         "Tiền Giang",
         " Xã Trung An, Thành phố Mỹ Tho, Tiền Giang"
        ],
        [
         664,
         " Xã Tân Mỹ Chánh",
         "Thành phố Mỹ Tho",
         "Tiền Giang",
         " Xã Tân Mỹ Chánh, Thành phố Mỹ Tho, Tiền Giang"
        ],
        [
         665,
         " Phường 1",
         "Thị xã Gò Công",
         "Tiền Giang",
         " Phường 1, Thị xã Gò Công, Tiền Giang"
        ],
        [
         666,
         " Phường 3",
         "Thị xã Gò Công",
         "Tiền Giang",
         " Phường 3, Thị xã Gò Công, Tiền Giang"
        ],
        [
         667,
         " Phường 4",
         "Thị xã Gò Công",
         "Tiền Giang",
         " Phường 4, Thị xã Gò Công, Tiền Giang"
        ],
        [
         668,
         " Xã Bình Đông",
         "Thị xã Gò Công",
         "Tiền Giang",
         " Xã Bình Đông, Thị xã Gò Công, Tiền Giang"
        ],
        [
         669,
         " Xã Tân Trung",
         "Thị xã Gò Công",
         "Tiền Giang",
         " Xã Tân Trung, Thị xã Gò Công, Tiền Giang"
        ],
        [
         670,
         " Thị trấn Tân Túc",
         "Huyện Bình Chánh",
         "Tp Hồ Chí Minh",
         " Thị trấn Tân Túc, Huyện Bình Chánh, Tp Hồ Chí Minh"
        ],
        [
         671,
         " Xã An Phú Tây",
         "Huyện Bình Chánh",
         "Tp Hồ Chí Minh",
         " Xã An Phú Tây, Huyện Bình Chánh, Tp Hồ Chí Minh"
        ],
        [
         672,
         " Xã Bình Chánh",
         "Huyện Bình Chánh",
         "Tp Hồ Chí Minh",
         " Xã Bình Chánh, Huyện Bình Chánh, Tp Hồ Chí Minh"
        ],
        [
         673,
         " Xã Bình Hưng",
         "Huyện Bình Chánh",
         "Tp Hồ Chí Minh",
         " Xã Bình Hưng, Huyện Bình Chánh, Tp Hồ Chí Minh"
        ],
        [
         674,
         " Xã Bình Lợi",
         "Huyện Bình Chánh",
         "Tp Hồ Chí Minh",
         " Xã Bình Lợi, Huyện Bình Chánh, Tp Hồ Chí Minh"
        ],
        [
         675,
         " Xã Hưng Long",
         "Huyện Bình Chánh",
         "Tp Hồ Chí Minh",
         " Xã Hưng Long, Huyện Bình Chánh, Tp Hồ Chí Minh"
        ],
        [
         676,
         " Xã Lê Minh Xuân",
         "Huyện Bình Chánh",
         "Tp Hồ Chí Minh",
         " Xã Lê Minh Xuân, Huyện Bình Chánh, Tp Hồ Chí Minh"
        ],
        [
         677,
         " Xã Phong Phú",
         "Huyện Bình Chánh",
         "Tp Hồ Chí Minh",
         " Xã Phong Phú, Huyện Bình Chánh, Tp Hồ Chí Minh"
        ],
        [
         678,
         " Xã Phạm Văn Hai",
         "Huyện Bình Chánh",
         "Tp Hồ Chí Minh",
         " Xã Phạm Văn Hai, Huyện Bình Chánh, Tp Hồ Chí Minh"
        ],
        [
         679,
         " Xã Quy Đức",
         "Huyện Bình Chánh",
         "Tp Hồ Chí Minh",
         " Xã Quy Đức, Huyện Bình Chánh, Tp Hồ Chí Minh"
        ],
        [
         680,
         " Xã Tân Kiên",
         "Huyện Bình Chánh",
         "Tp Hồ Chí Minh",
         " Xã Tân Kiên, Huyện Bình Chánh, Tp Hồ Chí Minh"
        ],
        [
         681,
         " Xã Tân Nhựt",
         "Huyện Bình Chánh",
         "Tp Hồ Chí Minh",
         " Xã Tân Nhựt, Huyện Bình Chánh, Tp Hồ Chí Minh"
        ],
        [
         682,
         " Xã Tân Quý Tây",
         "Huyện Bình Chánh",
         "Tp Hồ Chí Minh",
         " Xã Tân Quý Tây, Huyện Bình Chánh, Tp Hồ Chí Minh"
        ],
        [
         683,
         " Xã Vĩnh Lộc A",
         "Huyện Bình Chánh",
         "Tp Hồ Chí Minh",
         " Xã Vĩnh Lộc A, Huyện Bình Chánh, Tp Hồ Chí Minh"
        ],
        [
         684,
         " Xã Vĩnh Lộc B",
         "Huyện Bình Chánh",
         "Tp Hồ Chí Minh",
         " Xã Vĩnh Lộc B, Huyện Bình Chánh, Tp Hồ Chí Minh"
        ],
        [
         685,
         " Xã Đa Phước",
         "Huyện Bình Chánh",
         "Tp Hồ Chí Minh",
         " Xã Đa Phước, Huyện Bình Chánh, Tp Hồ Chí Minh"
        ],
        [
         686,
         "bình chánh",
         "Huyện Bình Chánh",
         "Tp Hồ Chí Minh",
         "bình chánh, Huyện Bình Chánh, Tp Hồ Chí Minh"
        ],
        [
         687,
         " Thị trấn Cần Thạnh",
         "Huyện Cần Giờ",
         "Tp Hồ Chí Minh",
         " Thị trấn Cần Thạnh, Huyện Cần Giờ, Tp Hồ Chí Minh"
        ],
        [
         688,
         " Xã Bình Khánh",
         "Huyện Cần Giờ",
         "Tp Hồ Chí Minh",
         " Xã Bình Khánh, Huyện Cần Giờ, Tp Hồ Chí Minh"
        ],
        [
         689,
         " Xã Tam Thôn Hiệp",
         "Huyện Cần Giờ",
         "Tp Hồ Chí Minh",
         " Xã Tam Thôn Hiệp, Huyện Cần Giờ, Tp Hồ Chí Minh"
        ],
        [
         690,
         " Thị trấn Củ Chi",
         "Huyện Củ Chi",
         "Tp Hồ Chí Minh",
         " Thị trấn Củ Chi, Huyện Củ Chi, Tp Hồ Chí Minh"
        ],
        [
         691,
         " Xã An Nhơn Tây",
         "Huyện Củ Chi",
         "Tp Hồ Chí Minh",
         " Xã An Nhơn Tây, Huyện Củ Chi, Tp Hồ Chí Minh"
        ],
        [
         692,
         " Xã An Phú",
         "Huyện Củ Chi",
         "Tp Hồ Chí Minh",
         " Xã An Phú, Huyện Củ Chi, Tp Hồ Chí Minh"
        ],
        [
         693,
         " Xã Bình Mỹ",
         "Huyện Củ Chi",
         "Tp Hồ Chí Minh",
         " Xã Bình Mỹ, Huyện Củ Chi, Tp Hồ Chí Minh"
        ],
        [
         694,
         " Xã Hòa Phú",
         "Huyện Củ Chi",
         "Tp Hồ Chí Minh",
         " Xã Hòa Phú, Huyện Củ Chi, Tp Hồ Chí Minh"
        ],
        [
         695,
         " Xã Nhuận Đức",
         "Huyện Củ Chi",
         "Tp Hồ Chí Minh",
         " Xã Nhuận Đức, Huyện Củ Chi, Tp Hồ Chí Minh"
        ],
        [
         696,
         " Xã Phú Hòa Đông",
         "Huyện Củ Chi",
         "Tp Hồ Chí Minh",
         " Xã Phú Hòa Đông, Huyện Củ Chi, Tp Hồ Chí Minh"
        ],
        [
         697,
         " Xã Phú Mỹ Hưng",
         "Huyện Củ Chi",
         "Tp Hồ Chí Minh",
         " Xã Phú Mỹ Hưng, Huyện Củ Chi, Tp Hồ Chí Minh"
        ],
        [
         698,
         " Xã Phước Hiệp",
         "Huyện Củ Chi",
         "Tp Hồ Chí Minh",
         " Xã Phước Hiệp, Huyện Củ Chi, Tp Hồ Chí Minh"
        ],
        [
         699,
         " Xã Phước Thạnh",
         "Huyện Củ Chi",
         "Tp Hồ Chí Minh",
         " Xã Phước Thạnh, Huyện Củ Chi, Tp Hồ Chí Minh"
        ],
        [
         700,
         " Xã Phước Vĩnh An",
         "Huyện Củ Chi",
         "Tp Hồ Chí Minh",
         " Xã Phước Vĩnh An, Huyện Củ Chi, Tp Hồ Chí Minh"
        ],
        [
         701,
         " Xã Phạm Văn Cội",
         "Huyện Củ Chi",
         "Tp Hồ Chí Minh",
         " Xã Phạm Văn Cội, Huyện Củ Chi, Tp Hồ Chí Minh"
        ],
        [
         702,
         " Xã Thái Mỹ",
         "Huyện Củ Chi",
         "Tp Hồ Chí Minh",
         " Xã Thái Mỹ, Huyện Củ Chi, Tp Hồ Chí Minh"
        ],
        [
         703,
         " Xã Trung An",
         "Huyện Củ Chi",
         "Tp Hồ Chí Minh",
         " Xã Trung An, Huyện Củ Chi, Tp Hồ Chí Minh"
        ],
        [
         704,
         " Xã Trung Lập Thượng",
         "Huyện Củ Chi",
         "Tp Hồ Chí Minh",
         " Xã Trung Lập Thượng, Huyện Củ Chi, Tp Hồ Chí Minh"
        ],
        [
         705,
         " Xã Tân An Hội",
         "Huyện Củ Chi",
         "Tp Hồ Chí Minh",
         " Xã Tân An Hội, Huyện Củ Chi, Tp Hồ Chí Minh"
        ],
        [
         706,
         " Xã Tân Phú Trung",
         "Huyện Củ Chi",
         "Tp Hồ Chí Minh",
         " Xã Tân Phú Trung, Huyện Củ Chi, Tp Hồ Chí Minh"
        ],
        [
         707,
         " Xã Tân Thông Hội",
         "Huyện Củ Chi",
         "Tp Hồ Chí Minh",
         " Xã Tân Thông Hội, Huyện Củ Chi, Tp Hồ Chí Minh"
        ],
        [
         708,
         " Xã Tân Thạnh Tây",
         "Huyện Củ Chi",
         "Tp Hồ Chí Minh",
         " Xã Tân Thạnh Tây, Huyện Củ Chi, Tp Hồ Chí Minh"
        ],
        [
         709,
         " Xã Tân Thạnh Đông",
         "Huyện Củ Chi",
         "Tp Hồ Chí Minh",
         " Xã Tân Thạnh Đông, Huyện Củ Chi, Tp Hồ Chí Minh"
        ],
        [
         710,
         " Thị trấn Hóc Môn",
         "Huyện Hóc Môn",
         "Tp Hồ Chí Minh",
         " Thị trấn Hóc Môn, Huyện Hóc Môn, Tp Hồ Chí Minh"
        ],
        [
         711,
         " Xã Bà Điểm",
         "Huyện Hóc Môn",
         "Tp Hồ Chí Minh",
         " Xã Bà Điểm, Huyện Hóc Môn, Tp Hồ Chí Minh"
        ],
        [
         712,
         " Xã Nhị Bình",
         "Huyện Hóc Môn",
         "Tp Hồ Chí Minh",
         " Xã Nhị Bình, Huyện Hóc Môn, Tp Hồ Chí Minh"
        ],
        [
         713,
         " Xã Thới Tam Thôn",
         "Huyện Hóc Môn",
         "Tp Hồ Chí Minh",
         " Xã Thới Tam Thôn, Huyện Hóc Môn, Tp Hồ Chí Minh"
        ],
        [
         714,
         " Xã Trung Chánh",
         "Huyện Hóc Môn",
         "Tp Hồ Chí Minh",
         " Xã Trung Chánh, Huyện Hóc Môn, Tp Hồ Chí Minh"
        ],
        [
         715,
         " Xã Tân Hiệp",
         "Huyện Hóc Môn",
         "Tp Hồ Chí Minh",
         " Xã Tân Hiệp, Huyện Hóc Môn, Tp Hồ Chí Minh"
        ],
        [
         716,
         " Xã Tân Thới Nhì",
         "Huyện Hóc Môn",
         "Tp Hồ Chí Minh",
         " Xã Tân Thới Nhì, Huyện Hóc Môn, Tp Hồ Chí Minh"
        ],
        [
         717,
         " Xã Tân Xuân",
         "Huyện Hóc Môn",
         "Tp Hồ Chí Minh",
         " Xã Tân Xuân, Huyện Hóc Môn, Tp Hồ Chí Minh"
        ],
        [
         718,
         " Xã Xuân Thới Sơn",
         "Huyện Hóc Môn",
         "Tp Hồ Chí Minh",
         " Xã Xuân Thới Sơn, Huyện Hóc Môn, Tp Hồ Chí Minh"
        ],
        [
         719,
         " Xã Xuân Thới Thượng",
         "Huyện Hóc Môn",
         "Tp Hồ Chí Minh",
         " Xã Xuân Thới Thượng, Huyện Hóc Môn, Tp Hồ Chí Minh"
        ],
        [
         720,
         " Xã Xuân Thới Đông",
         "Huyện Hóc Môn",
         "Tp Hồ Chí Minh",
         " Xã Xuân Thới Đông, Huyện Hóc Môn, Tp Hồ Chí Minh"
        ],
        [
         721,
         " Xã Đông Thạnh",
         "Huyện Hóc Môn",
         "Tp Hồ Chí Minh",
         " Xã Đông Thạnh, Huyện Hóc Môn, Tp Hồ Chí Minh"
        ],
        [
         722,
         " Thị trấn Nhà Bè",
         "Huyện Nhà Bè",
         "Tp Hồ Chí Minh",
         " Thị trấn Nhà Bè, Huyện Nhà Bè, Tp Hồ Chí Minh"
        ],
        [
         723,
         " Xã Hiệp Phước",
         "Huyện Nhà Bè",
         "Tp Hồ Chí Minh",
         " Xã Hiệp Phước, Huyện Nhà Bè, Tp Hồ Chí Minh"
        ],
        [
         724,
         " Xã Long Thới",
         "Huyện Nhà Bè",
         "Tp Hồ Chí Minh",
         " Xã Long Thới, Huyện Nhà Bè, Tp Hồ Chí Minh"
        ],
        [
         725,
         " Xã Nhơn Đức",
         "Huyện Nhà Bè",
         "Tp Hồ Chí Minh",
         " Xã Nhơn Đức, Huyện Nhà Bè, Tp Hồ Chí Minh"
        ],
        [
         726,
         " Xã Phú Xuân",
         "Huyện Nhà Bè",
         "Tp Hồ Chí Minh",
         " Xã Phú Xuân, Huyện Nhà Bè, Tp Hồ Chí Minh"
        ],
        [
         727,
         " Xã Phước Kiển",
         "Huyện Nhà Bè",
         "Tp Hồ Chí Minh",
         " Xã Phước Kiển, Huyện Nhà Bè, Tp Hồ Chí Minh"
        ],
        [
         728,
         " Xã Phước Lộc",
         "Huyện Nhà Bè",
         "Tp Hồ Chí Minh",
         " Xã Phước Lộc, Huyện Nhà Bè, Tp Hồ Chí Minh"
        ],
        [
         729,
         " Phường Bến Nghé",
         "Quận 1",
         "Tp Hồ Chí Minh",
         " Phường Bến Nghé, Quận 1, Tp Hồ Chí Minh"
        ],
        [
         730,
         " Phường Bến Thành",
         "Quận 1",
         "Tp Hồ Chí Minh",
         " Phường Bến Thành, Quận 1, Tp Hồ Chí Minh"
        ],
        [
         731,
         " Phường Cô Giang",
         "Quận 1",
         "Tp Hồ Chí Minh",
         " Phường Cô Giang, Quận 1, Tp Hồ Chí Minh"
        ],
        [
         732,
         " Phường Cầu Kho",
         "Quận 1",
         "Tp Hồ Chí Minh",
         " Phường Cầu Kho, Quận 1, Tp Hồ Chí Minh"
        ],
        [
         733,
         " Phường Nguyễn Cư Trinh",
         "Quận 1",
         "Tp Hồ Chí Minh",
         " Phường Nguyễn Cư Trinh, Quận 1, Tp Hồ Chí Minh"
        ],
        [
         734,
         " Phường Nguyễn Thái Bình",
         "Quận 1",
         "Tp Hồ Chí Minh",
         " Phường Nguyễn Thái Bình, Quận 1, Tp Hồ Chí Minh"
        ],
        [
         735,
         " Phường Phạm Ngũ Lão",
         "Quận 1",
         "Tp Hồ Chí Minh",
         " Phường Phạm Ngũ Lão, Quận 1, Tp Hồ Chí Minh"
        ],
        [
         736,
         " Phường Tân Định",
         "Quận 1",
         "Tp Hồ Chí Minh",
         " Phường Tân Định, Quận 1, Tp Hồ Chí Minh"
        ],
        [
         737,
         " Phường Đa Kao",
         "Quận 1",
         "Tp Hồ Chí Minh",
         " Phường Đa Kao, Quận 1, Tp Hồ Chí Minh"
        ],
        [
         738,
         " Phường 10",
         "Quận 10",
         "Tp Hồ Chí Minh",
         " Phường 10, Quận 10, Tp Hồ Chí Minh"
        ],
        [
         739,
         " Phường 11",
         "Quận 10",
         "Tp Hồ Chí Minh",
         " Phường 11, Quận 10, Tp Hồ Chí Minh"
        ],
        [
         740,
         " Phường 12",
         "Quận 10",
         "Tp Hồ Chí Minh",
         " Phường 12, Quận 10, Tp Hồ Chí Minh"
        ],
        [
         741,
         " Phường 13",
         "Quận 10",
         "Tp Hồ Chí Minh",
         " Phường 13, Quận 10, Tp Hồ Chí Minh"
        ],
        [
         742,
         " Phường 14",
         "Quận 10",
         "Tp Hồ Chí Minh",
         " Phường 14, Quận 10, Tp Hồ Chí Minh"
        ],
        [
         743,
         " Phường 15",
         "Quận 10",
         "Tp Hồ Chí Minh",
         " Phường 15, Quận 10, Tp Hồ Chí Minh"
        ],
        [
         744,
         " Phường 2",
         "Quận 10",
         "Tp Hồ Chí Minh",
         " Phường 2, Quận 10, Tp Hồ Chí Minh"
        ],
        [
         745,
         " Phường 4",
         "Quận 10",
         "Tp Hồ Chí Minh",
         " Phường 4, Quận 10, Tp Hồ Chí Minh"
        ],
        [
         746,
         " Phường 5",
         "Quận 10",
         "Tp Hồ Chí Minh",
         " Phường 5, Quận 10, Tp Hồ Chí Minh"
        ],
        [
         747,
         " Phường 6",
         "Quận 10",
         "Tp Hồ Chí Minh",
         " Phường 6, Quận 10, Tp Hồ Chí Minh"
        ],
        [
         748,
         " Phường 7",
         "Quận 10",
         "Tp Hồ Chí Minh",
         " Phường 7, Quận 10, Tp Hồ Chí Minh"
        ],
        [
         749,
         " Phường 8",
         "Quận 10",
         "Tp Hồ Chí Minh",
         " Phường 8, Quận 10, Tp Hồ Chí Minh"
        ],
        [
         750,
         " Phường 9",
         "Quận 10",
         "Tp Hồ Chí Minh",
         " Phường 9, Quận 10, Tp Hồ Chí Minh"
        ],
        [
         751,
         " Phường 1",
         "Quận 11",
         "Tp Hồ Chí Minh",
         " Phường 1, Quận 11, Tp Hồ Chí Minh"
        ],
        [
         752,
         " Phường 10",
         "Quận 11",
         "Tp Hồ Chí Minh",
         " Phường 10, Quận 11, Tp Hồ Chí Minh"
        ],
        [
         753,
         " Phường 11",
         "Quận 11",
         "Tp Hồ Chí Minh",
         " Phường 11, Quận 11, Tp Hồ Chí Minh"
        ],
        [
         754,
         " Phường 13",
         "Quận 11",
         "Tp Hồ Chí Minh",
         " Phường 13, Quận 11, Tp Hồ Chí Minh"
        ],
        [
         755,
         " Phường 14",
         "Quận 11",
         "Tp Hồ Chí Minh",
         " Phường 14, Quận 11, Tp Hồ Chí Minh"
        ],
        [
         756,
         " Phường 15",
         "Quận 11",
         "Tp Hồ Chí Minh",
         " Phường 15, Quận 11, Tp Hồ Chí Minh"
        ],
        [
         757,
         " Phường 16",
         "Quận 11",
         "Tp Hồ Chí Minh",
         " Phường 16, Quận 11, Tp Hồ Chí Minh"
        ],
        [
         758,
         " Phường 2",
         "Quận 11",
         "Tp Hồ Chí Minh",
         " Phường 2, Quận 11, Tp Hồ Chí Minh"
        ],
        [
         759,
         " Phường 3",
         "Quận 11",
         "Tp Hồ Chí Minh",
         " Phường 3, Quận 11, Tp Hồ Chí Minh"
        ],
        [
         760,
         " Phường 4",
         "Quận 11",
         "Tp Hồ Chí Minh",
         " Phường 4, Quận 11, Tp Hồ Chí Minh"
        ],
        [
         761,
         " Phường 5",
         "Quận 11",
         "Tp Hồ Chí Minh",
         " Phường 5, Quận 11, Tp Hồ Chí Minh"
        ],
        [
         762,
         " Phường 6",
         "Quận 11",
         "Tp Hồ Chí Minh",
         " Phường 6, Quận 11, Tp Hồ Chí Minh"
        ],
        [
         763,
         " Phường 9",
         "Quận 11",
         "Tp Hồ Chí Minh",
         " Phường 9, Quận 11, Tp Hồ Chí Minh"
        ],
        [
         764,
         " Phường An Phú Đông",
         "Quận 12",
         "Tp Hồ Chí Minh",
         " Phường An Phú Đông, Quận 12, Tp Hồ Chí Minh"
        ],
        [
         765,
         " Phường Hiệp Thành",
         "Quận 12",
         "Tp Hồ Chí Minh",
         " Phường Hiệp Thành, Quận 12, Tp Hồ Chí Minh"
        ],
        [
         766,
         " Phường Thạnh Lộc",
         "Quận 12",
         "Tp Hồ Chí Minh",
         " Phường Thạnh Lộc, Quận 12, Tp Hồ Chí Minh"
        ],
        [
         767,
         " Phường Thạnh Xuân",
         "Quận 12",
         "Tp Hồ Chí Minh",
         " Phường Thạnh Xuân, Quận 12, Tp Hồ Chí Minh"
        ],
        [
         768,
         " Phường Thới An",
         "Quận 12",
         "Tp Hồ Chí Minh",
         " Phường Thới An, Quận 12, Tp Hồ Chí Minh"
        ],
        [
         769,
         " Phường Trung Mỹ Tây",
         "Quận 12",
         "Tp Hồ Chí Minh",
         " Phường Trung Mỹ Tây, Quận 12, Tp Hồ Chí Minh"
        ],
        [
         770,
         " Phường Tân Chánh Hiệp",
         "Quận 12",
         "Tp Hồ Chí Minh",
         " Phường Tân Chánh Hiệp, Quận 12, Tp Hồ Chí Minh"
        ],
        [
         771,
         " Phường Tân Hưng Thuận",
         "Quận 12",
         "Tp Hồ Chí Minh",
         " Phường Tân Hưng Thuận, Quận 12, Tp Hồ Chí Minh"
        ],
        [
         772,
         " Phường Tân Thới Hiệp",
         "Quận 12",
         "Tp Hồ Chí Minh",
         " Phường Tân Thới Hiệp, Quận 12, Tp Hồ Chí Minh"
        ],
        [
         773,
         " Phường Tân Thới Nhất",
         "Quận 12",
         "Tp Hồ Chí Minh",
         " Phường Tân Thới Nhất, Quận 12, Tp Hồ Chí Minh"
        ],
        [
         774,
         " Phường Đông Hưng Thuận",
         "Quận 12",
         "Tp Hồ Chí Minh",
         " Phường Đông Hưng Thuận, Quận 12, Tp Hồ Chí Minh"
        ],
        [
         775,
         " Phường 1",
         "Quận 3",
         "Tp Hồ Chí Minh",
         " Phường 1, Quận 3, Tp Hồ Chí Minh"
        ],
        [
         776,
         " Phường 10",
         "Quận 3",
         "Tp Hồ Chí Minh",
         " Phường 10, Quận 3, Tp Hồ Chí Minh"
        ],
        [
         777,
         " Phường 11",
         "Quận 3",
         "Tp Hồ Chí Minh",
         " Phường 11, Quận 3, Tp Hồ Chí Minh"
        ],
        [
         778,
         " Phường 12",
         "Quận 3",
         "Tp Hồ Chí Minh",
         " Phường 12, Quận 3, Tp Hồ Chí Minh"
        ],
        [
         779,
         " Phường 13",
         "Quận 3",
         "Tp Hồ Chí Minh",
         " Phường 13, Quận 3, Tp Hồ Chí Minh"
        ],
        [
         780,
         " Phường 14",
         "Quận 3",
         "Tp Hồ Chí Minh",
         " Phường 14, Quận 3, Tp Hồ Chí Minh"
        ],
        [
         781,
         " Phường 2",
         "Quận 3",
         "Tp Hồ Chí Minh",
         " Phường 2, Quận 3, Tp Hồ Chí Minh"
        ],
        [
         782,
         " Phường 3",
         "Quận 3",
         "Tp Hồ Chí Minh",
         " Phường 3, Quận 3, Tp Hồ Chí Minh"
        ],
        [
         783,
         " Phường 4",
         "Quận 3",
         "Tp Hồ Chí Minh",
         " Phường 4, Quận 3, Tp Hồ Chí Minh"
        ],
        [
         784,
         " Phường 5",
         "Quận 3",
         "Tp Hồ Chí Minh",
         " Phường 5, Quận 3, Tp Hồ Chí Minh"
        ],
        [
         785,
         " Phường 9",
         "Quận 3",
         "Tp Hồ Chí Minh",
         " Phường 9, Quận 3, Tp Hồ Chí Minh"
        ],
        [
         786,
         " Phường Võ Thị Sáu",
         "Quận 3",
         "Tp Hồ Chí Minh",
         " Phường Võ Thị Sáu, Quận 3, Tp Hồ Chí Minh"
        ],
        [
         787,
         " Phường 1",
         "Quận 4",
         "Tp Hồ Chí Minh",
         " Phường 1, Quận 4, Tp Hồ Chí Minh"
        ],
        [
         788,
         " Phường 10",
         "Quận 4",
         "Tp Hồ Chí Minh",
         " Phường 10, Quận 4, Tp Hồ Chí Minh"
        ],
        [
         789,
         " Phường 13",
         "Quận 4",
         "Tp Hồ Chí Minh",
         " Phường 13, Quận 4, Tp Hồ Chí Minh"
        ],
        [
         790,
         " Phường 14",
         "Quận 4",
         "Tp Hồ Chí Minh",
         " Phường 14, Quận 4, Tp Hồ Chí Minh"
        ],
        [
         791,
         " Phường 15",
         "Quận 4",
         "Tp Hồ Chí Minh",
         " Phường 15, Quận 4, Tp Hồ Chí Minh"
        ],
        [
         792,
         " Phường 16",
         "Quận 4",
         "Tp Hồ Chí Minh",
         " Phường 16, Quận 4, Tp Hồ Chí Minh"
        ],
        [
         793,
         " Phường 18",
         "Quận 4",
         "Tp Hồ Chí Minh",
         " Phường 18, Quận 4, Tp Hồ Chí Minh"
        ],
        [
         794,
         " Phường 2",
         "Quận 4",
         "Tp Hồ Chí Minh",
         " Phường 2, Quận 4, Tp Hồ Chí Minh"
        ],
        [
         795,
         " Phường 4",
         "Quận 4",
         "Tp Hồ Chí Minh",
         " Phường 4, Quận 4, Tp Hồ Chí Minh"
        ],
        [
         796,
         " Phường 6",
         "Quận 4",
         "Tp Hồ Chí Minh",
         " Phường 6, Quận 4, Tp Hồ Chí Minh"
        ],
        [
         797,
         " Phường 8",
         "Quận 4",
         "Tp Hồ Chí Minh",
         " Phường 8, Quận 4, Tp Hồ Chí Minh"
        ],
        [
         798,
         " Phường 9",
         "Quận 4",
         "Tp Hồ Chí Minh",
         " Phường 9, Quận 4, Tp Hồ Chí Minh"
        ],
        [
         799,
         " Phường 1",
         "Quận 5",
         "Tp Hồ Chí Minh",
         " Phường 1, Quận 5, Tp Hồ Chí Minh"
        ],
        [
         800,
         " Phường 10",
         "Quận 5",
         "Tp Hồ Chí Minh",
         " Phường 10, Quận 5, Tp Hồ Chí Minh"
        ],
        [
         801,
         " Phường 11",
         "Quận 5",
         "Tp Hồ Chí Minh",
         " Phường 11, Quận 5, Tp Hồ Chí Minh"
        ],
        [
         802,
         " Phường 2",
         "Quận 5",
         "Tp Hồ Chí Minh",
         " Phường 2, Quận 5, Tp Hồ Chí Minh"
        ],
        [
         803,
         " Phường 4",
         "Quận 5",
         "Tp Hồ Chí Minh",
         " Phường 4, Quận 5, Tp Hồ Chí Minh"
        ],
        [
         804,
         " Phường 5",
         "Quận 5",
         "Tp Hồ Chí Minh",
         " Phường 5, Quận 5, Tp Hồ Chí Minh"
        ],
        [
         805,
         " Phường 6",
         "Quận 5",
         "Tp Hồ Chí Minh",
         " Phường 6, Quận 5, Tp Hồ Chí Minh"
        ],
        [
         806,
         " Phường 7",
         "Quận 5",
         "Tp Hồ Chí Minh",
         " Phường 7, Quận 5, Tp Hồ Chí Minh"
        ],
        [
         807,
         " Phường 1",
         "Quận 6",
         "Tp Hồ Chí Minh",
         " Phường 1, Quận 6, Tp Hồ Chí Minh"
        ],
        [
         808,
         " Phường 10",
         "Quận 6",
         "Tp Hồ Chí Minh",
         " Phường 10, Quận 6, Tp Hồ Chí Minh"
        ],
        [
         809,
         " Phường 11",
         "Quận 6",
         "Tp Hồ Chí Minh",
         " Phường 11, Quận 6, Tp Hồ Chí Minh"
        ],
        [
         810,
         " Phường 12",
         "Quận 6",
         "Tp Hồ Chí Minh",
         " Phường 12, Quận 6, Tp Hồ Chí Minh"
        ],
        [
         811,
         " Phường 13",
         "Quận 6",
         "Tp Hồ Chí Minh",
         " Phường 13, Quận 6, Tp Hồ Chí Minh"
        ],
        [
         812,
         " Phường 14",
         "Quận 6",
         "Tp Hồ Chí Minh",
         " Phường 14, Quận 6, Tp Hồ Chí Minh"
        ],
        [
         813,
         " Phường 2",
         "Quận 6",
         "Tp Hồ Chí Minh",
         " Phường 2, Quận 6, Tp Hồ Chí Minh"
        ],
        [
         814,
         " Phường 4",
         "Quận 6",
         "Tp Hồ Chí Minh",
         " Phường 4, Quận 6, Tp Hồ Chí Minh"
        ],
        [
         815,
         " Phường 5",
         "Quận 6",
         "Tp Hồ Chí Minh",
         " Phường 5, Quận 6, Tp Hồ Chí Minh"
        ],
        [
         816,
         " Phường 6",
         "Quận 6",
         "Tp Hồ Chí Minh",
         " Phường 6, Quận 6, Tp Hồ Chí Minh"
        ],
        [
         817,
         " Phường 7",
         "Quận 6",
         "Tp Hồ Chí Minh",
         " Phường 7, Quận 6, Tp Hồ Chí Minh"
        ],
        [
         818,
         " Phường 8",
         "Quận 6",
         "Tp Hồ Chí Minh",
         " Phường 8, Quận 6, Tp Hồ Chí Minh"
        ],
        [
         819,
         " Phường 9",
         "Quận 6",
         "Tp Hồ Chí Minh",
         " Phường 9, Quận 6, Tp Hồ Chí Minh"
        ],
        [
         820,
         " Phường Bình Thuận",
         "Quận 7",
         "Tp Hồ Chí Minh",
         " Phường Bình Thuận, Quận 7, Tp Hồ Chí Minh"
        ],
        [
         821,
         " Phường Phú Mỹ",
         "Quận 7",
         "Tp Hồ Chí Minh",
         " Phường Phú Mỹ, Quận 7, Tp Hồ Chí Minh"
        ],
        [
         822,
         " Phường Phú Thuận",
         "Quận 7",
         "Tp Hồ Chí Minh",
         " Phường Phú Thuận, Quận 7, Tp Hồ Chí Minh"
        ],
        [
         823,
         " Phường Tân Hưng",
         "Quận 7",
         "Tp Hồ Chí Minh",
         " Phường Tân Hưng, Quận 7, Tp Hồ Chí Minh"
        ],
        [
         824,
         " Phường Tân Kiểng",
         "Quận 7",
         "Tp Hồ Chí Minh",
         " Phường Tân Kiểng, Quận 7, Tp Hồ Chí Minh"
        ],
        [
         825,
         " Phường Tân Phong",
         "Quận 7",
         "Tp Hồ Chí Minh",
         " Phường Tân Phong, Quận 7, Tp Hồ Chí Minh"
        ],
        [
         826,
         " Phường Tân Phú",
         "Quận 7",
         "Tp Hồ Chí Minh",
         " Phường Tân Phú, Quận 7, Tp Hồ Chí Minh"
        ],
        [
         827,
         " Phường Tân Quy",
         "Quận 7",
         "Tp Hồ Chí Minh",
         " Phường Tân Quy, Quận 7, Tp Hồ Chí Minh"
        ],
        [
         828,
         " Phường Tân Thuận Tây",
         "Quận 7",
         "Tp Hồ Chí Minh",
         " Phường Tân Thuận Tây, Quận 7, Tp Hồ Chí Minh"
        ],
        [
         829,
         " Phường Tân Thuận Đông",
         "Quận 7",
         "Tp Hồ Chí Minh",
         " Phường Tân Thuận Đông, Quận 7, Tp Hồ Chí Minh"
        ],
        [
         830,
         " Phường 1",
         "Quận 8",
         "Tp Hồ Chí Minh",
         " Phường 1, Quận 8, Tp Hồ Chí Minh"
        ],
        [
         831,
         " Phường 10",
         "Quận 8",
         "Tp Hồ Chí Minh",
         " Phường 10, Quận 8, Tp Hồ Chí Minh"
        ],
        [
         832,
         " Phường 11",
         "Quận 8",
         "Tp Hồ Chí Minh",
         " Phường 11, Quận 8, Tp Hồ Chí Minh"
        ],
        [
         833,
         " Phường 12",
         "Quận 8",
         "Tp Hồ Chí Minh",
         " Phường 12, Quận 8, Tp Hồ Chí Minh"
        ],
        [
         834,
         " Phường 13",
         "Quận 8",
         "Tp Hồ Chí Minh",
         " Phường 13, Quận 8, Tp Hồ Chí Minh"
        ],
        [
         835,
         " Phường 14",
         "Quận 8",
         "Tp Hồ Chí Minh",
         " Phường 14, Quận 8, Tp Hồ Chí Minh"
        ],
        [
         836,
         " Phường 15",
         "Quận 8",
         "Tp Hồ Chí Minh",
         " Phường 15, Quận 8, Tp Hồ Chí Minh"
        ],
        [
         837,
         " Phường 16",
         "Quận 8",
         "Tp Hồ Chí Minh",
         " Phường 16, Quận 8, Tp Hồ Chí Minh"
        ],
        [
         838,
         " Phường 2",
         "Quận 8",
         "Tp Hồ Chí Minh",
         " Phường 2, Quận 8, Tp Hồ Chí Minh"
        ],
        [
         839,
         " Phường 3",
         "Quận 8",
         "Tp Hồ Chí Minh",
         " Phường 3, Quận 8, Tp Hồ Chí Minh"
        ],
        [
         840,
         " Phường 4",
         "Quận 8",
         "Tp Hồ Chí Minh",
         " Phường 4, Quận 8, Tp Hồ Chí Minh"
        ],
        [
         841,
         " Phường 5",
         "Quận 8",
         "Tp Hồ Chí Minh",
         " Phường 5, Quận 8, Tp Hồ Chí Minh"
        ],
        [
         842,
         " Phường 6",
         "Quận 8",
         "Tp Hồ Chí Minh",
         " Phường 6, Quận 8, Tp Hồ Chí Minh"
        ],
        [
         843,
         " Phường 7",
         "Quận 8",
         "Tp Hồ Chí Minh",
         " Phường 7, Quận 8, Tp Hồ Chí Minh"
        ],
        [
         844,
         " Phường 8",
         "Quận 8",
         "Tp Hồ Chí Minh",
         " Phường 8, Quận 8, Tp Hồ Chí Minh"
        ],
        [
         845,
         " Phường 9",
         "Quận 8",
         "Tp Hồ Chí Minh",
         " Phường 9, Quận 8, Tp Hồ Chí Minh"
        ],
        [
         846,
         " Phường 1",
         "Quận Bình Thạnh",
         "Tp Hồ Chí Minh",
         " Phường 1, Quận Bình Thạnh, Tp Hồ Chí Minh"
        ],
        [
         847,
         " Phường 11",
         "Quận Bình Thạnh",
         "Tp Hồ Chí Minh",
         " Phường 11, Quận Bình Thạnh, Tp Hồ Chí Minh"
        ],
        [
         848,
         " Phường 12",
         "Quận Bình Thạnh",
         "Tp Hồ Chí Minh",
         " Phường 12, Quận Bình Thạnh, Tp Hồ Chí Minh"
        ],
        [
         849,
         " Phường 13",
         "Quận Bình Thạnh",
         "Tp Hồ Chí Minh",
         " Phường 13, Quận Bình Thạnh, Tp Hồ Chí Minh"
        ],
        [
         850,
         " Phường 14",
         "Quận Bình Thạnh",
         "Tp Hồ Chí Minh",
         " Phường 14, Quận Bình Thạnh, Tp Hồ Chí Minh"
        ],
        [
         851,
         " Phường 15",
         "Quận Bình Thạnh",
         "Tp Hồ Chí Minh",
         " Phường 15, Quận Bình Thạnh, Tp Hồ Chí Minh"
        ],
        [
         852,
         " Phường 17",
         "Quận Bình Thạnh",
         "Tp Hồ Chí Minh",
         " Phường 17, Quận Bình Thạnh, Tp Hồ Chí Minh"
        ],
        [
         853,
         " Phường 19",
         "Quận Bình Thạnh",
         "Tp Hồ Chí Minh",
         " Phường 19, Quận Bình Thạnh, Tp Hồ Chí Minh"
        ],
        [
         854,
         " Phường 2",
         "Quận Bình Thạnh",
         "Tp Hồ Chí Minh",
         " Phường 2, Quận Bình Thạnh, Tp Hồ Chí Minh"
        ],
        [
         855,
         " Phường 21",
         "Quận Bình Thạnh",
         "Tp Hồ Chí Minh",
         " Phường 21, Quận Bình Thạnh, Tp Hồ Chí Minh"
        ],
        [
         856,
         " Phường 22",
         "Quận Bình Thạnh",
         "Tp Hồ Chí Minh",
         " Phường 22, Quận Bình Thạnh, Tp Hồ Chí Minh"
        ],
        [
         857,
         " Phường 24",
         "Quận Bình Thạnh",
         "Tp Hồ Chí Minh",
         " Phường 24, Quận Bình Thạnh, Tp Hồ Chí Minh"
        ],
        [
         858,
         " Phường 25",
         "Quận Bình Thạnh",
         "Tp Hồ Chí Minh",
         " Phường 25, Quận Bình Thạnh, Tp Hồ Chí Minh"
        ],
        [
         859,
         " Phường 26",
         "Quận Bình Thạnh",
         "Tp Hồ Chí Minh",
         " Phường 26, Quận Bình Thạnh, Tp Hồ Chí Minh"
        ],
        [
         860,
         " Phường 27",
         "Quận Bình Thạnh",
         "Tp Hồ Chí Minh",
         " Phường 27, Quận Bình Thạnh, Tp Hồ Chí Minh"
        ],
        [
         861,
         " Phường 28",
         "Quận Bình Thạnh",
         "Tp Hồ Chí Minh",
         " Phường 28, Quận Bình Thạnh, Tp Hồ Chí Minh"
        ],
        [
         862,
         " Phường 3",
         "Quận Bình Thạnh",
         "Tp Hồ Chí Minh",
         " Phường 3, Quận Bình Thạnh, Tp Hồ Chí Minh"
        ],
        [
         863,
         " Phường 5",
         "Quận Bình Thạnh",
         "Tp Hồ Chí Minh",
         " Phường 5, Quận Bình Thạnh, Tp Hồ Chí Minh"
        ],
        [
         864,
         " Phường 6",
         "Quận Bình Thạnh",
         "Tp Hồ Chí Minh",
         " Phường 6, Quận Bình Thạnh, Tp Hồ Chí Minh"
        ],
        [
         865,
         " Phường 7",
         "Quận Bình Thạnh",
         "Tp Hồ Chí Minh",
         " Phường 7, Quận Bình Thạnh, Tp Hồ Chí Minh"
        ],
        [
         866,
         " Phường An Lạc",
         "Quận Bình Tân",
         "Tp Hồ Chí Minh",
         " Phường An Lạc, Quận Bình Tân, Tp Hồ Chí Minh"
        ],
        [
         867,
         " Phường An Lạc A",
         "Quận Bình Tân",
         "Tp Hồ Chí Minh",
         " Phường An Lạc A, Quận Bình Tân, Tp Hồ Chí Minh"
        ],
        [
         868,
         " Phường Bình Hưng Hoà A",
         "Quận Bình Tân",
         "Tp Hồ Chí Minh",
         " Phường Bình Hưng Hoà A, Quận Bình Tân, Tp Hồ Chí Minh"
        ],
        [
         869,
         " Phường Bình Hưng Hoà B",
         "Quận Bình Tân",
         "Tp Hồ Chí Minh",
         " Phường Bình Hưng Hoà B, Quận Bình Tân, Tp Hồ Chí Minh"
        ],
        [
         870,
         " Phường Bình Hưng Hòa",
         "Quận Bình Tân",
         "Tp Hồ Chí Minh",
         " Phường Bình Hưng Hòa, Quận Bình Tân, Tp Hồ Chí Minh"
        ],
        [
         871,
         " Phường Bình Trị Đông",
         "Quận Bình Tân",
         "Tp Hồ Chí Minh",
         " Phường Bình Trị Đông, Quận Bình Tân, Tp Hồ Chí Minh"
        ],
        [
         872,
         " Phường Bình Trị Đông A",
         "Quận Bình Tân",
         "Tp Hồ Chí Minh",
         " Phường Bình Trị Đông A, Quận Bình Tân, Tp Hồ Chí Minh"
        ],
        [
         873,
         " Phường Bình Trị Đông B",
         "Quận Bình Tân",
         "Tp Hồ Chí Minh",
         " Phường Bình Trị Đông B, Quận Bình Tân, Tp Hồ Chí Minh"
        ],
        [
         874,
         " Phường Tân Tạo",
         "Quận Bình Tân",
         "Tp Hồ Chí Minh",
         " Phường Tân Tạo, Quận Bình Tân, Tp Hồ Chí Minh"
        ],
        [
         875,
         " Phường Tân Tạo A",
         "Quận Bình Tân",
         "Tp Hồ Chí Minh",
         " Phường Tân Tạo A, Quận Bình Tân, Tp Hồ Chí Minh"
        ],
        [
         876,
         " Phường 1",
         "Quận Gò Vấp",
         "Tp Hồ Chí Minh",
         " Phường 1, Quận Gò Vấp, Tp Hồ Chí Minh"
        ],
        [
         877,
         " Phường 10",
         "Quận Gò Vấp",
         "Tp Hồ Chí Minh",
         " Phường 10, Quận Gò Vấp, Tp Hồ Chí Minh"
        ],
        [
         878,
         " Phường 11",
         "Quận Gò Vấp",
         "Tp Hồ Chí Minh",
         " Phường 11, Quận Gò Vấp, Tp Hồ Chí Minh"
        ],
        [
         879,
         " Phường 12",
         "Quận Gò Vấp",
         "Tp Hồ Chí Minh",
         " Phường 12, Quận Gò Vấp, Tp Hồ Chí Minh"
        ],
        [
         880,
         " Phường 13",
         "Quận Gò Vấp",
         "Tp Hồ Chí Minh",
         " Phường 13, Quận Gò Vấp, Tp Hồ Chí Minh"
        ],
        [
         881,
         " Phường 14",
         "Quận Gò Vấp",
         "Tp Hồ Chí Minh",
         " Phường 14, Quận Gò Vấp, Tp Hồ Chí Minh"
        ],
        [
         882,
         " Phường 15",
         "Quận Gò Vấp",
         "Tp Hồ Chí Minh",
         " Phường 15, Quận Gò Vấp, Tp Hồ Chí Minh"
        ],
        [
         883,
         " Phường 16",
         "Quận Gò Vấp",
         "Tp Hồ Chí Minh",
         " Phường 16, Quận Gò Vấp, Tp Hồ Chí Minh"
        ],
        [
         884,
         " Phường 17",
         "Quận Gò Vấp",
         "Tp Hồ Chí Minh",
         " Phường 17, Quận Gò Vấp, Tp Hồ Chí Minh"
        ],
        [
         885,
         " Phường 3",
         "Quận Gò Vấp",
         "Tp Hồ Chí Minh",
         " Phường 3, Quận Gò Vấp, Tp Hồ Chí Minh"
        ],
        [
         886,
         " Phường 4",
         "Quận Gò Vấp",
         "Tp Hồ Chí Minh",
         " Phường 4, Quận Gò Vấp, Tp Hồ Chí Minh"
        ],
        [
         887,
         " Phường 5",
         "Quận Gò Vấp",
         "Tp Hồ Chí Minh",
         " Phường 5, Quận Gò Vấp, Tp Hồ Chí Minh"
        ],
        [
         888,
         " Phường 6",
         "Quận Gò Vấp",
         "Tp Hồ Chí Minh",
         " Phường 6, Quận Gò Vấp, Tp Hồ Chí Minh"
        ],
        [
         889,
         " Phường 7",
         "Quận Gò Vấp",
         "Tp Hồ Chí Minh",
         " Phường 7, Quận Gò Vấp, Tp Hồ Chí Minh"
        ],
        [
         890,
         " Phường 8",
         "Quận Gò Vấp",
         "Tp Hồ Chí Minh",
         " Phường 8, Quận Gò Vấp, Tp Hồ Chí Minh"
        ],
        [
         891,
         " Phường 9",
         "Quận Gò Vấp",
         "Tp Hồ Chí Minh",
         " Phường 9, Quận Gò Vấp, Tp Hồ Chí Minh"
        ],
        [
         892,
         " Phường 1",
         "Quận Phú Nhuận",
         "Tp Hồ Chí Minh",
         " Phường 1, Quận Phú Nhuận, Tp Hồ Chí Minh"
        ],
        [
         893,
         " Phường 10",
         "Quận Phú Nhuận",
         "Tp Hồ Chí Minh",
         " Phường 10, Quận Phú Nhuận, Tp Hồ Chí Minh"
        ],
        [
         894,
         " Phường 11",
         "Quận Phú Nhuận",
         "Tp Hồ Chí Minh",
         " Phường 11, Quận Phú Nhuận, Tp Hồ Chí Minh"
        ],
        [
         895,
         " Phường 13",
         "Quận Phú Nhuận",
         "Tp Hồ Chí Minh",
         " Phường 13, Quận Phú Nhuận, Tp Hồ Chí Minh"
        ],
        [
         896,
         " Phường 17",
         "Quận Phú Nhuận",
         "Tp Hồ Chí Minh",
         " Phường 17, Quận Phú Nhuận, Tp Hồ Chí Minh"
        ],
        [
         897,
         " Phường 2",
         "Quận Phú Nhuận",
         "Tp Hồ Chí Minh",
         " Phường 2, Quận Phú Nhuận, Tp Hồ Chí Minh"
        ],
        [
         898,
         " Phường 3",
         "Quận Phú Nhuận",
         "Tp Hồ Chí Minh",
         " Phường 3, Quận Phú Nhuận, Tp Hồ Chí Minh"
        ],
        [
         899,
         " Phường 4",
         "Quận Phú Nhuận",
         "Tp Hồ Chí Minh",
         " Phường 4, Quận Phú Nhuận, Tp Hồ Chí Minh"
        ],
        [
         900,
         " Phường 5",
         "Quận Phú Nhuận",
         "Tp Hồ Chí Minh",
         " Phường 5, Quận Phú Nhuận, Tp Hồ Chí Minh"
        ],
        [
         901,
         " Phường 7",
         "Quận Phú Nhuận",
         "Tp Hồ Chí Minh",
         " Phường 7, Quận Phú Nhuận, Tp Hồ Chí Minh"
        ],
        [
         902,
         " Phường 8",
         "Quận Phú Nhuận",
         "Tp Hồ Chí Minh",
         " Phường 8, Quận Phú Nhuận, Tp Hồ Chí Minh"
        ],
        [
         903,
         " Phường 9",
         "Quận Phú Nhuận",
         "Tp Hồ Chí Minh",
         " Phường 9, Quận Phú Nhuận, Tp Hồ Chí Minh"
        ],
        [
         904,
         " Phường 1",
         "Quận Tân Bình",
         "Tp Hồ Chí Minh",
         " Phường 1, Quận Tân Bình, Tp Hồ Chí Minh"
        ],
        [
         905,
         " Phường 10",
         "Quận Tân Bình",
         "Tp Hồ Chí Minh",
         " Phường 10, Quận Tân Bình, Tp Hồ Chí Minh"
        ],
        [
         906,
         " Phường 11",
         "Quận Tân Bình",
         "Tp Hồ Chí Minh",
         " Phường 11, Quận Tân Bình, Tp Hồ Chí Minh"
        ],
        [
         907,
         " Phường 12",
         "Quận Tân Bình",
         "Tp Hồ Chí Minh",
         " Phường 12, Quận Tân Bình, Tp Hồ Chí Minh"
        ],
        [
         908,
         " Phường 13",
         "Quận Tân Bình",
         "Tp Hồ Chí Minh",
         " Phường 13, Quận Tân Bình, Tp Hồ Chí Minh"
        ],
        [
         909,
         " Phường 14",
         "Quận Tân Bình",
         "Tp Hồ Chí Minh",
         " Phường 14, Quận Tân Bình, Tp Hồ Chí Minh"
        ],
        [
         910,
         " Phường 15",
         "Quận Tân Bình",
         "Tp Hồ Chí Minh",
         " Phường 15, Quận Tân Bình, Tp Hồ Chí Minh"
        ],
        [
         911,
         " Phường 2",
         "Quận Tân Bình",
         "Tp Hồ Chí Minh",
         " Phường 2, Quận Tân Bình, Tp Hồ Chí Minh"
        ],
        [
         912,
         " Phường 3",
         "Quận Tân Bình",
         "Tp Hồ Chí Minh",
         " Phường 3, Quận Tân Bình, Tp Hồ Chí Minh"
        ],
        [
         913,
         " Phường 4",
         "Quận Tân Bình",
         "Tp Hồ Chí Minh",
         " Phường 4, Quận Tân Bình, Tp Hồ Chí Minh"
        ],
        [
         914,
         " Phường 5",
         "Quận Tân Bình",
         "Tp Hồ Chí Minh",
         " Phường 5, Quận Tân Bình, Tp Hồ Chí Minh"
        ],
        [
         915,
         " Phường 6",
         "Quận Tân Bình",
         "Tp Hồ Chí Minh",
         " Phường 6, Quận Tân Bình, Tp Hồ Chí Minh"
        ],
        [
         916,
         " Phường 7",
         "Quận Tân Bình",
         "Tp Hồ Chí Minh",
         " Phường 7, Quận Tân Bình, Tp Hồ Chí Minh"
        ],
        [
         917,
         " Phường 8",
         "Quận Tân Bình",
         "Tp Hồ Chí Minh",
         " Phường 8, Quận Tân Bình, Tp Hồ Chí Minh"
        ],
        [
         918,
         " Phường 9",
         "Quận Tân Bình",
         "Tp Hồ Chí Minh",
         " Phường 9, Quận Tân Bình, Tp Hồ Chí Minh"
        ],
        [
         919,
         " Phường Hiệp Tân",
         "Quận Tân Phú",
         "Tp Hồ Chí Minh",
         " Phường Hiệp Tân, Quận Tân Phú, Tp Hồ Chí Minh"
        ],
        [
         920,
         " Phường Hòa Thạnh",
         "Quận Tân Phú",
         "Tp Hồ Chí Minh",
         " Phường Hòa Thạnh, Quận Tân Phú, Tp Hồ Chí Minh"
        ],
        [
         921,
         " Phường Phú Thạnh",
         "Quận Tân Phú",
         "Tp Hồ Chí Minh",
         " Phường Phú Thạnh, Quận Tân Phú, Tp Hồ Chí Minh"
        ],
        [
         922,
         " Phường Phú Thọ Hòa",
         "Quận Tân Phú",
         "Tp Hồ Chí Minh",
         " Phường Phú Thọ Hòa, Quận Tân Phú, Tp Hồ Chí Minh"
        ],
        [
         923,
         " Phường Phú Trung",
         "Quận Tân Phú",
         "Tp Hồ Chí Minh",
         " Phường Phú Trung, Quận Tân Phú, Tp Hồ Chí Minh"
        ],
        [
         924,
         " Phường Sơn Kỳ",
         "Quận Tân Phú",
         "Tp Hồ Chí Minh",
         " Phường Sơn Kỳ, Quận Tân Phú, Tp Hồ Chí Minh"
        ],
        [
         925,
         " Phường Tân Quý",
         "Quận Tân Phú",
         "Tp Hồ Chí Minh",
         " Phường Tân Quý, Quận Tân Phú, Tp Hồ Chí Minh"
        ],
        [
         926,
         " Phường Tân Sơn Nhì",
         "Quận Tân Phú",
         "Tp Hồ Chí Minh",
         " Phường Tân Sơn Nhì, Quận Tân Phú, Tp Hồ Chí Minh"
        ],
        [
         927,
         " Phường Tân Thành",
         "Quận Tân Phú",
         "Tp Hồ Chí Minh",
         " Phường Tân Thành, Quận Tân Phú, Tp Hồ Chí Minh"
        ],
        [
         928,
         " Phường Tân Thới Hòa",
         "Quận Tân Phú",
         "Tp Hồ Chí Minh",
         " Phường Tân Thới Hòa, Quận Tân Phú, Tp Hồ Chí Minh"
        ],
        [
         929,
         " Phường Tây Thạnh",
         "Quận Tân Phú",
         "Tp Hồ Chí Minh",
         " Phường Tây Thạnh, Quận Tân Phú, Tp Hồ Chí Minh"
        ],
        [
         930,
         " Phường An Khánh (Quận 2 cũ)",
         "Thành phố Thủ Đức",
         "Tp Hồ Chí Minh",
         " Phường An Khánh (Quận 2 cũ), Thành phố Thủ Đức, Tp Hồ Chí Minh"
        ],
        [
         931,
         " Phường An Phú (Quận 2 cũ)",
         "Thành phố Thủ Đức",
         "Tp Hồ Chí Minh",
         " Phường An Phú (Quận 2 cũ), Thành phố Thủ Đức, Tp Hồ Chí Minh"
        ],
        [
         932,
         " Phường Bình Chiểu (Quận Thủ Đức cũ)",
         "Thành phố Thủ Đức",
         "Tp Hồ Chí Minh",
         " Phường Bình Chiểu (Quận Thủ Đức cũ), Thành phố Thủ Đức, Tp Hồ Chí Minh"
        ],
        [
         933,
         " Phường Bình Thọ (Quận Thủ Đức cũ)",
         "Thành phố Thủ Đức",
         "Tp Hồ Chí Minh",
         " Phường Bình Thọ (Quận Thủ Đức cũ), Thành phố Thủ Đức, Tp Hồ Chí Minh"
        ],
        [
         934,
         " Phường Bình Trưng Tây (Quận 2 cũ)",
         "Thành phố Thủ Đức",
         "Tp Hồ Chí Minh",
         " Phường Bình Trưng Tây (Quận 2 cũ), Thành phố Thủ Đức, Tp Hồ Chí Minh"
        ],
        [
         935,
         " Phường Bình Trưng Đông (Quận 2 cũ)",
         "Thành phố Thủ Đức",
         "Tp Hồ Chí Minh",
         " Phường Bình Trưng Đông (Quận 2 cũ), Thành phố Thủ Đức, Tp Hồ Chí Minh"
        ],
        [
         936,
         " Phường Cát Lái (Quận 2 cũ)",
         "Thành phố Thủ Đức",
         "Tp Hồ Chí Minh",
         " Phường Cát Lái (Quận 2 cũ), Thành phố Thủ Đức, Tp Hồ Chí Minh"
        ],
        [
         937,
         " Phường Hiệp Bình Chánh (Quận Thủ Đức cũ)",
         "Thành phố Thủ Đức",
         "Tp Hồ Chí Minh",
         " Phường Hiệp Bình Chánh (Quận Thủ Đức cũ), Thành phố Thủ Đức, Tp Hồ Chí Minh"
        ],
        [
         938,
         " Phường Hiệp Bình Phước (Quận Thủ Đức cũ)",
         "Thành phố Thủ Đức",
         "Tp Hồ Chí Minh",
         " Phường Hiệp Bình Phước (Quận Thủ Đức cũ), Thành phố Thủ Đức, Tp Hồ Chí Minh"
        ],
        [
         939,
         " Phường Hiệp Phú (Quận 9 cũ)",
         "Thành phố Thủ Đức",
         "Tp Hồ Chí Minh",
         " Phường Hiệp Phú (Quận 9 cũ), Thành phố Thủ Đức, Tp Hồ Chí Minh"
        ],
        [
         940,
         " Phường Linh Chiểu (Quận Thủ Đức cũ)",
         "Thành phố Thủ Đức",
         "Tp Hồ Chí Minh",
         " Phường Linh Chiểu (Quận Thủ Đức cũ), Thành phố Thủ Đức, Tp Hồ Chí Minh"
        ],
        [
         941,
         " Phường Linh Trung (Quận Thủ Đức cũ)",
         "Thành phố Thủ Đức",
         "Tp Hồ Chí Minh",
         " Phường Linh Trung (Quận Thủ Đức cũ), Thành phố Thủ Đức, Tp Hồ Chí Minh"
        ],
        [
         942,
         " Phường Linh Tây (Quận Thủ Đức cũ)",
         "Thành phố Thủ Đức",
         "Tp Hồ Chí Minh",
         " Phường Linh Tây (Quận Thủ Đức cũ), Thành phố Thủ Đức, Tp Hồ Chí Minh"
        ],
        [
         943,
         " Phường Linh Xuân (Quận Thủ Đức cũ)",
         "Thành phố Thủ Đức",
         "Tp Hồ Chí Minh",
         " Phường Linh Xuân (Quận Thủ Đức cũ), Thành phố Thủ Đức, Tp Hồ Chí Minh"
        ],
        [
         944,
         " Phường Linh Đông (Quận Thủ Đức cũ)",
         "Thành phố Thủ Đức",
         "Tp Hồ Chí Minh",
         " Phường Linh Đông (Quận Thủ Đức cũ), Thành phố Thủ Đức, Tp Hồ Chí Minh"
        ],
        [
         945,
         " Phường Long Bình (Quận 9 cũ)",
         "Thành phố Thủ Đức",
         "Tp Hồ Chí Minh",
         " Phường Long Bình (Quận 9 cũ), Thành phố Thủ Đức, Tp Hồ Chí Minh"
        ],
        [
         946,
         " Phường Long Phước (Quận 9 cũ)",
         "Thành phố Thủ Đức",
         "Tp Hồ Chí Minh",
         " Phường Long Phước (Quận 9 cũ), Thành phố Thủ Đức, Tp Hồ Chí Minh"
        ],
        [
         947,
         " Phường Long Thạnh Mỹ (Quận 9 cũ)",
         "Thành phố Thủ Đức",
         "Tp Hồ Chí Minh",
         " Phường Long Thạnh Mỹ (Quận 9 cũ), Thành phố Thủ Đức, Tp Hồ Chí Minh"
        ],
        [
         948,
         " Phường Long Trường (Quận 9 cũ)",
         "Thành phố Thủ Đức",
         "Tp Hồ Chí Minh",
         " Phường Long Trường (Quận 9 cũ), Thành phố Thủ Đức, Tp Hồ Chí Minh"
        ],
        [
         949,
         " Phường Phú Hữu (Quận 9 cũ)",
         "Thành phố Thủ Đức",
         "Tp Hồ Chí Minh",
         " Phường Phú Hữu (Quận 9 cũ), Thành phố Thủ Đức, Tp Hồ Chí Minh"
        ],
        [
         950,
         " Phường Phước Bình (Quận 9 cũ)",
         "Thành phố Thủ Đức",
         "Tp Hồ Chí Minh",
         " Phường Phước Bình (Quận 9 cũ), Thành phố Thủ Đức, Tp Hồ Chí Minh"
        ],
        [
         951,
         " Phường Phước Long A (Quận 9 cũ)",
         "Thành phố Thủ Đức",
         "Tp Hồ Chí Minh",
         " Phường Phước Long A (Quận 9 cũ), Thành phố Thủ Đức, Tp Hồ Chí Minh"
        ],
        [
         952,
         " Phường Phước Long B (Quận 9 cũ)",
         "Thành phố Thủ Đức",
         "Tp Hồ Chí Minh",
         " Phường Phước Long B (Quận 9 cũ), Thành phố Thủ Đức, Tp Hồ Chí Minh"
        ],
        [
         953,
         " Phường Tam Bình (Quận Thủ Đức cũ)",
         "Thành phố Thủ Đức",
         "Tp Hồ Chí Minh",
         " Phường Tam Bình (Quận Thủ Đức cũ), Thành phố Thủ Đức, Tp Hồ Chí Minh"
        ],
        [
         954,
         " Phường Tam Phú (Quận Thủ Đức cũ)",
         "Thành phố Thủ Đức",
         "Tp Hồ Chí Minh",
         " Phường Tam Phú (Quận Thủ Đức cũ), Thành phố Thủ Đức, Tp Hồ Chí Minh"
        ],
        [
         955,
         " Phường Thạnh Mỹ Lợi (Quận 2 cũ)",
         "Thành phố Thủ Đức",
         "Tp Hồ Chí Minh",
         " Phường Thạnh Mỹ Lợi (Quận 2 cũ), Thành phố Thủ Đức, Tp Hồ Chí Minh"
        ],
        [
         956,
         " Phường Thảo Điền (Quận 2 cũ)",
         "Thành phố Thủ Đức",
         "Tp Hồ Chí Minh",
         " Phường Thảo Điền (Quận 2 cũ), Thành phố Thủ Đức, Tp Hồ Chí Minh"
        ],
        [
         957,
         " Phường Thủ Thiêm (Quận 2 cũ)",
         "Thành phố Thủ Đức",
         "Tp Hồ Chí Minh",
         " Phường Thủ Thiêm (Quận 2 cũ), Thành phố Thủ Đức, Tp Hồ Chí Minh"
        ],
        [
         958,
         " Phường Trường Thạnh (Quận 9 cũ)",
         "Thành phố Thủ Đức",
         "Tp Hồ Chí Minh",
         " Phường Trường Thạnh (Quận 9 cũ), Thành phố Thủ Đức, Tp Hồ Chí Minh"
        ],
        [
         959,
         " Phường Trường Thọ (Quận Thủ Đức cũ)",
         "Thành phố Thủ Đức",
         "Tp Hồ Chí Minh",
         " Phường Trường Thọ (Quận Thủ Đức cũ), Thành phố Thủ Đức, Tp Hồ Chí Minh"
        ],
        [
         960,
         " Phường Tân Phú (Quận 9 cũ)",
         "Thành phố Thủ Đức",
         "Tp Hồ Chí Minh",
         " Phường Tân Phú (Quận 9 cũ), Thành phố Thủ Đức, Tp Hồ Chí Minh"
        ],
        [
         961,
         " Phường Tăng Nhơn Phú A (Quận 9 cũ)",
         "Thành phố Thủ Đức",
         "Tp Hồ Chí Minh",
         " Phường Tăng Nhơn Phú A (Quận 9 cũ), Thành phố Thủ Đức, Tp Hồ Chí Minh"
        ],
        [
         962,
         " Phường Tăng Nhơn Phú B (Quận 9 cũ)",
         "Thành phố Thủ Đức",
         "Tp Hồ Chí Minh",
         " Phường Tăng Nhơn Phú B (Quận 9 cũ), Thành phố Thủ Đức, Tp Hồ Chí Minh"
        ],
        [
         963,
         " Xã Nguyệt Hóa",
         "Huyện Châu Thành",
         "Trà Vinh",
         " Xã Nguyệt Hóa, Huyện Châu Thành, Trà Vinh"
        ],
        [
         964,
         " Xã Huyền Hội",
         "Huyện Càng Long",
         "Trà Vinh",
         " Xã Huyền Hội, Huyện Càng Long, Trà Vinh"
        ],
        [
         965,
         " Thị trấn Cầu Kè",
         "Huyện Cầu Kè",
         "Trà Vinh",
         " Thị trấn Cầu Kè, Huyện Cầu Kè, Trà Vinh"
        ],
        [
         966,
         " Xã Phong Thạnh",
         "Huyện Cầu Kè",
         "Trà Vinh",
         " Xã Phong Thạnh, Huyện Cầu Kè, Trà Vinh"
        ],
        [
         967,
         " Xã Định An",
         "Huyện Trà Cú",
         "Trà Vinh",
         " Xã Định An, Huyện Trà Cú, Trà Vinh"
        ],
        [
         968,
         " Phường 4",
         "Thành phố Trà Vinh",
         "Trà Vinh",
         " Phường 4, Thành phố Trà Vinh, Trà Vinh"
        ],
        [
         969,
         " Phường 9",
         "Thành phố Trà Vinh",
         "Trà Vinh",
         " Phường 9, Thành phố Trà Vinh, Trà Vinh"
        ],
        [
         970,
         " Thị trấn Bến Cầu",
         "Huyện Bến Cầu",
         "Tây Ninh",
         " Thị trấn Bến Cầu, Huyện Bến Cầu, Tây Ninh"
        ],
        [
         971,
         " Xã An Bình",
         "Huyện Châu Thành",
         "Tây Ninh",
         " Xã An Bình, Huyện Châu Thành, Tây Ninh"
        ],
        [
         972,
         " Xã Trí Bình",
         "Huyện Châu Thành",
         "Tây Ninh",
         " Xã Trí Bình, Huyện Châu Thành, Tây Ninh"
        ],
        [
         973,
         " Xã Phan",
         "Huyện Dương Minh Châu",
         "Tây Ninh",
         " Xã Phan, Huyện Dương Minh Châu, Tây Ninh"
        ],
        [
         974,
         " Xã Phước Ninh",
         "Huyện Dương Minh Châu",
         "Tây Ninh",
         " Xã Phước Ninh, Huyện Dương Minh Châu, Tây Ninh"
        ],
        [
         975,
         " Xã Suối Đá",
         "Huyện Dương Minh Châu",
         "Tây Ninh",
         " Xã Suối Đá, Huyện Dương Minh Châu, Tây Ninh"
        ],
        [
         976,
         " Xã Bàu Đồn",
         "Huyện Gò Dầu",
         "Tây Ninh",
         " Xã Bàu Đồn, Huyện Gò Dầu, Tây Ninh"
        ],
        [
         977,
         " Xã Cẩm Giang",
         "Huyện Gò Dầu",
         "Tây Ninh",
         " Xã Cẩm Giang, Huyện Gò Dầu, Tây Ninh"
        ],
        [
         978,
         " Xã Hiệp Thạnh",
         "Huyện Gò Dầu",
         "Tây Ninh",
         " Xã Hiệp Thạnh, Huyện Gò Dầu, Tây Ninh"
        ],
        [
         979,
         " Xã Phước Thạnh",
         "Huyện Gò Dầu",
         "Tây Ninh",
         " Xã Phước Thạnh, Huyện Gò Dầu, Tây Ninh"
        ],
        [
         980,
         " Xã Phước Đông",
         "Huyện Gò Dầu",
         "Tây Ninh",
         " Xã Phước Đông, Huyện Gò Dầu, Tây Ninh"
        ],
        [
         981,
         " Xã Thanh Phước",
         "Huyện Gò Dầu",
         "Tây Ninh",
         " Xã Thanh Phước, Huyện Gò Dầu, Tây Ninh"
        ],
        [
         982,
         " Xã Thạnh Đức",
         "Huyện Gò Dầu",
         "Tây Ninh",
         " Xã Thạnh Đức, Huyện Gò Dầu, Tây Ninh"
        ],
        [
         983,
         " Xã Hiệp Tân",
         "Huyện Hòa Thành",
         "Tây Ninh",
         " Xã Hiệp Tân, Huyện Hòa Thành, Tây Ninh"
        ],
        [
         984,
         " Xã Long Thành Nam",
         "Huyện Hòa Thành",
         "Tây Ninh",
         " Xã Long Thành Nam, Huyện Hòa Thành, Tây Ninh"
        ],
        [
         985,
         " Xã Long Thành Trung",
         "Huyện Hòa Thành",
         "Tây Ninh",
         " Xã Long Thành Trung, Huyện Hòa Thành, Tây Ninh"
        ],
        [
         986,
         " Xã Trường Tây",
         "Huyện Hòa Thành",
         "Tây Ninh",
         " Xã Trường Tây, Huyện Hòa Thành, Tây Ninh"
        ],
        [
         987,
         " Thị trấn Trảng Bàng",
         "Huyện Trảng Bàng",
         "Tây Ninh",
         " Thị trấn Trảng Bàng, Huyện Trảng Bàng, Tây Ninh"
        ],
        [
         988,
         " Xã An Hòa",
         "Huyện Trảng Bàng",
         "Tây Ninh",
         " Xã An Hòa, Huyện Trảng Bàng, Tây Ninh"
        ],
        [
         989,
         " Xã An Tịnh",
         "Huyện Trảng Bàng",
         "Tây Ninh",
         " Xã An Tịnh, Huyện Trảng Bàng, Tây Ninh"
        ],
        [
         990,
         " Xã Gia Bình",
         "Huyện Trảng Bàng",
         "Tây Ninh",
         " Xã Gia Bình, Huyện Trảng Bàng, Tây Ninh"
        ],
        [
         991,
         " Xã Gia Lộc",
         "Huyện Trảng Bàng",
         "Tây Ninh",
         " Xã Gia Lộc, Huyện Trảng Bàng, Tây Ninh"
        ],
        [
         992,
         " Xã Lộc Hưng",
         "Huyện Trảng Bàng",
         "Tây Ninh",
         " Xã Lộc Hưng, Huyện Trảng Bàng, Tây Ninh"
        ],
        [
         993,
         " Xã Phước Chỉ",
         "Huyện Trảng Bàng",
         "Tây Ninh",
         " Xã Phước Chỉ, Huyện Trảng Bàng, Tây Ninh"
        ],
        [
         994,
         " Xã Thạnh Bình",
         "Huyện Tân Biên",
         "Tây Ninh",
         " Xã Thạnh Bình, Huyện Tân Biên, Tây Ninh"
        ],
        [
         995,
         " Xã Tân Phong",
         "Huyện Tân Biên",
         "Tây Ninh",
         " Xã Tân Phong, Huyện Tân Biên, Tây Ninh"
        ],
        [
         996,
         " Xã Thạnh Đông",
         "Huyện Tân Châu",
         "Tây Ninh",
         " Xã Thạnh Đông, Huyện Tân Châu, Tây Ninh"
        ],
        [
         997,
         " Xã Tân Hội",
         "Huyện Tân Châu",
         "Tây Ninh",
         " Xã Tân Hội, Huyện Tân Châu, Tây Ninh"
        ],
        [
         998,
         " Xã Tân Phú",
         "Huyện Tân Châu",
         "Tây Ninh",
         " Xã Tân Phú, Huyện Tân Châu, Tây Ninh"
        ],
        [
         999,
         " Phường 4",
         "Thành phố Tây Ninh",
         "Tây Ninh",
         " Phường 4, Thành phố Tây Ninh, Tây Ninh"
        ],
        [
         1000,
         " Phường Hiệp Ninh",
         "Thành phố Tây Ninh",
         "Tây Ninh",
         " Phường Hiệp Ninh, Thành phố Tây Ninh, Tây Ninh"
        ],
        [
         1001,
         " Phường Ninh Sơn",
         "Thành phố Tây Ninh",
         "Tây Ninh",
         " Phường Ninh Sơn, Thành phố Tây Ninh, Tây Ninh"
        ],
        [
         1002,
         " Phường Ninh Thạnh",
         "Thành phố Tây Ninh",
         "Tây Ninh",
         " Phường Ninh Thạnh, Thành phố Tây Ninh, Tây Ninh"
        ],
        [
         1003,
         " Xã Thạnh Tân",
         "Thành phố Tây Ninh",
         "Tây Ninh",
         " Xã Thạnh Tân, Thành phố Tây Ninh, Tây Ninh"
        ],
        [
         1004,
         " Xã Tân Quới",
         "Huyện Bình Tân",
         "Vĩnh Long",
         " Xã Tân Quới, Huyện Bình Tân, Vĩnh Long"
        ],
        [
         1005,
         " Xã Hòa Phú",
         "Huyện Long Hồ",
         "Vĩnh Long",
         " Xã Hòa Phú, Huyện Long Hồ, Vĩnh Long"
        ],
        [
         1006,
         " Xã Long Phước",
         "Huyện Long Hồ",
         "Vĩnh Long",
         " Xã Long Phước, Huyện Long Hồ, Vĩnh Long"
        ],
        [
         1007,
         " Xã Phú Quới",
         "Huyện Long Hồ",
         "Vĩnh Long",
         " Xã Phú Quới, Huyện Long Hồ, Vĩnh Long"
        ],
        [
         1008,
         " Xã Phú Đức",
         "Huyện Long Hồ",
         "Vĩnh Long",
         " Xã Phú Đức, Huyện Long Hồ, Vĩnh Long"
        ],
        [
         1009,
         " Xã Ngãi Tứ",
         "Huyện Tam Bình",
         "Vĩnh Long",
         " Xã Ngãi Tứ, Huyện Tam Bình, Vĩnh Long"
        ],
        [
         1010,
         " Xã Xuân Hiệp",
         "Huyện Trà Ôn",
         "Vĩnh Long",
         " Xã Xuân Hiệp, Huyện Trà Ôn, Vĩnh Long"
        ],
        [
         1011,
         " Xã Trung Hiệp",
         "Huyện Vũng Liêm",
         "Vĩnh Long",
         " Xã Trung Hiệp, Huyện Vũng Liêm, Vĩnh Long"
        ],
        [
         1012,
         " Xã Trung Ngãi",
         "Huyện Vũng Liêm",
         "Vĩnh Long",
         " Xã Trung Ngãi, Huyện Vũng Liêm, Vĩnh Long"
        ],
        [
         1013,
         " Phường 3",
         "Thành phố Vĩnh Long",
         "Vĩnh Long",
         " Phường 3, Thành phố Vĩnh Long, Vĩnh Long"
        ],
        [
         1014,
         " Phường 4",
         "Thành phố Vĩnh Long",
         "Vĩnh Long",
         " Phường 4, Thành phố Vĩnh Long, Vĩnh Long"
        ],
        [
         1015,
         " Phường 8",
         "Thành phố Vĩnh Long",
         "Vĩnh Long",
         " Phường 8, Thành phố Vĩnh Long, Vĩnh Long"
        ],
        [
         1016,
         " Phường 9",
         "Thành phố Vĩnh Long",
         "Vĩnh Long",
         " Phường 9, Thành phố Vĩnh Long, Vĩnh Long"
        ],
        [
         1017,
         " Phường Thành Phước",
         "Thị xã Bình Minh",
         "Vĩnh Long",
         " Phường Thành Phước, Thị xã Bình Minh, Vĩnh Long"
        ],
        [
         1018,
         " Xã Ngọc Thanh",
         "Thành phố Phúc Yên",
         "Vĩnh Phúc",
         " Xã Ngọc Thanh, Thành phố Phúc Yên, Vĩnh Phúc"
        ],
        [
         1019,
         " Xã Hòa Châu",
         "Huyện Hòa Vang",
         "Đà Nẵng",
         " Xã Hòa Châu, Huyện Hòa Vang, Đà Nẵng"
        ],
        [
         1020,
         " Xã Hòa Khương",
         "Huyện Hòa Vang",
         "Đà Nẵng",
         " Xã Hòa Khương, Huyện Hòa Vang, Đà Nẵng"
        ],
        [
         1021,
         " Xã Hòa Nhơn",
         "Huyện Hòa Vang",
         "Đà Nẵng",
         " Xã Hòa Nhơn, Huyện Hòa Vang, Đà Nẵng"
        ],
        [
         1022,
         " Xã Hòa Ninh",
         "Huyện Hòa Vang",
         "Đà Nẵng",
         " Xã Hòa Ninh, Huyện Hòa Vang, Đà Nẵng"
        ],
        [
         1023,
         " Xã Hòa Phong",
         "Huyện Hòa Vang",
         "Đà Nẵng",
         " Xã Hòa Phong, Huyện Hòa Vang, Đà Nẵng"
        ],
        [
         1024,
         " Xã Hòa Phú",
         "Huyện Hòa Vang",
         "Đà Nẵng",
         " Xã Hòa Phú, Huyện Hòa Vang, Đà Nẵng"
        ],
        [
         1025,
         " Xã Hòa Phước",
         "Huyện Hòa Vang",
         "Đà Nẵng",
         " Xã Hòa Phước, Huyện Hòa Vang, Đà Nẵng"
        ],
        [
         1026,
         " Xã Hòa Tiến",
         "Huyện Hòa Vang",
         "Đà Nẵng",
         " Xã Hòa Tiến, Huyện Hòa Vang, Đà Nẵng"
        ],
        [
         1027,
         " Phường Hòa An",
         "Quận Cẩm Lệ",
         "Đà Nẵng",
         " Phường Hòa An, Quận Cẩm Lệ, Đà Nẵng"
        ],
        [
         1028,
         " Phường Hòa Phát",
         "Quận Cẩm Lệ",
         "Đà Nẵng",
         " Phường Hòa Phát, Quận Cẩm Lệ, Đà Nẵng"
        ],
        [
         1029,
         " Phường Hòa Thọ Tây",
         "Quận Cẩm Lệ",
         "Đà Nẵng",
         " Phường Hòa Thọ Tây, Quận Cẩm Lệ, Đà Nẵng"
        ],
        [
         1030,
         " Phường Hòa Thọ Đông",
         "Quận Cẩm Lệ",
         "Đà Nẵng",
         " Phường Hòa Thọ Đông, Quận Cẩm Lệ, Đà Nẵng"
        ],
        [
         1031,
         " Phường Hòa Xuân",
         "Quận Cẩm Lệ",
         "Đà Nẵng",
         " Phường Hòa Xuân, Quận Cẩm Lệ, Đà Nẵng"
        ],
        [
         1032,
         " Phường Khuê Trung",
         "Quận Cẩm Lệ",
         "Đà Nẵng",
         " Phường Khuê Trung, Quận Cẩm Lệ, Đà Nẵng"
        ],
        [
         1033,
         " Phường Hòa Cường Bắc",
         "Quận Hải Châu",
         "Đà Nẵng",
         " Phường Hòa Cường Bắc, Quận Hải Châu, Đà Nẵng"
        ],
        [
         1034,
         " Phường Hòa Cường Nam",
         "Quận Hải Châu",
         "Đà Nẵng",
         " Phường Hòa Cường Nam, Quận Hải Châu, Đà Nẵng"
        ],
        [
         1035,
         " Phường Hòa Thuận Tây",
         "Quận Hải Châu",
         "Đà Nẵng",
         " Phường Hòa Thuận Tây, Quận Hải Châu, Đà Nẵng"
        ],
        [
         1036,
         " Phường Hòa Thuận Đông",
         "Quận Hải Châu",
         "Đà Nẵng",
         " Phường Hòa Thuận Đông, Quận Hải Châu, Đà Nẵng"
        ],
        [
         1037,
         " Phường Hải Châu  I",
         "Quận Hải Châu",
         "Đà Nẵng",
         " Phường Hải Châu  I, Quận Hải Châu, Đà Nẵng"
        ],
        [
         1038,
         " Phường Nam Dương",
         "Quận Hải Châu",
         "Đà Nẵng",
         " Phường Nam Dương, Quận Hải Châu, Đà Nẵng"
        ],
        [
         1039,
         " Phường Phước Ninh",
         "Quận Hải Châu",
         "Đà Nẵng",
         " Phường Phước Ninh, Quận Hải Châu, Đà Nẵng"
        ],
        [
         1040,
         " Phường Thanh Bình",
         "Quận Hải Châu",
         "Đà Nẵng",
         " Phường Thanh Bình, Quận Hải Châu, Đà Nẵng"
        ],
        [
         1041,
         " Phường Thạch Thang",
         "Quận Hải Châu",
         "Đà Nẵng",
         " Phường Thạch Thang, Quận Hải Châu, Đà Nẵng"
        ],
        [
         1042,
         " Phường Hòa Hiệp Bắc",
         "Quận Liên Chiểu",
         "Đà Nẵng",
         " Phường Hòa Hiệp Bắc, Quận Liên Chiểu, Đà Nẵng"
        ],
        [
         1043,
         " Phường Hòa Hiệp Nam",
         "Quận Liên Chiểu",
         "Đà Nẵng",
         " Phường Hòa Hiệp Nam, Quận Liên Chiểu, Đà Nẵng"
        ],
        [
         1044,
         " Phường Hòa Khánh Bắc",
         "Quận Liên Chiểu",
         "Đà Nẵng",
         " Phường Hòa Khánh Bắc, Quận Liên Chiểu, Đà Nẵng"
        ],
        [
         1045,
         " Phường Hòa Khánh Nam",
         "Quận Liên Chiểu",
         "Đà Nẵng",
         " Phường Hòa Khánh Nam, Quận Liên Chiểu, Đà Nẵng"
        ],
        [
         1046,
         " Phường Hòa Minh",
         "Quận Liên Chiểu",
         "Đà Nẵng",
         " Phường Hòa Minh, Quận Liên Chiểu, Đà Nẵng"
        ],
        [
         1047,
         " Phường Hoà Hải",
         "Quận Ngũ Hành Sơn",
         "Đà Nẵng",
         " Phường Hoà Hải, Quận Ngũ Hành Sơn, Đà Nẵng"
        ],
        [
         1048,
         " Phường Hoà Quý",
         "Quận Ngũ Hành Sơn",
         "Đà Nẵng",
         " Phường Hoà Quý, Quận Ngũ Hành Sơn, Đà Nẵng"
        ],
        [
         1049,
         " Phường Khuê Mỹ",
         "Quận Ngũ Hành Sơn",
         "Đà Nẵng",
         " Phường Khuê Mỹ, Quận Ngũ Hành Sơn, Đà Nẵng"
        ],
        [
         1050,
         " Phường Mỹ An",
         "Quận Ngũ Hành Sơn",
         "Đà Nẵng",
         " Phường Mỹ An, Quận Ngũ Hành Sơn, Đà Nẵng"
        ],
        [
         1051,
         " Phường An Hải Bắc",
         "Quận Sơn Trà",
         "Đà Nẵng",
         " Phường An Hải Bắc, Quận Sơn Trà, Đà Nẵng"
        ],
        [
         1052,
         " Phường An Hải Tây",
         "Quận Sơn Trà",
         "Đà Nẵng",
         " Phường An Hải Tây, Quận Sơn Trà, Đà Nẵng"
        ],
        [
         1053,
         " Phường An Hải Đông",
         "Quận Sơn Trà",
         "Đà Nẵng",
         " Phường An Hải Đông, Quận Sơn Trà, Đà Nẵng"
        ],
        [
         1054,
         " Phường Mân Thái",
         "Quận Sơn Trà",
         "Đà Nẵng",
         " Phường Mân Thái, Quận Sơn Trà, Đà Nẵng"
        ],
        [
         1055,
         " Phường Nại Hiên Đông",
         "Quận Sơn Trà",
         "Đà Nẵng",
         " Phường Nại Hiên Đông, Quận Sơn Trà, Đà Nẵng"
        ],
        [
         1056,
         " Phường Phước Mỹ",
         "Quận Sơn Trà",
         "Đà Nẵng",
         " Phường Phước Mỹ, Quận Sơn Trà, Đà Nẵng"
        ],
        [
         1057,
         " Phường Thọ Quang",
         "Quận Sơn Trà",
         "Đà Nẵng",
         " Phường Thọ Quang, Quận Sơn Trà, Đà Nẵng"
        ],
        [
         1058,
         " Phường An Khê",
         "Quận Thanh Khê",
         "Đà Nẵng",
         " Phường An Khê, Quận Thanh Khê, Đà Nẵng"
        ],
        [
         1059,
         " Phường Chính Gián",
         "Quận Thanh Khê",
         "Đà Nẵng",
         " Phường Chính Gián, Quận Thanh Khê, Đà Nẵng"
        ],
        [
         1060,
         " Phường Hòa Khê",
         "Quận Thanh Khê",
         "Đà Nẵng",
         " Phường Hòa Khê, Quận Thanh Khê, Đà Nẵng"
        ],
        [
         1061,
         " Phường Tam Thuận",
         "Quận Thanh Khê",
         "Đà Nẵng",
         " Phường Tam Thuận, Quận Thanh Khê, Đà Nẵng"
        ],
        [
         1062,
         " Phường Thanh Khê Tây",
         "Quận Thanh Khê",
         "Đà Nẵng",
         " Phường Thanh Khê Tây, Quận Thanh Khê, Đà Nẵng"
        ],
        [
         1063,
         " Phường Thanh Khê Đông",
         "Quận Thanh Khê",
         "Đà Nẵng",
         " Phường Thanh Khê Đông, Quận Thanh Khê, Đà Nẵng"
        ],
        [
         1064,
         " Phường Thạc Gián",
         "Quận Thanh Khê",
         "Đà Nẵng",
         " Phường Thạc Gián, Quận Thanh Khê, Đà Nẵng"
        ],
        [
         1065,
         " Phường Tân Chính",
         "Quận Thanh Khê",
         "Đà Nẵng",
         " Phường Tân Chính, Quận Thanh Khê, Đà Nẵng"
        ],
        [
         1066,
         " Phường Vĩnh Trung",
         "Quận Thanh Khê",
         "Đà Nẵng",
         " Phường Vĩnh Trung, Quận Thanh Khê, Đà Nẵng"
        ],
        [
         1067,
         " Phường Xuân Hà",
         "Quận Thanh Khê",
         "Đà Nẵng",
         " Phường Xuân Hà, Quận Thanh Khê, Đà Nẵng"
        ],
        [
         1068,
         " Xã Ea Bar",
         "Huyện Buôn Đôn",
         "Đắk Lắk",
         " Xã Ea Bar, Huyện Buôn Đôn, Đắk Lắk"
        ],
        [
         1069,
         " Xã Tân Hoà",
         "Huyện Buôn Đôn",
         "Đắk Lắk",
         " Xã Tân Hoà, Huyện Buôn Đôn, Đắk Lắk"
        ],
        [
         1070,
         " Xã Dray Bhăng",
         "Huyện Cư Kuin",
         "Đắk Lắk",
         " Xã Dray Bhăng, Huyện Cư Kuin, Đắk Lắk"
        ],
        [
         1071,
         " Thị trấn Ea Pốk",
         "Huyện Cư M'gar",
         "Đắk Lắk",
         " Thị trấn Ea Pốk, Huyện Cư M'gar, Đắk Lắk"
        ],
        [
         1072,
         " Xã Cuor Đăng",
         "Huyện Cư M'gar",
         "Đắk Lắk",
         " Xã Cuor Đăng, Huyện Cư M'gar, Đắk Lắk"
        ],
        [
         1073,
         " Xã Ea D'Rơng",
         "Huyện Cư M'gar",
         "Đắk Lắk",
         " Xã Ea D'Rơng, Huyện Cư M'gar, Đắk Lắk"
        ],
        [
         1074,
         " Xã Ea H'đinh",
         "Huyện Cư M'gar",
         "Đắk Lắk",
         " Xã Ea H'đinh, Huyện Cư M'gar, Đắk Lắk"
        ],
        [
         1075,
         " Xã Ea Kiết",
         "Huyện Cư M'gar",
         "Đắk Lắk",
         " Xã Ea Kiết, Huyện Cư M'gar, Đắk Lắk"
        ],
        [
         1076,
         " Xã Ea Kuêh",
         "Huyện Cư M'gar",
         "Đắk Lắk",
         " Xã Ea Kuêh, Huyện Cư M'gar, Đắk Lắk"
        ],
        [
         1077,
         " Xã Ea Sô",
         "Huyện Ea Kar",
         "Đắk Lắk",
         " Xã Ea Sô, Huyện Ea Kar, Đắk Lắk"
        ],
        [
         1078,
         " Xã Ea Na",
         "Huyện Krông A Na",
         "Đắk Lắk",
         " Xã Ea Na, Huyện Krông A Na, Đắk Lắk"
        ],
        [
         1079,
         " Xã Pơng Drang",
         "Huyện Krông Búk",
         "Đắk Lắk",
         " Xã Pơng Drang, Huyện Krông Búk, Đắk Lắk"
        ],
        [
         1080,
         " Xã Phú Lộc",
         "Huyện Krông Năng",
         "Đắk Lắk",
         " Xã Phú Lộc, Huyện Krông Năng, Đắk Lắk"
        ],
        [
         1081,
         " Xã Ea KNuec",
         "Huyện Krông Pắc",
         "Đắk Lắk",
         " Xã Ea KNuec, Huyện Krông Pắc, Đắk Lắk"
        ],
        [
         1082,
         " Xã Ea Kly",
         "Huyện Krông Pắc",
         "Đắk Lắk",
         " Xã Ea Kly, Huyện Krông Pắc, Đắk Lắk"
        ],
        [
         1083,
         " Xã Hòa Đông",
         "Huyện Krông Pắc",
         "Đắk Lắk",
         " Xã Hòa Đông, Huyện Krông Pắc, Đắk Lắk"
        ],
        [
         1084,
         " Phường Ea Tam",
         "Thành phố Buôn Ma Thuột",
         "Đắk Lắk",
         " Phường Ea Tam, Thành phố Buôn Ma Thuột, Đắk Lắk"
        ],
        [
         1085,
         " Phường Khánh Xuân",
         "Thành phố Buôn Ma Thuột",
         "Đắk Lắk",
         " Phường Khánh Xuân, Thành phố Buôn Ma Thuột, Đắk Lắk"
        ],
        [
         1086,
         " Phường Thành Công",
         "Thành phố Buôn Ma Thuột",
         "Đắk Lắk",
         " Phường Thành Công, Thành phố Buôn Ma Thuột, Đắk Lắk"
        ],
        [
         1087,
         " Phường Thành Nhất",
         "Thành phố Buôn Ma Thuột",
         "Đắk Lắk",
         " Phường Thành Nhất, Thành phố Buôn Ma Thuột, Đắk Lắk"
        ],
        [
         1088,
         " Phường Tân Lập",
         "Thành phố Buôn Ma Thuột",
         "Đắk Lắk",
         " Phường Tân Lập, Thành phố Buôn Ma Thuột, Đắk Lắk"
        ],
        [
         1089,
         " Phường Tân Lợi",
         "Thành phố Buôn Ma Thuột",
         "Đắk Lắk",
         " Phường Tân Lợi, Thành phố Buôn Ma Thuột, Đắk Lắk"
        ],
        [
         1090,
         " Phường Tân Thành",
         "Thành phố Buôn Ma Thuột",
         "Đắk Lắk",
         " Phường Tân Thành, Thành phố Buôn Ma Thuột, Đắk Lắk"
        ],
        [
         1091,
         " Phường Tân Tiến",
         "Thành phố Buôn Ma Thuột",
         "Đắk Lắk",
         " Phường Tân Tiến, Thành phố Buôn Ma Thuột, Đắk Lắk"
        ],
        [
         1092,
         " Xã Cư ÊBur",
         "Thành phố Buôn Ma Thuột",
         "Đắk Lắk",
         " Xã Cư ÊBur, Thành phố Buôn Ma Thuột, Đắk Lắk"
        ],
        [
         1093,
         " Xã Ea Kao",
         "Thành phố Buôn Ma Thuột",
         "Đắk Lắk",
         " Xã Ea Kao, Thành phố Buôn Ma Thuột, Đắk Lắk"
        ],
        [
         1094,
         " Xã Ea Tu",
         "Thành phố Buôn Ma Thuột",
         "Đắk Lắk",
         " Xã Ea Tu, Thành phố Buôn Ma Thuột, Đắk Lắk"
        ],
        [
         1095,
         " Xã Hòa Thắng",
         "Thành phố Buôn Ma Thuột",
         "Đắk Lắk",
         " Xã Hòa Thắng, Thành phố Buôn Ma Thuột, Đắk Lắk"
        ],
        [
         1096,
         " Xã Hòa Xuân",
         "Thành phố Buôn Ma Thuột",
         "Đắk Lắk",
         " Xã Hòa Xuân, Thành phố Buôn Ma Thuột, Đắk Lắk"
        ],
        [
         1097,
         " Phường An Lạc",
         "Thị Xã Buôn Hồ",
         "Đắk Lắk",
         " Phường An Lạc, Thị Xã Buôn Hồ, Đắk Lắk"
        ],
        [
         1098,
         " Phường Đoàn Kết",
         "Thị Xã Buôn Hồ",
         "Đắk Lắk",
         " Phường Đoàn Kết, Thị Xã Buôn Hồ, Đắk Lắk"
        ],
        [
         1099,
         " Xã Ea Pô",
         "Huyện Cư Jút",
         "Đắk Nông",
         " Xã Ea Pô, Huyện Cư Jút, Đắk Nông"
        ],
        [
         1100,
         " Xã Tâm Thắng",
         "Huyện Cư Jút",
         "Đắk Nông",
         " Xã Tâm Thắng, Huyện Cư Jút, Đắk Nông"
        ],
        [
         1101,
         " Xã Quảng Tâm",
         "Huyện Tuy Đức",
         "Đắk Nông",
         " Xã Quảng Tâm, Huyện Tuy Đức, Đắk Nông"
        ],
        [
         1102,
         " Xã Quảng Tân",
         "Huyện Tuy Đức",
         "Đắk Nông",
         " Xã Quảng Tân, Huyện Tuy Đức, Đắk Nông"
        ],
        [
         1103,
         " Xã Quảng Sơn",
         "Huyện Đăk Glong",
         "Đắk Nông",
         " Xã Quảng Sơn, Huyện Đăk Glong, Đắk Nông"
        ],
        [
         1104,
         " Xã Xuân Mỹ",
         "Huyện Cẩm Mỹ",
         "Đồng Nai",
         " Xã Xuân Mỹ, Huyện Cẩm Mỹ, Đồng Nai"
        ],
        [
         1105,
         " Xã Xuân Tây",
         "Huyện Cẩm Mỹ",
         "Đồng Nai",
         " Xã Xuân Tây, Huyện Cẩm Mỹ, Đồng Nai"
        ],
        [
         1106,
         " Xã Xuân Đông",
         "Huyện Cẩm Mỹ",
         "Đồng Nai",
         " Xã Xuân Đông, Huyện Cẩm Mỹ, Đồng Nai"
        ],
        [
         1107,
         " Thị trấn Long Thành",
         "Huyện Long Thành",
         "Đồng Nai",
         " Thị trấn Long Thành, Huyện Long Thành, Đồng Nai"
        ],
        [
         1108,
         " Xã An Phước",
         "Huyện Long Thành",
         "Đồng Nai",
         " Xã An Phước, Huyện Long Thành, Đồng Nai"
        ],
        [
         1109,
         " Xã Bàu Cạn",
         "Huyện Long Thành",
         "Đồng Nai",
         " Xã Bàu Cạn, Huyện Long Thành, Đồng Nai"
        ],
        [
         1110,
         " Xã Bình Sơn",
         "Huyện Long Thành",
         "Đồng Nai",
         " Xã Bình Sơn, Huyện Long Thành, Đồng Nai"
        ],
        [
         1111,
         " Xã Long An",
         "Huyện Long Thành",
         "Đồng Nai",
         " Xã Long An, Huyện Long Thành, Đồng Nai"
        ],
        [
         1112,
         " Xã Long Phước",
         "Huyện Long Thành",
         "Đồng Nai",
         " Xã Long Phước, Huyện Long Thành, Đồng Nai"
        ],
        [
         1113,
         " Xã Lộc An",
         "Huyện Long Thành",
         "Đồng Nai",
         " Xã Lộc An, Huyện Long Thành, Đồng Nai"
        ],
        [
         1114,
         " Xã Phước Thái",
         "Huyện Long Thành",
         "Đồng Nai",
         " Xã Phước Thái, Huyện Long Thành, Đồng Nai"
        ],
        [
         1115,
         " Xã Tam An",
         "Huyện Long Thành",
         "Đồng Nai",
         " Xã Tam An, Huyện Long Thành, Đồng Nai"
        ],
        [
         1116,
         " Xã Long Thọ",
         "Huyện Nhơn Trạch",
         "Đồng Nai",
         " Xã Long Thọ, Huyện Nhơn Trạch, Đồng Nai"
        ],
        [
         1117,
         " Xã Long Tân",
         "Huyện Nhơn Trạch",
         "Đồng Nai",
         " Xã Long Tân, Huyện Nhơn Trạch, Đồng Nai"
        ],
        [
         1118,
         " Xã Phú Hội",
         "Huyện Nhơn Trạch",
         "Đồng Nai",
         " Xã Phú Hội, Huyện Nhơn Trạch, Đồng Nai"
        ],
        [
         1119,
         " Xã Phú Hữu",
         "Huyện Nhơn Trạch",
         "Đồng Nai",
         " Xã Phú Hữu, Huyện Nhơn Trạch, Đồng Nai"
        ],
        [
         1120,
         " Xã Phú Đông",
         "Huyện Nhơn Trạch",
         "Đồng Nai",
         " Xã Phú Đông, Huyện Nhơn Trạch, Đồng Nai"
        ],
        [
         1121,
         " Xã Phước An",
         "Huyện Nhơn Trạch",
         "Đồng Nai",
         " Xã Phước An, Huyện Nhơn Trạch, Đồng Nai"
        ],
        [
         1122,
         " Xã Phước Khánh",
         "Huyện Nhơn Trạch",
         "Đồng Nai",
         " Xã Phước Khánh, Huyện Nhơn Trạch, Đồng Nai"
        ],
        [
         1123,
         " Xã Vĩnh Thanh",
         "Huyện Nhơn Trạch",
         "Đồng Nai",
         " Xã Vĩnh Thanh, Huyện Nhơn Trạch, Đồng Nai"
        ],
        [
         1124,
         " Xã Đại Phước",
         "Huyện Nhơn Trạch",
         "Đồng Nai",
         " Xã Đại Phước, Huyện Nhơn Trạch, Đồng Nai"
        ],
        [
         1125,
         " Thị trấn Dầu Giây",
         "Huyện Thống Nhất",
         "Đồng Nai",
         " Thị trấn Dầu Giây, Huyện Thống Nhất, Đồng Nai"
        ],
        [
         1126,
         " Xã Gia Kiệm",
         "Huyện Thống Nhất",
         "Đồng Nai",
         " Xã Gia Kiệm, Huyện Thống Nhất, Đồng Nai"
        ],
        [
         1127,
         " Xã Gia Tân 2",
         "Huyện Thống Nhất",
         "Đồng Nai",
         " Xã Gia Tân 2, Huyện Thống Nhất, Đồng Nai"
        ],
        [
         1128,
         " Xã Hưng Lộc",
         "Huyện Thống Nhất",
         "Đồng Nai",
         " Xã Hưng Lộc, Huyện Thống Nhất, Đồng Nai"
        ],
        [
         1129,
         " Thị trấn Trảng Bom",
         "Huyện Trảng Bom",
         "Đồng Nai",
         " Thị trấn Trảng Bom, Huyện Trảng Bom, Đồng Nai"
        ],
        [
         1130,
         " Xã An Viễn",
         "Huyện Trảng Bom",
         "Đồng Nai",
         " Xã An Viễn, Huyện Trảng Bom, Đồng Nai"
        ],
        [
         1131,
         " Xã Bàu Hàm",
         "Huyện Trảng Bom",
         "Đồng Nai",
         " Xã Bàu Hàm, Huyện Trảng Bom, Đồng Nai"
        ],
        [
         1132,
         " Xã Bình Minh",
         "Huyện Trảng Bom",
         "Đồng Nai",
         " Xã Bình Minh, Huyện Trảng Bom, Đồng Nai"
        ],
        [
         1133,
         " Xã Bắc Sơn",
         "Huyện Trảng Bom",
         "Đồng Nai",
         " Xã Bắc Sơn, Huyện Trảng Bom, Đồng Nai"
        ],
        [
         1134,
         " Xã Cây Gáo",
         "Huyện Trảng Bom",
         "Đồng Nai",
         " Xã Cây Gáo, Huyện Trảng Bom, Đồng Nai"
        ],
        [
         1135,
         " Xã Hưng Thịnh",
         "Huyện Trảng Bom",
         "Đồng Nai",
         " Xã Hưng Thịnh, Huyện Trảng Bom, Đồng Nai"
        ],
        [
         1136,
         " Xã Hố Nai 3",
         "Huyện Trảng Bom",
         "Đồng Nai",
         " Xã Hố Nai 3, Huyện Trảng Bom, Đồng Nai"
        ],
        [
         1137,
         " Xã Quảng Tiến",
         "Huyện Trảng Bom",
         "Đồng Nai",
         " Xã Quảng Tiến, Huyện Trảng Bom, Đồng Nai"
        ],
        [
         1138,
         " Xã Sông Thao",
         "Huyện Trảng Bom",
         "Đồng Nai",
         " Xã Sông Thao, Huyện Trảng Bom, Đồng Nai"
        ],
        [
         1139,
         " Xã Sông Trầu",
         "Huyện Trảng Bom",
         "Đồng Nai",
         " Xã Sông Trầu, Huyện Trảng Bom, Đồng Nai"
        ],
        [
         1140,
         " Xã Trung Hoà",
         "Huyện Trảng Bom",
         "Đồng Nai",
         " Xã Trung Hoà, Huyện Trảng Bom, Đồng Nai"
        ],
        [
         1141,
         " Xã Tây Hoà",
         "Huyện Trảng Bom",
         "Đồng Nai",
         " Xã Tây Hoà, Huyện Trảng Bom, Đồng Nai"
        ],
        [
         1142,
         " Xã Đông Hoà",
         "Huyện Trảng Bom",
         "Đồng Nai",
         " Xã Đông Hoà, Huyện Trảng Bom, Đồng Nai"
        ],
        [
         1143,
         " Xã Đồi 61",
         "Huyện Trảng Bom",
         "Đồng Nai",
         " Xã Đồi 61, Huyện Trảng Bom, Đồng Nai"
        ],
        [
         1144,
         " Xã Phú Lập",
         "Huyện Tân Phú",
         "Đồng Nai",
         " Xã Phú Lập, Huyện Tân Phú, Đồng Nai"
        ],
        [
         1145,
         " Xã Phú Điền",
         "Huyện Tân Phú",
         "Đồng Nai",
         " Xã Phú Điền, Huyện Tân Phú, Đồng Nai"
        ],
        [
         1146,
         " Xã Trà Cổ",
         "Huyện Tân Phú",
         "Đồng Nai",
         " Xã Trà Cổ, Huyện Tân Phú, Đồng Nai"
        ],
        [
         1147,
         " Xã Tà Lài",
         "Huyện Tân Phú",
         "Đồng Nai",
         " Xã Tà Lài, Huyện Tân Phú, Đồng Nai"
        ],
        [
         1148,
         " Xã Bình Lợi",
         "Huyện Vĩnh Cửu",
         "Đồng Nai",
         " Xã Bình Lợi, Huyện Vĩnh Cửu, Đồng Nai"
        ],
        [
         1149,
         " Xã Hiếu Liêm",
         "Huyện Vĩnh Cửu",
         "Đồng Nai",
         " Xã Hiếu Liêm, Huyện Vĩnh Cửu, Đồng Nai"
        ],
        [
         1150,
         " Xã Thạnh Phú",
         "Huyện Vĩnh Cửu",
         "Đồng Nai",
         " Xã Thạnh Phú, Huyện Vĩnh Cửu, Đồng Nai"
        ],
        [
         1151,
         " Xã Tân Bình",
         "Huyện Vĩnh Cửu",
         "Đồng Nai",
         " Xã Tân Bình, Huyện Vĩnh Cửu, Đồng Nai"
        ],
        [
         1152,
         " Xã Bảo Hoà",
         "Huyện Xuân Lộc",
         "Đồng Nai",
         " Xã Bảo Hoà, Huyện Xuân Lộc, Đồng Nai"
        ],
        [
         1153,
         " Xã La Ngà",
         "Huyện Định Quán",
         "Đồng Nai",
         " Xã La Ngà, Huyện Định Quán, Đồng Nai"
        ],
        [
         1154,
         " Xã Phú Ngọc",
         "Huyện Định Quán",
         "Đồng Nai",
         " Xã Phú Ngọc, Huyện Định Quán, Đồng Nai"
        ],
        [
         1155,
         " Xã Phú Túc",
         "Huyện Định Quán",
         "Đồng Nai",
         " Xã Phú Túc, Huyện Định Quán, Đồng Nai"
        ],
        [
         1156,
         " Xã Túc Trưng",
         "Huyện Định Quán",
         "Đồng Nai",
         " Xã Túc Trưng, Huyện Định Quán, Đồng Nai"
        ],
        [
         1157,
         " Phường Bình Đa",
         "Thành phố Biên Hòa",
         "Đồng Nai",
         " Phường Bình Đa, Thành phố Biên Hòa, Đồng Nai"
        ],
        [
         1158,
         " Phường Bửu Hòa",
         "Thành phố Biên Hòa",
         "Đồng Nai",
         " Phường Bửu Hòa, Thành phố Biên Hòa, Đồng Nai"
        ],
        [
         1159,
         " Phường Bửu Long",
         "Thành phố Biên Hòa",
         "Đồng Nai",
         " Phường Bửu Long, Thành phố Biên Hòa, Đồng Nai"
        ],
        [
         1160,
         " Phường Hiệp Hoà",
         "Thành phố Biên Hòa",
         "Đồng Nai",
         " Phường Hiệp Hoà, Thành phố Biên Hòa, Đồng Nai"
        ],
        [
         1161,
         " Phường Hoá An",
         "Thành phố Biên Hòa",
         "Đồng Nai",
         " Phường Hoá An, Thành phố Biên Hòa, Đồng Nai"
        ],
        [
         1162,
         " Phường Hố Nai",
         "Thành phố Biên Hòa",
         "Đồng Nai",
         " Phường Hố Nai, Thành phố Biên Hòa, Đồng Nai"
        ],
        [
         1163,
         " Phường Long Bình",
         "Thành phố Biên Hòa",
         "Đồng Nai",
         " Phường Long Bình, Thành phố Biên Hòa, Đồng Nai"
        ],
        [
         1164,
         " Phường Long Bình Tân",
         "Thành phố Biên Hòa",
         "Đồng Nai",
         " Phường Long Bình Tân, Thành phố Biên Hòa, Đồng Nai"
        ],
        [
         1165,
         " Phường Phước Tân",
         "Thành phố Biên Hòa",
         "Đồng Nai",
         " Phường Phước Tân, Thành phố Biên Hòa, Đồng Nai"
        ],
        [
         1166,
         " Phường Quang Vinh",
         "Thành phố Biên Hòa",
         "Đồng Nai",
         " Phường Quang Vinh, Thành phố Biên Hòa, Đồng Nai"
        ],
        [
         1167,
         " Phường Tam Hòa",
         "Thành phố Biên Hòa",
         "Đồng Nai",
         " Phường Tam Hòa, Thành phố Biên Hòa, Đồng Nai"
        ],
        [
         1168,
         " Phường Tam Phước",
         "Thành phố Biên Hòa",
         "Đồng Nai",
         " Phường Tam Phước, Thành phố Biên Hòa, Đồng Nai"
        ],
        [
         1169,
         " Phường Trảng Dài",
         "Thành phố Biên Hòa",
         "Đồng Nai",
         " Phường Trảng Dài, Thành phố Biên Hòa, Đồng Nai"
        ],
        [
         1170,
         " Phường Tân Biên",
         "Thành phố Biên Hòa",
         "Đồng Nai",
         " Phường Tân Biên, Thành phố Biên Hòa, Đồng Nai"
        ],
        [
         1171,
         " Phường Tân Hiệp",
         "Thành phố Biên Hòa",
         "Đồng Nai",
         " Phường Tân Hiệp, Thành phố Biên Hòa, Đồng Nai"
        ],
        [
         1172,
         " Phường Tân Phong",
         "Thành phố Biên Hòa",
         "Đồng Nai",
         " Phường Tân Phong, Thành phố Biên Hòa, Đồng Nai"
        ],
        [
         1173,
         " Phường Tân Vạn",
         "Thành phố Biên Hòa",
         "Đồng Nai",
         " Phường Tân Vạn, Thành phố Biên Hòa, Đồng Nai"
        ],
        [
         1174,
         " Xã Long Hưng",
         "Thành phố Biên Hòa",
         "Đồng Nai",
         " Xã Long Hưng, Thành phố Biên Hòa, Đồng Nai"
        ],
        [
         1175,
         " Phường Bảo Vinh",
         "Thành phố Long Khánh",
         "Đồng Nai",
         " Phường Bảo Vinh, Thành phố Long Khánh, Đồng Nai"
        ],
        [
         1176,
         " Xã Bàu Trâm",
         "Thành phố Long Khánh",
         "Đồng Nai",
         " Xã Bàu Trâm, Thành phố Long Khánh, Đồng Nai"
        ],
        [
         1177,
         " Xã Bình Lộc",
         "Thành phố Long Khánh",
         "Đồng Nai",
         " Xã Bình Lộc, Thành phố Long Khánh, Đồng Nai"
        ],
        [
         1178,
         " Xã Bảo Quang",
         "Thành phố Long Khánh",
         "Đồng Nai",
         " Xã Bảo Quang, Thành phố Long Khánh, Đồng Nai"
        ],
        [
         1179,
         " Xã Mỹ Hiệp",
         "Huyện Cao Lãnh",
         "Đồng Tháp",
         " Xã Mỹ Hiệp, Huyện Cao Lãnh, Đồng Tháp"
        ],
        [
         1180,
         " Xã Tân Nhuận Đông",
         "Huyện Châu Thành",
         "Đồng Tháp",
         " Xã Tân Nhuận Đông, Huyện Châu Thành, Đồng Tháp"
        ],
        [
         1181,
         " Xã An Long",
         "Huyện Tam Nông",
         "Đồng Tháp",
         " Xã An Long, Huyện Tam Nông, Đồng Tháp"
        ],
        [
         1182,
         " Xã Hoà Bình",
         "Huyện Tam Nông",
         "Đồng Tháp",
         " Xã Hoà Bình, Huyện Tam Nông, Đồng Tháp"
        ],
        [
         1183,
         " Xã An Phong",
         "Huyện Thanh Bình",
         "Đồng Tháp",
         " Xã An Phong, Huyện Thanh Bình, Đồng Tháp"
        ],
        [
         1184,
         " Thị trấn Mỹ An",
         "Huyện Tháp Mười",
         "Đồng Tháp",
         " Thị trấn Mỹ An, Huyện Tháp Mười, Đồng Tháp"
        ],
        [
         1185,
         " Xã An Phước",
         "Huyện Tân Hồng",
         "Đồng Tháp",
         " Xã An Phước, Huyện Tân Hồng, Đồng Tháp"
        ],
        [
         1186,
         " Phường An Thạnh",
         "Thành phố Hồng Ngự",
         "Đồng Tháp",
         " Phường An Thạnh, Thành phố Hồng Ngự, Đồng Tháp"
        ],
        [
         1187,
         " Phường 2",
         "Thành phố Sa Đéc",
         "Đồng Tháp",
         " Phường 2, Thành phố Sa Đéc, Đồng Tháp"
        ],
        [
         1188,
         " Xã Tân Phú Đông",
         "Thành phố Sa Đéc",
         "Đồng Tháp",
         " Xã Tân Phú Đông, Thành phố Sa Đéc, Đồng Tháp"
        ],
        [
         1189,
         " Xã Tân Quy Tây",
         "Thành phố Sa Đéc",
         "Đồng Tháp",
         " Xã Tân Quy Tây, Thành phố Sa Đéc, Đồng Tháp"
        ]
       ],
       "datasetInfos": [],
       "dbfsResultPath": null,
       "isJsonSchema": true,
       "metadata": {},
       "overflow": false,
       "plotOptions": {
        "customPlotOptions": {},
        "displayType": "table",
        "pivotAggregation": null,
        "pivotColumns": null,
        "xColumns": null,
        "yColumns": null
       },
       "removedWidgets": [],
       "schema": [
        {
         "metadata": "{}",
         "name": "id_location",
         "type": "\"long\""
        },
        {
         "metadata": "{}",
         "name": "commune",
         "type": "\"string\""
        },
        {
         "metadata": "{}",
         "name": "district",
         "type": "\"string\""
        },
        {
         "metadata": "{}",
         "name": "province",
         "type": "\"string\""
        },
        {
         "metadata": "{}",
         "name": "address",
         "type": "\"string\""
        }
       ],
       "type": "table"
      }
     },
     "output_type": "display_data"
    }
   ],
   "source": [
    "display(df)"
   ]
  },
  {
   "cell_type": "code",
   "execution_count": 0,
   "metadata": {
    "application/vnd.databricks.v1+cell": {
     "cellMetadata": {
      "byteLimit": 2048000,
      "rowLimit": 10000
     },
     "inputWidgets": {},
     "nuid": "de7b9001-d403-4006-94ce-a2431a71672c",
     "showTitle": false,
     "title": ""
    }
   },
   "outputs": [],
   "source": [
    "df.write.format(\"delta\").mode(\"overwrite\").saveAsTable(\"gold_dimlocation\")"
   ]
  }
 ],
 "metadata": {
  "application/vnd.databricks.v1+notebook": {
   "dashboards": [],
   "environmentMetadata": null,
   "language": "python",
   "notebookMetadata": {
    "mostRecentlyExecutedCommandWithImplicitDF": {
     "commandId": 1738977248255179,
     "dataframes": [
      "_sqldf"
     ]
    },
    "pythonIndentUnit": 4
   },
   "notebookName": "Gold.DimLocation",
   "widgets": {}
  }
 },
 "nbformat": 4,
 "nbformat_minor": 0
}
